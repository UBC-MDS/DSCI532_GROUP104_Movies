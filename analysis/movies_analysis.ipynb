{
 "cells": [
  {
   "cell_type": "code",
   "execution_count": 113,
   "metadata": {},
   "outputs": [],
   "source": [
    "import pandas as pd\n",
    "import altair as alt\n",
    "\n",
    "# Need to enable this to allow work with larger datasets (https://altair-viz.github.io/user_guide/faq.html)\n",
    "#alt.data_transformers.enable('json')\n",
    "selection = alt.selection_single();"
   ]
  },
  {
   "cell_type": "code",
   "execution_count": 114,
   "metadata": {},
   "outputs": [],
   "source": [
    "movies_df = pd.read_json('https://raw.githubusercontent.com/vega/vega-datasets/master/data/movies.json')\n",
    "\n",
    "# Add a column of the release year\n",
    "movies_df['Year'] = pd.to_datetime(movies_df['Release_Date']).dt.year\n",
    "# A list columns that will appear in the final data frame\n",
    "column_list = ['Title', 'Major_Genre', 'Director', 'Year', 'Worldwide_Gross', 'Production_Budget', 'IMDB_Rating', 'MPAA_Rating']\n",
    "\n",
    "# Filter out lines with errors or NaNs in 'Director', 'Year', 'Major_Genre' columns\n",
    "movies_df = (movies_df.query('Year < 2019')\n",
    "                     .dropna(subset = column_list)\n",
    "                     .loc[:, column_list]\n",
    "                     .reset_index()\n",
    "                     .drop(columns = ['index']))"
   ]
  },
  {
   "cell_type": "code",
   "execution_count": 115,
   "metadata": {},
   "outputs": [
    {
     "data": {
      "text/plain": [
       "(1414, 8)"
      ]
     },
     "execution_count": 115,
     "metadata": {},
     "output_type": "execute_result"
    }
   ],
   "source": [
    "movies_df.shape"
   ]
  },
  {
   "cell_type": "code",
   "execution_count": 116,
   "metadata": {},
   "outputs": [
    {
     "data": {
      "text/html": [
       "<div>\n",
       "<style scoped>\n",
       "    .dataframe tbody tr th:only-of-type {\n",
       "        vertical-align: middle;\n",
       "    }\n",
       "\n",
       "    .dataframe tbody tr th {\n",
       "        vertical-align: top;\n",
       "    }\n",
       "\n",
       "    .dataframe thead th {\n",
       "        text-align: right;\n",
       "    }\n",
       "</style>\n",
       "<table border=\"1\" class=\"dataframe\">\n",
       "  <thead>\n",
       "    <tr style=\"text-align: right;\">\n",
       "      <th></th>\n",
       "      <th>Year</th>\n",
       "      <th>Worldwide_Gross</th>\n",
       "      <th>Production_Budget</th>\n",
       "      <th>IMDB_Rating</th>\n",
       "    </tr>\n",
       "  </thead>\n",
       "  <tbody>\n",
       "    <tr>\n",
       "      <th>count</th>\n",
       "      <td>1414.000000</td>\n",
       "      <td>1.414000e+03</td>\n",
       "      <td>1.414000e+03</td>\n",
       "      <td>1414.000000</td>\n",
       "    </tr>\n",
       "    <tr>\n",
       "      <th>mean</th>\n",
       "      <td>2001.524045</td>\n",
       "      <td>1.341416e+08</td>\n",
       "      <td>4.699735e+07</td>\n",
       "      <td>6.443069</td>\n",
       "    </tr>\n",
       "    <tr>\n",
       "      <th>std</th>\n",
       "      <td>5.699895</td>\n",
       "      <td>1.901870e+08</td>\n",
       "      <td>4.090067e+07</td>\n",
       "      <td>1.160132</td>\n",
       "    </tr>\n",
       "    <tr>\n",
       "      <th>min</th>\n",
       "      <td>1960.000000</td>\n",
       "      <td>0.000000e+00</td>\n",
       "      <td>1.500000e+04</td>\n",
       "      <td>1.700000</td>\n",
       "    </tr>\n",
       "    <tr>\n",
       "      <th>25%</th>\n",
       "      <td>1998.000000</td>\n",
       "      <td>2.252175e+07</td>\n",
       "      <td>1.800000e+07</td>\n",
       "      <td>5.700000</td>\n",
       "    </tr>\n",
       "    <tr>\n",
       "      <th>50%</th>\n",
       "      <td>2002.000000</td>\n",
       "      <td>6.715760e+07</td>\n",
       "      <td>3.500000e+07</td>\n",
       "      <td>6.500000</td>\n",
       "    </tr>\n",
       "    <tr>\n",
       "      <th>75%</th>\n",
       "      <td>2006.000000</td>\n",
       "      <td>1.727553e+08</td>\n",
       "      <td>6.500000e+07</td>\n",
       "      <td>7.300000</td>\n",
       "    </tr>\n",
       "    <tr>\n",
       "      <th>max</th>\n",
       "      <td>2010.000000</td>\n",
       "      <td>2.767891e+09</td>\n",
       "      <td>3.000000e+08</td>\n",
       "      <td>9.200000</td>\n",
       "    </tr>\n",
       "  </tbody>\n",
       "</table>\n",
       "</div>"
      ],
      "text/plain": [
       "              Year  Worldwide_Gross  Production_Budget  IMDB_Rating\n",
       "count  1414.000000     1.414000e+03       1.414000e+03  1414.000000\n",
       "mean   2001.524045     1.341416e+08       4.699735e+07     6.443069\n",
       "std       5.699895     1.901870e+08       4.090067e+07     1.160132\n",
       "min    1960.000000     0.000000e+00       1.500000e+04     1.700000\n",
       "25%    1998.000000     2.252175e+07       1.800000e+07     5.700000\n",
       "50%    2002.000000     6.715760e+07       3.500000e+07     6.500000\n",
       "75%    2006.000000     1.727553e+08       6.500000e+07     7.300000\n",
       "max    2010.000000     2.767891e+09       3.000000e+08     9.200000"
      ]
     },
     "execution_count": 116,
     "metadata": {},
     "output_type": "execute_result"
    }
   ],
   "source": [
    "movies_df.describe()"
   ]
  },
  {
   "cell_type": "code",
   "execution_count": 117,
   "metadata": {},
   "outputs": [],
   "source": [
    "movies_df.to_csv('../data/clean/movies_clean_df.csv')"
   ]
  },
  {
   "cell_type": "code",
   "execution_count": 118,
   "metadata": {},
   "outputs": [],
   "source": [
    "def mds_special():\n",
    "    font = \"Arial\"\n",
    "    axisColor = \"#000000\"\n",
    "    gridColor = \"#DEDDDD\"\n",
    "    return {\n",
    "        \"config\": {\n",
    "            \"title\": {\n",
    "                \"fontSize\": 24,\n",
    "                \"font\": font,\n",
    "                \"anchor\": \"start\", # equivalent of left-aligned.\n",
    "                \"fontColor\": \"#000000\"\n",
    "            },\n",
    "            'view': {\n",
    "                \"height\": 300, \n",
    "                \"width\": 400\n",
    "            },\n",
    "            \"axisX\": {\n",
    "                \"domain\": True,\n",
    "                #\"domainColor\": axisColor,\n",
    "                \"gridColor\": gridColor,\n",
    "                \"domainWidth\": 1,\n",
    "                \"grid\": False,\n",
    "                \"labelFont\": font,\n",
    "                \"labelFontSize\": 12,\n",
    "                \"labelAngle\": 0, \n",
    "                \"tickColor\": axisColor,\n",
    "                \"tickSize\": 5, # default, including it just to show you can change it\n",
    "                \"titleFont\": font,\n",
    "                \"titleFontSize\": 16,\n",
    "                \"titlePadding\": 10, # guessing, not specified in styleguide\n",
    "                \"title\": \"X Axis Title (units)\", \n",
    "            },\n",
    "            \"axisY\": {\n",
    "                \"domain\": False,\n",
    "                \"grid\": True,\n",
    "                \"gridColor\": gridColor,\n",
    "                \"gridWidth\": 1,\n",
    "                \"labelFont\": font,\n",
    "                \"labelFontSize\": 14,\n",
    "                \"labelAngle\": 0, \n",
    "                #\"ticks\": False, # even if you don't have a \"domain\" you need to turn these off.\n",
    "                \"titleFont\": font,\n",
    "                \"titleFontSize\": 16,\n",
    "                \"titlePadding\": 10, # guessing, not specified in styleguide\n",
    "                \"title\": \"Y Axis Title (units)\", \n",
    "                # titles are by default vertical left of axis so we need to hack this \n",
    "                #\"titleAngle\": 0, # horizontal\n",
    "                #\"titleY\": -10, # move it up\n",
    "                #\"titleX\": 18, # move it to the right so it aligns with the labels \n",
    "            },\n",
    "        }\n",
    "    }"
   ]
  },
  {
   "cell_type": "code",
   "execution_count": 119,
   "metadata": {},
   "outputs": [],
   "source": [
    "def get_top_director(selected_df, num, genre):\n",
    "    \"\"\"\n",
    "    Finds the number of movies of the most productive directors in the selected genre\n",
    "\n",
    "    Parameters\n",
    "    ----------\n",
    "    movies_df: pandas.DataFrame\n",
    "        The data frame to work on\n",
    "    num: int\n",
    "        The number of directors to keep in each genre\n",
    "    genre: string\n",
    "        The selected genre\n",
    "\n",
    "    Returns\n",
    "    -------\n",
    "    pandas.DataFrame\n",
    "        The data frame contains the number of movies of the most productive directors in the selected genre\n",
    "    \"\"\"\n",
    "\n",
    "    mdfg = selected_df.groupby('Major_Genre')\n",
    "    return (mdfg.get_group(genre)\n",
    "                .groupby('Director')\n",
    "                .count()\n",
    "                .sort_values(by = 'Title', ascending = False)\n",
    "                .head(num)\n",
    "                .reset_index()\n",
    "                .iloc[:, :2]\n",
    "                .rename(columns = {'Title': 'Count'}))"
   ]
  },
  {
   "cell_type": "code",
   "execution_count": 120,
   "metadata": {},
   "outputs": [],
   "source": [
    "def get_top_df(selected_df, num, genre):\n",
    "    \"\"\"\n",
    "    Finds movie information from the most productive directors in the selected genre\n",
    "\n",
    "    Parameters\n",
    "    ----------\n",
    "    movies_df: pandas.DataFrame\n",
    "        The data frame to work on\n",
    "    num: int\n",
    "        The number of directors to keep in each genre\n",
    "    genre: string\n",
    "        The selected genre\n",
    "\n",
    "    Returns\n",
    "    -------\n",
    "    pandas.DataFrame\n",
    "        The data frame only contains movie information from the most productive directors in the selected genre\n",
    "    \"\"\"\n",
    "\n",
    "    \n",
    "    top_director = get_top_director(selected_df, num, genre)\n",
    "    top_director['Major_Genre'] = genre\n",
    "    return pd.merge(selected_df, \n",
    "                    top_director, \n",
    "                    how = \"inner\", \n",
    "                    on = ['Major_Genre', 'Director'])"
   ]
  },
  {
   "cell_type": "code",
   "execution_count": 121,
   "metadata": {},
   "outputs": [
    {
     "data": {
      "text/html": [
       "<div>\n",
       "<style scoped>\n",
       "    .dataframe tbody tr th:only-of-type {\n",
       "        vertical-align: middle;\n",
       "    }\n",
       "\n",
       "    .dataframe tbody tr th {\n",
       "        vertical-align: top;\n",
       "    }\n",
       "\n",
       "    .dataframe thead th {\n",
       "        text-align: right;\n",
       "    }\n",
       "</style>\n",
       "<table border=\"1\" class=\"dataframe\">\n",
       "  <thead>\n",
       "    <tr style=\"text-align: right;\">\n",
       "      <th></th>\n",
       "      <th>Title</th>\n",
       "      <th>Major_Genre</th>\n",
       "      <th>Director</th>\n",
       "      <th>Year</th>\n",
       "      <th>Worldwide_Gross</th>\n",
       "      <th>Production_Budget</th>\n",
       "      <th>IMDB_Rating</th>\n",
       "      <th>MPAA_Rating</th>\n",
       "      <th>Count</th>\n",
       "    </tr>\n",
       "  </thead>\n",
       "  <tbody>\n",
       "    <tr>\n",
       "      <th>0</th>\n",
       "      <td>Bad Boys</td>\n",
       "      <td>Action</td>\n",
       "      <td>Michael Bay</td>\n",
       "      <td>1995</td>\n",
       "      <td>141247413.0</td>\n",
       "      <td>23000000.0</td>\n",
       "      <td>6.6</td>\n",
       "      <td>R</td>\n",
       "      <td>7</td>\n",
       "    </tr>\n",
       "    <tr>\n",
       "      <th>1</th>\n",
       "      <td>The Rock</td>\n",
       "      <td>Action</td>\n",
       "      <td>Michael Bay</td>\n",
       "      <td>1996</td>\n",
       "      <td>336069511.0</td>\n",
       "      <td>75000000.0</td>\n",
       "      <td>7.2</td>\n",
       "      <td>R</td>\n",
       "      <td>7</td>\n",
       "    </tr>\n",
       "    <tr>\n",
       "      <th>2</th>\n",
       "      <td>Bad Boys II</td>\n",
       "      <td>Action</td>\n",
       "      <td>Michael Bay</td>\n",
       "      <td>2003</td>\n",
       "      <td>272940870.0</td>\n",
       "      <td>130000000.0</td>\n",
       "      <td>6.2</td>\n",
       "      <td>R</td>\n",
       "      <td>7</td>\n",
       "    </tr>\n",
       "    <tr>\n",
       "      <th>3</th>\n",
       "      <td>The Island</td>\n",
       "      <td>Action</td>\n",
       "      <td>Michael Bay</td>\n",
       "      <td>2005</td>\n",
       "      <td>163018913.0</td>\n",
       "      <td>120000000.0</td>\n",
       "      <td>6.9</td>\n",
       "      <td>PG-13</td>\n",
       "      <td>7</td>\n",
       "    </tr>\n",
       "    <tr>\n",
       "      <th>4</th>\n",
       "      <td>Pearl Harbor</td>\n",
       "      <td>Action</td>\n",
       "      <td>Michael Bay</td>\n",
       "      <td>2001</td>\n",
       "      <td>449239855.0</td>\n",
       "      <td>151500000.0</td>\n",
       "      <td>5.4</td>\n",
       "      <td>PG-13</td>\n",
       "      <td>7</td>\n",
       "    </tr>\n",
       "    <tr>\n",
       "      <th>5</th>\n",
       "      <td>Transformers</td>\n",
       "      <td>Action</td>\n",
       "      <td>Michael Bay</td>\n",
       "      <td>2007</td>\n",
       "      <td>708272592.0</td>\n",
       "      <td>151000000.0</td>\n",
       "      <td>7.3</td>\n",
       "      <td>PG-13</td>\n",
       "      <td>7</td>\n",
       "    </tr>\n",
       "    <tr>\n",
       "      <th>6</th>\n",
       "      <td>Transformers: Revenge of the Fallen</td>\n",
       "      <td>Action</td>\n",
       "      <td>Michael Bay</td>\n",
       "      <td>2009</td>\n",
       "      <td>836303693.0</td>\n",
       "      <td>210000000.0</td>\n",
       "      <td>6.0</td>\n",
       "      <td>PG-13</td>\n",
       "      <td>7</td>\n",
       "    </tr>\n",
       "  </tbody>\n",
       "</table>\n",
       "</div>"
      ],
      "text/plain": [
       "                                 Title Major_Genre     Director  Year  \\\n",
       "0                             Bad Boys      Action  Michael Bay  1995   \n",
       "1                             The Rock      Action  Michael Bay  1996   \n",
       "2                          Bad Boys II      Action  Michael Bay  2003   \n",
       "3                           The Island      Action  Michael Bay  2005   \n",
       "4                         Pearl Harbor      Action  Michael Bay  2001   \n",
       "5                         Transformers      Action  Michael Bay  2007   \n",
       "6  Transformers: Revenge of the Fallen      Action  Michael Bay  2009   \n",
       "\n",
       "   Worldwide_Gross  Production_Budget  IMDB_Rating MPAA_Rating  Count  \n",
       "0      141247413.0         23000000.0          6.6           R      7  \n",
       "1      336069511.0         75000000.0          7.2           R      7  \n",
       "2      272940870.0        130000000.0          6.2           R      7  \n",
       "3      163018913.0        120000000.0          6.9       PG-13      7  \n",
       "4      449239855.0        151500000.0          5.4       PG-13      7  \n",
       "5      708272592.0        151000000.0          7.3       PG-13      7  \n",
       "6      836303693.0        210000000.0          6.0       PG-13      7  "
      ]
     },
     "execution_count": 121,
     "metadata": {},
     "output_type": "execute_result"
    }
   ],
   "source": [
    "get_top_df(movies_df, 1, 'Action')"
   ]
  },
  {
   "cell_type": "code",
   "execution_count": 170,
   "metadata": {},
   "outputs": [],
   "source": [
    "def make_bar_plot(genre = 'Action', year = (1933, 2010)):\n",
    "    # Don't forget to include imports\n",
    "    # register the custom theme under a chosen name\n",
    "    alt.themes.register('mds_special', mds_special)\n",
    "\n",
    "    # enable the newly registered theme\n",
    "    alt.themes.enable('mds_special')\n",
    "    #alt.themes.enable('none') # to return to default\n",
    "    \n",
    "    # get the clean movies data\n",
    "    movies_df = pd.read_csv('../data/clean/movies_clean_df.csv', index_col = 0)\n",
    "    # get information from the 30 most productive directors in the selected genre\n",
    "    selected_df = movies_df[(movies_df['Year'] > year[0]) & (movies_df['Year'] < year[1])]\n",
    "    top_director = get_top_director(selected_df, 30, genre)\n",
    "    \n",
    "    # Create a bar graph of the 30 most productive directors in the selected genre\n",
    "    return alt.Chart(top_director).mark_bar().encode(\n",
    "                alt.Y('Director:N', title = 'Director'),\n",
    "                alt.X('Count:Q', title = 'Number of movies')\n",
    "            ).properties(\n",
    "                title = 'Top 30 productive directors in ' + genre,\n",
    "                width = 300, \n",
    "                height = 350).add_selection(brush)"
   ]
  },
  {
   "cell_type": "code",
   "execution_count": 171,
   "metadata": {},
   "outputs": [
    {
     "data": {
      "application/vnd.vegalite.v3+json": {
       "$schema": "https://vega.github.io/schema/vega-lite/v3.4.0.json",
       "config": {
        "axisX": {
         "domain": true,
         "domainWidth": 1,
         "grid": false,
         "gridColor": "#DEDDDD",
         "labelAngle": 0,
         "labelFont": "Arial",
         "labelFontSize": 12,
         "tickColor": "#000000",
         "tickSize": 5,
         "title": "X Axis Title (units)",
         "titleFont": "Arial",
         "titleFontSize": 16,
         "titlePadding": 10
        },
        "axisY": {
         "domain": false,
         "grid": true,
         "gridColor": "#DEDDDD",
         "gridWidth": 1,
         "labelAngle": 0,
         "labelFont": "Arial",
         "labelFontSize": 14,
         "title": "Y Axis Title (units)",
         "titleFont": "Arial",
         "titleFontSize": 16,
         "titlePadding": 10
        },
        "title": {
         "anchor": "start",
         "font": "Arial",
         "fontColor": "#000000",
         "fontSize": 24
        },
        "view": {
         "height": 300,
         "width": 400
        }
       },
       "data": {
        "name": "data-8e71a975d0f12b4cca8b7a7e16b9298a"
       },
       "datasets": {
        "data-8e71a975d0f12b4cca8b7a7e16b9298a": [
         {
          "Count": 7,
          "Director": "Michael Bay"
         },
         {
          "Count": 6,
          "Director": "Brett Ratner"
         },
         {
          "Count": 5,
          "Director": "Tony Scott"
         },
         {
          "Count": 4,
          "Director": "Renny Harlin"
         },
         {
          "Count": 4,
          "Director": "Andy Wachowski"
         },
         {
          "Count": 4,
          "Director": "Steven Spielberg"
         },
         {
          "Count": 4,
          "Director": "Richard Donner"
         },
         {
          "Count": 4,
          "Director": "Rob Cohen"
         },
         {
          "Count": 4,
          "Director": "John Woo"
         },
         {
          "Count": 3,
          "Director": "Jonathan Mostow"
         },
         {
          "Count": 3,
          "Director": "Stephen Sommers"
         },
         {
          "Count": 3,
          "Director": "Quentin Tarantino"
         },
         {
          "Count": 3,
          "Director": "Jan De Bont"
         },
         {
          "Count": 3,
          "Director": "Robert Rodriguez"
         },
         {
          "Count": 3,
          "Director": "Joel Schumacher"
         },
         {
          "Count": 3,
          "Director": "Guillermo Del Toro"
         },
         {
          "Count": 3,
          "Director": "James Cameron"
         },
         {
          "Count": 3,
          "Director": "John McTiernan"
         },
         {
          "Count": 3,
          "Director": "Roland Emmerich"
         },
         {
          "Count": 3,
          "Director": "Peter Berg"
         },
         {
          "Count": 3,
          "Director": "Martin Campbell"
         },
         {
          "Count": 3,
          "Director": "Len Wiseman"
         },
         {
          "Count": 3,
          "Director": "Peter Hyams"
         },
         {
          "Count": 3,
          "Director": "Antoine Fuqua"
         },
         {
          "Count": 2,
          "Director": "Phillip Noyce"
         },
         {
          "Count": 2,
          "Director": "John Frankenheimer"
         },
         {
          "Count": 2,
          "Director": "Paul Anderson"
         },
         {
          "Count": 2,
          "Director": "Roger Spottiswoode"
         },
         {
          "Count": 2,
          "Director": "Mark Steven Johnson"
         },
         {
          "Count": 2,
          "Director": "Louis Leterrier"
         }
        ]
       },
       "encoding": {
        "x": {
         "field": "Count",
         "title": "Number of movies",
         "type": "quantitative"
        },
        "y": {
         "field": "Director",
         "title": "Director",
         "type": "nominal"
        }
       },
       "height": 350,
       "mark": "bar",
       "selection": {
        "selector071": {
         "encodings": [
          "y"
         ],
         "type": "interval"
        }
       },
       "title": "Top 30 productive directors in Action",
       "width": 300
      },
      "image/png": "[encoded data removed]",
      "text/plain": [
       "<VegaLite 3 object>\n",
       "\n",
       "If you see this message, it means the renderer has not been properly enabled\n",
       "for the frontend that you are using. For more information, see\n",
       "https://altair-viz.github.io/user_guide/troubleshooting.html\n"
      ]
     },
     "execution_count": 171,
     "metadata": {},
     "output_type": "execute_result"
    }
   ],
   "source": [
    "make_bar_plot(genre = 'Action', year = (1990, 2010))"
   ]
  },
  {
   "cell_type": "code",
   "execution_count": 109,
   "metadata": {},
   "outputs": [],
   "source": [
    "def make_scatter_plot(genre = 'Action', year = (1933, 2010)):\n",
    "    # Don't forget to include imports\n",
    "    \n",
    "    # register the custom theme under a chosen name\n",
    "    alt.themes.register('mds_special', mds_special)\n",
    "\n",
    "    # enable the newly registered theme\n",
    "    alt.themes.enable('mds_special')\n",
    "    #alt.themes.enable('none') # to return to default\n",
    "    \n",
    "    # get the clean movies data\n",
    "    movies_df = pd.read_csv('../data/clean/movies_clean_df.csv', index_col = 0)\n",
    "    # get information from the 30 most productive directors in the selected genre\n",
    "    selected_df = movies_df[(movies_df['Year'] > year[0]) & (movies_df['Year'] < year[1])]\n",
    "    top_df = get_top_df(selected_df, 30, genre)\n",
    "    \n",
    "    # Create scatter plots of rating and profits\n",
    "\n",
    "\n",
    "    return chart"
   ]
  },
  {
   "cell_type": "code",
   "execution_count": 110,
   "metadata": {},
   "outputs": [
    {
     "data": {
      "application/vnd.vegalite.v3+json": {
       "$schema": "https://vega.github.io/schema/vega-lite/v3.4.0.json",
       "config": {
        "axisX": {
         "domain": true,
         "domainWidth": 1,
         "grid": false,
         "gridColor": "#DEDDDD",
         "labelAngle": 0,
         "labelFont": "Arial",
         "labelFontSize": 12,
         "tickColor": "#000000",
         "tickSize": 5,
         "title": "X Axis Title (units)",
         "titleFont": "Arial",
         "titleFontSize": 16,
         "titlePadding": 10
        },
        "axisY": {
         "domain": false,
         "grid": true,
         "gridColor": "#DEDDDD",
         "gridWidth": 1,
         "labelAngle": 0,
         "labelFont": "Arial",
         "labelFontSize": 14,
         "title": "Y Axis Title (units)",
         "titleFont": "Arial",
         "titleFontSize": 16,
         "titlePadding": 10
        },
        "title": {
         "anchor": "start",
         "font": "Arial",
         "fontColor": "#000000",
         "fontSize": 24
        },
        "view": {
         "height": 300,
         "width": 400
        }
       },
       "data": {
        "name": "data-f35880722857f77d18af4c3805556e08"
       },
       "datasets": {
        "data-f35880722857f77d18af4c3805556e08": [
         {
          "Count": 7,
          "Director": "Michael Bay"
         },
         {
          "Count": 6,
          "Director": "Brett Ratner"
         },
         {
          "Count": 6,
          "Director": "Tony Scott"
         },
         {
          "Count": 5,
          "Director": "James Cameron"
         },
         {
          "Count": 4,
          "Director": "Richard Donner"
         },
         {
          "Count": 4,
          "Director": "John Woo"
         },
         {
          "Count": 4,
          "Director": "Andy Wachowski"
         },
         {
          "Count": 4,
          "Director": "Steven Spielberg"
         },
         {
          "Count": 4,
          "Director": "Rob Cohen"
         },
         {
          "Count": 4,
          "Director": "Renny Harlin"
         },
         {
          "Count": 3,
          "Director": "Jonathan Mostow"
         },
         {
          "Count": 3,
          "Director": "Stephen Sommers"
         },
         {
          "Count": 3,
          "Director": "Quentin Tarantino"
         },
         {
          "Count": 3,
          "Director": "Robert Rodriguez"
         },
         {
          "Count": 3,
          "Director": "Joel Schumacher"
         },
         {
          "Count": 3,
          "Director": "Guillermo Del Toro"
         },
         {
          "Count": 3,
          "Director": "Roland Emmerich"
         },
         {
          "Count": 3,
          "Director": "John McTiernan"
         },
         {
          "Count": 3,
          "Director": "Russell Mulcahy"
         },
         {
          "Count": 3,
          "Director": "Jan De Bont"
         },
         {
          "Count": 3,
          "Director": "Peter Hyams"
         },
         {
          "Count": 3,
          "Director": "Martin Campbell"
         },
         {
          "Count": 3,
          "Director": "Peter Berg"
         },
         {
          "Count": 3,
          "Director": "Len Wiseman"
         },
         {
          "Count": 3,
          "Director": "Antoine Fuqua"
         },
         {
          "Count": 2,
          "Director": "Paul Greengrass"
         },
         {
          "Count": 2,
          "Director": "Paul Anderson"
         },
         {
          "Count": 2,
          "Director": "Mark Steven Johnson"
         },
         {
          "Count": 2,
          "Director": "Roger Spottiswoode"
         },
         {
          "Count": 2,
          "Director": "Louis Leterrier"
         }
        ]
       },
       "encoding": {
        "opacity": {
         "condition": {
          "selection": "selector033",
          "value": 0.8
         },
         "value": 0.1
        },
        "x": {
         "field": "Count",
         "title": "Number of movies",
         "type": "quantitative"
        },
        "y": {
         "field": "Director",
         "title": "Director",
         "type": "nominal"
        }
       },
       "height": 350,
       "mark": "bar",
       "selection": {
        "selector032": {
         "encodings": [
          "y"
         ],
         "type": "interval"
        },
        "selector036": {
         "bind": "scales",
         "encodings": [
          "x",
          "y"
         ],
         "type": "interval"
        }
       },
       "title": "Top 30 productive directors in Action",
       "width": 300
      },
      "text/plain": [
       "<VegaLite 3 object>\n",
       "\n",
       "If you see this message, it means the renderer has not been properly enabled\n",
       "for the frontend that you are using. For more information, see\n",
       "https://altair-viz.github.io/user_guide/troubleshooting.html\n"
      ]
     },
     "execution_count": 110,
     "metadata": {},
     "output_type": "execute_result"
    }
   ],
   "source": [
    "make_bar_plot()"
   ]
  },
  {
   "cell_type": "code",
   "execution_count": 84,
   "metadata": {},
   "outputs": [],
   "source": [
    "def make_text_plot(genre = 'Action', year = (1933, 2010), number_of_directors=30):\n",
    "    # Don't forget to include imports\n",
    "    \n",
    "    # register the custom theme under a chosen name\n",
    "    alt.themes.register('mds_special', mds_special)\n",
    "\n",
    "    # enable the newly registered theme\n",
    "    alt.themes.enable('mds_special')\n",
    "    #alt.themes.enable('none') # to return to default\n",
    "    \n",
    "    # get the clean movies data\n",
    "    movies_df = pd.read_csv('../data/clean/movies_clean_df.csv', index_col = 0)\n",
    "    # get information from the 30 most productive directors in the selected genre\n",
    "    selected_df = movies_df[(movies_df['Year'] > year[0]) & (movies_df['Year'] < year[1])]\n",
    "    top_df = get_top_df(selected_df, number_of_directors, genre)\n",
    "\n",
    "    return alt.Chart(top_df).encode(\n",
    "                alt.X('Director:N', title = 'Director'),\n",
    "                alt.Y('Year:O', title = 'Year')\n",
    "            ).mark_text(\n",
    "            align='left',\n",
    "            baseline='middle',  # Nudges text to right so it doesn't appear on top of the bar\n",
    "            ).encode(\n",
    "            text='Title:N'\n",
    "            ).properties(\n",
    "                title = 'Movie titles for director',\n",
    "                width = 600, \n",
    "                height = 650).interactive()"
   ]
  },
  {
   "cell_type": "code",
   "execution_count": 85,
   "metadata": {},
   "outputs": [
    {
     "data": {
      "application/vnd.vegalite.v3+json": {
       "$schema": "https://vega.github.io/schema/vega-lite/v3.4.0.json",
       "config": {
        "axisX": {
         "domain": true,
         "domainWidth": 1,
         "grid": false,
         "gridColor": "#DEDDDD",
         "labelAngle": 0,
         "labelFont": "Arial",
         "labelFontSize": 12,
         "tickColor": "#000000",
         "tickSize": 5,
         "title": "X Axis Title (units)",
         "titleFont": "Arial",
         "titleFontSize": 16,
         "titlePadding": 10
        },
        "axisY": {
         "domain": false,
         "grid": true,
         "gridColor": "#DEDDDD",
         "gridWidth": 1,
         "labelAngle": 0,
         "labelFont": "Arial",
         "labelFontSize": 14,
         "title": "Y Axis Title (units)",
         "titleFont": "Arial",
         "titleFontSize": 16,
         "titlePadding": 10
        },
        "title": {
         "anchor": "start",
         "font": "Arial",
         "fontColor": "#000000",
         "fontSize": 24
        },
        "view": {
         "height": 300,
         "width": 400
        }
       },
       "data": {
        "name": "data-8e28e0fe280dacd46dc3e966c5c9c690"
       },
       "datasets": {
        "data-8e28e0fe280dacd46dc3e966c5c9c690": [
         {
          "Count": 5,
          "Director": "James Cameron",
          "IMDB_Rating": 7.6,
          "MPAA_Rating": "PG-13",
          "Major_Genre": "Action",
          "Production_Budget": 70000000,
          "Title": "The Abyss",
          "Worldwide_Gross": 54243125,
          "Year": 1989
         },
         {
          "Count": 5,
          "Director": "James Cameron",
          "IMDB_Rating": 7.5,
          "MPAA_Rating": "R",
          "Major_Genre": "Action",
          "Production_Budget": 17000000,
          "Title": "Aliens",
          "Worldwide_Gross": 183316455,
          "Year": 1986
         },
         {
          "Count": 5,
          "Director": "James Cameron",
          "IMDB_Rating": 7.2,
          "MPAA_Rating": "R",
          "Major_Genre": "Action",
          "Production_Budget": 100000000,
          "Title": "True Lies",
          "Worldwide_Gross": 365300000,
          "Year": 1994
         },
         {
          "Count": 5,
          "Director": "James Cameron",
          "IMDB_Rating": 8.5,
          "MPAA_Rating": "R",
          "Major_Genre": "Action",
          "Production_Budget": 100000000,
          "Title": "Terminator 2: Judgment Day",
          "Worldwide_Gross": 516816151,
          "Year": 1991
         },
         {
          "Count": 5,
          "Director": "James Cameron",
          "IMDB_Rating": 8.3,
          "MPAA_Rating": "PG-13",
          "Major_Genre": "Action",
          "Production_Budget": 237000000,
          "Title": "Avatar",
          "Worldwide_Gross": 2767891499,
          "Year": 2009
         },
         {
          "Count": 7,
          "Director": "Michael Bay",
          "IMDB_Rating": 6.6,
          "MPAA_Rating": "R",
          "Major_Genre": "Action",
          "Production_Budget": 23000000,
          "Title": "Bad Boys",
          "Worldwide_Gross": 141247413,
          "Year": 1995
         },
         {
          "Count": 7,
          "Director": "Michael Bay",
          "IMDB_Rating": 7.2,
          "MPAA_Rating": "R",
          "Major_Genre": "Action",
          "Production_Budget": 75000000,
          "Title": "The Rock",
          "Worldwide_Gross": 336069511,
          "Year": 1996
         },
         {
          "Count": 7,
          "Director": "Michael Bay",
          "IMDB_Rating": 6.2,
          "MPAA_Rating": "R",
          "Major_Genre": "Action",
          "Production_Budget": 130000000,
          "Title": "Bad Boys II",
          "Worldwide_Gross": 272940870,
          "Year": 2003
         },
         {
          "Count": 7,
          "Director": "Michael Bay",
          "IMDB_Rating": 6.9,
          "MPAA_Rating": "PG-13",
          "Major_Genre": "Action",
          "Production_Budget": 120000000,
          "Title": "The Island",
          "Worldwide_Gross": 163018913,
          "Year": 2005
         },
         {
          "Count": 7,
          "Director": "Michael Bay",
          "IMDB_Rating": 5.4,
          "MPAA_Rating": "PG-13",
          "Major_Genre": "Action",
          "Production_Budget": 151500000,
          "Title": "Pearl Harbor",
          "Worldwide_Gross": 449239855,
          "Year": 2001
         },
         {
          "Count": 7,
          "Director": "Michael Bay",
          "IMDB_Rating": 7.3,
          "MPAA_Rating": "PG-13",
          "Major_Genre": "Action",
          "Production_Budget": 151000000,
          "Title": "Transformers",
          "Worldwide_Gross": 708272592,
          "Year": 2007
         },
         {
          "Count": 7,
          "Director": "Michael Bay",
          "IMDB_Rating": 6,
          "MPAA_Rating": "PG-13",
          "Major_Genre": "Action",
          "Production_Budget": 210000000,
          "Title": "Transformers: Revenge of the Fallen",
          "Worldwide_Gross": 836303693,
          "Year": 2009
         },
         {
          "Count": 6,
          "Director": "Tony Scott",
          "IMDB_Rating": 6.1,
          "MPAA_Rating": "R",
          "Major_Genre": "Action",
          "Production_Budget": 20000000,
          "Title": "Beverly Hills Cop II",
          "Worldwide_Gross": 276665036,
          "Year": 1987
         },
         {
          "Count": 6,
          "Director": "Tony Scott",
          "IMDB_Rating": 7.2,
          "MPAA_Rating": "R",
          "Major_Genre": "Action",
          "Production_Budget": 55000000,
          "Title": "Crimson Tide",
          "Worldwide_Gross": 159387195,
          "Year": 1995
         },
         {
          "Count": 6,
          "Director": "Tony Scott",
          "IMDB_Rating": 5.9,
          "MPAA_Rating": "R",
          "Major_Genre": "Action",
          "Production_Budget": 50000000,
          "Title": "Domino",
          "Worldwide_Gross": 17759202,
          "Year": 2005
         },
         {
          "Count": 6,
          "Director": "Tony Scott",
          "IMDB_Rating": 7.2,
          "MPAA_Rating": "R",
          "Major_Genre": "Action",
          "Production_Budget": 85000000,
          "Title": "Enemy of the State",
          "Worldwide_Gross": 250649836,
          "Year": 1998
         },
         {
          "Count": 6,
          "Director": "Tony Scott",
          "IMDB_Rating": 6.9,
          "MPAA_Rating": "R",
          "Major_Genre": "Action",
          "Production_Budget": 90000000,
          "Title": "Spy Game",
          "Worldwide_Gross": 143049560,
          "Year": 2001
         },
         {
          "Count": 6,
          "Director": "Tony Scott",
          "IMDB_Rating": 6.5,
          "MPAA_Rating": "R",
          "Major_Genre": "Action",
          "Production_Budget": 110000000,
          "Title": "The Taking of Pelham 123",
          "Worldwide_Gross": 148989667,
          "Year": 2009
         },
         {
          "Count": 4,
          "Director": "Richard Donner",
          "IMDB_Rating": 6.5,
          "MPAA_Rating": "R",
          "Major_Genre": "Action",
          "Production_Budget": 35000000,
          "Title": "Lethal Weapon 3",
          "Worldwide_Gross": 319700000,
          "Year": 1992
         },
         {
          "Count": 4,
          "Director": "Richard Donner",
          "IMDB_Rating": 5.9,
          "MPAA_Rating": "R",
          "Major_Genre": "Action",
          "Production_Budget": 50000000,
          "Title": "Assassins",
          "Worldwide_Gross": 83306268,
          "Year": 1995
         },
         {
          "Count": 4,
          "Director": "Richard Donner",
          "IMDB_Rating": 6.7,
          "MPAA_Rating": "PG-13",
          "Major_Genre": "Action",
          "Production_Budget": 45000000,
          "Title": "16 Blocks",
          "Worldwide_Gross": 65595141,
          "Year": 2006
         },
         {
          "Count": 4,
          "Director": "Richard Donner",
          "IMDB_Rating": 6.4,
          "MPAA_Rating": "R",
          "Major_Genre": "Action",
          "Production_Budget": 140000000,
          "Title": "Lethal Weapon 4",
          "Worldwide_Gross": 285400000,
          "Year": 1998
         },
         {
          "Count": 6,
          "Director": "Brett Ratner",
          "IMDB_Rating": 6.2,
          "MPAA_Rating": "PG-13",
          "Major_Genre": "Action",
          "Production_Budget": 57000000,
          "Title": "After the Sunset",
          "Worldwide_Gross": 38329114,
          "Year": 2004
         },
         {
          "Count": 6,
          "Director": "Brett Ratner",
          "IMDB_Rating": 5.7,
          "MPAA_Rating": "R",
          "Major_Genre": "Action",
          "Production_Budget": 25000000,
          "Title": "Money Talks",
          "Worldwide_Gross": 41076865,
          "Year": 1997
         },
         {
          "Count": 6,
          "Director": "Brett Ratner",
          "IMDB_Rating": 6.4,
          "MPAA_Rating": "PG-13",
          "Major_Genre": "Action",
          "Production_Budget": 90000000,
          "Title": "Rush Hour 2",
          "Worldwide_Gross": 347425832,
          "Year": 2001
         },
         {
          "Count": 6,
          "Director": "Brett Ratner",
          "IMDB_Rating": 6,
          "MPAA_Rating": "PG-13",
          "Major_Genre": "Action",
          "Production_Budget": 180000000,
          "Title": "Rush Hour 3",
          "Worldwide_Gross": 253025968,
          "Year": 2007
         },
         {
          "Count": 6,
          "Director": "Brett Ratner",
          "IMDB_Rating": 6.8,
          "MPAA_Rating": "PG-13",
          "Major_Genre": "Action",
          "Production_Budget": 35000000,
          "Title": "Rush Hour",
          "Worldwide_Gross": 245300000,
          "Year": 1998
         },
         {
          "Count": 6,
          "Director": "Brett Ratner",
          "IMDB_Rating": 6.9,
          "MPAA_Rating": "PG-13",
          "Major_Genre": "Action",
          "Production_Budget": 150000000,
          "Title": "X-Men: The Last Stand",
          "Worldwide_Gross": 459359555,
          "Year": 2006
         }
        ]
       },
       "encoding": {
        "text": {
         "field": "Title",
         "type": "nominal"
        },
        "x": {
         "field": "Director",
         "title": "Director",
         "type": "nominal"
        },
        "y": {
         "field": "Year",
         "title": "Year",
         "type": "ordinal"
        }
       },
       "height": 650,
       "mark": {
        "align": "left",
        "baseline": "middle",
        "type": "text"
       },
       "selection": {
        "selector027": {
         "bind": "scales",
         "encodings": [
          "x",
          "y"
         ],
         "type": "interval"
        }
       },
       "title": "Movie titles for director",
       "width": 600
      },
      "image/png": "[encoded data removed]",
      "text/plain": [
       "<VegaLite 3 object>\n",
       "\n",
       "If you see this message, it means the renderer has not been properly enabled\n",
       "for the frontend that you are using. For more information, see\n",
       "https://altair-viz.github.io/user_guide/troubleshooting.html\n"
      ]
     },
     "execution_count": 85,
     "metadata": {},
     "output_type": "execute_result"
    }
   ],
   "source": [
    "make_text_plot(genre = 'Action', year = (1933, 2010), number_of_directors = 5)"
   ]
  },
  {
   "cell_type": "code",
   "execution_count": 239,
   "metadata": {},
   "outputs": [],
   "source": [
    "def make_text_plot2(genre = 'Action', year = (1933, 2010), number_of_directors = 30):\n",
    "    # Don't forget to include imports\n",
    "    \n",
    "    # register the custom theme under a chosen name\n",
    "    alt.themes.register('mds_special', mds_special)\n",
    "    brush = alt.selection(type='interval', encodings=['y'])\n",
    "\n",
    "    # enable the newly registered theme\n",
    "    alt.themes.enable('mds_special')\n",
    "    #alt.themes.enable('none') # to return to default\n",
    "    \n",
    "    # get the clean movies data\n",
    "    movies_df = pd.read_csv('../data/clean/movies_clean_df.csv', index_col = 0)\n",
    "    # get information from the 30 most productive directors in the selected genre\n",
    "    selected_df = movies_df[(movies_df['Year'] > year[0]) & (movies_df['Year'] < year[1])]\n",
    "    top_df = get_top_df(selected_df, number_of_directors, genre)\n",
    "    top_director = get_top_director(selected_df, 30, genre)\n",
    "    \n",
    "    chart1= alt.Chart(top_df).mark_bar().encode(\n",
    "                alt.Y('Director:N', title = 'Director'),\n",
    "                alt.X('Count:Q', title = 'Proportion of MPAA Rating', stack=\"normalize\"),\n",
    "                alt.Color('MPAA_Rating:N'),\n",
    "                opacity=alt.condition(brush, alt.value(0.75), alt.value(0.05))\n",
    "            ).properties(\n",
    "                title = 'Proportions of MPAA Ratings by director',\n",
    "                width = 300, \n",
    "                height = 350).interactive()\n",
    "    chart2 = alt.Chart(top_director).mark_bar().encode(\n",
    "                alt.Y('Director:N', title = 'Director', sort=alt.EncodingSortField(\n",
    "            field=\"Worldwide_Gross\",  \n",
    "            order=\"ascending\")),\n",
    "                alt.X('Count:Q', title = 'Number of movies')\n",
    "            ).properties(\n",
    "                title = 'Top 30 productive directors in ' + genre,\n",
    "                width = 300, \n",
    "                height = 750).add_selection(brush)\n",
    "    chart3 = alt.Chart(top_df).mark_line().encode(\n",
    "                alt.X(\"Year:O\"),\n",
    "                alt.Y(\"IMDB_Rating:Q\", axis=alt.Axis(title=\"Mark\"), scale=alt.Scale(zero=False)),\n",
    "                alt.Color('Director:N'),\n",
    "                opacity=alt.condition(brush, alt.value(0.75), alt.value(0.05)),\n",
    "                tooltip = ['Title', 'Major_Genre', 'Director', 'IMDB_Rating']\n",
    "            ).properties(title='Rating',\n",
    "                        width=500, height=250).interactive()\n",
    "    chart4 = alt.Chart(top_df).mark_line().encode(\n",
    "            alt.X(\"Year:O\"),\n",
    "            alt.Y(\"Worldwide_Gross:Q\", axis=alt.Axis(title=\"Mark\"), scale=alt.Scale(zero=False)),\n",
    "            alt.Color('Director:N'),\n",
    "            opacity=alt.condition(brush, alt.value(0.75), alt.value(0.05)),\n",
    "            tooltip = ['Title', 'Major_Genre', 'Director', 'IMDB_Rating']\n",
    "            ).properties(title='Worldwide Gross',\n",
    "                        width=500, height=250).interactive()\n",
    "    return chart2 | alt.vconcat(chart4 & chart3)"
   ]
  },
  {
   "cell_type": "code",
   "execution_count": 240,
   "metadata": {},
   "outputs": [
    {
     "data": {
      "application/vnd.vegalite.v3+json": {
       "$schema": "https://vega.github.io/schema/vega-lite/v3.4.0.json",
       "config": {
        "axisX": {
         "domain": true,
         "domainWidth": 1,
         "grid": false,
         "gridColor": "#DEDDDD",
         "labelAngle": 0,
         "labelFont": "Arial",
         "labelFontSize": 12,
         "tickColor": "#000000",
         "tickSize": 5,
         "title": "X Axis Title (units)",
         "titleFont": "Arial",
         "titleFontSize": 16,
         "titlePadding": 10
        },
        "axisY": {
         "domain": false,
         "grid": true,
         "gridColor": "#DEDDDD",
         "gridWidth": 1,
         "labelAngle": 0,
         "labelFont": "Arial",
         "labelFontSize": 14,
         "title": "Y Axis Title (units)",
         "titleFont": "Arial",
         "titleFontSize": 16,
         "titlePadding": 10
        },
        "title": {
         "anchor": "start",
         "font": "Arial",
         "fontColor": "#000000",
         "fontSize": 24
        },
        "view": {
         "height": 300,
         "width": 400
        }
       },
       "datasets": {
        "data-ac757487762b5f28f49e244ee39ae42f": [
         {
          "Count": 7,
          "Director": "Kevin Smith"
         },
         {
          "Count": 6,
          "Director": "Jay Roach"
         },
         {
          "Count": 6,
          "Director": "Tom Shadyac"
         },
         {
          "Count": 6,
          "Director": "Harold Ramis"
         },
         {
          "Count": 5,
          "Director": "Steve Carr"
         },
         {
          "Count": 5,
          "Director": "Dennis Dugan"
         },
         {
          "Count": 5,
          "Director": "Peter Segal"
         },
         {
          "Count": 5,
          "Director": "Todd Phillips"
         },
         {
          "Count": 5,
          "Director": "Shawn Levy"
         },
         {
          "Count": 5,
          "Director": "Bobby Farrelly"
         },
         {
          "Count": 4,
          "Director": "Donald Petrie"
         },
         {
          "Count": 4,
          "Director": "Frank Oz"
         },
         {
          "Count": 4,
          "Director": "Raja Gosnell"
         },
         {
          "Count": 4,
          "Director": "Christopher Guest"
         },
         {
          "Count": 4,
          "Director": "Keenen Ivory Wayans"
         },
         {
          "Count": 4,
          "Director": "Chris Columbus"
         },
         {
          "Count": 4,
          "Director": "Brian Levant"
         },
         {
          "Count": 4,
          "Director": "Woody Allen"
         },
         {
          "Count": 4,
          "Director": "Jason Friedberg"
         },
         {
          "Count": 4,
          "Director": "Ivan Reitman"
         },
         {
          "Count": 4,
          "Director": "Joel Coen"
         },
         {
          "Count": 3,
          "Director": "Howard Deutch"
         },
         {
          "Count": 3,
          "Director": "Stephen Herek"
         },
         {
          "Count": 3,
          "Director": "Nora Ephron"
         },
         {
          "Count": 3,
          "Director": "David Zucker"
         },
         {
          "Count": 3,
          "Director": "Paul Weitz"
         },
         {
          "Count": 3,
          "Director": "Tyler Perry"
         },
         {
          "Count": 3,
          "Director": "Malcolm D. Lee"
         },
         {
          "Count": 3,
          "Director": "Les Mayfield"
         },
         {
          "Count": 3,
          "Director": "Tim Hill"
         }
        ],
        "data-c25ab378c7851668767f95b7fc74da03": [
         {
          "Count": 6,
          "Director": "Tom Shadyac",
          "IMDB_Rating": 6.6,
          "MPAA_Rating": "PG-13",
          "Major_Genre": "Comedy",
          "Production_Budget": 12000000,
          "Title": "Ace Ventura: Pet Detective",
          "Worldwide_Gross": 107217396,
          "Year": 1994
         },
         {
          "Count": 6,
          "Director": "Tom Shadyac",
          "IMDB_Rating": 5.6,
          "MPAA_Rating": "PG-13",
          "Major_Genre": "Comedy",
          "Production_Budget": 55000000,
          "Title": "The Nutty Professor",
          "Worldwide_Gross": 273814019,
          "Year": 1996
         },
         {
          "Count": 6,
          "Director": "Tom Shadyac",
          "IMDB_Rating": 5.5,
          "MPAA_Rating": "PG",
          "Major_Genre": "Comedy",
          "Production_Budget": 175000000,
          "Title": "Evan Almighty",
          "Worldwide_Gross": 173219280,
          "Year": 2007
         },
         {
          "Count": 6,
          "Director": "Tom Shadyac",
          "IMDB_Rating": 6.6,
          "MPAA_Rating": "PG-13",
          "Major_Genre": "Comedy",
          "Production_Budget": 81000000,
          "Title": "Bruce Almighty",
          "Worldwide_Gross": 485004995,
          "Year": 2003
         },
         {
          "Count": 6,
          "Director": "Tom Shadyac",
          "IMDB_Rating": 6.7,
          "MPAA_Rating": "PG-13",
          "Major_Genre": "Comedy",
          "Production_Budget": 45000000,
          "Title": "Liar Liar",
          "Worldwide_Gross": 302710615,
          "Year": 1997
         },
         {
          "Count": 6,
          "Director": "Tom Shadyac",
          "IMDB_Rating": 6.3,
          "MPAA_Rating": "PG-13",
          "Major_Genre": "Comedy",
          "Production_Budget": 50000000,
          "Title": "Patch Adams",
          "Worldwide_Gross": 202200000,
          "Year": 1998
         },
         {
          "Count": 7,
          "Director": "Kevin Smith",
          "IMDB_Rating": 7.9,
          "MPAA_Rating": "R",
          "Major_Genre": "Comedy",
          "Production_Budget": 27000,
          "Title": "Clerks",
          "Worldwide_Gross": 3073428,
          "Year": 1994
         },
         {
          "Count": 7,
          "Director": "Kevin Smith",
          "IMDB_Rating": 7.1,
          "MPAA_Rating": "R",
          "Major_Genre": "Comedy",
          "Production_Budget": 6100000,
          "Title": "Mallrats",
          "Worldwide_Gross": 2108367,
          "Year": 1995
         },
         {
          "Count": 7,
          "Director": "Kevin Smith",
          "IMDB_Rating": 7.7,
          "MPAA_Rating": "R",
          "Major_Genre": "Comedy",
          "Production_Budget": 5000000,
          "Title": "Clerks II",
          "Worldwide_Gross": 25894473,
          "Year": 2006
         },
         {
          "Count": 7,
          "Director": "Kevin Smith",
          "IMDB_Rating": 7.3,
          "MPAA_Rating": "R",
          "Major_Genre": "Comedy",
          "Production_Budget": 10000000,
          "Title": "Dogma",
          "Worldwide_Gross": 43948865,
          "Year": 1999
         },
         {
          "Count": 7,
          "Director": "Kevin Smith",
          "IMDB_Rating": 6.2,
          "MPAA_Rating": "PG-13",
          "Major_Genre": "Comedy",
          "Production_Budget": 35000000,
          "Title": "Jersey Girl",
          "Worldwide_Gross": 37066129,
          "Year": 2004
         },
         {
          "Count": 7,
          "Director": "Kevin Smith",
          "IMDB_Rating": 6.8,
          "MPAA_Rating": "R",
          "Major_Genre": "Comedy",
          "Production_Budget": 22000000,
          "Title": "Jay and Silent Bob Strike Back",
          "Worldwide_Gross": 33762400,
          "Year": 2001
         },
         {
          "Count": 7,
          "Director": "Kevin Smith",
          "IMDB_Rating": 7,
          "MPAA_Rating": "R",
          "Major_Genre": "Comedy",
          "Production_Budget": 24000000,
          "Title": "Zack and Miri Make a Porno",
          "Worldwide_Gross": 36851125,
          "Year": 2008
         },
         {
          "Count": 5,
          "Director": "Bobby Farrelly",
          "IMDB_Rating": 7.2,
          "MPAA_Rating": "PG-13",
          "Major_Genre": "Comedy",
          "Production_Budget": 16000000,
          "Title": "Dumb & Dumber",
          "Worldwide_Gross": 246400000,
          "Year": 1994
         },
         {
          "Count": 5,
          "Director": "Bobby Farrelly",
          "IMDB_Rating": 6.7,
          "MPAA_Rating": "R",
          "Major_Genre": "Comedy",
          "Production_Budget": 25000000,
          "Title": "Kingpin",
          "Worldwide_Gross": 32223424,
          "Year": 1996
         },
         {
          "Count": 5,
          "Director": "Bobby Farrelly",
          "IMDB_Rating": 6.3,
          "MPAA_Rating": "PG-13",
          "Major_Genre": "Comedy",
          "Production_Budget": 40000000,
          "Title": "Fever Pitch",
          "Worldwide_Gross": 50071069,
          "Year": 2005
         },
         {
          "Count": 5,
          "Director": "Bobby Farrelly",
          "IMDB_Rating": 6,
          "MPAA_Rating": "PG",
          "Major_Genre": "Comedy",
          "Production_Budget": 70000000,
          "Title": "Osmosis Jones",
          "Worldwide_Gross": 13596911,
          "Year": 2001
         },
         {
          "Count": 5,
          "Director": "Bobby Farrelly",
          "IMDB_Rating": 5.9,
          "MPAA_Rating": "PG-13",
          "Major_Genre": "Comedy",
          "Production_Budget": 55000000,
          "Title": "Stuck On You",
          "Worldwide_Gross": 63537164,
          "Year": 2003
         },
         {
          "Count": 4,
          "Director": "Brian Levant",
          "IMDB_Rating": 4.6,
          "MPAA_Rating": "PG",
          "Major_Genre": "Comedy",
          "Production_Budget": 45000000,
          "Title": "The Flintstones",
          "Worldwide_Gross": 358500000,
          "Year": 1994
         },
         {
          "Count": 4,
          "Director": "Brian Levant",
          "IMDB_Rating": 4.9,
          "MPAA_Rating": "PG",
          "Major_Genre": "Comedy",
          "Production_Budget": 60000000,
          "Title": "Jingle All the Way",
          "Worldwide_Gross": 129832389,
          "Year": 1996
         },
         {
          "Count": 4,
          "Director": "Brian Levant",
          "IMDB_Rating": 4.9,
          "MPAA_Rating": "PG",
          "Major_Genre": "Comedy",
          "Production_Budget": 32000000,
          "Title": "Snow Dogs",
          "Worldwide_Gross": 115010692,
          "Year": 2002
         },
         {
          "Count": 4,
          "Director": "Brian Levant",
          "IMDB_Rating": 3.3,
          "MPAA_Rating": "PG",
          "Major_Genre": "Comedy",
          "Production_Budget": 58000000,
          "Title": "The Flintstones in Viva Rock Vegas",
          "Worldwide_Gross": 59431365,
          "Year": 2000
         },
         {
          "Count": 4,
          "Director": "Ivan Reitman",
          "IMDB_Rating": 6.8,
          "MPAA_Rating": "PG",
          "Major_Genre": "Comedy",
          "Production_Budget": 30000000,
          "Title": "Ghostbusters",
          "Worldwide_Gross": 291632124,
          "Year": 1984
         },
         {
          "Count": 4,
          "Director": "Ivan Reitman",
          "IMDB_Rating": 6.8,
          "MPAA_Rating": "R",
          "Major_Genre": "Comedy",
          "Production_Budget": 10000000,
          "Title": "Stripes",
          "Worldwide_Gross": 85300000,
          "Year": 1981
         },
         {
          "Count": 4,
          "Director": "Ivan Reitman",
          "IMDB_Rating": 5.9,
          "MPAA_Rating": "PG-13",
          "Major_Genre": "Comedy",
          "Production_Budget": 80000000,
          "Title": "Evolution",
          "Worldwide_Gross": 98341932,
          "Year": 2001
         },
         {
          "Count": 4,
          "Director": "Ivan Reitman",
          "IMDB_Rating": 4.8,
          "MPAA_Rating": "PG-13",
          "Major_Genre": "Comedy",
          "Production_Budget": 85000000,
          "Title": "Father's Day",
          "Worldwide_Gross": 35681080,
          "Year": 1997
         },
         {
          "Count": 6,
          "Director": "Harold Ramis",
          "IMDB_Rating": 8.2,
          "MPAA_Rating": "PG",
          "Major_Genre": "Comedy",
          "Production_Budget": 14600000,
          "Title": "Groundhog Day",
          "Worldwide_Gross": 70906973,
          "Year": 1993
         },
         {
          "Count": 6,
          "Director": "Harold Ramis",
          "IMDB_Rating": 5.7,
          "MPAA_Rating": "PG-13",
          "Major_Genre": "Comedy",
          "Production_Budget": 45000000,
          "Title": "Multiplicity",
          "Worldwide_Gross": 20133326,
          "Year": 1996
         },
         {
          "Count": 6,
          "Director": "Harold Ramis",
          "IMDB_Rating": 5.6,
          "MPAA_Rating": "R",
          "Major_Genre": "Comedy",
          "Production_Budget": 60000000,
          "Title": "Analyze That",
          "Worldwide_Gross": 54994757,
          "Year": 2002
         },
         {
          "Count": 6,
          "Director": "Harold Ramis",
          "IMDB_Rating": 6.6,
          "MPAA_Rating": "R",
          "Major_Genre": "Comedy",
          "Production_Budget": 30000000,
          "Title": "Analyze This",
          "Worldwide_Gross": 176885658,
          "Year": 1999
         },
         {
          "Count": 6,
          "Director": "Harold Ramis",
          "IMDB_Rating": 5.9,
          "MPAA_Rating": "PG-13",
          "Major_Genre": "Comedy",
          "Production_Budget": 48000000,
          "Title": "Bedazzled",
          "Worldwide_Gross": 90376224,
          "Year": 2000
         },
         {
          "Count": 6,
          "Director": "Harold Ramis",
          "IMDB_Rating": 5,
          "MPAA_Rating": "PG-13",
          "Major_Genre": "Comedy",
          "Production_Budget": 60000000,
          "Title": "Year One",
          "Worldwide_Gross": 57604723,
          "Year": 2009
         },
         {
          "Count": 4,
          "Director": "Chris Columbus",
          "IMDB_Rating": 5.8,
          "MPAA_Rating": "PG",
          "Major_Genre": "Comedy",
          "Production_Budget": 20000000,
          "Title": "Home Alone 2: Lost in New York",
          "Worldwide_Gross": 358994850,
          "Year": 1992
         },
         {
          "Count": 4,
          "Director": "Chris Columbus",
          "IMDB_Rating": 7,
          "MPAA_Rating": "PG",
          "Major_Genre": "Comedy",
          "Production_Budget": 15000000,
          "Title": "Home Alone",
          "Worldwide_Gross": 476684675,
          "Year": 1990
         },
         {
          "Count": 4,
          "Director": "Chris Columbus",
          "IMDB_Rating": 6.6,
          "MPAA_Rating": "PG-13",
          "Major_Genre": "Comedy",
          "Production_Budget": 25000000,
          "Title": "Mrs. Doubtfire",
          "Worldwide_Gross": 441286003,
          "Year": 1993
         },
         {
          "Count": 4,
          "Director": "Chris Columbus",
          "IMDB_Rating": 5.9,
          "MPAA_Rating": "PG-13",
          "Major_Genre": "Comedy",
          "Production_Budget": 18000000,
          "Title": "I Love You, Beth Cooper",
          "Worldwide_Gross": 16382538,
          "Year": 2009
         },
         {
          "Count": 5,
          "Director": "Dennis Dugan",
          "IMDB_Rating": 6.9,
          "MPAA_Rating": "PG-13",
          "Major_Genre": "Comedy",
          "Production_Budget": 10000000,
          "Title": "Happy Gilmore",
          "Worldwide_Gross": 38623460,
          "Year": 1996
         },
         {
          "Count": 5,
          "Director": "Dennis Dugan",
          "IMDB_Rating": 4.7,
          "MPAA_Rating": "PG-13",
          "Major_Genre": "Comedy",
          "Production_Budget": 30000000,
          "Title": "Big Daddy",
          "Worldwide_Gross": 234779795,
          "Year": 1999
         },
         {
          "Count": 5,
          "Director": "Dennis Dugan",
          "IMDB_Rating": 5.4,
          "MPAA_Rating": "PG-13",
          "Major_Genre": "Comedy",
          "Production_Budget": 35000000,
          "Title": "The Benchwarmers",
          "Worldwide_Gross": 64843754,
          "Year": 2006
         },
         {
          "Count": 5,
          "Director": "Dennis Dugan",
          "IMDB_Rating": 6.1,
          "MPAA_Rating": "PG-13",
          "Major_Genre": "Comedy",
          "Production_Budget": 85000000,
          "Title": "I Now Pronounce You Chuck and Larry",
          "Worldwide_Gross": 185708462,
          "Year": 2007
         },
         {
          "Count": 5,
          "Director": "Dennis Dugan",
          "IMDB_Rating": 5.6,
          "MPAA_Rating": "R",
          "Major_Genre": "Comedy",
          "Production_Budget": 22000000,
          "Title": "Saving Silverman",
          "Worldwide_Gross": 19351569,
          "Year": 2001
         },
         {
          "Count": 4,
          "Director": "Joel Coen",
          "IMDB_Rating": 7.4,
          "MPAA_Rating": "PG",
          "Major_Genre": "Comedy",
          "Production_Budget": 40000000,
          "Title": "The Hudsucker Proxy",
          "Worldwide_Gross": 14938149,
          "Year": 1994
         },
         {
          "Count": 4,
          "Director": "Joel Coen",
          "IMDB_Rating": 7.2,
          "MPAA_Rating": "R",
          "Major_Genre": "Comedy",
          "Production_Budget": 7000000,
          "Title": "A Serious Man",
          "Worldwide_Gross": 30710147,
          "Year": 2009
         },
         {
          "Count": 4,
          "Director": "Joel Coen",
          "IMDB_Rating": 8.2,
          "MPAA_Rating": "R",
          "Major_Genre": "Comedy",
          "Production_Budget": 15000000,
          "Title": "The Big Lebowski",
          "Worldwide_Gross": 46189568,
          "Year": 1998
         },
         {
          "Count": 4,
          "Director": "Joel Coen",
          "IMDB_Rating": 6.2,
          "MPAA_Rating": "R",
          "Major_Genre": "Comedy",
          "Production_Budget": 35000000,
          "Title": "The Ladykillers",
          "Worldwide_Gross": 77692139,
          "Year": 2004
         },
         {
          "Count": 3,
          "Director": "Stephen Herek",
          "IMDB_Rating": 5.9,
          "MPAA_Rating": "PG",
          "Major_Genre": "Comedy",
          "Production_Budget": 10000000,
          "Title": "The Mighty Ducks",
          "Worldwide_Gross": 50752337,
          "Year": 1992
         },
         {
          "Count": 3,
          "Director": "Stephen Herek",
          "IMDB_Rating": 4.7,
          "MPAA_Rating": "PG",
          "Major_Genre": "Comedy",
          "Production_Budget": 60000000,
          "Title": "Holy Man",
          "Worldwide_Gross": 12069719,
          "Year": 1998
         },
         {
          "Count": 3,
          "Director": "Stephen Herek",
          "IMDB_Rating": 4.2,
          "MPAA_Rating": "PG-13",
          "Major_Genre": "Comedy",
          "Production_Budget": 50000000,
          "Title": "Man of the House",
          "Worldwide_Gross": 22099706,
          "Year": 2005
         },
         {
          "Count": 5,
          "Director": "Peter Segal",
          "IMDB_Rating": 6.1,
          "MPAA_Rating": "PG-13",
          "Major_Genre": "Comedy",
          "Production_Budget": 30000000,
          "Title": "Naked Gun 33 1/3: The Final Insult",
          "Worldwide_Gross": 51041856,
          "Year": 1994
         },
         {
          "Count": 5,
          "Director": "Peter Segal",
          "IMDB_Rating": 6.1,
          "MPAA_Rating": "PG-13",
          "Major_Genre": "Comedy",
          "Production_Budget": 56000000,
          "Title": "Anger Management",
          "Worldwide_Gross": 195660942,
          "Year": 2003
         },
         {
          "Count": 5,
          "Director": "Peter Segal",
          "IMDB_Rating": 6.2,
          "MPAA_Rating": "PG-13",
          "Major_Genre": "Comedy",
          "Production_Budget": 82000000,
          "Title": "The Longest Yard",
          "Worldwide_Gross": 190320568,
          "Year": 2005
         },
         {
          "Count": 5,
          "Director": "Peter Segal",
          "IMDB_Rating": 6.3,
          "MPAA_Rating": "PG-13",
          "Major_Genre": "Comedy",
          "Production_Budget": 21500000,
          "Title": "My Fellow Americans",
          "Worldwide_Gross": 22331846,
          "Year": 1996
         },
         {
          "Count": 5,
          "Director": "Peter Segal",
          "IMDB_Rating": 4.3,
          "MPAA_Rating": "PG-13",
          "Major_Genre": "Comedy",
          "Production_Budget": 84000000,
          "Title": "Nutty Professor II: The Klumps",
          "Worldwide_Gross": 161600000,
          "Year": 2000
         },
         {
          "Count": 4,
          "Director": "Donald Petrie",
          "IMDB_Rating": 4.7,
          "MPAA_Rating": "PG",
          "Major_Genre": "Comedy",
          "Production_Budget": 40000000,
          "Title": "Ri¢hie Ri¢h",
          "Worldwide_Gross": 38087756,
          "Year": 1994
         },
         {
          "Count": 4,
          "Director": "Donald Petrie",
          "IMDB_Rating": 6.1,
          "MPAA_Rating": "PG-13",
          "Major_Genre": "Comedy",
          "Production_Budget": 45000000,
          "Title": "Miss Congeniality",
          "Worldwide_Gross": 212100000,
          "Year": 2000
         },
         {
          "Count": 4,
          "Director": "Donald Petrie",
          "IMDB_Rating": 5.2,
          "MPAA_Rating": "PG-13",
          "Major_Genre": "Comedy",
          "Production_Budget": 26000000,
          "Title": "Welcome to Mooseport",
          "Worldwide_Gross": 14469428,
          "Year": 2004
         },
         {
          "Count": 4,
          "Director": "Donald Petrie",
          "IMDB_Rating": 4.5,
          "MPAA_Rating": "PG",
          "Major_Genre": "Comedy",
          "Production_Budget": 60000000,
          "Title": "My Favorite Martian",
          "Worldwide_Gross": 36850101,
          "Year": 1999
         },
         {
          "Count": 4,
          "Director": "Christopher Guest",
          "IMDB_Rating": 7.4,
          "MPAA_Rating": "R",
          "Major_Genre": "Comedy",
          "Production_Budget": 4000000,
          "Title": "Waiting for Guffman",
          "Worldwide_Gross": 2922988,
          "Year": 1997
         },
         {
          "Count": 4,
          "Director": "Christopher Guest",
          "IMDB_Rating": 7.4,
          "MPAA_Rating": "PG-13",
          "Major_Genre": "Comedy",
          "Production_Budget": 6000000,
          "Title": "Best in Show",
          "Worldwide_Gross": 20695413,
          "Year": 2000
         },
         {
          "Count": 4,
          "Director": "Christopher Guest",
          "IMDB_Rating": 6.2,
          "MPAA_Rating": "PG-13",
          "Major_Genre": "Comedy",
          "Production_Budget": 12000000,
          "Title": "For Your Consideration",
          "Worldwide_Gross": 5549923,
          "Year": 2006
         },
         {
          "Count": 4,
          "Director": "Christopher Guest",
          "IMDB_Rating": 7.2,
          "MPAA_Rating": "PG-13",
          "Major_Genre": "Comedy",
          "Production_Budget": 6000000,
          "Title": "A Mighty Wind",
          "Worldwide_Gross": 18552708,
          "Year": 2003
         },
         {
          "Count": 3,
          "Director": "Howard Deutch",
          "IMDB_Rating": 5.1,
          "MPAA_Rating": "PG-13",
          "Major_Genre": "Comedy",
          "Production_Budget": 30000000,
          "Title": "The Whole Ten Yards",
          "Worldwide_Gross": 26323969,
          "Year": 2004
         },
         {
          "Count": 3,
          "Director": "Howard Deutch",
          "IMDB_Rating": 5.8,
          "MPAA_Rating": "R",
          "Major_Genre": "Comedy",
          "Production_Budget": 20000000,
          "Title": "My Best Friend's Girl",
          "Worldwide_Gross": 34787111,
          "Year": 2008
         },
         {
          "Count": 3,
          "Director": "Howard Deutch",
          "IMDB_Rating": 6.2,
          "MPAA_Rating": "PG-13",
          "Major_Genre": "Comedy",
          "Production_Budget": 50000000,
          "Title": "The Replacements",
          "Worldwide_Gross": 50054511,
          "Year": 2000
         },
         {
          "Count": 3,
          "Director": "Tim Hill",
          "IMDB_Rating": 5.5,
          "MPAA_Rating": "PG",
          "Major_Genre": "Comedy",
          "Production_Budget": 55000000,
          "Title": "Alvin and the Chipmunks",
          "Worldwide_Gross": 360578644,
          "Year": 2007
         },
         {
          "Count": 3,
          "Director": "Tim Hill",
          "IMDB_Rating": 5.1,
          "MPAA_Rating": "PG",
          "Major_Genre": "Comedy",
          "Production_Budget": 12000000,
          "Title": "Max Keeble's Big Move",
          "Worldwide_Gross": 17292381,
          "Year": 2001
         },
         {
          "Count": 3,
          "Director": "Tim Hill",
          "IMDB_Rating": 6.1,
          "MPAA_Rating": "G",
          "Major_Genre": "Comedy",
          "Production_Budget": 24000000,
          "Title": "Muppets From Space",
          "Worldwide_Gross": 16304786,
          "Year": 1999
         },
         {
          "Count": 3,
          "Director": "David Zucker",
          "IMDB_Rating": 4.5,
          "MPAA_Rating": "PG-13",
          "Major_Genre": "Comedy",
          "Production_Budget": 20000000,
          "Title": "An American Carol",
          "Worldwide_Gross": 7013191,
          "Year": 2008
         },
         {
          "Count": 3,
          "Director": "David Zucker",
          "IMDB_Rating": 5.4,
          "MPAA_Rating": "PG-13",
          "Major_Genre": "Comedy",
          "Production_Budget": 45000000,
          "Title": "Scary Movie 3",
          "Worldwide_Gross": 155200000,
          "Year": 2003
         },
         {
          "Count": 3,
          "Director": "David Zucker",
          "IMDB_Rating": 5,
          "MPAA_Rating": "PG-13",
          "Major_Genre": "Comedy",
          "Production_Budget": 40000000,
          "Title": "Scary Movie 4",
          "Worldwide_Gross": 178710620,
          "Year": 2006
         },
         {
          "Count": 3,
          "Director": "Paul Weitz",
          "IMDB_Rating": 6.9,
          "MPAA_Rating": "R",
          "Major_Genre": "Comedy",
          "Production_Budget": 12000000,
          "Title": "American Pie",
          "Worldwide_Gross": 234800000,
          "Year": 1999
         },
         {
          "Count": 3,
          "Director": "Paul Weitz",
          "IMDB_Rating": 5,
          "MPAA_Rating": "PG-13",
          "Major_Genre": "Comedy",
          "Production_Budget": 30000000,
          "Title": "Down to Earth",
          "Worldwide_Gross": 71172251,
          "Year": 2001
         },
         {
          "Count": 3,
          "Director": "Paul Weitz",
          "IMDB_Rating": 6.8,
          "MPAA_Rating": "PG-13",
          "Major_Genre": "Comedy",
          "Production_Budget": 26000000,
          "Title": "In Good Company",
          "Worldwide_Gross": 63489752,
          "Year": 2004
         },
         {
          "Count": 6,
          "Director": "Jay Roach",
          "IMDB_Rating": 6.6,
          "MPAA_Rating": "PG-13",
          "Major_Genre": "Comedy",
          "Production_Budget": 35000000,
          "Title": "Austin Powers: The Spy Who Shagged Me",
          "Worldwide_Gross": 309600000,
          "Year": 1999
         },
         {
          "Count": 6,
          "Director": "Jay Roach",
          "IMDB_Rating": 6.2,
          "MPAA_Rating": "PG-13",
          "Major_Genre": "Comedy",
          "Production_Budget": 63000000,
          "Title": "Austin Powers in Goldmember",
          "Worldwide_Gross": 292738626,
          "Year": 2002
         },
         {
          "Count": 6,
          "Director": "Jay Roach",
          "IMDB_Rating": 7.1,
          "MPAA_Rating": "PG-13",
          "Major_Genre": "Comedy",
          "Production_Budget": 18000000,
          "Title": "Austin Powers: International Man of Mystery",
          "Worldwide_Gross": 67683989,
          "Year": 1997
         },
         {
          "Count": 6,
          "Director": "Jay Roach",
          "IMDB_Rating": 6.4,
          "MPAA_Rating": "PG-13",
          "Major_Genre": "Comedy",
          "Production_Budget": 60000000,
          "Title": "Meet the Fockers",
          "Worldwide_Gross": 516567575,
          "Year": 2004
         },
         {
          "Count": 6,
          "Director": "Jay Roach",
          "IMDB_Rating": 7,
          "MPAA_Rating": "PG-13",
          "Major_Genre": "Comedy",
          "Production_Budget": 55000000,
          "Title": "Meet the Parents",
          "Worldwide_Gross": 301500000,
          "Year": 2000
         },
         {
          "Count": 6,
          "Director": "Jay Roach",
          "IMDB_Rating": 5.5,
          "MPAA_Rating": "R",
          "Major_Genre": "Comedy",
          "Production_Budget": 28000000,
          "Title": "Mystery, Alaska",
          "Worldwide_Gross": 8891623,
          "Year": 1999
         },
         {
          "Count": 5,
          "Director": "Shawn Levy",
          "IMDB_Rating": 5.2,
          "MPAA_Rating": "PG",
          "Major_Genre": "Comedy",
          "Production_Budget": 15000000,
          "Title": "Big Fat Liar",
          "Worldwide_Gross": 52375275,
          "Year": 2002
         },
         {
          "Count": 5,
          "Director": "Shawn Levy",
          "IMDB_Rating": 5.6,
          "MPAA_Rating": "PG",
          "Major_Genre": "Comedy",
          "Production_Budget": 40000000,
          "Title": "Cheaper by the Dozen",
          "Worldwide_Gross": 189714544,
          "Year": 2003
         },
         {
          "Count": 5,
          "Director": "Shawn Levy",
          "IMDB_Rating": 6.4,
          "MPAA_Rating": "PG",
          "Major_Genre": "Comedy",
          "Production_Budget": 110000000,
          "Title": "Night at the Museum",
          "Worldwide_Gross": 574480841,
          "Year": 2006
         },
         {
          "Count": 5,
          "Director": "Shawn Levy",
          "IMDB_Rating": 5.9,
          "MPAA_Rating": "PG",
          "Major_Genre": "Comedy",
          "Production_Budget": 150000000,
          "Title": "Night at the Museum: Battle of the Smithsonian",
          "Worldwide_Gross": 413054631,
          "Year": 2009
         },
         {
          "Count": 5,
          "Director": "Shawn Levy",
          "IMDB_Rating": 5.1,
          "MPAA_Rating": "PG",
          "Major_Genre": "Comedy",
          "Production_Budget": 80000000,
          "Title": "The Pink Panther",
          "Worldwide_Gross": 158926474,
          "Year": 2006
         },
         {
          "Count": 4,
          "Director": "Raja Gosnell",
          "IMDB_Rating": 4.7,
          "MPAA_Rating": "PG-13",
          "Major_Genre": "Comedy",
          "Production_Budget": 33000000,
          "Title": "Big Momma's House",
          "Worldwide_Gross": 173559438,
          "Year": 2000
         },
         {
          "Count": 4,
          "Director": "Raja Gosnell",
          "IMDB_Rating": 4.8,
          "MPAA_Rating": "PG",
          "Major_Genre": "Comedy",
          "Production_Budget": 25000000,
          "Title": "Scooby-Doo 2: Monsters Unleashed",
          "Worldwide_Gross": 181185387,
          "Year": 2004
         },
         {
          "Count": 4,
          "Director": "Raja Gosnell",
          "IMDB_Rating": 4.7,
          "MPAA_Rating": "PG",
          "Major_Genre": "Comedy",
          "Production_Budget": 84000000,
          "Title": "Scooby-Doo",
          "Worldwide_Gross": 276294164,
          "Year": 2002
         },
         {
          "Count": 4,
          "Director": "Raja Gosnell",
          "IMDB_Rating": 7.6,
          "MPAA_Rating": "PG",
          "Major_Genre": "Comedy",
          "Production_Budget": 45000000,
          "Title": "Yours, Mine and Ours",
          "Worldwide_Gross": 72359917,
          "Year": 2005
         },
         {
          "Count": 4,
          "Director": "Frank Oz",
          "IMDB_Rating": 6.4,
          "MPAA_Rating": "PG-13",
          "Major_Genre": "Comedy",
          "Production_Budget": 55000000,
          "Title": "Bowfinger",
          "Worldwide_Gross": 98699769,
          "Year": 1999
         },
         {
          "Count": 4,
          "Director": "Frank Oz",
          "IMDB_Rating": 5.1,
          "MPAA_Rating": "R",
          "Major_Genre": "Comedy",
          "Production_Budget": 20000000,
          "Title": "Death at a Funeral",
          "Worldwide_Gross": 34743644,
          "Year": 2007
         },
         {
          "Count": 4,
          "Director": "Frank Oz",
          "IMDB_Rating": 6.1,
          "MPAA_Rating": "PG-13",
          "Major_Genre": "Comedy",
          "Production_Budget": 35000000,
          "Title": "In & Out",
          "Worldwide_Gross": 83226569,
          "Year": 1997
         },
         {
          "Count": 4,
          "Director": "Frank Oz",
          "IMDB_Rating": 5.1,
          "MPAA_Rating": "PG-13",
          "Major_Genre": "Comedy",
          "Production_Budget": 100000000,
          "Title": "The Stepford Wives",
          "Worldwide_Gross": 96221971,
          "Year": 2004
         },
         {
          "Count": 3,
          "Director": "Nora Ephron",
          "IMDB_Rating": 4.8,
          "MPAA_Rating": "PG-13",
          "Major_Genre": "Comedy",
          "Production_Budget": 80000000,
          "Title": "Bewitched",
          "Worldwide_Gross": 131413159,
          "Year": 2005
         },
         {
          "Count": 3,
          "Director": "Nora Ephron",
          "IMDB_Rating": 7.2,
          "MPAA_Rating": "PG-13",
          "Major_Genre": "Comedy",
          "Production_Budget": 40000000,
          "Title": "Julie & Julia",
          "Worldwide_Gross": 126646119,
          "Year": 2009
         },
         {
          "Count": 3,
          "Director": "Nora Ephron",
          "IMDB_Rating": 4.9,
          "MPAA_Rating": "R",
          "Major_Genre": "Comedy",
          "Production_Budget": 65000000,
          "Title": "Lucky Numbers",
          "Worldwide_Gross": 10014234,
          "Year": 2000
         },
         {
          "Count": 4,
          "Director": "Woody Allen",
          "IMDB_Rating": 6.1,
          "MPAA_Rating": "R",
          "Major_Genre": "Comedy",
          "Production_Budget": 12000000,
          "Title": "Celebrity",
          "Worldwide_Gross": 6200000,
          "Year": 1998
         },
         {
          "Count": 4,
          "Director": "Woody Allen",
          "IMDB_Rating": 6.7,
          "MPAA_Rating": "PG-13",
          "Major_Genre": "Comedy",
          "Production_Budget": 26000000,
          "Title": "The Curse of the Jade Scorpion",
          "Worldwide_Gross": 18496522,
          "Year": 2001
         },
         {
          "Count": 4,
          "Director": "Woody Allen",
          "IMDB_Rating": 7.4,
          "MPAA_Rating": "PG-13",
          "Major_Genre": "Comedy",
          "Production_Budget": 16000000,
          "Title": "Vicky Cristina Barcelona",
          "Worldwide_Gross": 77213577,
          "Year": 2008
         },
         {
          "Count": 4,
          "Director": "Woody Allen",
          "IMDB_Rating": 6.5,
          "MPAA_Rating": "PG",
          "Major_Genre": "Comedy",
          "Production_Budget": 18000000,
          "Title": "Small Time Crooks",
          "Worldwide_Gross": 29934477,
          "Year": 2000
         },
         {
          "Count": 3,
          "Director": "Les Mayfield",
          "IMDB_Rating": 4,
          "MPAA_Rating": "PG-13",
          "Major_Genre": "Comedy",
          "Production_Budget": 20000000,
          "Title": "Code Name: The Cleaner",
          "Worldwide_Gross": 8135024,
          "Year": 2007
         },
         {
          "Count": 3,
          "Director": "Les Mayfield",
          "IMDB_Rating": 4.6,
          "MPAA_Rating": "PG",
          "Major_Genre": "Comedy",
          "Production_Budget": 80000000,
          "Title": "Flubber",
          "Worldwide_Gross": 177993801,
          "Year": 1997
         },
         {
          "Count": 3,
          "Director": "Les Mayfield",
          "IMDB_Rating": 5.4,
          "MPAA_Rating": "PG-13",
          "Major_Genre": "Comedy",
          "Production_Budget": 20000000,
          "Title": "The Man",
          "Worldwide_Gross": 10393696,
          "Year": 2005
         },
         {
          "Count": 5,
          "Director": "Steve Carr",
          "IMDB_Rating": 5.5,
          "MPAA_Rating": "PG",
          "Major_Genre": "Comedy",
          "Production_Budget": 60000000,
          "Title": "Daddy Day Care",
          "Worldwide_Gross": 164285587,
          "Year": 2003
         },
         {
          "Count": 5,
          "Director": "Steve Carr",
          "IMDB_Rating": 6,
          "MPAA_Rating": "PG",
          "Major_Genre": "Comedy",
          "Production_Budget": 72000000,
          "Title": "Doctor Dolittle 2",
          "Worldwide_Gross": 176101721,
          "Year": 2001
         },
         {
          "Count": 5,
          "Director": "Steve Carr",
          "IMDB_Rating": 5.3,
          "MPAA_Rating": "R",
          "Major_Genre": "Comedy",
          "Production_Budget": 9500000,
          "Title": "Next Friday",
          "Worldwide_Gross": 59675307,
          "Year": 2000
         },
         {
          "Count": 5,
          "Director": "Steve Carr",
          "IMDB_Rating": 5.3,
          "MPAA_Rating": "PG",
          "Major_Genre": "Comedy",
          "Production_Budget": 26000000,
          "Title": "Paul Blart: Mall Cop",
          "Worldwide_Gross": 180449670,
          "Year": 2009
         },
         {
          "Count": 5,
          "Director": "Steve Carr",
          "IMDB_Rating": 4.7,
          "MPAA_Rating": "PG",
          "Major_Genre": "Comedy",
          "Production_Budget": 45000000,
          "Title": "Rebound",
          "Worldwide_Gross": 17492014,
          "Year": 2005
         },
         {
          "Count": 4,
          "Director": "Jason Friedberg",
          "IMDB_Rating": 2.6,
          "MPAA_Rating": "PG-13",
          "Major_Genre": "Comedy",
          "Production_Budget": 20000000,
          "Title": "Date Movie",
          "Worldwide_Gross": 84548426,
          "Year": 2006
         },
         {
          "Count": 4,
          "Director": "Jason Friedberg",
          "IMDB_Rating": 1.7000000000000002,
          "MPAA_Rating": "PG-13",
          "Major_Genre": "Comedy",
          "Production_Budget": 20000000,
          "Title": "Disaster Movie",
          "Worldwide_Gross": 34690901,
          "Year": 2008
         },
         {
          "Count": 4,
          "Director": "Jason Friedberg",
          "IMDB_Rating": 2.2,
          "MPAA_Rating": "PG-13",
          "Major_Genre": "Comedy",
          "Production_Budget": 20000000,
          "Title": "Epic Movie",
          "Worldwide_Gross": 86858578,
          "Year": 2007
         },
         {
          "Count": 4,
          "Director": "Jason Friedberg",
          "IMDB_Rating": 2.4,
          "MPAA_Rating": "PG-13",
          "Major_Genre": "Comedy",
          "Production_Budget": 30000000,
          "Title": "Meet the Spartans",
          "Worldwide_Gross": 84646831,
          "Year": 2008
         },
         {
          "Count": 3,
          "Director": "Tyler Perry",
          "IMDB_Rating": 3.9,
          "MPAA_Rating": "PG-13",
          "Major_Genre": "Comedy",
          "Production_Budget": 10000000,
          "Title": "Madea's Family Reunion",
          "Worldwide_Gross": 63308879,
          "Year": 2006
         },
         {
          "Count": 3,
          "Director": "Tyler Perry",
          "IMDB_Rating": 3.1,
          "MPAA_Rating": "PG-13",
          "Major_Genre": "Comedy",
          "Production_Budget": 20000000,
          "Title": "Meet the Browns",
          "Worldwide_Gross": 41975388,
          "Year": 2008
         },
         {
          "Count": 3,
          "Director": "Tyler Perry",
          "IMDB_Rating": 3.1,
          "MPAA_Rating": "PG-13",
          "Major_Genre": "Comedy",
          "Production_Budget": 17500000,
          "Title": "Madea Goes To Jail",
          "Worldwide_Gross": 90508336,
          "Year": 2009
         },
         {
          "Count": 5,
          "Director": "Todd Phillips",
          "IMDB_Rating": 7.9,
          "MPAA_Rating": "R",
          "Major_Genre": "Comedy",
          "Production_Budget": 35000000,
          "Title": "The Hangover",
          "Worldwide_Gross": 465132119,
          "Year": 2009
         },
         {
          "Count": 5,
          "Director": "Todd Phillips",
          "IMDB_Rating": 6.2,
          "MPAA_Rating": "PG-13",
          "Major_Genre": "Comedy",
          "Production_Budget": 60000000,
          "Title": "Starsky & Hutch",
          "Worldwide_Gross": 170200225,
          "Year": 2004
         },
         {
          "Count": 5,
          "Director": "Todd Phillips",
          "IMDB_Rating": 7,
          "MPAA_Rating": "R",
          "Major_Genre": "Comedy",
          "Production_Budget": 24000000,
          "Title": "Old School",
          "Worldwide_Gross": 86325829,
          "Year": 2003
         },
         {
          "Count": 5,
          "Director": "Todd Phillips",
          "IMDB_Rating": 6.4,
          "MPAA_Rating": "R",
          "Major_Genre": "Comedy",
          "Production_Budget": 16000000,
          "Title": "Road Trip",
          "Worldwide_Gross": 119739110,
          "Year": 2000
         },
         {
          "Count": 5,
          "Director": "Todd Phillips",
          "IMDB_Rating": 6,
          "MPAA_Rating": "PG-13",
          "Major_Genre": "Comedy",
          "Production_Budget": 20000000,
          "Title": "School for Scoundrels",
          "Worldwide_Gross": 17807569,
          "Year": 2006
         },
         {
          "Count": 4,
          "Director": "Keenen Ivory Wayans",
          "IMDB_Rating": 5.7,
          "MPAA_Rating": "PG-13",
          "Major_Genre": "Comedy",
          "Production_Budget": 64000000,
          "Title": "Little Man",
          "Worldwide_Gross": 101636047,
          "Year": 2006
         },
         {
          "Count": 4,
          "Director": "Keenen Ivory Wayans",
          "IMDB_Rating": 4.7,
          "MPAA_Rating": "R",
          "Major_Genre": "Comedy",
          "Production_Budget": 45000000,
          "Title": "Scary Movie 2",
          "Worldwide_Gross": 141189101,
          "Year": 2001
         },
         {
          "Count": 4,
          "Director": "Keenen Ivory Wayans",
          "IMDB_Rating": 6,
          "MPAA_Rating": "R",
          "Major_Genre": "Comedy",
          "Production_Budget": 19000000,
          "Title": "Scary Movie",
          "Worldwide_Gross": 277200000,
          "Year": 2000
         },
         {
          "Count": 4,
          "Director": "Keenen Ivory Wayans",
          "IMDB_Rating": 5,
          "MPAA_Rating": "PG-13",
          "Major_Genre": "Comedy",
          "Production_Budget": 20000000,
          "Title": "White Chicks",
          "Worldwide_Gross": 111448997,
          "Year": 2004
         },
         {
          "Count": 3,
          "Director": "Malcolm D. Lee",
          "IMDB_Rating": 5,
          "MPAA_Rating": "PG-13",
          "Major_Genre": "Comedy",
          "Production_Budget": 10000000,
          "Title": "Roll Bounce",
          "Worldwide_Gross": 17500866,
          "Year": 2005
         },
         {
          "Count": 3,
          "Director": "Malcolm D. Lee",
          "IMDB_Rating": 5.7,
          "MPAA_Rating": "PG-13",
          "Major_Genre": "Comedy",
          "Production_Budget": 25000000,
          "Title": "Undercover Brother",
          "Worldwide_Gross": 38230435,
          "Year": 2002
         },
         {
          "Count": 3,
          "Director": "Malcolm D. Lee",
          "IMDB_Rating": 4.5,
          "MPAA_Rating": "PG-13",
          "Major_Genre": "Comedy",
          "Production_Budget": 27500000,
          "Title": "Welcome Home Roscoe Jenkins",
          "Worldwide_Gross": 43607627,
          "Year": 2008
         }
        ]
       },
       "hconcat": [
        {
         "data": {
          "name": "data-ac757487762b5f28f49e244ee39ae42f"
         },
         "encoding": {
          "x": {
           "field": "Count",
           "title": "Number of movies",
           "type": "quantitative"
          },
          "y": {
           "field": "Director",
           "sort": {
            "field": "Worldwide_Gross",
            "order": "ascending"
           },
           "title": "Director",
           "type": "nominal"
          }
         },
         "height": 750,
         "mark": "bar",
         "selection": {
          "selector136": {
           "encodings": [
            "y"
           ],
           "type": "interval"
          }
         },
         "title": "Top 30 productive directors in Comedy",
         "width": 300
        },
        {
         "data": {
          "name": "data-c25ab378c7851668767f95b7fc74da03"
         },
         "vconcat": [
          {
           "vconcat": [
            {
             "encoding": {
              "color": {
               "field": "Director",
               "type": "nominal"
              },
              "opacity": {
               "condition": {
                "selection": "selector136",
                "value": 0.75
               },
               "value": 0.05
              },
              "tooltip": [
               {
                "field": "Title",
                "type": "nominal"
               },
               {
                "field": "Major_Genre",
                "type": "nominal"
               },
               {
                "field": "Director",
                "type": "nominal"
               },
               {
                "field": "IMDB_Rating",
                "type": "quantitative"
               }
              ],
              "x": {
               "field": "Year",
               "type": "ordinal"
              },
              "y": {
               "axis": {
                "title": "Mark"
               },
               "field": "Worldwide_Gross",
               "scale": {
                "zero": false
               },
               "type": "quantitative"
              }
             },
             "height": 250,
             "mark": "line",
             "selection": {
              "selector139": {
               "bind": "scales",
               "encodings": [
                "x",
                "y"
               ],
               "type": "interval"
              }
             },
             "title": "Worldwide Gross",
             "width": 500
            },
            {
             "encoding": {
              "color": {
               "field": "Director",
               "type": "nominal"
              },
              "opacity": {
               "condition": {
                "selection": "selector136",
                "value": 0.75
               },
               "value": 0.05
              },
              "tooltip": [
               {
                "field": "Title",
                "type": "nominal"
               },
               {
                "field": "Major_Genre",
                "type": "nominal"
               },
               {
                "field": "Director",
                "type": "nominal"
               },
               {
                "field": "IMDB_Rating",
                "type": "quantitative"
               }
              ],
              "x": {
               "field": "Year",
               "type": "ordinal"
              },
              "y": {
               "axis": {
                "title": "Mark"
               },
               "field": "IMDB_Rating",
               "scale": {
                "zero": false
               },
               "type": "quantitative"
              }
             },
             "height": 250,
             "mark": "line",
             "selection": {
              "selector138": {
               "bind": "scales",
               "encodings": [
                "x",
                "y"
               ],
               "type": "interval"
              }
             },
             "title": "Rating",
             "width": 500
            }
           ]
          }
         ]
        }
       ]
      },
      "image/png": "[encoded data removed]",
      "text/plain": [
       "<VegaLite 3 object>\n",
       "\n",
       "If you see this message, it means the renderer has not been properly enabled\n",
       "for the frontend that you are using. For more information, see\n",
       "https://altair-viz.github.io/user_guide/troubleshooting.html\n"
      ]
     },
     "execution_count": 240,
     "metadata": {},
     "output_type": "execute_result"
    }
   ],
   "source": [
    "make_text_plot2(genre = 'Comedy', year = (1933, 2010)) "
   ]
  },
  {
   "cell_type": "code",
   "execution_count": 191,
   "metadata": {},
   "outputs": [
    {
     "data": {
      "application/vnd.vegalite.v3+json": {
       "$schema": "https://vega.github.io/schema/vega-lite/v3.4.0.json",
       "config": {
        "axisX": {
         "domain": true,
         "domainWidth": 1,
         "grid": false,
         "gridColor": "#DEDDDD",
         "labelAngle": 0,
         "labelFont": "Arial",
         "labelFontSize": 12,
         "tickColor": "#000000",
         "tickSize": 5,
         "title": "X Axis Title (units)",
         "titleFont": "Arial",
         "titleFontSize": 16,
         "titlePadding": 10
        },
        "axisY": {
         "domain": false,
         "grid": true,
         "gridColor": "#DEDDDD",
         "gridWidth": 1,
         "labelAngle": 0,
         "labelFont": "Arial",
         "labelFontSize": 14,
         "title": "Y Axis Title (units)",
         "titleFont": "Arial",
         "titleFontSize": 16,
         "titlePadding": 10
        },
        "title": {
         "anchor": "start",
         "font": "Arial",
         "fontColor": "#000000",
         "fontSize": 24
        },
        "view": {
         "height": 300,
         "width": 400
        }
       },
       "data": {
        "name": "data-8e71a975d0f12b4cca8b7a7e16b9298a"
       },
       "datasets": {
        "data-8e71a975d0f12b4cca8b7a7e16b9298a": [
         {
          "Count": 7,
          "Director": "Michael Bay"
         },
         {
          "Count": 6,
          "Director": "Brett Ratner"
         },
         {
          "Count": 5,
          "Director": "Tony Scott"
         },
         {
          "Count": 4,
          "Director": "Renny Harlin"
         },
         {
          "Count": 4,
          "Director": "Andy Wachowski"
         },
         {
          "Count": 4,
          "Director": "Steven Spielberg"
         },
         {
          "Count": 4,
          "Director": "Richard Donner"
         },
         {
          "Count": 4,
          "Director": "Rob Cohen"
         },
         {
          "Count": 4,
          "Director": "John Woo"
         },
         {
          "Count": 3,
          "Director": "Jonathan Mostow"
         },
         {
          "Count": 3,
          "Director": "Stephen Sommers"
         },
         {
          "Count": 3,
          "Director": "Quentin Tarantino"
         },
         {
          "Count": 3,
          "Director": "Jan De Bont"
         },
         {
          "Count": 3,
          "Director": "Robert Rodriguez"
         },
         {
          "Count": 3,
          "Director": "Joel Schumacher"
         },
         {
          "Count": 3,
          "Director": "Guillermo Del Toro"
         },
         {
          "Count": 3,
          "Director": "James Cameron"
         },
         {
          "Count": 3,
          "Director": "John McTiernan"
         },
         {
          "Count": 3,
          "Director": "Roland Emmerich"
         },
         {
          "Count": 3,
          "Director": "Peter Berg"
         },
         {
          "Count": 3,
          "Director": "Martin Campbell"
         },
         {
          "Count": 3,
          "Director": "Len Wiseman"
         },
         {
          "Count": 3,
          "Director": "Peter Hyams"
         },
         {
          "Count": 3,
          "Director": "Antoine Fuqua"
         },
         {
          "Count": 2,
          "Director": "Phillip Noyce"
         },
         {
          "Count": 2,
          "Director": "John Frankenheimer"
         },
         {
          "Count": 2,
          "Director": "Paul Anderson"
         },
         {
          "Count": 2,
          "Director": "Roger Spottiswoode"
         },
         {
          "Count": 2,
          "Director": "Mark Steven Johnson"
         },
         {
          "Count": 2,
          "Director": "Louis Leterrier"
         }
        ]
       },
       "encoding": {
        "x": {
         "field": "Count",
         "title": "Number of movies",
         "type": "quantitative"
        },
        "y": {
         "field": "Director",
         "title": "Director",
         "type": "nominal"
        }
       },
       "height": 350,
       "mark": "bar",
       "selection": {
        "selector083": {
         "encodings": [
          "y"
         ],
         "type": "interval"
        }
       },
       "title": "Top 30 productive directors in Action",
       "width": 300
      },
      "image/png": "[encoded data removed]",
      "text/plain": [
       "<VegaLite 3 object>\n",
       "\n",
       "If you see this message, it means the renderer has not been properly enabled\n",
       "for the frontend that you are using. For more information, see\n",
       "https://altair-viz.github.io/user_guide/troubleshooting.html\n"
      ]
     },
     "execution_count": 191,
     "metadata": {},
     "output_type": "execute_result"
    }
   ],
   "source": [
    "make_bar_plot(genre = 'Action', year = (1990, 2010))"
   ]
  },
  {
   "cell_type": "code",
   "execution_count": null,
   "metadata": {},
   "outputs": [],
   "source": [
    "def make_plot_1(genre=\"Action\", director=\"James Cameron\"):"
   ]
  }
 ],
 "metadata": {
  "kernelspec": {
   "display_name": "Python 3",
   "language": "python",
   "name": "python3"
  },
  "language_info": {
   "codemirror_mode": {
    "name": "ipython",
    "version": 3
   },
   "file_extension": ".py",
   "mimetype": "text/x-python",
   "name": "python",
   "nbconvert_exporter": "python",
   "pygments_lexer": "ipython3",
   "version": "3.7.3"
  }
 },
 "nbformat": 4,
 "nbformat_minor": 4
}
