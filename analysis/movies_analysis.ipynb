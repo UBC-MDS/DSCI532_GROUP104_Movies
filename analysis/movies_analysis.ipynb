{
 "cells": [
  {
   "cell_type": "code",
   "execution_count": 5,
   "metadata": {},
   "outputs": [],
   "source": [
    "import pandas as pd\n",
    "import altair as alt\n",
    "\n",
    "# Need to enable this to allow work with larger datasets (https://altair-viz.github.io/user_guide/faq.html)\n",
    "#alt.data_transformers.enable('json')\n",
    "selection = alt.selection_single();"
   ]
  },
  {
   "cell_type": "code",
   "execution_count": 6,
   "metadata": {},
   "outputs": [],
   "source": [
    "movies_df = pd.read_json('https://raw.githubusercontent.com/vega/vega-datasets/master/data/movies.json')\n",
    "\n",
    "# Add a column of the release year\n",
    "movies_df['Year'] = pd.to_datetime(movies_df['Release_Date']).dt.year\n",
    "# A list columns that will appear in the final data frame\n",
    "movies_df['Profit_Million'] = (movies_df['Worldwide_Gross'] - movies_df['Production_Budget'])/1000_000\n",
    "column_list = ['Title', 'Major_Genre', 'Director', 'Year', 'Profit_Million', 'IMDB_Rating', 'MPAA_Rating']\n",
    "\n",
    "# Filter out lines with errors or NaNs in 'Director', 'Year', 'Major_Genre' columns\n",
    "movies_df = (movies_df.query('Year < 2019')\n",
    "                     .dropna(subset = column_list)\n",
    "                     .loc[:, column_list]\n",
    "                     .reset_index()\n",
    "                     .drop(columns = ['index']))\n"
   ]
  },
  {
   "cell_type": "code",
   "execution_count": 7,
   "metadata": {},
   "outputs": [
    {
     "data": {
      "text/plain": [
       "(1414, 7)"
      ]
     },
     "execution_count": 7,
     "metadata": {},
     "output_type": "execute_result"
    }
   ],
   "source": [
    "movies_df.shape"
   ]
  },
  {
   "cell_type": "code",
   "execution_count": 8,
   "metadata": {},
   "outputs": [
    {
     "data": {
      "text/html": [
       "<div>\n",
       "<style scoped>\n",
       "    .dataframe tbody tr th:only-of-type {\n",
       "        vertical-align: middle;\n",
       "    }\n",
       "\n",
       "    .dataframe tbody tr th {\n",
       "        vertical-align: top;\n",
       "    }\n",
       "\n",
       "    .dataframe thead th {\n",
       "        text-align: right;\n",
       "    }\n",
       "</style>\n",
       "<table border=\"1\" class=\"dataframe\">\n",
       "  <thead>\n",
       "    <tr style=\"text-align: right;\">\n",
       "      <th></th>\n",
       "      <th>Year</th>\n",
       "      <th>Profit_Million</th>\n",
       "      <th>IMDB_Rating</th>\n",
       "    </tr>\n",
       "  </thead>\n",
       "  <tbody>\n",
       "    <tr>\n",
       "      <th>count</th>\n",
       "      <td>1414.000000</td>\n",
       "      <td>1414.000000</td>\n",
       "      <td>1414.000000</td>\n",
       "    </tr>\n",
       "    <tr>\n",
       "      <th>mean</th>\n",
       "      <td>2001.524045</td>\n",
       "      <td>87.144301</td>\n",
       "      <td>6.443069</td>\n",
       "    </tr>\n",
       "    <tr>\n",
       "      <th>std</th>\n",
       "      <td>5.699895</td>\n",
       "      <td>166.377465</td>\n",
       "      <td>1.160132</td>\n",
       "    </tr>\n",
       "    <tr>\n",
       "      <th>min</th>\n",
       "      <td>1960.000000</td>\n",
       "      <td>-94.635231</td>\n",
       "      <td>1.700000</td>\n",
       "    </tr>\n",
       "    <tr>\n",
       "      <th>25%</th>\n",
       "      <td>1998.000000</td>\n",
       "      <td>-2.209231</td>\n",
       "      <td>5.700000</td>\n",
       "    </tr>\n",
       "    <tr>\n",
       "      <th>50%</th>\n",
       "      <td>2002.000000</td>\n",
       "      <td>29.174308</td>\n",
       "      <td>6.500000</td>\n",
       "    </tr>\n",
       "    <tr>\n",
       "      <th>75%</th>\n",
       "      <td>2006.000000</td>\n",
       "      <td>110.943246</td>\n",
       "      <td>7.300000</td>\n",
       "    </tr>\n",
       "    <tr>\n",
       "      <th>max</th>\n",
       "      <td>2010.000000</td>\n",
       "      <td>2530.891499</td>\n",
       "      <td>9.200000</td>\n",
       "    </tr>\n",
       "  </tbody>\n",
       "</table>\n",
       "</div>"
      ],
      "text/plain": [
       "              Year  Profit_Million  IMDB_Rating\n",
       "count  1414.000000     1414.000000  1414.000000\n",
       "mean   2001.524045       87.144301     6.443069\n",
       "std       5.699895      166.377465     1.160132\n",
       "min    1960.000000      -94.635231     1.700000\n",
       "25%    1998.000000       -2.209231     5.700000\n",
       "50%    2002.000000       29.174308     6.500000\n",
       "75%    2006.000000      110.943246     7.300000\n",
       "max    2010.000000     2530.891499     9.200000"
      ]
     },
     "execution_count": 8,
     "metadata": {},
     "output_type": "execute_result"
    }
   ],
   "source": [
    "movies_df.describe()"
   ]
  },
  {
   "cell_type": "code",
   "execution_count": 9,
   "metadata": {},
   "outputs": [],
   "source": [
    "movies_df.to_csv('../data/clean/movies_clean_df.csv')"
   ]
  },
  {
   "cell_type": "code",
   "execution_count": 14,
   "metadata": {},
   "outputs": [],
   "source": [
    "def make_plot(genre = 'Action'):\n",
    "    # Don't forget to include imports\n",
    "    def mds_special():\n",
    "        font = \"Arial\"\n",
    "        axisColor = \"#000000\"\n",
    "        gridColor = \"#DEDDDD\"\n",
    "        return {\n",
    "            \"config\": {\n",
    "                \"title\": {\n",
    "                    \"fontSize\": 24,\n",
    "                    \"font\": font,\n",
    "                    \"anchor\": \"start\", # equivalent of left-aligned.\n",
    "                    \"fontColor\": \"#000000\"\n",
    "                },\n",
    "                'view': {\n",
    "                    \"height\": 300, \n",
    "                    \"width\": 400\n",
    "                },\n",
    "                \"axisX\": {\n",
    "                    \"domain\": True,\n",
    "                    #\"domainColor\": axisColor,\n",
    "                    \"gridColor\": gridColor,\n",
    "                    \"domainWidth\": 1,\n",
    "                    \"grid\": False,\n",
    "                    \"labelFont\": font,\n",
    "                    \"labelFontSize\": 12,\n",
    "                    \"labelAngle\": 0, \n",
    "                    \"tickColor\": axisColor,\n",
    "                    \"tickSize\": 5, # default, including it just to show you can change it\n",
    "                    \"titleFont\": font,\n",
    "                    \"titleFontSize\": 16,\n",
    "                    \"titlePadding\": 10, # guessing, not specified in styleguide\n",
    "                    \"title\": \"X Axis Title (units)\", \n",
    "                },\n",
    "                \"axisY\": {\n",
    "                    \"domain\": False,\n",
    "                    \"grid\": True,\n",
    "                    \"gridColor\": gridColor,\n",
    "                    \"gridWidth\": 1,\n",
    "                \"labelFont\": font,\n",
    "                \"labelFontSize\": 14,\n",
    "                \"labelAngle\": 0, \n",
    "                #\"ticks\": False, # even if you don't have a \"domain\" you need to turn these off.\n",
    "                \"titleFont\": font,\n",
    "                \"titleFontSize\": 16,\n",
    "                \"titlePadding\": 10, # guessing, not specified in styleguide\n",
    "                \"title\": \"Y Axis Title (units)\", \n",
    "                # titles are by default vertical left of axis so we need to hack this \n",
    "                #\"titleAngle\": 0, # horizontal\n",
    "                #\"titleY\": -10, # move it up\n",
    "                #\"titleX\": 18, # move it to the right so it aligns with the labels \n",
    "            },\n",
    "        }\n",
    "    }    \n",
    "    \n",
    "    # register the custom theme under a chosen name\n",
    "    alt.themes.register('mds_special', mds_special)\n",
    "    # enable the newly registered theme\n",
    "    alt.themes.enable('mds_special')\n",
    "    #alt.themes.enable('none') # to return to default\n",
    "    \n",
    "    def get_top_df(df, num, genre):\n",
    "        \"\"\"\n",
    "        Finds the number of movies of the most productive directors in the selected genre and \n",
    "        movie information from the most productive directors in the selected genre.\n",
    "\n",
    "        Parameters\n",
    "        ----------\n",
    "        df: pandas.DataFrame\n",
    "            The data frame to work on\n",
    "        num: int\n",
    "            The number of directors to keep in each genre\n",
    "        genre: string\n",
    "            The selected genre\n",
    "\n",
    "        Returns\n",
    "        -------\n",
    "        (pandas.DataFrame, pandas.DataFrame)\n",
    "            The data frame only contains movie information from the most productive directors in the selected genre and \n",
    "            The data frame contains the number of movies of the most productive directors in the selected genre  \n",
    "            \n",
    "        \"\"\"\n",
    "\n",
    "        mdfg = df.groupby('Major_Genre')\n",
    "        top_director = (mdfg.get_group(genre)\n",
    "                        .groupby('Director')\n",
    "                        .count()\n",
    "                        .sort_values(by = 'Title', ascending = False)\n",
    "                        .head(num)\n",
    "                        .reset_index()\n",
    "                        .iloc[:, :2]\n",
    "                        .rename(columns = {'Title': 'Count'}))    \n",
    "        top_director['Major_Genre'] = genre\n",
    "        top_df = pd.merge(df, \n",
    "                          top_director, \n",
    "                          how = \"inner\",\n",
    "                          on = ['Major_Genre', 'Director'])\n",
    "        return (top_director, top_df)\n",
    "\n",
    "   \n",
    "\n",
    "    \n",
    "    # get the clean movies data\n",
    "    movies_df = pd.read_csv('../data/clean/movies_clean_df.csv', index_col = 0)\n",
    "    \n",
    "    # get information from the 30 most productive directors in the selected genre\n",
    "    top_director, top_df = get_top_df(movies_df, 30, genre)\n",
    "\n",
    "    brush = alt.selection(type='multi', fields=['Director'], init={'Director':top_director.iloc[0, 0]})\n",
    "    \n",
    "    chart_1 = alt.Chart(top_director).mark_bar().encode(\n",
    "                alt.Y('Director:N', \n",
    "                      title='Director', \n",
    "                      sort=alt.EncodingSortField(field=\"Count:Q\",\n",
    "                                                 order=\"ascending\")),\n",
    "                alt.X('Count:Q', \n",
    "                      title='Number of movies'),\n",
    "                opacity=alt.condition(brush, alt.value(0.75), alt.value(0.05)),\n",
    "              ).properties(\n",
    "                title='Top 30 productive directors in ' + genre,\n",
    "                width=200, \n",
    "                height=650\n",
    "              ).add_selection(brush)\n",
    "    \n",
    "    chart_2 = alt.Chart(top_df).mark_line(point=True).encode(\n",
    "                alt.X(\"Year:O\", \n",
    "                      axis=alt.Axis(title=\"Year\")),\n",
    "                alt.Y(\"IMDB_Rating:Q\", \n",
    "                      axis=alt.Axis(title=\"IMDB Rating (1-10)\"), \n",
    "                      scale=alt.Scale(zero=False)),\n",
    "                alt.Color('Director:N'),\n",
    "                opacity=alt.condition(brush, alt.value(0.75), alt.value(0.05)),\n",
    "                tooltip = ['Title', 'Major_Genre', 'Director', 'IMDB_Rating']\n",
    "              ).properties(\n",
    "                title='IMDB Rating',\n",
    "                width=400, height=250\n",
    "              ).interactive().transform_filter(\n",
    "    brush\n",
    ")\n",
    "    \n",
    "    chart_3 = alt.Chart(top_df).mark_line(point=True).encode(\n",
    "                alt.X(\"Year:O\",\n",
    "                      axis=alt.Axis(title=\"Year\")),\n",
    "                alt.Y(\"Profit_Million:Q\", \n",
    "                      axis=alt.Axis(title=\"Profit (million USD)\"), \n",
    "                      scale=alt.Scale(zero=False)),\n",
    "                alt.Color('Director:N'),\n",
    "                opacity=alt.condition(brush, alt.value(0.75), alt.value(0.05)),\n",
    "                tooltip = ['Title', 'Major_Genre', 'Director', 'IMDB_Rating']\n",
    "            ).properties(title='Worldwide Profit',\n",
    "                        width=400, height=250).interactive().transform_filter(\n",
    "    selection\n",
    ")\n",
    "    \n",
    "    return chart_1 | (chart_2 & chart_3)"
   ]
  },
  {
   "cell_type": "code",
   "execution_count": 15,
   "metadata": {},
   "outputs": [
    {
     "data": {
      "application/vnd.vegalite.v3+json": {
       "$schema": "https://vega.github.io/schema/vega-lite/v3.4.0.json",
       "config": {
        "axisX": {
         "domain": true,
         "domainWidth": 1,
         "grid": false,
         "gridColor": "#DEDDDD",
         "labelAngle": 0,
         "labelFont": "Arial",
         "labelFontSize": 12,
         "tickColor": "#000000",
         "tickSize": 5,
         "title": "X Axis Title (units)",
         "titleFont": "Arial",
         "titleFontSize": 16,
         "titlePadding": 10
        },
        "axisY": {
         "domain": false,
         "grid": true,
         "gridColor": "#DEDDDD",
         "gridWidth": 1,
         "labelAngle": 0,
         "labelFont": "Arial",
         "labelFontSize": 14,
         "title": "Y Axis Title (units)",
         "titleFont": "Arial",
         "titleFontSize": 16,
         "titlePadding": 10
        },
        "title": {
         "anchor": "start",
         "font": "Arial",
         "fontColor": "#000000",
         "fontSize": 24
        },
        "view": {
         "height": 300,
         "width": 400
        }
       },
       "datasets": {
        "data-1de48c468e58f005d5bb31c1f5b9267d": [
         {
          "Count": 8,
          "Director": "Kevin Smith",
          "Major_Genre": "Comedy"
         },
         {
          "Count": 6,
          "Director": "Shawn Levy",
          "Major_Genre": "Comedy"
         },
         {
          "Count": 6,
          "Director": "Harold Ramis",
          "Major_Genre": "Comedy"
         },
         {
          "Count": 6,
          "Director": "Jay Roach",
          "Major_Genre": "Comedy"
         },
         {
          "Count": 6,
          "Director": "Tom Shadyac",
          "Major_Genre": "Comedy"
         },
         {
          "Count": 5,
          "Director": "Bobby Farrelly",
          "Major_Genre": "Comedy"
         },
         {
          "Count": 5,
          "Director": "Peter Segal",
          "Major_Genre": "Comedy"
         },
         {
          "Count": 5,
          "Director": "Steve Carr",
          "Major_Genre": "Comedy"
         },
         {
          "Count": 5,
          "Director": "Todd Phillips",
          "Major_Genre": "Comedy"
         },
         {
          "Count": 5,
          "Director": "Dennis Dugan",
          "Major_Genre": "Comedy"
         },
         {
          "Count": 4,
          "Director": "Keenen Ivory Wayans",
          "Major_Genre": "Comedy"
         },
         {
          "Count": 4,
          "Director": "Chris Columbus",
          "Major_Genre": "Comedy"
         },
         {
          "Count": 4,
          "Director": "Donald Petrie",
          "Major_Genre": "Comedy"
         },
         {
          "Count": 4,
          "Director": "Raja Gosnell",
          "Major_Genre": "Comedy"
         },
         {
          "Count": 4,
          "Director": "Joel Coen",
          "Major_Genre": "Comedy"
         },
         {
          "Count": 4,
          "Director": "Frank Oz",
          "Major_Genre": "Comedy"
         },
         {
          "Count": 4,
          "Director": "Jason Friedberg",
          "Major_Genre": "Comedy"
         },
         {
          "Count": 4,
          "Director": "Ivan Reitman",
          "Major_Genre": "Comedy"
         },
         {
          "Count": 4,
          "Director": "Brian Levant",
          "Major_Genre": "Comedy"
         },
         {
          "Count": 4,
          "Director": "Christopher Guest",
          "Major_Genre": "Comedy"
         },
         {
          "Count": 4,
          "Director": "Woody Allen",
          "Major_Genre": "Comedy"
         },
         {
          "Count": 3,
          "Director": "Brad Silberling",
          "Major_Genre": "Comedy"
         },
         {
          "Count": 3,
          "Director": "Barry Levinson",
          "Major_Genre": "Comedy"
         },
         {
          "Count": 3,
          "Director": "Nora Ephron",
          "Major_Genre": "Comedy"
         },
         {
          "Count": 3,
          "Director": "Paul Weitz",
          "Major_Genre": "Comedy"
         },
         {
          "Count": 3,
          "Director": "Stephen Herek",
          "Major_Genre": "Comedy"
         },
         {
          "Count": 3,
          "Director": "Edgar Wright",
          "Major_Genre": "Comedy"
         },
         {
          "Count": 3,
          "Director": "John Pasquin",
          "Major_Genre": "Comedy"
         },
         {
          "Count": 3,
          "Director": "Tyler Perry",
          "Major_Genre": "Comedy"
         },
         {
          "Count": 3,
          "Director": "Les Mayfield",
          "Major_Genre": "Comedy"
         }
        ],
        "data-b2b71579100f23351480873e3c0777b7": [
         {
          "Count": 6,
          "Director": "Tom Shadyac",
          "IMDB_Rating": 6.6,
          "MPAA_Rating": "PG-13",
          "Major_Genre": "Comedy",
          "Profit_Million": 95.217396,
          "Title": "Ace Ventura: Pet Detective",
          "Year": 1994
         },
         {
          "Count": 6,
          "Director": "Tom Shadyac",
          "IMDB_Rating": 5.6,
          "MPAA_Rating": "PG-13",
          "Major_Genre": "Comedy",
          "Profit_Million": 218.814019,
          "Title": "The Nutty Professor",
          "Year": 1996
         },
         {
          "Count": 6,
          "Director": "Tom Shadyac",
          "IMDB_Rating": 5.5,
          "MPAA_Rating": "PG",
          "Major_Genre": "Comedy",
          "Profit_Million": -1.78072,
          "Title": "Evan Almighty",
          "Year": 2007
         },
         {
          "Count": 6,
          "Director": "Tom Shadyac",
          "IMDB_Rating": 6.6,
          "MPAA_Rating": "PG-13",
          "Major_Genre": "Comedy",
          "Profit_Million": 404.004995,
          "Title": "Bruce Almighty",
          "Year": 2003
         },
         {
          "Count": 6,
          "Director": "Tom Shadyac",
          "IMDB_Rating": 6.7,
          "MPAA_Rating": "PG-13",
          "Major_Genre": "Comedy",
          "Profit_Million": 257.710615,
          "Title": "Liar Liar",
          "Year": 1997
         },
         {
          "Count": 6,
          "Director": "Tom Shadyac",
          "IMDB_Rating": 6.3,
          "MPAA_Rating": "PG-13",
          "Major_Genre": "Comedy",
          "Profit_Million": 152.2,
          "Title": "Patch Adams",
          "Year": 1998
         },
         {
          "Count": 8,
          "Director": "Kevin Smith",
          "IMDB_Rating": 7.9,
          "MPAA_Rating": "R",
          "Major_Genre": "Comedy",
          "Profit_Million": 3.0464279999999997,
          "Title": "Clerks",
          "Year": 1994
         },
         {
          "Count": 8,
          "Director": "Kevin Smith",
          "IMDB_Rating": 7.1,
          "MPAA_Rating": "R",
          "Major_Genre": "Comedy",
          "Profit_Million": -3.991633,
          "Title": "Mallrats",
          "Year": 1995
         },
         {
          "Count": 8,
          "Director": "Kevin Smith",
          "IMDB_Rating": 5.7,
          "MPAA_Rating": "R",
          "Major_Genre": "Comedy",
          "Profit_Million": 7.875481,
          "Title": "Cop Out",
          "Year": 2010
         },
         {
          "Count": 8,
          "Director": "Kevin Smith",
          "IMDB_Rating": 7.7,
          "MPAA_Rating": "R",
          "Major_Genre": "Comedy",
          "Profit_Million": 20.894473,
          "Title": "Clerks II",
          "Year": 2006
         },
         {
          "Count": 8,
          "Director": "Kevin Smith",
          "IMDB_Rating": 7.3,
          "MPAA_Rating": "R",
          "Major_Genre": "Comedy",
          "Profit_Million": 33.948865000000005,
          "Title": "Dogma",
          "Year": 1999
         },
         {
          "Count": 8,
          "Director": "Kevin Smith",
          "IMDB_Rating": 6.2,
          "MPAA_Rating": "PG-13",
          "Major_Genre": "Comedy",
          "Profit_Million": 2.066129,
          "Title": "Jersey Girl",
          "Year": 2004
         },
         {
          "Count": 8,
          "Director": "Kevin Smith",
          "IMDB_Rating": 6.8,
          "MPAA_Rating": "R",
          "Major_Genre": "Comedy",
          "Profit_Million": 11.7624,
          "Title": "Jay and Silent Bob Strike Back",
          "Year": 2001
         },
         {
          "Count": 8,
          "Director": "Kevin Smith",
          "IMDB_Rating": 7,
          "MPAA_Rating": "R",
          "Major_Genre": "Comedy",
          "Profit_Million": 12.851125,
          "Title": "Zack and Miri Make a Porno",
          "Year": 2008
         },
         {
          "Count": 3,
          "Director": "Brad Silberling",
          "IMDB_Rating": 5.7,
          "MPAA_Rating": "PG",
          "Major_Genre": "Comedy",
          "Profit_Million": 227.3,
          "Title": "Casper",
          "Year": 1995
         },
         {
          "Count": 3,
          "Director": "Brad Silberling",
          "IMDB_Rating": 5.3,
          "MPAA_Rating": "PG-13",
          "Major_Genre": "Comedy",
          "Profit_Million": -30.451359000000004,
          "Title": "Land of the Lost",
          "Year": 2009
         },
         {
          "Count": 3,
          "Director": "Brad Silberling",
          "IMDB_Rating": 6.9,
          "MPAA_Rating": "PG",
          "Major_Genre": "Comedy",
          "Profit_Million": 101.627117,
          "Title": "Lemony Snicket's A Series of Unfortunate Events",
          "Year": 2004
         },
         {
          "Count": 5,
          "Director": "Bobby Farrelly",
          "IMDB_Rating": 7.2,
          "MPAA_Rating": "PG-13",
          "Major_Genre": "Comedy",
          "Profit_Million": 230.4,
          "Title": "Dumb & Dumber",
          "Year": 1994
         },
         {
          "Count": 5,
          "Director": "Bobby Farrelly",
          "IMDB_Rating": 6.7,
          "MPAA_Rating": "R",
          "Major_Genre": "Comedy",
          "Profit_Million": 7.2234240000000005,
          "Title": "Kingpin",
          "Year": 1996
         },
         {
          "Count": 5,
          "Director": "Bobby Farrelly",
          "IMDB_Rating": 6.3,
          "MPAA_Rating": "PG-13",
          "Major_Genre": "Comedy",
          "Profit_Million": 10.071069,
          "Title": "Fever Pitch",
          "Year": 2005
         },
         {
          "Count": 5,
          "Director": "Bobby Farrelly",
          "IMDB_Rating": 6,
          "MPAA_Rating": "PG",
          "Major_Genre": "Comedy",
          "Profit_Million": -56.403089,
          "Title": "Osmosis Jones",
          "Year": 2001
         },
         {
          "Count": 5,
          "Director": "Bobby Farrelly",
          "IMDB_Rating": 5.9,
          "MPAA_Rating": "PG-13",
          "Major_Genre": "Comedy",
          "Profit_Million": 8.537164,
          "Title": "Stuck On You",
          "Year": 2003
         },
         {
          "Count": 4,
          "Director": "Brian Levant",
          "IMDB_Rating": 4.6,
          "MPAA_Rating": "PG",
          "Major_Genre": "Comedy",
          "Profit_Million": 313.5,
          "Title": "The Flintstones",
          "Year": 1994
         },
         {
          "Count": 4,
          "Director": "Brian Levant",
          "IMDB_Rating": 4.9,
          "MPAA_Rating": "PG",
          "Major_Genre": "Comedy",
          "Profit_Million": 69.832389,
          "Title": "Jingle All the Way",
          "Year": 1996
         },
         {
          "Count": 4,
          "Director": "Brian Levant",
          "IMDB_Rating": 4.9,
          "MPAA_Rating": "PG",
          "Major_Genre": "Comedy",
          "Profit_Million": 83.010692,
          "Title": "Snow Dogs",
          "Year": 2002
         },
         {
          "Count": 4,
          "Director": "Brian Levant",
          "IMDB_Rating": 3.3,
          "MPAA_Rating": "PG",
          "Major_Genre": "Comedy",
          "Profit_Million": 1.431365,
          "Title": "The Flintstones in Viva Rock Vegas",
          "Year": 2000
         },
         {
          "Count": 4,
          "Director": "Ivan Reitman",
          "IMDB_Rating": 6.8,
          "MPAA_Rating": "PG",
          "Major_Genre": "Comedy",
          "Profit_Million": 261.63212400000003,
          "Title": "Ghostbusters",
          "Year": 1984
         },
         {
          "Count": 4,
          "Director": "Ivan Reitman",
          "IMDB_Rating": 6.8,
          "MPAA_Rating": "R",
          "Major_Genre": "Comedy",
          "Profit_Million": 75.3,
          "Title": "Stripes",
          "Year": 1981
         },
         {
          "Count": 4,
          "Director": "Ivan Reitman",
          "IMDB_Rating": 5.9,
          "MPAA_Rating": "PG-13",
          "Major_Genre": "Comedy",
          "Profit_Million": 18.341932,
          "Title": "Evolution",
          "Year": 2001
         },
         {
          "Count": 4,
          "Director": "Ivan Reitman",
          "IMDB_Rating": 4.8,
          "MPAA_Rating": "PG-13",
          "Major_Genre": "Comedy",
          "Profit_Million": -49.31892,
          "Title": "Father's Day",
          "Year": 1997
         },
         {
          "Count": 6,
          "Director": "Harold Ramis",
          "IMDB_Rating": 8.2,
          "MPAA_Rating": "PG",
          "Major_Genre": "Comedy",
          "Profit_Million": 56.306973,
          "Title": "Groundhog Day",
          "Year": 1993
         },
         {
          "Count": 6,
          "Director": "Harold Ramis",
          "IMDB_Rating": 5.7,
          "MPAA_Rating": "PG-13",
          "Major_Genre": "Comedy",
          "Profit_Million": -24.866674,
          "Title": "Multiplicity",
          "Year": 1996
         },
         {
          "Count": 6,
          "Director": "Harold Ramis",
          "IMDB_Rating": 5.6,
          "MPAA_Rating": "R",
          "Major_Genre": "Comedy",
          "Profit_Million": -5.005243,
          "Title": "Analyze That",
          "Year": 2002
         },
         {
          "Count": 6,
          "Director": "Harold Ramis",
          "IMDB_Rating": 6.6,
          "MPAA_Rating": "R",
          "Major_Genre": "Comedy",
          "Profit_Million": 146.885658,
          "Title": "Analyze This",
          "Year": 1999
         },
         {
          "Count": 6,
          "Director": "Harold Ramis",
          "IMDB_Rating": 5.9,
          "MPAA_Rating": "PG-13",
          "Major_Genre": "Comedy",
          "Profit_Million": 42.376224,
          "Title": "Bedazzled",
          "Year": 2000
         },
         {
          "Count": 6,
          "Director": "Harold Ramis",
          "IMDB_Rating": 5,
          "MPAA_Rating": "PG-13",
          "Major_Genre": "Comedy",
          "Profit_Million": -2.395277,
          "Title": "Year One",
          "Year": 2009
         },
         {
          "Count": 4,
          "Director": "Chris Columbus",
          "IMDB_Rating": 5.8,
          "MPAA_Rating": "PG",
          "Major_Genre": "Comedy",
          "Profit_Million": 338.99485,
          "Title": "Home Alone 2: Lost in New York",
          "Year": 1992
         },
         {
          "Count": 4,
          "Director": "Chris Columbus",
          "IMDB_Rating": 7,
          "MPAA_Rating": "PG",
          "Major_Genre": "Comedy",
          "Profit_Million": 461.684675,
          "Title": "Home Alone",
          "Year": 1990
         },
         {
          "Count": 4,
          "Director": "Chris Columbus",
          "IMDB_Rating": 6.6,
          "MPAA_Rating": "PG-13",
          "Major_Genre": "Comedy",
          "Profit_Million": 416.286003,
          "Title": "Mrs. Doubtfire",
          "Year": 1993
         },
         {
          "Count": 4,
          "Director": "Chris Columbus",
          "IMDB_Rating": 5.9,
          "MPAA_Rating": "PG-13",
          "Major_Genre": "Comedy",
          "Profit_Million": -1.6174620000000002,
          "Title": "I Love You, Beth Cooper",
          "Year": 2009
         },
         {
          "Count": 5,
          "Director": "Dennis Dugan",
          "IMDB_Rating": 6.9,
          "MPAA_Rating": "PG-13",
          "Major_Genre": "Comedy",
          "Profit_Million": 28.623459999999998,
          "Title": "Happy Gilmore",
          "Year": 1996
         },
         {
          "Count": 5,
          "Director": "Dennis Dugan",
          "IMDB_Rating": 4.7,
          "MPAA_Rating": "PG-13",
          "Major_Genre": "Comedy",
          "Profit_Million": 204.779795,
          "Title": "Big Daddy",
          "Year": 1999
         },
         {
          "Count": 5,
          "Director": "Dennis Dugan",
          "IMDB_Rating": 5.4,
          "MPAA_Rating": "PG-13",
          "Major_Genre": "Comedy",
          "Profit_Million": 29.843753999999997,
          "Title": "The Benchwarmers",
          "Year": 2006
         },
         {
          "Count": 5,
          "Director": "Dennis Dugan",
          "IMDB_Rating": 6.1,
          "MPAA_Rating": "PG-13",
          "Major_Genre": "Comedy",
          "Profit_Million": 100.708462,
          "Title": "I Now Pronounce You Chuck and Larry",
          "Year": 2007
         },
         {
          "Count": 5,
          "Director": "Dennis Dugan",
          "IMDB_Rating": 5.6,
          "MPAA_Rating": "R",
          "Major_Genre": "Comedy",
          "Profit_Million": -2.648431,
          "Title": "Saving Silverman",
          "Year": 2001
         },
         {
          "Count": 4,
          "Director": "Joel Coen",
          "IMDB_Rating": 7.4,
          "MPAA_Rating": "PG",
          "Major_Genre": "Comedy",
          "Profit_Million": -25.061851,
          "Title": "The Hudsucker Proxy",
          "Year": 1994
         },
         {
          "Count": 4,
          "Director": "Joel Coen",
          "IMDB_Rating": 7.2,
          "MPAA_Rating": "R",
          "Major_Genre": "Comedy",
          "Profit_Million": 23.710147,
          "Title": "A Serious Man",
          "Year": 2009
         },
         {
          "Count": 4,
          "Director": "Joel Coen",
          "IMDB_Rating": 8.2,
          "MPAA_Rating": "R",
          "Major_Genre": "Comedy",
          "Profit_Million": 31.189567999999998,
          "Title": "The Big Lebowski",
          "Year": 1998
         },
         {
          "Count": 4,
          "Director": "Joel Coen",
          "IMDB_Rating": 6.2,
          "MPAA_Rating": "R",
          "Major_Genre": "Comedy",
          "Profit_Million": 42.692139000000005,
          "Title": "The Ladykillers",
          "Year": 2004
         },
         {
          "Count": 3,
          "Director": "Stephen Herek",
          "IMDB_Rating": 5.9,
          "MPAA_Rating": "PG",
          "Major_Genre": "Comedy",
          "Profit_Million": 40.752337,
          "Title": "The Mighty Ducks",
          "Year": 1992
         },
         {
          "Count": 3,
          "Director": "Stephen Herek",
          "IMDB_Rating": 4.7,
          "MPAA_Rating": "PG",
          "Major_Genre": "Comedy",
          "Profit_Million": -47.930281,
          "Title": "Holy Man",
          "Year": 1998
         },
         {
          "Count": 3,
          "Director": "Stephen Herek",
          "IMDB_Rating": 4.2,
          "MPAA_Rating": "PG-13",
          "Major_Genre": "Comedy",
          "Profit_Million": -27.900294,
          "Title": "Man of the House",
          "Year": 2005
         },
         {
          "Count": 5,
          "Director": "Peter Segal",
          "IMDB_Rating": 6.1,
          "MPAA_Rating": "PG-13",
          "Major_Genre": "Comedy",
          "Profit_Million": 21.041856,
          "Title": "Naked Gun 33 1/3: The Final Insult",
          "Year": 1994
         },
         {
          "Count": 5,
          "Director": "Peter Segal",
          "IMDB_Rating": 6.1,
          "MPAA_Rating": "PG-13",
          "Major_Genre": "Comedy",
          "Profit_Million": 139.660942,
          "Title": "Anger Management",
          "Year": 2003
         },
         {
          "Count": 5,
          "Director": "Peter Segal",
          "IMDB_Rating": 6.2,
          "MPAA_Rating": "PG-13",
          "Major_Genre": "Comedy",
          "Profit_Million": 108.320568,
          "Title": "The Longest Yard",
          "Year": 2005
         },
         {
          "Count": 5,
          "Director": "Peter Segal",
          "IMDB_Rating": 6.3,
          "MPAA_Rating": "PG-13",
          "Major_Genre": "Comedy",
          "Profit_Million": 0.8318459999999999,
          "Title": "My Fellow Americans",
          "Year": 1996
         },
         {
          "Count": 5,
          "Director": "Peter Segal",
          "IMDB_Rating": 4.3,
          "MPAA_Rating": "PG-13",
          "Major_Genre": "Comedy",
          "Profit_Million": 77.6,
          "Title": "Nutty Professor II: The Klumps",
          "Year": 2000
         },
         {
          "Count": 4,
          "Director": "Donald Petrie",
          "IMDB_Rating": 4.7,
          "MPAA_Rating": "PG",
          "Major_Genre": "Comedy",
          "Profit_Million": -1.9122439999999998,
          "Title": "Ri¢hie Ri¢h",
          "Year": 1994
         },
         {
          "Count": 4,
          "Director": "Donald Petrie",
          "IMDB_Rating": 6.1,
          "MPAA_Rating": "PG-13",
          "Major_Genre": "Comedy",
          "Profit_Million": 167.1,
          "Title": "Miss Congeniality",
          "Year": 2000
         },
         {
          "Count": 4,
          "Director": "Donald Petrie",
          "IMDB_Rating": 5.2,
          "MPAA_Rating": "PG-13",
          "Major_Genre": "Comedy",
          "Profit_Million": -11.530572,
          "Title": "Welcome to Mooseport",
          "Year": 2004
         },
         {
          "Count": 4,
          "Director": "Donald Petrie",
          "IMDB_Rating": 4.5,
          "MPAA_Rating": "PG",
          "Major_Genre": "Comedy",
          "Profit_Million": -23.149898999999998,
          "Title": "My Favorite Martian",
          "Year": 1999
         },
         {
          "Count": 3,
          "Director": "John Pasquin",
          "IMDB_Rating": 6.1,
          "MPAA_Rating": "PG",
          "Major_Genre": "Comedy",
          "Profit_Million": 167.8,
          "Title": "The Santa Clause",
          "Year": 1994
         },
         {
          "Count": 3,
          "Director": "John Pasquin",
          "IMDB_Rating": 5.3,
          "MPAA_Rating": "PG",
          "Major_Genre": "Comedy",
          "Profit_Million": -13.484010000000001,
          "Title": "Joe Somebody",
          "Year": 2001
         },
         {
          "Count": 3,
          "Director": "John Pasquin",
          "IMDB_Rating": 4.7,
          "MPAA_Rating": "PG-13",
          "Major_Genre": "Comedy",
          "Profit_Million": 41.382396,
          "Title": "Miss Congeniality 2: Armed and Fabulous",
          "Year": 2005
         },
         {
          "Count": 4,
          "Director": "Christopher Guest",
          "IMDB_Rating": 7.4,
          "MPAA_Rating": "R",
          "Major_Genre": "Comedy",
          "Profit_Million": -1.077012,
          "Title": "Waiting for Guffman",
          "Year": 1997
         },
         {
          "Count": 4,
          "Director": "Christopher Guest",
          "IMDB_Rating": 7.4,
          "MPAA_Rating": "PG-13",
          "Major_Genre": "Comedy",
          "Profit_Million": 14.695413,
          "Title": "Best in Show",
          "Year": 2000
         },
         {
          "Count": 4,
          "Director": "Christopher Guest",
          "IMDB_Rating": 6.2,
          "MPAA_Rating": "PG-13",
          "Major_Genre": "Comedy",
          "Profit_Million": -6.450076999999999,
          "Title": "For Your Consideration",
          "Year": 2006
         },
         {
          "Count": 4,
          "Director": "Christopher Guest",
          "IMDB_Rating": 7.2,
          "MPAA_Rating": "PG-13",
          "Major_Genre": "Comedy",
          "Profit_Million": 12.552708,
          "Title": "A Mighty Wind",
          "Year": 2003
         },
         {
          "Count": 3,
          "Director": "Paul Weitz",
          "IMDB_Rating": 6.9,
          "MPAA_Rating": "R",
          "Major_Genre": "Comedy",
          "Profit_Million": 222.8,
          "Title": "American Pie",
          "Year": 1999
         },
         {
          "Count": 3,
          "Director": "Paul Weitz",
          "IMDB_Rating": 5,
          "MPAA_Rating": "PG-13",
          "Major_Genre": "Comedy",
          "Profit_Million": 41.172251,
          "Title": "Down to Earth",
          "Year": 2001
         },
         {
          "Count": 3,
          "Director": "Paul Weitz",
          "IMDB_Rating": 6.8,
          "MPAA_Rating": "PG-13",
          "Major_Genre": "Comedy",
          "Profit_Million": 37.489752,
          "Title": "In Good Company",
          "Year": 2004
         },
         {
          "Count": 6,
          "Director": "Jay Roach",
          "IMDB_Rating": 6.6,
          "MPAA_Rating": "PG-13",
          "Major_Genre": "Comedy",
          "Profit_Million": 274.6,
          "Title": "Austin Powers: The Spy Who Shagged Me",
          "Year": 1999
         },
         {
          "Count": 6,
          "Director": "Jay Roach",
          "IMDB_Rating": 6.2,
          "MPAA_Rating": "PG-13",
          "Major_Genre": "Comedy",
          "Profit_Million": 229.73862599999998,
          "Title": "Austin Powers in Goldmember",
          "Year": 2002
         },
         {
          "Count": 6,
          "Director": "Jay Roach",
          "IMDB_Rating": 7.1,
          "MPAA_Rating": "PG-13",
          "Major_Genre": "Comedy",
          "Profit_Million": 49.683989000000004,
          "Title": "Austin Powers: International Man of Mystery",
          "Year": 1997
         },
         {
          "Count": 6,
          "Director": "Jay Roach",
          "IMDB_Rating": 6.4,
          "MPAA_Rating": "PG-13",
          "Major_Genre": "Comedy",
          "Profit_Million": 456.567575,
          "Title": "Meet the Fockers",
          "Year": 2004
         },
         {
          "Count": 6,
          "Director": "Jay Roach",
          "IMDB_Rating": 7,
          "MPAA_Rating": "PG-13",
          "Major_Genre": "Comedy",
          "Profit_Million": 246.5,
          "Title": "Meet the Parents",
          "Year": 2000
         },
         {
          "Count": 6,
          "Director": "Jay Roach",
          "IMDB_Rating": 5.5,
          "MPAA_Rating": "R",
          "Major_Genre": "Comedy",
          "Profit_Million": -19.108376999999997,
          "Title": "Mystery, Alaska",
          "Year": 1999
         },
         {
          "Count": 6,
          "Director": "Shawn Levy",
          "IMDB_Rating": 5.2,
          "MPAA_Rating": "PG",
          "Major_Genre": "Comedy",
          "Profit_Million": 37.375275,
          "Title": "Big Fat Liar",
          "Year": 2002
         },
         {
          "Count": 6,
          "Director": "Shawn Levy",
          "IMDB_Rating": 5.6,
          "MPAA_Rating": "PG",
          "Major_Genre": "Comedy",
          "Profit_Million": 149.714544,
          "Title": "Cheaper by the Dozen",
          "Year": 2003
         },
         {
          "Count": 6,
          "Director": "Shawn Levy",
          "IMDB_Rating": 6.5,
          "MPAA_Rating": "PG-13",
          "Major_Genre": "Comedy",
          "Profit_Million": 97.25343199999999,
          "Title": "Date Night",
          "Year": 2010
         },
         {
          "Count": 6,
          "Director": "Shawn Levy",
          "IMDB_Rating": 6.4,
          "MPAA_Rating": "PG",
          "Major_Genre": "Comedy",
          "Profit_Million": 464.480841,
          "Title": "Night at the Museum",
          "Year": 2006
         },
         {
          "Count": 6,
          "Director": "Shawn Levy",
          "IMDB_Rating": 5.9,
          "MPAA_Rating": "PG",
          "Major_Genre": "Comedy",
          "Profit_Million": 263.05463100000003,
          "Title": "Night at the Museum: Battle of the Smithsonian",
          "Year": 2009
         },
         {
          "Count": 6,
          "Director": "Shawn Levy",
          "IMDB_Rating": 5.1,
          "MPAA_Rating": "PG",
          "Major_Genre": "Comedy",
          "Profit_Million": 78.926474,
          "Title": "The Pink Panther",
          "Year": 2006
         },
         {
          "Count": 4,
          "Director": "Raja Gosnell",
          "IMDB_Rating": 4.7,
          "MPAA_Rating": "PG-13",
          "Major_Genre": "Comedy",
          "Profit_Million": 140.559438,
          "Title": "Big Momma's House",
          "Year": 2000
         },
         {
          "Count": 4,
          "Director": "Raja Gosnell",
          "IMDB_Rating": 4.8,
          "MPAA_Rating": "PG",
          "Major_Genre": "Comedy",
          "Profit_Million": 156.18538700000002,
          "Title": "Scooby-Doo 2: Monsters Unleashed",
          "Year": 2004
         },
         {
          "Count": 4,
          "Director": "Raja Gosnell",
          "IMDB_Rating": 4.7,
          "MPAA_Rating": "PG",
          "Major_Genre": "Comedy",
          "Profit_Million": 192.294164,
          "Title": "Scooby-Doo",
          "Year": 2002
         },
         {
          "Count": 4,
          "Director": "Raja Gosnell",
          "IMDB_Rating": 7.6,
          "MPAA_Rating": "PG",
          "Major_Genre": "Comedy",
          "Profit_Million": 27.359917,
          "Title": "Yours, Mine and Ours",
          "Year": 2005
         },
         {
          "Count": 3,
          "Director": "Barry Levinson",
          "IMDB_Rating": 6.5,
          "MPAA_Rating": "PG-13",
          "Major_Genre": "Comedy",
          "Profit_Million": -3.476729,
          "Title": "Bandits",
          "Year": 2001
         },
         {
          "Count": 3,
          "Director": "Barry Levinson",
          "IMDB_Rating": 4.6,
          "MPAA_Rating": "PG-13",
          "Major_Genre": "Comedy",
          "Profit_Million": -5.433754,
          "Title": "Envy",
          "Year": 2004
         },
         {
          "Count": 3,
          "Director": "Barry Levinson",
          "IMDB_Rating": 5.9,
          "MPAA_Rating": "R",
          "Major_Genre": "Comedy",
          "Profit_Million": -24.587877,
          "Title": "What Just Happened",
          "Year": 2008
         },
         {
          "Count": 4,
          "Director": "Frank Oz",
          "IMDB_Rating": 6.4,
          "MPAA_Rating": "PG-13",
          "Major_Genre": "Comedy",
          "Profit_Million": 43.699769,
          "Title": "Bowfinger",
          "Year": 1999
         },
         {
          "Count": 4,
          "Director": "Frank Oz",
          "IMDB_Rating": 5.1,
          "MPAA_Rating": "R",
          "Major_Genre": "Comedy",
          "Profit_Million": 14.743644,
          "Title": "Death at a Funeral",
          "Year": 2007
         },
         {
          "Count": 4,
          "Director": "Frank Oz",
          "IMDB_Rating": 6.1,
          "MPAA_Rating": "PG-13",
          "Major_Genre": "Comedy",
          "Profit_Million": 48.226569,
          "Title": "In & Out",
          "Year": 1997
         },
         {
          "Count": 4,
          "Director": "Frank Oz",
          "IMDB_Rating": 5.1,
          "MPAA_Rating": "PG-13",
          "Major_Genre": "Comedy",
          "Profit_Million": -3.778029,
          "Title": "The Stepford Wives",
          "Year": 2004
         },
         {
          "Count": 3,
          "Director": "Nora Ephron",
          "IMDB_Rating": 4.8,
          "MPAA_Rating": "PG-13",
          "Major_Genre": "Comedy",
          "Profit_Million": 51.413159,
          "Title": "Bewitched",
          "Year": 2005
         },
         {
          "Count": 3,
          "Director": "Nora Ephron",
          "IMDB_Rating": 7.2,
          "MPAA_Rating": "PG-13",
          "Major_Genre": "Comedy",
          "Profit_Million": 86.646119,
          "Title": "Julie & Julia",
          "Year": 2009
         },
         {
          "Count": 3,
          "Director": "Nora Ephron",
          "IMDB_Rating": 4.9,
          "MPAA_Rating": "R",
          "Major_Genre": "Comedy",
          "Profit_Million": -54.985766000000005,
          "Title": "Lucky Numbers",
          "Year": 2000
         },
         {
          "Count": 4,
          "Director": "Woody Allen",
          "IMDB_Rating": 6.1,
          "MPAA_Rating": "R",
          "Major_Genre": "Comedy",
          "Profit_Million": -5.8,
          "Title": "Celebrity",
          "Year": 1998
         },
         {
          "Count": 4,
          "Director": "Woody Allen",
          "IMDB_Rating": 6.7,
          "MPAA_Rating": "PG-13",
          "Major_Genre": "Comedy",
          "Profit_Million": -7.503478,
          "Title": "The Curse of the Jade Scorpion",
          "Year": 2001
         },
         {
          "Count": 4,
          "Director": "Woody Allen",
          "IMDB_Rating": 7.4,
          "MPAA_Rating": "PG-13",
          "Major_Genre": "Comedy",
          "Profit_Million": 61.213577,
          "Title": "Vicky Cristina Barcelona",
          "Year": 2008
         },
         {
          "Count": 4,
          "Director": "Woody Allen",
          "IMDB_Rating": 6.5,
          "MPAA_Rating": "PG",
          "Major_Genre": "Comedy",
          "Profit_Million": 11.934477000000001,
          "Title": "Small Time Crooks",
          "Year": 2000
         },
         {
          "Count": 3,
          "Director": "Les Mayfield",
          "IMDB_Rating": 4,
          "MPAA_Rating": "PG-13",
          "Major_Genre": "Comedy",
          "Profit_Million": -11.864975999999999,
          "Title": "Code Name: The Cleaner",
          "Year": 2007
         },
         {
          "Count": 3,
          "Director": "Les Mayfield",
          "IMDB_Rating": 4.6,
          "MPAA_Rating": "PG",
          "Major_Genre": "Comedy",
          "Profit_Million": 97.993801,
          "Title": "Flubber",
          "Year": 1997
         },
         {
          "Count": 3,
          "Director": "Les Mayfield",
          "IMDB_Rating": 5.4,
          "MPAA_Rating": "PG-13",
          "Major_Genre": "Comedy",
          "Profit_Million": -9.606304,
          "Title": "The Man",
          "Year": 2005
         },
         {
          "Count": 5,
          "Director": "Steve Carr",
          "IMDB_Rating": 5.5,
          "MPAA_Rating": "PG",
          "Major_Genre": "Comedy",
          "Profit_Million": 104.28558699999999,
          "Title": "Daddy Day Care",
          "Year": 2003
         },
         {
          "Count": 5,
          "Director": "Steve Carr",
          "IMDB_Rating": 6,
          "MPAA_Rating": "PG",
          "Major_Genre": "Comedy",
          "Profit_Million": 104.101721,
          "Title": "Doctor Dolittle 2",
          "Year": 2001
         },
         {
          "Count": 5,
          "Director": "Steve Carr",
          "IMDB_Rating": 5.3,
          "MPAA_Rating": "R",
          "Major_Genre": "Comedy",
          "Profit_Million": 50.175307000000004,
          "Title": "Next Friday",
          "Year": 2000
         },
         {
          "Count": 5,
          "Director": "Steve Carr",
          "IMDB_Rating": 5.3,
          "MPAA_Rating": "PG",
          "Major_Genre": "Comedy",
          "Profit_Million": 154.44967,
          "Title": "Paul Blart: Mall Cop",
          "Year": 2009
         },
         {
          "Count": 5,
          "Director": "Steve Carr",
          "IMDB_Rating": 4.7,
          "MPAA_Rating": "PG",
          "Major_Genre": "Comedy",
          "Profit_Million": -27.507986,
          "Title": "Rebound",
          "Year": 2005
         },
         {
          "Count": 4,
          "Director": "Jason Friedberg",
          "IMDB_Rating": 2.6,
          "MPAA_Rating": "PG-13",
          "Major_Genre": "Comedy",
          "Profit_Million": 64.548426,
          "Title": "Date Movie",
          "Year": 2006
         },
         {
          "Count": 4,
          "Director": "Jason Friedberg",
          "IMDB_Rating": 1.7000000000000002,
          "MPAA_Rating": "PG-13",
          "Major_Genre": "Comedy",
          "Profit_Million": 14.690901,
          "Title": "Disaster Movie",
          "Year": 2008
         },
         {
          "Count": 4,
          "Director": "Jason Friedberg",
          "IMDB_Rating": 2.2,
          "MPAA_Rating": "PG-13",
          "Major_Genre": "Comedy",
          "Profit_Million": 66.85857800000001,
          "Title": "Epic Movie",
          "Year": 2007
         },
         {
          "Count": 4,
          "Director": "Jason Friedberg",
          "IMDB_Rating": 2.4,
          "MPAA_Rating": "PG-13",
          "Major_Genre": "Comedy",
          "Profit_Million": 54.646831000000006,
          "Title": "Meet the Spartans",
          "Year": 2008
         },
         {
          "Count": 3,
          "Director": "Tyler Perry",
          "IMDB_Rating": 3.9,
          "MPAA_Rating": "PG-13",
          "Major_Genre": "Comedy",
          "Profit_Million": 53.308879000000005,
          "Title": "Madea's Family Reunion",
          "Year": 2006
         },
         {
          "Count": 3,
          "Director": "Tyler Perry",
          "IMDB_Rating": 3.1,
          "MPAA_Rating": "PG-13",
          "Major_Genre": "Comedy",
          "Profit_Million": 21.975388,
          "Title": "Meet the Browns",
          "Year": 2008
         },
         {
          "Count": 3,
          "Director": "Tyler Perry",
          "IMDB_Rating": 3.1,
          "MPAA_Rating": "PG-13",
          "Major_Genre": "Comedy",
          "Profit_Million": 73.008336,
          "Title": "Madea Goes To Jail",
          "Year": 2009
         },
         {
          "Count": 5,
          "Director": "Todd Phillips",
          "IMDB_Rating": 7.9,
          "MPAA_Rating": "R",
          "Major_Genre": "Comedy",
          "Profit_Million": 430.13211900000005,
          "Title": "The Hangover",
          "Year": 2009
         },
         {
          "Count": 5,
          "Director": "Todd Phillips",
          "IMDB_Rating": 6.2,
          "MPAA_Rating": "PG-13",
          "Major_Genre": "Comedy",
          "Profit_Million": 110.200225,
          "Title": "Starsky & Hutch",
          "Year": 2004
         },
         {
          "Count": 5,
          "Director": "Todd Phillips",
          "IMDB_Rating": 7,
          "MPAA_Rating": "R",
          "Major_Genre": "Comedy",
          "Profit_Million": 62.325829000000006,
          "Title": "Old School",
          "Year": 2003
         },
         {
          "Count": 5,
          "Director": "Todd Phillips",
          "IMDB_Rating": 6.4,
          "MPAA_Rating": "R",
          "Major_Genre": "Comedy",
          "Profit_Million": 103.73911,
          "Title": "Road Trip",
          "Year": 2000
         },
         {
          "Count": 5,
          "Director": "Todd Phillips",
          "IMDB_Rating": 6,
          "MPAA_Rating": "PG-13",
          "Major_Genre": "Comedy",
          "Profit_Million": -2.192431,
          "Title": "School for Scoundrels",
          "Year": 2006
         },
         {
          "Count": 3,
          "Director": "Edgar Wright",
          "IMDB_Rating": 8,
          "MPAA_Rating": "R",
          "Major_Genre": "Comedy",
          "Profit_Million": 63.19749300000001,
          "Title": "Hot Fuzz",
          "Year": 2007
         },
         {
          "Count": 3,
          "Director": "Edgar Wright",
          "IMDB_Rating": 8,
          "MPAA_Rating": "R",
          "Major_Genre": "Comedy",
          "Profit_Million": 24.629128,
          "Title": "Shaun of the Dead",
          "Year": 2004
         },
         {
          "Count": 3,
          "Director": "Edgar Wright",
          "IMDB_Rating": 8.1,
          "MPAA_Rating": "PG-13",
          "Major_Genre": "Comedy",
          "Profit_Million": -41.850857,
          "Title": "Scott Pilgrim vs. The World",
          "Year": 2010
         },
         {
          "Count": 4,
          "Director": "Keenen Ivory Wayans",
          "IMDB_Rating": 5.7,
          "MPAA_Rating": "PG-13",
          "Major_Genre": "Comedy",
          "Profit_Million": 37.636047,
          "Title": "Little Man",
          "Year": 2006
         },
         {
          "Count": 4,
          "Director": "Keenen Ivory Wayans",
          "IMDB_Rating": 4.7,
          "MPAA_Rating": "R",
          "Major_Genre": "Comedy",
          "Profit_Million": 96.18910100000001,
          "Title": "Scary Movie 2",
          "Year": 2001
         },
         {
          "Count": 4,
          "Director": "Keenen Ivory Wayans",
          "IMDB_Rating": 6,
          "MPAA_Rating": "R",
          "Major_Genre": "Comedy",
          "Profit_Million": 258.2,
          "Title": "Scary Movie",
          "Year": 2000
         },
         {
          "Count": 4,
          "Director": "Keenen Ivory Wayans",
          "IMDB_Rating": 5,
          "MPAA_Rating": "PG-13",
          "Major_Genre": "Comedy",
          "Profit_Million": 91.44899699999999,
          "Title": "White Chicks",
          "Year": 2004
         }
        ]
       },
       "hconcat": [
        {
         "data": {
          "name": "data-1de48c468e58f005d5bb31c1f5b9267d"
         },
         "encoding": {
          "opacity": {
           "condition": {
            "selection": "selector008",
            "value": 0.75
           },
           "value": 0.05
          },
          "x": {
           "field": "Count",
           "title": "Number of movies",
           "type": "quantitative"
          },
          "y": {
           "field": "Director",
           "sort": {
            "field": "Count:Q",
            "order": "ascending"
           },
           "title": "Director",
           "type": "nominal"
          }
         },
         "height": 650,
         "mark": "bar",
         "selection": {
          "selector008": {
           "fields": [
            "Director"
           ],
           "init": {
            "Director": "Kevin Smith"
           },
           "type": "multi"
          }
         },
         "title": "Top 30 productive directors in Comedy",
         "width": 200
        },
        {
         "data": {
          "name": "data-b2b71579100f23351480873e3c0777b7"
         },
         "vconcat": [
          {
           "encoding": {
            "color": {
             "field": "Director",
             "type": "nominal"
            },
            "opacity": {
             "condition": {
              "selection": "selector008",
              "value": 0.75
             },
             "value": 0.05
            },
            "tooltip": [
             {
              "field": "Title",
              "type": "nominal"
             },
             {
              "field": "Major_Genre",
              "type": "nominal"
             },
             {
              "field": "Director",
              "type": "nominal"
             },
             {
              "field": "IMDB_Rating",
              "type": "quantitative"
             }
            ],
            "x": {
             "axis": {
              "title": "Year"
             },
             "field": "Year",
             "type": "ordinal"
            },
            "y": {
             "axis": {
              "title": "IMDB Rating (1-10)"
             },
             "field": "IMDB_Rating",
             "scale": {
              "zero": false
             },
             "type": "quantitative"
            }
           },
           "height": 250,
           "mark": {
            "point": true,
            "type": "line"
           },
           "selection": {
            "selector009": {
             "bind": "scales",
             "encodings": [
              "x",
              "y"
             ],
             "type": "interval"
            }
           },
           "title": "IMDB Rating",
           "transform": [
            {
             "filter": {
              "selection": "selector001"
             }
            }
           ],
           "width": 400
          },
          {
           "encoding": {
            "color": {
             "field": "Director",
             "type": "nominal"
            },
            "opacity": {
             "condition": {
              "selection": "selector008",
              "value": 0.75
             },
             "value": 0.05
            },
            "tooltip": [
             {
              "field": "Title",
              "type": "nominal"
             },
             {
              "field": "Major_Genre",
              "type": "nominal"
             },
             {
              "field": "Director",
              "type": "nominal"
             },
             {
              "field": "IMDB_Rating",
              "type": "quantitative"
             }
            ],
            "x": {
             "axis": {
              "title": "Year"
             },
             "field": "Year",
             "type": "ordinal"
            },
            "y": {
             "axis": {
              "title": "Profit (million USD)"
             },
             "field": "Profit_Million",
             "scale": {
              "zero": false
             },
             "type": "quantitative"
            }
           },
           "height": 250,
           "mark": {
            "point": true,
            "type": "line"
           },
           "selection": {
            "selector010": {
             "bind": "scales",
             "encodings": [
              "x",
              "y"
             ],
             "type": "interval"
            }
           },
           "title": "Worldwide Profit",
           "transform": [
            {
             "filter": {
              "selection": "selector001"
             }
            }
           ],
           "width": 400
          }
         ]
        }
       ]
      },
      "text/plain": [
       "<VegaLite 3 object>\n",
       "\n",
       "If you see this message, it means the renderer has not been properly enabled\n",
       "for the frontend that you are using. For more information, see\n",
       "https://altair-viz.github.io/user_guide/troubleshooting.html\n"
      ]
     },
     "execution_count": 15,
     "metadata": {},
     "output_type": "execute_result"
    }
   ],
   "source": [
    "make_plot(genre = 'Comedy') "
   ]
  },
  {
   "cell_type": "code",
   "execution_count": null,
   "metadata": {},
   "outputs": [],
   "source": []
  },
  {
   "cell_type": "code",
   "execution_count": null,
   "metadata": {},
   "outputs": [],
   "source": []
  }
 ],
 "metadata": {
  "kernelspec": {
   "display_name": "Python 3",
   "language": "python",
   "name": "python3"
  },
  "language_info": {
   "codemirror_mode": {
    "name": "ipython",
    "version": 3
   },
   "file_extension": ".py",
   "mimetype": "text/x-python",
   "name": "python",
   "nbconvert_exporter": "python",
   "pygments_lexer": "ipython3",
   "version": "3.7.3"
  }
 },
 "nbformat": 4,
 "nbformat_minor": 4
}
