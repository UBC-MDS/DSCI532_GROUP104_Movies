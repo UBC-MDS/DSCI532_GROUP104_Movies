{
 "cells": [
  {
   "cell_type": "code",
   "execution_count": 1,
   "metadata": {},
   "outputs": [],
   "source": [
    "import pandas as pd\n",
    "import altair as alt\n",
    "\n",
    "# Need to enable this to allow work with larger datasets (https://altair-viz.github.io/user_guide/faq.html)\n",
    "#alt.data_transformers.enable('json')\n",
    "selection = alt.selection_single();"
   ]
  },
  {
   "cell_type": "code",
   "execution_count": 43,
   "metadata": {},
   "outputs": [],
   "source": [
    "movies_df = pd.read_json('https://raw.githubusercontent.com/vega/vega-datasets/master/data/movies.json')\n",
    "\n",
    "# Add a column of the release year\n",
    "movies_df['Year'] = pd.to_datetime(movies_df['Release_Date']).dt.year\n",
    "# A list columns that will appear in the final data frame\n",
    "movies_df['Profit'] = movies_df['Worldwide_Gross'] - movies_df['Production_Budget']\n",
    "column_list = ['Title', 'Major_Genre', 'Director', 'Year', 'Profit', 'IMDB_Rating', 'MPAA_Rating']\n",
    "\n",
    "# Filter out lines with errors or NaNs in 'Director', 'Year', 'Major_Genre' columns\n",
    "movies_df = (movies_df.query('Year < 2019')\n",
    "                     .dropna(subset = column_list)\n",
    "                     .loc[:, column_list]\n",
    "                     .reset_index()\n",
    "                     .drop(columns = ['index']))\n"
   ]
  },
  {
   "cell_type": "code",
   "execution_count": 44,
   "metadata": {},
   "outputs": [
    {
     "data": {
      "text/plain": [
       "(1414, 7)"
      ]
     },
     "execution_count": 44,
     "metadata": {},
     "output_type": "execute_result"
    }
   ],
   "source": [
    "movies_df.shape"
   ]
  },
  {
   "cell_type": "code",
   "execution_count": 45,
   "metadata": {},
   "outputs": [
    {
     "data": {
      "text/html": [
       "<div>\n",
       "<style scoped>\n",
       "    .dataframe tbody tr th:only-of-type {\n",
       "        vertical-align: middle;\n",
       "    }\n",
       "\n",
       "    .dataframe tbody tr th {\n",
       "        vertical-align: top;\n",
       "    }\n",
       "\n",
       "    .dataframe thead th {\n",
       "        text-align: right;\n",
       "    }\n",
       "</style>\n",
       "<table border=\"1\" class=\"dataframe\">\n",
       "  <thead>\n",
       "    <tr style=\"text-align: right;\">\n",
       "      <th></th>\n",
       "      <th>Year</th>\n",
       "      <th>Profit</th>\n",
       "      <th>IMDB_Rating</th>\n",
       "    </tr>\n",
       "  </thead>\n",
       "  <tbody>\n",
       "    <tr>\n",
       "      <th>count</th>\n",
       "      <td>1414.000000</td>\n",
       "      <td>1.414000e+03</td>\n",
       "      <td>1414.000000</td>\n",
       "    </tr>\n",
       "    <tr>\n",
       "      <th>mean</th>\n",
       "      <td>2001.524045</td>\n",
       "      <td>8.714430e+07</td>\n",
       "      <td>6.443069</td>\n",
       "    </tr>\n",
       "    <tr>\n",
       "      <th>std</th>\n",
       "      <td>5.699895</td>\n",
       "      <td>1.663775e+08</td>\n",
       "      <td>1.160132</td>\n",
       "    </tr>\n",
       "    <tr>\n",
       "      <th>min</th>\n",
       "      <td>1960.000000</td>\n",
       "      <td>-9.463523e+07</td>\n",
       "      <td>1.700000</td>\n",
       "    </tr>\n",
       "    <tr>\n",
       "      <th>25%</th>\n",
       "      <td>1998.000000</td>\n",
       "      <td>-2.209231e+06</td>\n",
       "      <td>5.700000</td>\n",
       "    </tr>\n",
       "    <tr>\n",
       "      <th>50%</th>\n",
       "      <td>2002.000000</td>\n",
       "      <td>2.917431e+07</td>\n",
       "      <td>6.500000</td>\n",
       "    </tr>\n",
       "    <tr>\n",
       "      <th>75%</th>\n",
       "      <td>2006.000000</td>\n",
       "      <td>1.109432e+08</td>\n",
       "      <td>7.300000</td>\n",
       "    </tr>\n",
       "    <tr>\n",
       "      <th>max</th>\n",
       "      <td>2010.000000</td>\n",
       "      <td>2.530891e+09</td>\n",
       "      <td>9.200000</td>\n",
       "    </tr>\n",
       "  </tbody>\n",
       "</table>\n",
       "</div>"
      ],
      "text/plain": [
       "              Year        Profit  IMDB_Rating\n",
       "count  1414.000000  1.414000e+03  1414.000000\n",
       "mean   2001.524045  8.714430e+07     6.443069\n",
       "std       5.699895  1.663775e+08     1.160132\n",
       "min    1960.000000 -9.463523e+07     1.700000\n",
       "25%    1998.000000 -2.209231e+06     5.700000\n",
       "50%    2002.000000  2.917431e+07     6.500000\n",
       "75%    2006.000000  1.109432e+08     7.300000\n",
       "max    2010.000000  2.530891e+09     9.200000"
      ]
     },
     "execution_count": 45,
     "metadata": {},
     "output_type": "execute_result"
    }
   ],
   "source": [
    "movies_df.describe()"
   ]
  },
  {
   "cell_type": "code",
   "execution_count": 46,
   "metadata": {},
   "outputs": [],
   "source": [
    "movies_df.to_csv('../data/clean/movies_clean_df.csv')"
   ]
  },
  {
   "cell_type": "code",
   "execution_count": 47,
   "metadata": {},
   "outputs": [],
   "source": [
    "def mds_special():\n",
    "    font = \"Arial\"\n",
    "    axisColor = \"#000000\"\n",
    "    gridColor = \"#DEDDDD\"\n",
    "    return {\n",
    "        \"config\": {\n",
    "            \"title\": {\n",
    "                \"fontSize\": 24,\n",
    "                \"font\": font,\n",
    "                \"anchor\": \"start\", # equivalent of left-aligned.\n",
    "                \"fontColor\": \"#000000\"\n",
    "            },\n",
    "            'view': {\n",
    "                \"height\": 300, \n",
    "                \"width\": 400\n",
    "            },\n",
    "            \"axisX\": {\n",
    "                \"domain\": True,\n",
    "                #\"domainColor\": axisColor,\n",
    "                \"gridColor\": gridColor,\n",
    "                \"domainWidth\": 1,\n",
    "                \"grid\": False,\n",
    "                \"labelFont\": font,\n",
    "                \"labelFontSize\": 12,\n",
    "                \"labelAngle\": 0, \n",
    "                \"tickColor\": axisColor,\n",
    "                \"tickSize\": 5, # default, including it just to show you can change it\n",
    "                \"titleFont\": font,\n",
    "                \"titleFontSize\": 16,\n",
    "                \"titlePadding\": 10, # guessing, not specified in styleguide\n",
    "                \"title\": \"X Axis Title (units)\", \n",
    "            },\n",
    "            \"axisY\": {\n",
    "                \"domain\": False,\n",
    "                \"grid\": True,\n",
    "                \"gridColor\": gridColor,\n",
    "                \"gridWidth\": 1,\n",
    "                \"labelFont\": font,\n",
    "                \"labelFontSize\": 14,\n",
    "                \"labelAngle\": 0, \n",
    "                #\"ticks\": False, # even if you don't have a \"domain\" you need to turn these off.\n",
    "                \"titleFont\": font,\n",
    "                \"titleFontSize\": 16,\n",
    "                \"titlePadding\": 10, # guessing, not specified in styleguide\n",
    "                \"title\": \"Y Axis Title (units)\", \n",
    "                # titles are by default vertical left of axis so we need to hack this \n",
    "                #\"titleAngle\": 0, # horizontal\n",
    "                #\"titleY\": -10, # move it up\n",
    "                #\"titleX\": 18, # move it to the right so it aligns with the labels \n",
    "            },\n",
    "        }\n",
    "    }"
   ]
  },
  {
   "cell_type": "code",
   "execution_count": 6,
   "metadata": {},
   "outputs": [],
   "source": [
    "def get_top_director(selected_df, num, genre):\n",
    "    \"\"\"\n",
    "    Finds the number of movies of the most productive directors in the selected genre\n",
    "\n",
    "    Parameters\n",
    "    ----------\n",
    "    movies_df: pandas.DataFrame\n",
    "        The data frame to work on\n",
    "    num: int\n",
    "        The number of directors to keep in each genre\n",
    "    genre: string\n",
    "        The selected genre\n",
    "\n",
    "    Returns\n",
    "    -------\n",
    "    pandas.DataFrame\n",
    "        The data frame contains the number of movies of the most productive directors in the selected genre\n",
    "    \"\"\"\n",
    "\n",
    "    mdfg = selected_df.groupby('Major_Genre')\n",
    "    return (mdfg.get_group(genre)\n",
    "                .groupby('Director')\n",
    "                .count()\n",
    "                .sort_values(by = 'Title', ascending = False)\n",
    "                .head(num)\n",
    "                .reset_index()\n",
    "                .iloc[:, :2]\n",
    "                .rename(columns = {'Title': 'Count'}))"
   ]
  },
  {
   "cell_type": "code",
   "execution_count": 7,
   "metadata": {},
   "outputs": [],
   "source": [
    "def get_top_df(selected_df, num, genre):\n",
    "    \"\"\"\n",
    "    Finds movie information from the most productive directors in the selected genre\n",
    "\n",
    "    Parameters\n",
    "    ----------\n",
    "    movies_df: pandas.DataFrame\n",
    "        The data frame to work on\n",
    "    num: int\n",
    "        The number of directors to keep in each genre\n",
    "    genre: string\n",
    "        The selected genre\n",
    "\n",
    "    Returns\n",
    "    -------\n",
    "    pandas.DataFrame\n",
    "        The data frame only contains movie information from the most productive directors in the selected genre\n",
    "    \"\"\"\n",
    "\n",
    "    \n",
    "    top_director = get_top_director(selected_df, num, genre)\n",
    "    top_director['Major_Genre'] = genre\n",
    "    return pd.merge(selected_df, \n",
    "                    top_director, \n",
    "                    how = \"inner\", \n",
    "                    on = ['Major_Genre', 'Director'])"
   ]
  },
  {
   "cell_type": "code",
   "execution_count": 121,
   "metadata": {},
   "outputs": [
    {
     "data": {
      "text/html": [
       "<div>\n",
       "<style scoped>\n",
       "    .dataframe tbody tr th:only-of-type {\n",
       "        vertical-align: middle;\n",
       "    }\n",
       "\n",
       "    .dataframe tbody tr th {\n",
       "        vertical-align: top;\n",
       "    }\n",
       "\n",
       "    .dataframe thead th {\n",
       "        text-align: right;\n",
       "    }\n",
       "</style>\n",
       "<table border=\"1\" class=\"dataframe\">\n",
       "  <thead>\n",
       "    <tr style=\"text-align: right;\">\n",
       "      <th></th>\n",
       "      <th>Title</th>\n",
       "      <th>Major_Genre</th>\n",
       "      <th>Director</th>\n",
       "      <th>Year</th>\n",
       "      <th>Worldwide_Gross</th>\n",
       "      <th>Production_Budget</th>\n",
       "      <th>IMDB_Rating</th>\n",
       "      <th>MPAA_Rating</th>\n",
       "      <th>Count</th>\n",
       "    </tr>\n",
       "  </thead>\n",
       "  <tbody>\n",
       "    <tr>\n",
       "      <th>0</th>\n",
       "      <td>Bad Boys</td>\n",
       "      <td>Action</td>\n",
       "      <td>Michael Bay</td>\n",
       "      <td>1995</td>\n",
       "      <td>141247413.0</td>\n",
       "      <td>23000000.0</td>\n",
       "      <td>6.6</td>\n",
       "      <td>R</td>\n",
       "      <td>7</td>\n",
       "    </tr>\n",
       "    <tr>\n",
       "      <th>1</th>\n",
       "      <td>The Rock</td>\n",
       "      <td>Action</td>\n",
       "      <td>Michael Bay</td>\n",
       "      <td>1996</td>\n",
       "      <td>336069511.0</td>\n",
       "      <td>75000000.0</td>\n",
       "      <td>7.2</td>\n",
       "      <td>R</td>\n",
       "      <td>7</td>\n",
       "    </tr>\n",
       "    <tr>\n",
       "      <th>2</th>\n",
       "      <td>Bad Boys II</td>\n",
       "      <td>Action</td>\n",
       "      <td>Michael Bay</td>\n",
       "      <td>2003</td>\n",
       "      <td>272940870.0</td>\n",
       "      <td>130000000.0</td>\n",
       "      <td>6.2</td>\n",
       "      <td>R</td>\n",
       "      <td>7</td>\n",
       "    </tr>\n",
       "    <tr>\n",
       "      <th>3</th>\n",
       "      <td>The Island</td>\n",
       "      <td>Action</td>\n",
       "      <td>Michael Bay</td>\n",
       "      <td>2005</td>\n",
       "      <td>163018913.0</td>\n",
       "      <td>120000000.0</td>\n",
       "      <td>6.9</td>\n",
       "      <td>PG-13</td>\n",
       "      <td>7</td>\n",
       "    </tr>\n",
       "    <tr>\n",
       "      <th>4</th>\n",
       "      <td>Pearl Harbor</td>\n",
       "      <td>Action</td>\n",
       "      <td>Michael Bay</td>\n",
       "      <td>2001</td>\n",
       "      <td>449239855.0</td>\n",
       "      <td>151500000.0</td>\n",
       "      <td>5.4</td>\n",
       "      <td>PG-13</td>\n",
       "      <td>7</td>\n",
       "    </tr>\n",
       "    <tr>\n",
       "      <th>5</th>\n",
       "      <td>Transformers</td>\n",
       "      <td>Action</td>\n",
       "      <td>Michael Bay</td>\n",
       "      <td>2007</td>\n",
       "      <td>708272592.0</td>\n",
       "      <td>151000000.0</td>\n",
       "      <td>7.3</td>\n",
       "      <td>PG-13</td>\n",
       "      <td>7</td>\n",
       "    </tr>\n",
       "    <tr>\n",
       "      <th>6</th>\n",
       "      <td>Transformers: Revenge of the Fallen</td>\n",
       "      <td>Action</td>\n",
       "      <td>Michael Bay</td>\n",
       "      <td>2009</td>\n",
       "      <td>836303693.0</td>\n",
       "      <td>210000000.0</td>\n",
       "      <td>6.0</td>\n",
       "      <td>PG-13</td>\n",
       "      <td>7</td>\n",
       "    </tr>\n",
       "  </tbody>\n",
       "</table>\n",
       "</div>"
      ],
      "text/plain": [
       "                                 Title Major_Genre     Director  Year  \\\n",
       "0                             Bad Boys      Action  Michael Bay  1995   \n",
       "1                             The Rock      Action  Michael Bay  1996   \n",
       "2                          Bad Boys II      Action  Michael Bay  2003   \n",
       "3                           The Island      Action  Michael Bay  2005   \n",
       "4                         Pearl Harbor      Action  Michael Bay  2001   \n",
       "5                         Transformers      Action  Michael Bay  2007   \n",
       "6  Transformers: Revenge of the Fallen      Action  Michael Bay  2009   \n",
       "\n",
       "   Worldwide_Gross  Production_Budget  IMDB_Rating MPAA_Rating  Count  \n",
       "0      141247413.0         23000000.0          6.6           R      7  \n",
       "1      336069511.0         75000000.0          7.2           R      7  \n",
       "2      272940870.0        130000000.0          6.2           R      7  \n",
       "3      163018913.0        120000000.0          6.9       PG-13      7  \n",
       "4      449239855.0        151500000.0          5.4       PG-13      7  \n",
       "5      708272592.0        151000000.0          7.3       PG-13      7  \n",
       "6      836303693.0        210000000.0          6.0       PG-13      7  "
      ]
     },
     "execution_count": 121,
     "metadata": {},
     "output_type": "execute_result"
    }
   ],
   "source": [
    "get_top_df(movies_df, 1, 'Action')"
   ]
  },
  {
   "cell_type": "code",
   "execution_count": 170,
   "metadata": {},
   "outputs": [],
   "source": [
    "def make_bar_plot(genre = 'Action', year = (1933, 2010)):\n",
    "    # Don't forget to include imports\n",
    "    # register the custom theme under a chosen name\n",
    "    alt.themes.register('mds_special', mds_special)\n",
    "\n",
    "    # enable the newly registered theme\n",
    "    alt.themes.enable('mds_special')\n",
    "    #alt.themes.enable('none') # to return to default\n",
    "    \n",
    "    # get the clean movies data\n",
    "    movies_df = pd.read_csv('../data/clean/movies_clean_df.csv', index_col = 0)\n",
    "    # get information from the 30 most productive directors in the selected genre\n",
    "    selected_df = movies_df[(movies_df['Year'] > year[0]) & (movies_df['Year'] < year[1])]\n",
    "    top_director = get_top_director(selected_df, 30, genre)\n",
    "    \n",
    "    # Create a bar graph of the 30 most productive directors in the selected genre\n",
    "    return alt.Chart(top_director).mark_bar().encode(\n",
    "                alt.Y('Director:N', title = 'Director'),\n",
    "                alt.X('Count:Q', title = 'Number of movies')\n",
    "            ).properties(\n",
    "                title = 'Top 30 productive directors in ' + genre,\n",
    "                width = 300, \n",
    "                height = 350).add_selection(brush)"
   ]
  },
  {
   "cell_type": "code",
   "execution_count": 171,
   "metadata": {},
   "outputs": [
    {
     "data": {
      "application/vnd.vegalite.v3+json": {
       "$schema": "https://vega.github.io/schema/vega-lite/v3.4.0.json",
       "config": {
        "axisX": {
         "domain": true,
         "domainWidth": 1,
         "grid": false,
         "gridColor": "#DEDDDD",
         "labelAngle": 0,
         "labelFont": "Arial",
         "labelFontSize": 12,
         "tickColor": "#000000",
         "tickSize": 5,
         "title": "X Axis Title (units)",
         "titleFont": "Arial",
         "titleFontSize": 16,
         "titlePadding": 10
        },
        "axisY": {
         "domain": false,
         "grid": true,
         "gridColor": "#DEDDDD",
         "gridWidth": 1,
         "labelAngle": 0,
         "labelFont": "Arial",
         "labelFontSize": 14,
         "title": "Y Axis Title (units)",
         "titleFont": "Arial",
         "titleFontSize": 16,
         "titlePadding": 10
        },
        "title": {
         "anchor": "start",
         "font": "Arial",
         "fontColor": "#000000",
         "fontSize": 24
        },
        "view": {
         "height": 300,
         "width": 400
        }
       },
       "data": {
        "name": "data-8e71a975d0f12b4cca8b7a7e16b9298a"
       },
       "datasets": {
        "data-8e71a975d0f12b4cca8b7a7e16b9298a": [
         {
          "Count": 7,
          "Director": "Michael Bay"
         },
         {
          "Count": 6,
          "Director": "Brett Ratner"
         },
         {
          "Count": 5,
          "Director": "Tony Scott"
         },
         {
          "Count": 4,
          "Director": "Renny Harlin"
         },
         {
          "Count": 4,
          "Director": "Andy Wachowski"
         },
         {
          "Count": 4,
          "Director": "Steven Spielberg"
         },
         {
          "Count": 4,
          "Director": "Richard Donner"
         },
         {
          "Count": 4,
          "Director": "Rob Cohen"
         },
         {
          "Count": 4,
          "Director": "John Woo"
         },
         {
          "Count": 3,
          "Director": "Jonathan Mostow"
         },
         {
          "Count": 3,
          "Director": "Stephen Sommers"
         },
         {
          "Count": 3,
          "Director": "Quentin Tarantino"
         },
         {
          "Count": 3,
          "Director": "Jan De Bont"
         },
         {
          "Count": 3,
          "Director": "Robert Rodriguez"
         },
         {
          "Count": 3,
          "Director": "Joel Schumacher"
         },
         {
          "Count": 3,
          "Director": "Guillermo Del Toro"
         },
         {
          "Count": 3,
          "Director": "James Cameron"
         },
         {
          "Count": 3,
          "Director": "John McTiernan"
         },
         {
          "Count": 3,
          "Director": "Roland Emmerich"
         },
         {
          "Count": 3,
          "Director": "Peter Berg"
         },
         {
          "Count": 3,
          "Director": "Martin Campbell"
         },
         {
          "Count": 3,
          "Director": "Len Wiseman"
         },
         {
          "Count": 3,
          "Director": "Peter Hyams"
         },
         {
          "Count": 3,
          "Director": "Antoine Fuqua"
         },
         {
          "Count": 2,
          "Director": "Phillip Noyce"
         },
         {
          "Count": 2,
          "Director": "John Frankenheimer"
         },
         {
          "Count": 2,
          "Director": "Paul Anderson"
         },
         {
          "Count": 2,
          "Director": "Roger Spottiswoode"
         },
         {
          "Count": 2,
          "Director": "Mark Steven Johnson"
         },
         {
          "Count": 2,
          "Director": "Louis Leterrier"
         }
        ]
       },
       "encoding": {
        "x": {
         "field": "Count",
         "title": "Number of movies",
         "type": "quantitative"
        },
        "y": {
         "field": "Director",
         "title": "Director",
         "type": "nominal"
        }
       },
       "height": 350,
       "mark": "bar",
       "selection": {
        "selector071": {
         "encodings": [
          "y"
         ],
         "type": "interval"
        }
       },
       "title": "Top 30 productive directors in Action",
       "width": 300
      },
      "image/png": "[encoded data removed]",
      "text/plain": [
       "<VegaLite 3 object>\n",
       "\n",
       "If you see this message, it means the renderer has not been properly enabled\n",
       "for the frontend that you are using. For more information, see\n",
       "https://altair-viz.github.io/user_guide/troubleshooting.html\n"
      ]
     },
     "execution_count": 171,
     "metadata": {},
     "output_type": "execute_result"
    }
   ],
   "source": [
    "make_bar_plot(genre = 'Action', year = (1990, 2010))"
   ]
  },
  {
   "cell_type": "code",
   "execution_count": 109,
   "metadata": {},
   "outputs": [],
   "source": [
    "def make_scatter_plot(genre = 'Action', year = (1933, 2010)):\n",
    "    # Don't forget to include imports\n",
    "    \n",
    "    # register the custom theme under a chosen name\n",
    "    alt.themes.register('mds_special', mds_special)\n",
    "\n",
    "    # enable the newly registered theme\n",
    "    alt.themes.enable('mds_special')\n",
    "    #alt.themes.enable('none') # to return to default\n",
    "    \n",
    "    # get the clean movies data\n",
    "    movies_df = pd.read_csv('../data/clean/movies_clean_df.csv', index_col = 0)\n",
    "    # get information from the 30 most productive directors in the selected genre\n",
    "    selected_df = movies_df[(movies_df['Year'] > year[0]) & (movies_df['Year'] < year[1])]\n",
    "    top_df = get_top_df(selected_df, 30, genre)\n",
    "    \n",
    "    # Create scatter plots of rating and profits\n",
    "\n",
    "\n",
    "    return chart"
   ]
  },
  {
   "cell_type": "code",
   "execution_count": 110,
   "metadata": {},
   "outputs": [
    {
     "data": {
      "application/vnd.vegalite.v3+json": {
       "$schema": "https://vega.github.io/schema/vega-lite/v3.4.0.json",
       "config": {
        "axisX": {
         "domain": true,
         "domainWidth": 1,
         "grid": false,
         "gridColor": "#DEDDDD",
         "labelAngle": 0,
         "labelFont": "Arial",
         "labelFontSize": 12,
         "tickColor": "#000000",
         "tickSize": 5,
         "title": "X Axis Title (units)",
         "titleFont": "Arial",
         "titleFontSize": 16,
         "titlePadding": 10
        },
        "axisY": {
         "domain": false,
         "grid": true,
         "gridColor": "#DEDDDD",
         "gridWidth": 1,
         "labelAngle": 0,
         "labelFont": "Arial",
         "labelFontSize": 14,
         "title": "Y Axis Title (units)",
         "titleFont": "Arial",
         "titleFontSize": 16,
         "titlePadding": 10
        },
        "title": {
         "anchor": "start",
         "font": "Arial",
         "fontColor": "#000000",
         "fontSize": 24
        },
        "view": {
         "height": 300,
         "width": 400
        }
       },
       "data": {
        "name": "data-f35880722857f77d18af4c3805556e08"
       },
       "datasets": {
        "data-f35880722857f77d18af4c3805556e08": [
         {
          "Count": 7,
          "Director": "Michael Bay"
         },
         {
          "Count": 6,
          "Director": "Brett Ratner"
         },
         {
          "Count": 6,
          "Director": "Tony Scott"
         },
         {
          "Count": 5,
          "Director": "James Cameron"
         },
         {
          "Count": 4,
          "Director": "Richard Donner"
         },
         {
          "Count": 4,
          "Director": "John Woo"
         },
         {
          "Count": 4,
          "Director": "Andy Wachowski"
         },
         {
          "Count": 4,
          "Director": "Steven Spielberg"
         },
         {
          "Count": 4,
          "Director": "Rob Cohen"
         },
         {
          "Count": 4,
          "Director": "Renny Harlin"
         },
         {
          "Count": 3,
          "Director": "Jonathan Mostow"
         },
         {
          "Count": 3,
          "Director": "Stephen Sommers"
         },
         {
          "Count": 3,
          "Director": "Quentin Tarantino"
         },
         {
          "Count": 3,
          "Director": "Robert Rodriguez"
         },
         {
          "Count": 3,
          "Director": "Joel Schumacher"
         },
         {
          "Count": 3,
          "Director": "Guillermo Del Toro"
         },
         {
          "Count": 3,
          "Director": "Roland Emmerich"
         },
         {
          "Count": 3,
          "Director": "John McTiernan"
         },
         {
          "Count": 3,
          "Director": "Russell Mulcahy"
         },
         {
          "Count": 3,
          "Director": "Jan De Bont"
         },
         {
          "Count": 3,
          "Director": "Peter Hyams"
         },
         {
          "Count": 3,
          "Director": "Martin Campbell"
         },
         {
          "Count": 3,
          "Director": "Peter Berg"
         },
         {
          "Count": 3,
          "Director": "Len Wiseman"
         },
         {
          "Count": 3,
          "Director": "Antoine Fuqua"
         },
         {
          "Count": 2,
          "Director": "Paul Greengrass"
         },
         {
          "Count": 2,
          "Director": "Paul Anderson"
         },
         {
          "Count": 2,
          "Director": "Mark Steven Johnson"
         },
         {
          "Count": 2,
          "Director": "Roger Spottiswoode"
         },
         {
          "Count": 2,
          "Director": "Louis Leterrier"
         }
        ]
       },
       "encoding": {
        "opacity": {
         "condition": {
          "selection": "selector033",
          "value": 0.8
         },
         "value": 0.1
        },
        "x": {
         "field": "Count",
         "title": "Number of movies",
         "type": "quantitative"
        },
        "y": {
         "field": "Director",
         "title": "Director",
         "type": "nominal"
        }
       },
       "height": 350,
       "mark": "bar",
       "selection": {
        "selector032": {
         "encodings": [
          "y"
         ],
         "type": "interval"
        },
        "selector036": {
         "bind": "scales",
         "encodings": [
          "x",
          "y"
         ],
         "type": "interval"
        }
       },
       "title": "Top 30 productive directors in Action",
       "width": 300
      },
      "text/plain": [
       "<VegaLite 3 object>\n",
       "\n",
       "If you see this message, it means the renderer has not been properly enabled\n",
       "for the frontend that you are using. For more information, see\n",
       "https://altair-viz.github.io/user_guide/troubleshooting.html\n"
      ]
     },
     "execution_count": 110,
     "metadata": {},
     "output_type": "execute_result"
    }
   ],
   "source": [
    "make_bar_plot()"
   ]
  },
  {
   "cell_type": "code",
   "execution_count": 84,
   "metadata": {},
   "outputs": [],
   "source": [
    "def make_text_plot(genre = 'Action', year = (1933, 2010), number_of_directors=30):\n",
    "    # Don't forget to include imports\n",
    "    \n",
    "    # register the custom theme under a chosen name\n",
    "    alt.themes.register('mds_special', mds_special)\n",
    "\n",
    "    # enable the newly registered theme\n",
    "    alt.themes.enable('mds_special')\n",
    "    #alt.themes.enable('none') # to return to default\n",
    "    \n",
    "    # get the clean movies data\n",
    "    movies_df = pd.read_csv('../data/clean/movies_clean_df.csv', index_col = 0)\n",
    "    # get information from the 30 most productive directors in the selected genre\n",
    "    selected_df = movies_df[(movies_df['Year'] > year[0]) & (movies_df['Year'] < year[1])]\n",
    "    top_df = get_top_df(selected_df, number_of_directors, genre)\n",
    "\n",
    "    return alt.Chart(top_df).encode(\n",
    "                alt.X('Director:N', title = 'Director'),\n",
    "                alt.Y('Year:O', title = 'Year')\n",
    "            ).mark_text(\n",
    "            align='left',\n",
    "            baseline='middle',  # Nudges text to right so it doesn't appear on top of the bar\n",
    "            ).encode(\n",
    "            text='Title:N'\n",
    "            ).properties(\n",
    "                title = 'Movie titles for director',\n",
    "                width = 600, \n",
    "                height = 650).interactive()"
   ]
  },
  {
   "cell_type": "code",
   "execution_count": 85,
   "metadata": {},
   "outputs": [
    {
     "data": {
      "application/vnd.vegalite.v3+json": {
       "$schema": "https://vega.github.io/schema/vega-lite/v3.4.0.json",
       "config": {
        "axisX": {
         "domain": true,
         "domainWidth": 1,
         "grid": false,
         "gridColor": "#DEDDDD",
         "labelAngle": 0,
         "labelFont": "Arial",
         "labelFontSize": 12,
         "tickColor": "#000000",
         "tickSize": 5,
         "title": "X Axis Title (units)",
         "titleFont": "Arial",
         "titleFontSize": 16,
         "titlePadding": 10
        },
        "axisY": {
         "domain": false,
         "grid": true,
         "gridColor": "#DEDDDD",
         "gridWidth": 1,
         "labelAngle": 0,
         "labelFont": "Arial",
         "labelFontSize": 14,
         "title": "Y Axis Title (units)",
         "titleFont": "Arial",
         "titleFontSize": 16,
         "titlePadding": 10
        },
        "title": {
         "anchor": "start",
         "font": "Arial",
         "fontColor": "#000000",
         "fontSize": 24
        },
        "view": {
         "height": 300,
         "width": 400
        }
       },
       "data": {
        "name": "data-8e28e0fe280dacd46dc3e966c5c9c690"
       },
       "datasets": {
        "data-8e28e0fe280dacd46dc3e966c5c9c690": [
         {
          "Count": 5,
          "Director": "James Cameron",
          "IMDB_Rating": 7.6,
          "MPAA_Rating": "PG-13",
          "Major_Genre": "Action",
          "Production_Budget": 70000000,
          "Title": "The Abyss",
          "Worldwide_Gross": 54243125,
          "Year": 1989
         },
         {
          "Count": 5,
          "Director": "James Cameron",
          "IMDB_Rating": 7.5,
          "MPAA_Rating": "R",
          "Major_Genre": "Action",
          "Production_Budget": 17000000,
          "Title": "Aliens",
          "Worldwide_Gross": 183316455,
          "Year": 1986
         },
         {
          "Count": 5,
          "Director": "James Cameron",
          "IMDB_Rating": 7.2,
          "MPAA_Rating": "R",
          "Major_Genre": "Action",
          "Production_Budget": 100000000,
          "Title": "True Lies",
          "Worldwide_Gross": 365300000,
          "Year": 1994
         },
         {
          "Count": 5,
          "Director": "James Cameron",
          "IMDB_Rating": 8.5,
          "MPAA_Rating": "R",
          "Major_Genre": "Action",
          "Production_Budget": 100000000,
          "Title": "Terminator 2: Judgment Day",
          "Worldwide_Gross": 516816151,
          "Year": 1991
         },
         {
          "Count": 5,
          "Director": "James Cameron",
          "IMDB_Rating": 8.3,
          "MPAA_Rating": "PG-13",
          "Major_Genre": "Action",
          "Production_Budget": 237000000,
          "Title": "Avatar",
          "Worldwide_Gross": 2767891499,
          "Year": 2009
         },
         {
          "Count": 7,
          "Director": "Michael Bay",
          "IMDB_Rating": 6.6,
          "MPAA_Rating": "R",
          "Major_Genre": "Action",
          "Production_Budget": 23000000,
          "Title": "Bad Boys",
          "Worldwide_Gross": 141247413,
          "Year": 1995
         },
         {
          "Count": 7,
          "Director": "Michael Bay",
          "IMDB_Rating": 7.2,
          "MPAA_Rating": "R",
          "Major_Genre": "Action",
          "Production_Budget": 75000000,
          "Title": "The Rock",
          "Worldwide_Gross": 336069511,
          "Year": 1996
         },
         {
          "Count": 7,
          "Director": "Michael Bay",
          "IMDB_Rating": 6.2,
          "MPAA_Rating": "R",
          "Major_Genre": "Action",
          "Production_Budget": 130000000,
          "Title": "Bad Boys II",
          "Worldwide_Gross": 272940870,
          "Year": 2003
         },
         {
          "Count": 7,
          "Director": "Michael Bay",
          "IMDB_Rating": 6.9,
          "MPAA_Rating": "PG-13",
          "Major_Genre": "Action",
          "Production_Budget": 120000000,
          "Title": "The Island",
          "Worldwide_Gross": 163018913,
          "Year": 2005
         },
         {
          "Count": 7,
          "Director": "Michael Bay",
          "IMDB_Rating": 5.4,
          "MPAA_Rating": "PG-13",
          "Major_Genre": "Action",
          "Production_Budget": 151500000,
          "Title": "Pearl Harbor",
          "Worldwide_Gross": 449239855,
          "Year": 2001
         },
         {
          "Count": 7,
          "Director": "Michael Bay",
          "IMDB_Rating": 7.3,
          "MPAA_Rating": "PG-13",
          "Major_Genre": "Action",
          "Production_Budget": 151000000,
          "Title": "Transformers",
          "Worldwide_Gross": 708272592,
          "Year": 2007
         },
         {
          "Count": 7,
          "Director": "Michael Bay",
          "IMDB_Rating": 6,
          "MPAA_Rating": "PG-13",
          "Major_Genre": "Action",
          "Production_Budget": 210000000,
          "Title": "Transformers: Revenge of the Fallen",
          "Worldwide_Gross": 836303693,
          "Year": 2009
         },
         {
          "Count": 6,
          "Director": "Tony Scott",
          "IMDB_Rating": 6.1,
          "MPAA_Rating": "R",
          "Major_Genre": "Action",
          "Production_Budget": 20000000,
          "Title": "Beverly Hills Cop II",
          "Worldwide_Gross": 276665036,
          "Year": 1987
         },
         {
          "Count": 6,
          "Director": "Tony Scott",
          "IMDB_Rating": 7.2,
          "MPAA_Rating": "R",
          "Major_Genre": "Action",
          "Production_Budget": 55000000,
          "Title": "Crimson Tide",
          "Worldwide_Gross": 159387195,
          "Year": 1995
         },
         {
          "Count": 6,
          "Director": "Tony Scott",
          "IMDB_Rating": 5.9,
          "MPAA_Rating": "R",
          "Major_Genre": "Action",
          "Production_Budget": 50000000,
          "Title": "Domino",
          "Worldwide_Gross": 17759202,
          "Year": 2005
         },
         {
          "Count": 6,
          "Director": "Tony Scott",
          "IMDB_Rating": 7.2,
          "MPAA_Rating": "R",
          "Major_Genre": "Action",
          "Production_Budget": 85000000,
          "Title": "Enemy of the State",
          "Worldwide_Gross": 250649836,
          "Year": 1998
         },
         {
          "Count": 6,
          "Director": "Tony Scott",
          "IMDB_Rating": 6.9,
          "MPAA_Rating": "R",
          "Major_Genre": "Action",
          "Production_Budget": 90000000,
          "Title": "Spy Game",
          "Worldwide_Gross": 143049560,
          "Year": 2001
         },
         {
          "Count": 6,
          "Director": "Tony Scott",
          "IMDB_Rating": 6.5,
          "MPAA_Rating": "R",
          "Major_Genre": "Action",
          "Production_Budget": 110000000,
          "Title": "The Taking of Pelham 123",
          "Worldwide_Gross": 148989667,
          "Year": 2009
         },
         {
          "Count": 4,
          "Director": "Richard Donner",
          "IMDB_Rating": 6.5,
          "MPAA_Rating": "R",
          "Major_Genre": "Action",
          "Production_Budget": 35000000,
          "Title": "Lethal Weapon 3",
          "Worldwide_Gross": 319700000,
          "Year": 1992
         },
         {
          "Count": 4,
          "Director": "Richard Donner",
          "IMDB_Rating": 5.9,
          "MPAA_Rating": "R",
          "Major_Genre": "Action",
          "Production_Budget": 50000000,
          "Title": "Assassins",
          "Worldwide_Gross": 83306268,
          "Year": 1995
         },
         {
          "Count": 4,
          "Director": "Richard Donner",
          "IMDB_Rating": 6.7,
          "MPAA_Rating": "PG-13",
          "Major_Genre": "Action",
          "Production_Budget": 45000000,
          "Title": "16 Blocks",
          "Worldwide_Gross": 65595141,
          "Year": 2006
         },
         {
          "Count": 4,
          "Director": "Richard Donner",
          "IMDB_Rating": 6.4,
          "MPAA_Rating": "R",
          "Major_Genre": "Action",
          "Production_Budget": 140000000,
          "Title": "Lethal Weapon 4",
          "Worldwide_Gross": 285400000,
          "Year": 1998
         },
         {
          "Count": 6,
          "Director": "Brett Ratner",
          "IMDB_Rating": 6.2,
          "MPAA_Rating": "PG-13",
          "Major_Genre": "Action",
          "Production_Budget": 57000000,
          "Title": "After the Sunset",
          "Worldwide_Gross": 38329114,
          "Year": 2004
         },
         {
          "Count": 6,
          "Director": "Brett Ratner",
          "IMDB_Rating": 5.7,
          "MPAA_Rating": "R",
          "Major_Genre": "Action",
          "Production_Budget": 25000000,
          "Title": "Money Talks",
          "Worldwide_Gross": 41076865,
          "Year": 1997
         },
         {
          "Count": 6,
          "Director": "Brett Ratner",
          "IMDB_Rating": 6.4,
          "MPAA_Rating": "PG-13",
          "Major_Genre": "Action",
          "Production_Budget": 90000000,
          "Title": "Rush Hour 2",
          "Worldwide_Gross": 347425832,
          "Year": 2001
         },
         {
          "Count": 6,
          "Director": "Brett Ratner",
          "IMDB_Rating": 6,
          "MPAA_Rating": "PG-13",
          "Major_Genre": "Action",
          "Production_Budget": 180000000,
          "Title": "Rush Hour 3",
          "Worldwide_Gross": 253025968,
          "Year": 2007
         },
         {
          "Count": 6,
          "Director": "Brett Ratner",
          "IMDB_Rating": 6.8,
          "MPAA_Rating": "PG-13",
          "Major_Genre": "Action",
          "Production_Budget": 35000000,
          "Title": "Rush Hour",
          "Worldwide_Gross": 245300000,
          "Year": 1998
         },
         {
          "Count": 6,
          "Director": "Brett Ratner",
          "IMDB_Rating": 6.9,
          "MPAA_Rating": "PG-13",
          "Major_Genre": "Action",
          "Production_Budget": 150000000,
          "Title": "X-Men: The Last Stand",
          "Worldwide_Gross": 459359555,
          "Year": 2006
         }
        ]
       },
       "encoding": {
        "text": {
         "field": "Title",
         "type": "nominal"
        },
        "x": {
         "field": "Director",
         "title": "Director",
         "type": "nominal"
        },
        "y": {
         "field": "Year",
         "title": "Year",
         "type": "ordinal"
        }
       },
       "height": 650,
       "mark": {
        "align": "left",
        "baseline": "middle",
        "type": "text"
       },
       "selection": {
        "selector027": {
         "bind": "scales",
         "encodings": [
          "x",
          "y"
         ],
         "type": "interval"
        }
       },
       "title": "Movie titles for director",
       "width": 600
      },
      "image/png": "[encoded data removed]",
      "text/plain": [
       "<VegaLite 3 object>\n",
       "\n",
       "If you see this message, it means the renderer has not been properly enabled\n",
       "for the frontend that you are using. For more information, see\n",
       "https://altair-viz.github.io/user_guide/troubleshooting.html\n"
      ]
     },
     "execution_count": 85,
     "metadata": {},
     "output_type": "execute_result"
    }
   ],
   "source": [
    "make_text_plot(genre = 'Action', year = (1933, 2010), number_of_directors = 5)"
   ]
  },
  {
   "cell_type": "code",
   "execution_count": 50,
   "metadata": {},
   "outputs": [],
   "source": [
    "def make_plot(genre = 'Action'):\n",
    "    # Don't forget to include imports\n",
    "    def mds_special():\n",
    "        font = \"Arial\"\n",
    "        axisColor = \"#000000\"\n",
    "        gridColor = \"#DEDDDD\"\n",
    "        return {\n",
    "            \"config\": {\n",
    "                \"title\": {\n",
    "                    \"fontSize\": 24,\n",
    "                    \"font\": font,\n",
    "                    \"anchor\": \"start\", # equivalent of left-aligned.\n",
    "                    \"fontColor\": \"#000000\"\n",
    "                },\n",
    "                'view': {\n",
    "                    \"height\": 300, \n",
    "                    \"width\": 400\n",
    "                },\n",
    "                \"axisX\": {\n",
    "                    \"domain\": True,\n",
    "                    #\"domainColor\": axisColor,\n",
    "                    \"gridColor\": gridColor,\n",
    "                    \"domainWidth\": 1,\n",
    "                    \"grid\": False,\n",
    "                    \"labelFont\": font,\n",
    "                    \"labelFontSize\": 12,\n",
    "                    \"labelAngle\": 0, \n",
    "                    \"tickColor\": axisColor,\n",
    "                    \"tickSize\": 5, # default, including it just to show you can change it\n",
    "                    \"titleFont\": font,\n",
    "                    \"titleFontSize\": 16,\n",
    "                    \"titlePadding\": 10, # guessing, not specified in styleguide\n",
    "                    \"title\": \"X Axis Title (units)\", \n",
    "                },\n",
    "                \"axisY\": {\n",
    "                    \"domain\": False,\n",
    "                    \"grid\": True,\n",
    "                    \"gridColor\": gridColor,\n",
    "                    \"gridWidth\": 1,\n",
    "                \"labelFont\": font,\n",
    "                \"labelFontSize\": 14,\n",
    "                \"labelAngle\": 0, \n",
    "                #\"ticks\": False, # even if you don't have a \"domain\" you need to turn these off.\n",
    "                \"titleFont\": font,\n",
    "                \"titleFontSize\": 16,\n",
    "                \"titlePadding\": 10, # guessing, not specified in styleguide\n",
    "                \"title\": \"Y Axis Title (units)\", \n",
    "                # titles are by default vertical left of axis so we need to hack this \n",
    "                #\"titleAngle\": 0, # horizontal\n",
    "                #\"titleY\": -10, # move it up\n",
    "                #\"titleX\": 18, # move it to the right so it aligns with the labels \n",
    "            },\n",
    "        }\n",
    "    }    \n",
    "    \n",
    "    # register the custom theme under a chosen name\n",
    "    alt.themes.register('mds_special', mds_special)\n",
    "    # enable the newly registered theme\n",
    "    alt.themes.enable('mds_special')\n",
    "    #alt.themes.enable('none') # to return to default\n",
    "    \n",
    "    def get_top_df(df, num, genre):\n",
    "        \"\"\"\n",
    "        Finds the number of movies of the most productive directors in the selected genre and \n",
    "        movie information from the most productive directors in the selected genre.\n",
    "\n",
    "        Parameters\n",
    "        ----------\n",
    "        df: pandas.DataFrame\n",
    "            The data frame to work on\n",
    "        num: int\n",
    "            The number of directors to keep in each genre\n",
    "        genre: string\n",
    "            The selected genre\n",
    "\n",
    "        Returns\n",
    "        -------\n",
    "        (pandas.DataFrame, pandas.DataFrame)\n",
    "            The data frame only contains movie information from the most productive directors in the selected genre and \n",
    "            The data frame contains the number of movies of the most productive directors in the selected genre  \n",
    "            \n",
    "        \"\"\"\n",
    "\n",
    "        mdfg = df.groupby('Major_Genre')\n",
    "        top_director = (mdfg.get_group(genre)\n",
    "                        .groupby('Director')\n",
    "                        .count()\n",
    "                        .sort_values(by = 'Title', ascending = False)\n",
    "                        .head(num)\n",
    "                        .reset_index()\n",
    "                        .iloc[:, :2]\n",
    "                        .rename(columns = {'Title': 'Count'}))    \n",
    "        top_director['Major_Genre'] = genre\n",
    "        top_df = pd.merge(selected_df, \n",
    "                        top_director, \n",
    "                        how = \"inner\", \n",
    "                        on = ['Major_Genre', 'Director'])\n",
    "        return (top_director, top_df)\n",
    "\n",
    "   \n",
    "    brush = alt.selection(type='multi', encodings=['y'])\n",
    "\n",
    "    \n",
    "    # get the clean movies data\n",
    "    movies_df = pd.read_csv('../data/clean/movies_clean_df.csv', index_col = 0)\n",
    "    \n",
    "    # get information from the 30 most productive directors in the selected genre\n",
    "    top_director, top_df = get_top_df(movies_df, 30, genre)\n",
    "    \n",
    "    chart_1 = alt.Chart(top_director).mark_bar().encode(\n",
    "                alt.Y('Director:N', \n",
    "                      title='Director', \n",
    "                      sort=alt.EncodingSortField(field=\"Count:Q\",\n",
    "                                                 order=\"ascending\")),\n",
    "                alt.X('Count:Q', \n",
    "                      title='Number of movies'),\n",
    "                opacity=alt.condition(brush, \n",
    "                                      alt.value(0.75), \n",
    "                                      alt.value(0.05)),\n",
    "              ).properties(\n",
    "                title = 'Top 30 productive directors in ' + genre,\n",
    "                width = 300, \n",
    "                height = 750\n",
    "              ).add_selection(brush)\n",
    "    \n",
    "    chart_2 = alt.Chart(top_df).mark_circle().encode(\n",
    "                alt.X(\"Year:O\", \n",
    "                      axis=alt.Axis(title=\"Year\")),\n",
    "                alt.Y(\"IMDB_Rating:Q\", \n",
    "                      axis=alt.Axis(title=\"IMDB Rating 1-10\"), \n",
    "                      scale=alt.Scale(zero=False)),\n",
    "                alt.Color('Director:N'),\n",
    "                opacity=alt.condition(brush, alt.value(0.75), alt.value(0.05)),\n",
    "                tooltip = ['Title', 'Major_Genre', 'Director', 'IMDB_Rating']\n",
    "              ).properties(\n",
    "                title='IMDB Rating',\n",
    "                width=500, height=250\n",
    "              ).interactive()\n",
    "    \n",
    "    chart_3 = alt.Chart(top_df).mark_circle().encode(\n",
    "                alt.X(\"Year:O\",\n",
    "                      axis=alt.Axis(title=\"Year\")),\n",
    "                alt.Y(\"Profit:Q\", \n",
    "                      axis=alt.Axis(title=\"Profit (USD)\"), \n",
    "                      scale=alt.Scale(zero=False)),\n",
    "                alt.Color('Director:N'),\n",
    "                opacity=alt.condition(brush, alt.value(0.75), alt.value(0.05)),\n",
    "                tooltip = ['Title', 'Major_Genre', 'Director', 'IMDB_Rating']\n",
    "            ).properties(title='Worldwide Profit',\n",
    "                        width=500, height=250).interactive()\n",
    "    \n",
    "    return chart_1 | alt.vconcat(chart_2 & chart_3)"
   ]
  },
  {
   "cell_type": "code",
   "execution_count": 51,
   "metadata": {},
   "outputs": [
    {
     "data": {
      "application/vnd.vegalite.v3+json": {
       "$schema": "https://vega.github.io/schema/vega-lite/v3.4.0.json",
       "config": {
        "axisX": {
         "domain": true,
         "domainWidth": 1,
         "grid": false,
         "gridColor": "#DEDDDD",
         "labelAngle": 0,
         "labelFont": "Arial",
         "labelFontSize": 12,
         "tickColor": "#000000",
         "tickSize": 5,
         "title": "X Axis Title (units)",
         "titleFont": "Arial",
         "titleFontSize": 16,
         "titlePadding": 10
        },
        "axisY": {
         "domain": false,
         "grid": true,
         "gridColor": "#DEDDDD",
         "gridWidth": 1,
         "labelAngle": 0,
         "labelFont": "Arial",
         "labelFontSize": 14,
         "title": "Y Axis Title (units)",
         "titleFont": "Arial",
         "titleFontSize": 16,
         "titlePadding": 10
        },
        "title": {
         "anchor": "start",
         "font": "Arial",
         "fontColor": "#000000",
         "fontSize": 24
        },
        "view": {
         "height": 300,
         "width": 400
        }
       },
       "datasets": {
        "data-90e56c51c5004c311c907a353644c1c8": [
         {
          "Count": 6,
          "Director": "Tom Shadyac",
          "IMDB_Rating": 6.6,
          "MPAA_Rating": "PG-13",
          "Major_Genre": "Comedy",
          "Profit": 95217396,
          "Title": "Ace Ventura: Pet Detective",
          "Year": 1994
         },
         {
          "Count": 6,
          "Director": "Tom Shadyac",
          "IMDB_Rating": 5.6,
          "MPAA_Rating": "PG-13",
          "Major_Genre": "Comedy",
          "Profit": 218814019,
          "Title": "The Nutty Professor",
          "Year": 1996
         },
         {
          "Count": 6,
          "Director": "Tom Shadyac",
          "IMDB_Rating": 5.5,
          "MPAA_Rating": "PG",
          "Major_Genre": "Comedy",
          "Profit": -1780720,
          "Title": "Evan Almighty",
          "Year": 2007
         },
         {
          "Count": 6,
          "Director": "Tom Shadyac",
          "IMDB_Rating": 6.6,
          "MPAA_Rating": "PG-13",
          "Major_Genre": "Comedy",
          "Profit": 404004995,
          "Title": "Bruce Almighty",
          "Year": 2003
         },
         {
          "Count": 6,
          "Director": "Tom Shadyac",
          "IMDB_Rating": 6.7,
          "MPAA_Rating": "PG-13",
          "Major_Genre": "Comedy",
          "Profit": 257710615,
          "Title": "Liar Liar",
          "Year": 1997
         },
         {
          "Count": 6,
          "Director": "Tom Shadyac",
          "IMDB_Rating": 6.3,
          "MPAA_Rating": "PG-13",
          "Major_Genre": "Comedy",
          "Profit": 152200000,
          "Title": "Patch Adams",
          "Year": 1998
         },
         {
          "Count": 7,
          "Director": "Kevin Smith",
          "IMDB_Rating": 7.9,
          "MPAA_Rating": "R",
          "Major_Genre": "Comedy",
          "Profit": 3046428,
          "Title": "Clerks",
          "Year": 1994
         },
         {
          "Count": 7,
          "Director": "Kevin Smith",
          "IMDB_Rating": 7.1,
          "MPAA_Rating": "R",
          "Major_Genre": "Comedy",
          "Profit": -3991633,
          "Title": "Mallrats",
          "Year": 1995
         },
         {
          "Count": 7,
          "Director": "Kevin Smith",
          "IMDB_Rating": 7.7,
          "MPAA_Rating": "R",
          "Major_Genre": "Comedy",
          "Profit": 20894473,
          "Title": "Clerks II",
          "Year": 2006
         },
         {
          "Count": 7,
          "Director": "Kevin Smith",
          "IMDB_Rating": 7.3,
          "MPAA_Rating": "R",
          "Major_Genre": "Comedy",
          "Profit": 33948865,
          "Title": "Dogma",
          "Year": 1999
         },
         {
          "Count": 7,
          "Director": "Kevin Smith",
          "IMDB_Rating": 6.2,
          "MPAA_Rating": "PG-13",
          "Major_Genre": "Comedy",
          "Profit": 2066129,
          "Title": "Jersey Girl",
          "Year": 2004
         },
         {
          "Count": 7,
          "Director": "Kevin Smith",
          "IMDB_Rating": 6.8,
          "MPAA_Rating": "R",
          "Major_Genre": "Comedy",
          "Profit": 11762400,
          "Title": "Jay and Silent Bob Strike Back",
          "Year": 2001
         },
         {
          "Count": 7,
          "Director": "Kevin Smith",
          "IMDB_Rating": 7,
          "MPAA_Rating": "R",
          "Major_Genre": "Comedy",
          "Profit": 12851125,
          "Title": "Zack and Miri Make a Porno",
          "Year": 2008
         },
         {
          "Count": 5,
          "Director": "Bobby Farrelly",
          "IMDB_Rating": 7.2,
          "MPAA_Rating": "PG-13",
          "Major_Genre": "Comedy",
          "Profit": 230400000,
          "Title": "Dumb & Dumber",
          "Year": 1994
         },
         {
          "Count": 5,
          "Director": "Bobby Farrelly",
          "IMDB_Rating": 6.7,
          "MPAA_Rating": "R",
          "Major_Genre": "Comedy",
          "Profit": 7223424,
          "Title": "Kingpin",
          "Year": 1996
         },
         {
          "Count": 5,
          "Director": "Bobby Farrelly",
          "IMDB_Rating": 6.3,
          "MPAA_Rating": "PG-13",
          "Major_Genre": "Comedy",
          "Profit": 10071069,
          "Title": "Fever Pitch",
          "Year": 2005
         },
         {
          "Count": 5,
          "Director": "Bobby Farrelly",
          "IMDB_Rating": 6,
          "MPAA_Rating": "PG",
          "Major_Genre": "Comedy",
          "Profit": -56403089,
          "Title": "Osmosis Jones",
          "Year": 2001
         },
         {
          "Count": 5,
          "Director": "Bobby Farrelly",
          "IMDB_Rating": 5.9,
          "MPAA_Rating": "PG-13",
          "Major_Genre": "Comedy",
          "Profit": 8537164,
          "Title": "Stuck On You",
          "Year": 2003
         },
         {
          "Count": 4,
          "Director": "Brian Levant",
          "IMDB_Rating": 4.6,
          "MPAA_Rating": "PG",
          "Major_Genre": "Comedy",
          "Profit": 313500000,
          "Title": "The Flintstones",
          "Year": 1994
         },
         {
          "Count": 4,
          "Director": "Brian Levant",
          "IMDB_Rating": 4.9,
          "MPAA_Rating": "PG",
          "Major_Genre": "Comedy",
          "Profit": 69832389,
          "Title": "Jingle All the Way",
          "Year": 1996
         },
         {
          "Count": 4,
          "Director": "Brian Levant",
          "IMDB_Rating": 4.9,
          "MPAA_Rating": "PG",
          "Major_Genre": "Comedy",
          "Profit": 83010692,
          "Title": "Snow Dogs",
          "Year": 2002
         },
         {
          "Count": 4,
          "Director": "Brian Levant",
          "IMDB_Rating": 3.3,
          "MPAA_Rating": "PG",
          "Major_Genre": "Comedy",
          "Profit": 1431365,
          "Title": "The Flintstones in Viva Rock Vegas",
          "Year": 2000
         },
         {
          "Count": 4,
          "Director": "Ivan Reitman",
          "IMDB_Rating": 6.8,
          "MPAA_Rating": "PG",
          "Major_Genre": "Comedy",
          "Profit": 261632124,
          "Title": "Ghostbusters",
          "Year": 1984
         },
         {
          "Count": 4,
          "Director": "Ivan Reitman",
          "IMDB_Rating": 6.8,
          "MPAA_Rating": "R",
          "Major_Genre": "Comedy",
          "Profit": 75300000,
          "Title": "Stripes",
          "Year": 1981
         },
         {
          "Count": 4,
          "Director": "Ivan Reitman",
          "IMDB_Rating": 5.9,
          "MPAA_Rating": "PG-13",
          "Major_Genre": "Comedy",
          "Profit": 18341932,
          "Title": "Evolution",
          "Year": 2001
         },
         {
          "Count": 4,
          "Director": "Ivan Reitman",
          "IMDB_Rating": 4.8,
          "MPAA_Rating": "PG-13",
          "Major_Genre": "Comedy",
          "Profit": -49318920,
          "Title": "Father's Day",
          "Year": 1997
         },
         {
          "Count": 6,
          "Director": "Harold Ramis",
          "IMDB_Rating": 8.2,
          "MPAA_Rating": "PG",
          "Major_Genre": "Comedy",
          "Profit": 56306973,
          "Title": "Groundhog Day",
          "Year": 1993
         },
         {
          "Count": 6,
          "Director": "Harold Ramis",
          "IMDB_Rating": 5.7,
          "MPAA_Rating": "PG-13",
          "Major_Genre": "Comedy",
          "Profit": -24866674,
          "Title": "Multiplicity",
          "Year": 1996
         },
         {
          "Count": 6,
          "Director": "Harold Ramis",
          "IMDB_Rating": 5.6,
          "MPAA_Rating": "R",
          "Major_Genre": "Comedy",
          "Profit": -5005243,
          "Title": "Analyze That",
          "Year": 2002
         },
         {
          "Count": 6,
          "Director": "Harold Ramis",
          "IMDB_Rating": 6.6,
          "MPAA_Rating": "R",
          "Major_Genre": "Comedy",
          "Profit": 146885658,
          "Title": "Analyze This",
          "Year": 1999
         },
         {
          "Count": 6,
          "Director": "Harold Ramis",
          "IMDB_Rating": 5.9,
          "MPAA_Rating": "PG-13",
          "Major_Genre": "Comedy",
          "Profit": 42376224,
          "Title": "Bedazzled",
          "Year": 2000
         },
         {
          "Count": 6,
          "Director": "Harold Ramis",
          "IMDB_Rating": 5,
          "MPAA_Rating": "PG-13",
          "Major_Genre": "Comedy",
          "Profit": -2395277,
          "Title": "Year One",
          "Year": 2009
         },
         {
          "Count": 4,
          "Director": "Chris Columbus",
          "IMDB_Rating": 5.8,
          "MPAA_Rating": "PG",
          "Major_Genre": "Comedy",
          "Profit": 338994850,
          "Title": "Home Alone 2: Lost in New York",
          "Year": 1992
         },
         {
          "Count": 4,
          "Director": "Chris Columbus",
          "IMDB_Rating": 7,
          "MPAA_Rating": "PG",
          "Major_Genre": "Comedy",
          "Profit": 461684675,
          "Title": "Home Alone",
          "Year": 1990
         },
         {
          "Count": 4,
          "Director": "Chris Columbus",
          "IMDB_Rating": 6.6,
          "MPAA_Rating": "PG-13",
          "Major_Genre": "Comedy",
          "Profit": 416286003,
          "Title": "Mrs. Doubtfire",
          "Year": 1993
         },
         {
          "Count": 4,
          "Director": "Chris Columbus",
          "IMDB_Rating": 5.9,
          "MPAA_Rating": "PG-13",
          "Major_Genre": "Comedy",
          "Profit": -1617462,
          "Title": "I Love You, Beth Cooper",
          "Year": 2009
         },
         {
          "Count": 5,
          "Director": "Dennis Dugan",
          "IMDB_Rating": 6.9,
          "MPAA_Rating": "PG-13",
          "Major_Genre": "Comedy",
          "Profit": 28623460,
          "Title": "Happy Gilmore",
          "Year": 1996
         },
         {
          "Count": 5,
          "Director": "Dennis Dugan",
          "IMDB_Rating": 4.7,
          "MPAA_Rating": "PG-13",
          "Major_Genre": "Comedy",
          "Profit": 204779795,
          "Title": "Big Daddy",
          "Year": 1999
         },
         {
          "Count": 5,
          "Director": "Dennis Dugan",
          "IMDB_Rating": 5.4,
          "MPAA_Rating": "PG-13",
          "Major_Genre": "Comedy",
          "Profit": 29843754,
          "Title": "The Benchwarmers",
          "Year": 2006
         },
         {
          "Count": 5,
          "Director": "Dennis Dugan",
          "IMDB_Rating": 6.1,
          "MPAA_Rating": "PG-13",
          "Major_Genre": "Comedy",
          "Profit": 100708462,
          "Title": "I Now Pronounce You Chuck and Larry",
          "Year": 2007
         },
         {
          "Count": 5,
          "Director": "Dennis Dugan",
          "IMDB_Rating": 5.6,
          "MPAA_Rating": "R",
          "Major_Genre": "Comedy",
          "Profit": -2648431,
          "Title": "Saving Silverman",
          "Year": 2001
         },
         {
          "Count": 4,
          "Director": "Joel Coen",
          "IMDB_Rating": 7.4,
          "MPAA_Rating": "PG",
          "Major_Genre": "Comedy",
          "Profit": -25061851,
          "Title": "The Hudsucker Proxy",
          "Year": 1994
         },
         {
          "Count": 4,
          "Director": "Joel Coen",
          "IMDB_Rating": 7.2,
          "MPAA_Rating": "R",
          "Major_Genre": "Comedy",
          "Profit": 23710147,
          "Title": "A Serious Man",
          "Year": 2009
         },
         {
          "Count": 4,
          "Director": "Joel Coen",
          "IMDB_Rating": 8.2,
          "MPAA_Rating": "R",
          "Major_Genre": "Comedy",
          "Profit": 31189568,
          "Title": "The Big Lebowski",
          "Year": 1998
         },
         {
          "Count": 4,
          "Director": "Joel Coen",
          "IMDB_Rating": 6.2,
          "MPAA_Rating": "R",
          "Major_Genre": "Comedy",
          "Profit": 42692139,
          "Title": "The Ladykillers",
          "Year": 2004
         },
         {
          "Count": 3,
          "Director": "Stephen Herek",
          "IMDB_Rating": 5.9,
          "MPAA_Rating": "PG",
          "Major_Genre": "Comedy",
          "Profit": 40752337,
          "Title": "The Mighty Ducks",
          "Year": 1992
         },
         {
          "Count": 3,
          "Director": "Stephen Herek",
          "IMDB_Rating": 4.7,
          "MPAA_Rating": "PG",
          "Major_Genre": "Comedy",
          "Profit": -47930281,
          "Title": "Holy Man",
          "Year": 1998
         },
         {
          "Count": 3,
          "Director": "Stephen Herek",
          "IMDB_Rating": 4.2,
          "MPAA_Rating": "PG-13",
          "Major_Genre": "Comedy",
          "Profit": -27900294,
          "Title": "Man of the House",
          "Year": 2005
         },
         {
          "Count": 5,
          "Director": "Peter Segal",
          "IMDB_Rating": 6.1,
          "MPAA_Rating": "PG-13",
          "Major_Genre": "Comedy",
          "Profit": 21041856,
          "Title": "Naked Gun 33 1/3: The Final Insult",
          "Year": 1994
         },
         {
          "Count": 5,
          "Director": "Peter Segal",
          "IMDB_Rating": 6.1,
          "MPAA_Rating": "PG-13",
          "Major_Genre": "Comedy",
          "Profit": 139660942,
          "Title": "Anger Management",
          "Year": 2003
         },
         {
          "Count": 5,
          "Director": "Peter Segal",
          "IMDB_Rating": 6.2,
          "MPAA_Rating": "PG-13",
          "Major_Genre": "Comedy",
          "Profit": 108320568,
          "Title": "The Longest Yard",
          "Year": 2005
         },
         {
          "Count": 5,
          "Director": "Peter Segal",
          "IMDB_Rating": 6.3,
          "MPAA_Rating": "PG-13",
          "Major_Genre": "Comedy",
          "Profit": 831846,
          "Title": "My Fellow Americans",
          "Year": 1996
         },
         {
          "Count": 5,
          "Director": "Peter Segal",
          "IMDB_Rating": 4.3,
          "MPAA_Rating": "PG-13",
          "Major_Genre": "Comedy",
          "Profit": 77600000,
          "Title": "Nutty Professor II: The Klumps",
          "Year": 2000
         },
         {
          "Count": 4,
          "Director": "Donald Petrie",
          "IMDB_Rating": 4.7,
          "MPAA_Rating": "PG",
          "Major_Genre": "Comedy",
          "Profit": -1912244,
          "Title": "Ri¢hie Ri¢h",
          "Year": 1994
         },
         {
          "Count": 4,
          "Director": "Donald Petrie",
          "IMDB_Rating": 6.1,
          "MPAA_Rating": "PG-13",
          "Major_Genre": "Comedy",
          "Profit": 167100000,
          "Title": "Miss Congeniality",
          "Year": 2000
         },
         {
          "Count": 4,
          "Director": "Donald Petrie",
          "IMDB_Rating": 5.2,
          "MPAA_Rating": "PG-13",
          "Major_Genre": "Comedy",
          "Profit": -11530572,
          "Title": "Welcome to Mooseport",
          "Year": 2004
         },
         {
          "Count": 4,
          "Director": "Donald Petrie",
          "IMDB_Rating": 4.5,
          "MPAA_Rating": "PG",
          "Major_Genre": "Comedy",
          "Profit": -23149899,
          "Title": "My Favorite Martian",
          "Year": 1999
         },
         {
          "Count": 4,
          "Director": "Christopher Guest",
          "IMDB_Rating": 7.4,
          "MPAA_Rating": "R",
          "Major_Genre": "Comedy",
          "Profit": -1077012,
          "Title": "Waiting for Guffman",
          "Year": 1997
         },
         {
          "Count": 4,
          "Director": "Christopher Guest",
          "IMDB_Rating": 7.4,
          "MPAA_Rating": "PG-13",
          "Major_Genre": "Comedy",
          "Profit": 14695413,
          "Title": "Best in Show",
          "Year": 2000
         },
         {
          "Count": 4,
          "Director": "Christopher Guest",
          "IMDB_Rating": 6.2,
          "MPAA_Rating": "PG-13",
          "Major_Genre": "Comedy",
          "Profit": -6450077,
          "Title": "For Your Consideration",
          "Year": 2006
         },
         {
          "Count": 4,
          "Director": "Christopher Guest",
          "IMDB_Rating": 7.2,
          "MPAA_Rating": "PG-13",
          "Major_Genre": "Comedy",
          "Profit": 12552708,
          "Title": "A Mighty Wind",
          "Year": 2003
         },
         {
          "Count": 3,
          "Director": "Howard Deutch",
          "IMDB_Rating": 5.1,
          "MPAA_Rating": "PG-13",
          "Major_Genre": "Comedy",
          "Profit": -3676031,
          "Title": "The Whole Ten Yards",
          "Year": 2004
         },
         {
          "Count": 3,
          "Director": "Howard Deutch",
          "IMDB_Rating": 5.8,
          "MPAA_Rating": "R",
          "Major_Genre": "Comedy",
          "Profit": 14787111,
          "Title": "My Best Friend's Girl",
          "Year": 2008
         },
         {
          "Count": 3,
          "Director": "Howard Deutch",
          "IMDB_Rating": 6.2,
          "MPAA_Rating": "PG-13",
          "Major_Genre": "Comedy",
          "Profit": 54511,
          "Title": "The Replacements",
          "Year": 2000
         },
         {
          "Count": 3,
          "Director": "Tim Hill",
          "IMDB_Rating": 5.5,
          "MPAA_Rating": "PG",
          "Major_Genre": "Comedy",
          "Profit": 305578644,
          "Title": "Alvin and the Chipmunks",
          "Year": 2007
         },
         {
          "Count": 3,
          "Director": "Tim Hill",
          "IMDB_Rating": 5.1,
          "MPAA_Rating": "PG",
          "Major_Genre": "Comedy",
          "Profit": 5292381,
          "Title": "Max Keeble's Big Move",
          "Year": 2001
         },
         {
          "Count": 3,
          "Director": "Tim Hill",
          "IMDB_Rating": 6.1,
          "MPAA_Rating": "G",
          "Major_Genre": "Comedy",
          "Profit": -7695214,
          "Title": "Muppets From Space",
          "Year": 1999
         },
         {
          "Count": 3,
          "Director": "David Zucker",
          "IMDB_Rating": 4.5,
          "MPAA_Rating": "PG-13",
          "Major_Genre": "Comedy",
          "Profit": -12986809,
          "Title": "An American Carol",
          "Year": 2008
         },
         {
          "Count": 3,
          "Director": "David Zucker",
          "IMDB_Rating": 5.4,
          "MPAA_Rating": "PG-13",
          "Major_Genre": "Comedy",
          "Profit": 110200000,
          "Title": "Scary Movie 3",
          "Year": 2003
         },
         {
          "Count": 3,
          "Director": "David Zucker",
          "IMDB_Rating": 5,
          "MPAA_Rating": "PG-13",
          "Major_Genre": "Comedy",
          "Profit": 138710620,
          "Title": "Scary Movie 4",
          "Year": 2006
         },
         {
          "Count": 3,
          "Director": "Paul Weitz",
          "IMDB_Rating": 6.9,
          "MPAA_Rating": "R",
          "Major_Genre": "Comedy",
          "Profit": 222800000,
          "Title": "American Pie",
          "Year": 1999
         },
         {
          "Count": 3,
          "Director": "Paul Weitz",
          "IMDB_Rating": 5,
          "MPAA_Rating": "PG-13",
          "Major_Genre": "Comedy",
          "Profit": 41172251,
          "Title": "Down to Earth",
          "Year": 2001
         },
         {
          "Count": 3,
          "Director": "Paul Weitz",
          "IMDB_Rating": 6.8,
          "MPAA_Rating": "PG-13",
          "Major_Genre": "Comedy",
          "Profit": 37489752,
          "Title": "In Good Company",
          "Year": 2004
         },
         {
          "Count": 6,
          "Director": "Jay Roach",
          "IMDB_Rating": 6.6,
          "MPAA_Rating": "PG-13",
          "Major_Genre": "Comedy",
          "Profit": 274600000,
          "Title": "Austin Powers: The Spy Who Shagged Me",
          "Year": 1999
         },
         {
          "Count": 6,
          "Director": "Jay Roach",
          "IMDB_Rating": 6.2,
          "MPAA_Rating": "PG-13",
          "Major_Genre": "Comedy",
          "Profit": 229738626,
          "Title": "Austin Powers in Goldmember",
          "Year": 2002
         },
         {
          "Count": 6,
          "Director": "Jay Roach",
          "IMDB_Rating": 7.1,
          "MPAA_Rating": "PG-13",
          "Major_Genre": "Comedy",
          "Profit": 49683989,
          "Title": "Austin Powers: International Man of Mystery",
          "Year": 1997
         },
         {
          "Count": 6,
          "Director": "Jay Roach",
          "IMDB_Rating": 6.4,
          "MPAA_Rating": "PG-13",
          "Major_Genre": "Comedy",
          "Profit": 456567575,
          "Title": "Meet the Fockers",
          "Year": 2004
         },
         {
          "Count": 6,
          "Director": "Jay Roach",
          "IMDB_Rating": 7,
          "MPAA_Rating": "PG-13",
          "Major_Genre": "Comedy",
          "Profit": 246500000,
          "Title": "Meet the Parents",
          "Year": 2000
         },
         {
          "Count": 6,
          "Director": "Jay Roach",
          "IMDB_Rating": 5.5,
          "MPAA_Rating": "R",
          "Major_Genre": "Comedy",
          "Profit": -19108377,
          "Title": "Mystery, Alaska",
          "Year": 1999
         },
         {
          "Count": 5,
          "Director": "Shawn Levy",
          "IMDB_Rating": 5.2,
          "MPAA_Rating": "PG",
          "Major_Genre": "Comedy",
          "Profit": 37375275,
          "Title": "Big Fat Liar",
          "Year": 2002
         },
         {
          "Count": 5,
          "Director": "Shawn Levy",
          "IMDB_Rating": 5.6,
          "MPAA_Rating": "PG",
          "Major_Genre": "Comedy",
          "Profit": 149714544,
          "Title": "Cheaper by the Dozen",
          "Year": 2003
         },
         {
          "Count": 5,
          "Director": "Shawn Levy",
          "IMDB_Rating": 6.4,
          "MPAA_Rating": "PG",
          "Major_Genre": "Comedy",
          "Profit": 464480841,
          "Title": "Night at the Museum",
          "Year": 2006
         },
         {
          "Count": 5,
          "Director": "Shawn Levy",
          "IMDB_Rating": 5.9,
          "MPAA_Rating": "PG",
          "Major_Genre": "Comedy",
          "Profit": 263054631,
          "Title": "Night at the Museum: Battle of the Smithsonian",
          "Year": 2009
         },
         {
          "Count": 5,
          "Director": "Shawn Levy",
          "IMDB_Rating": 5.1,
          "MPAA_Rating": "PG",
          "Major_Genre": "Comedy",
          "Profit": 78926474,
          "Title": "The Pink Panther",
          "Year": 2006
         },
         {
          "Count": 4,
          "Director": "Raja Gosnell",
          "IMDB_Rating": 4.7,
          "MPAA_Rating": "PG-13",
          "Major_Genre": "Comedy",
          "Profit": 140559438,
          "Title": "Big Momma's House",
          "Year": 2000
         },
         {
          "Count": 4,
          "Director": "Raja Gosnell",
          "IMDB_Rating": 4.8,
          "MPAA_Rating": "PG",
          "Major_Genre": "Comedy",
          "Profit": 156185387,
          "Title": "Scooby-Doo 2: Monsters Unleashed",
          "Year": 2004
         },
         {
          "Count": 4,
          "Director": "Raja Gosnell",
          "IMDB_Rating": 4.7,
          "MPAA_Rating": "PG",
          "Major_Genre": "Comedy",
          "Profit": 192294164,
          "Title": "Scooby-Doo",
          "Year": 2002
         },
         {
          "Count": 4,
          "Director": "Raja Gosnell",
          "IMDB_Rating": 7.6,
          "MPAA_Rating": "PG",
          "Major_Genre": "Comedy",
          "Profit": 27359917,
          "Title": "Yours, Mine and Ours",
          "Year": 2005
         },
         {
          "Count": 4,
          "Director": "Frank Oz",
          "IMDB_Rating": 6.4,
          "MPAA_Rating": "PG-13",
          "Major_Genre": "Comedy",
          "Profit": 43699769,
          "Title": "Bowfinger",
          "Year": 1999
         },
         {
          "Count": 4,
          "Director": "Frank Oz",
          "IMDB_Rating": 5.1,
          "MPAA_Rating": "R",
          "Major_Genre": "Comedy",
          "Profit": 14743644,
          "Title": "Death at a Funeral",
          "Year": 2007
         },
         {
          "Count": 4,
          "Director": "Frank Oz",
          "IMDB_Rating": 6.1,
          "MPAA_Rating": "PG-13",
          "Major_Genre": "Comedy",
          "Profit": 48226569,
          "Title": "In & Out",
          "Year": 1997
         },
         {
          "Count": 4,
          "Director": "Frank Oz",
          "IMDB_Rating": 5.1,
          "MPAA_Rating": "PG-13",
          "Major_Genre": "Comedy",
          "Profit": -3778029,
          "Title": "The Stepford Wives",
          "Year": 2004
         },
         {
          "Count": 3,
          "Director": "Nora Ephron",
          "IMDB_Rating": 4.8,
          "MPAA_Rating": "PG-13",
          "Major_Genre": "Comedy",
          "Profit": 51413159,
          "Title": "Bewitched",
          "Year": 2005
         },
         {
          "Count": 3,
          "Director": "Nora Ephron",
          "IMDB_Rating": 7.2,
          "MPAA_Rating": "PG-13",
          "Major_Genre": "Comedy",
          "Profit": 86646119,
          "Title": "Julie & Julia",
          "Year": 2009
         },
         {
          "Count": 3,
          "Director": "Nora Ephron",
          "IMDB_Rating": 4.9,
          "MPAA_Rating": "R",
          "Major_Genre": "Comedy",
          "Profit": -54985766,
          "Title": "Lucky Numbers",
          "Year": 2000
         },
         {
          "Count": 4,
          "Director": "Woody Allen",
          "IMDB_Rating": 6.1,
          "MPAA_Rating": "R",
          "Major_Genre": "Comedy",
          "Profit": -5800000,
          "Title": "Celebrity",
          "Year": 1998
         },
         {
          "Count": 4,
          "Director": "Woody Allen",
          "IMDB_Rating": 6.7,
          "MPAA_Rating": "PG-13",
          "Major_Genre": "Comedy",
          "Profit": -7503478,
          "Title": "The Curse of the Jade Scorpion",
          "Year": 2001
         },
         {
          "Count": 4,
          "Director": "Woody Allen",
          "IMDB_Rating": 7.4,
          "MPAA_Rating": "PG-13",
          "Major_Genre": "Comedy",
          "Profit": 61213577,
          "Title": "Vicky Cristina Barcelona",
          "Year": 2008
         },
         {
          "Count": 4,
          "Director": "Woody Allen",
          "IMDB_Rating": 6.5,
          "MPAA_Rating": "PG",
          "Major_Genre": "Comedy",
          "Profit": 11934477,
          "Title": "Small Time Crooks",
          "Year": 2000
         },
         {
          "Count": 3,
          "Director": "Les Mayfield",
          "IMDB_Rating": 4,
          "MPAA_Rating": "PG-13",
          "Major_Genre": "Comedy",
          "Profit": -11864976,
          "Title": "Code Name: The Cleaner",
          "Year": 2007
         },
         {
          "Count": 3,
          "Director": "Les Mayfield",
          "IMDB_Rating": 4.6,
          "MPAA_Rating": "PG",
          "Major_Genre": "Comedy",
          "Profit": 97993801,
          "Title": "Flubber",
          "Year": 1997
         },
         {
          "Count": 3,
          "Director": "Les Mayfield",
          "IMDB_Rating": 5.4,
          "MPAA_Rating": "PG-13",
          "Major_Genre": "Comedy",
          "Profit": -9606304,
          "Title": "The Man",
          "Year": 2005
         },
         {
          "Count": 5,
          "Director": "Steve Carr",
          "IMDB_Rating": 5.5,
          "MPAA_Rating": "PG",
          "Major_Genre": "Comedy",
          "Profit": 104285587,
          "Title": "Daddy Day Care",
          "Year": 2003
         },
         {
          "Count": 5,
          "Director": "Steve Carr",
          "IMDB_Rating": 6,
          "MPAA_Rating": "PG",
          "Major_Genre": "Comedy",
          "Profit": 104101721,
          "Title": "Doctor Dolittle 2",
          "Year": 2001
         },
         {
          "Count": 5,
          "Director": "Steve Carr",
          "IMDB_Rating": 5.3,
          "MPAA_Rating": "R",
          "Major_Genre": "Comedy",
          "Profit": 50175307,
          "Title": "Next Friday",
          "Year": 2000
         },
         {
          "Count": 5,
          "Director": "Steve Carr",
          "IMDB_Rating": 5.3,
          "MPAA_Rating": "PG",
          "Major_Genre": "Comedy",
          "Profit": 154449670,
          "Title": "Paul Blart: Mall Cop",
          "Year": 2009
         },
         {
          "Count": 5,
          "Director": "Steve Carr",
          "IMDB_Rating": 4.7,
          "MPAA_Rating": "PG",
          "Major_Genre": "Comedy",
          "Profit": -27507986,
          "Title": "Rebound",
          "Year": 2005
         },
         {
          "Count": 4,
          "Director": "Jason Friedberg",
          "IMDB_Rating": 2.6,
          "MPAA_Rating": "PG-13",
          "Major_Genre": "Comedy",
          "Profit": 64548426,
          "Title": "Date Movie",
          "Year": 2006
         },
         {
          "Count": 4,
          "Director": "Jason Friedberg",
          "IMDB_Rating": 1.7000000000000002,
          "MPAA_Rating": "PG-13",
          "Major_Genre": "Comedy",
          "Profit": 14690901,
          "Title": "Disaster Movie",
          "Year": 2008
         },
         {
          "Count": 4,
          "Director": "Jason Friedberg",
          "IMDB_Rating": 2.2,
          "MPAA_Rating": "PG-13",
          "Major_Genre": "Comedy",
          "Profit": 66858578,
          "Title": "Epic Movie",
          "Year": 2007
         },
         {
          "Count": 4,
          "Director": "Jason Friedberg",
          "IMDB_Rating": 2.4,
          "MPAA_Rating": "PG-13",
          "Major_Genre": "Comedy",
          "Profit": 54646831,
          "Title": "Meet the Spartans",
          "Year": 2008
         },
         {
          "Count": 3,
          "Director": "Tyler Perry",
          "IMDB_Rating": 3.9,
          "MPAA_Rating": "PG-13",
          "Major_Genre": "Comedy",
          "Profit": 53308879,
          "Title": "Madea's Family Reunion",
          "Year": 2006
         },
         {
          "Count": 3,
          "Director": "Tyler Perry",
          "IMDB_Rating": 3.1,
          "MPAA_Rating": "PG-13",
          "Major_Genre": "Comedy",
          "Profit": 21975388,
          "Title": "Meet the Browns",
          "Year": 2008
         },
         {
          "Count": 3,
          "Director": "Tyler Perry",
          "IMDB_Rating": 3.1,
          "MPAA_Rating": "PG-13",
          "Major_Genre": "Comedy",
          "Profit": 73008336,
          "Title": "Madea Goes To Jail",
          "Year": 2009
         },
         {
          "Count": 5,
          "Director": "Todd Phillips",
          "IMDB_Rating": 7.9,
          "MPAA_Rating": "R",
          "Major_Genre": "Comedy",
          "Profit": 430132119,
          "Title": "The Hangover",
          "Year": 2009
         },
         {
          "Count": 5,
          "Director": "Todd Phillips",
          "IMDB_Rating": 6.2,
          "MPAA_Rating": "PG-13",
          "Major_Genre": "Comedy",
          "Profit": 110200225,
          "Title": "Starsky & Hutch",
          "Year": 2004
         },
         {
          "Count": 5,
          "Director": "Todd Phillips",
          "IMDB_Rating": 7,
          "MPAA_Rating": "R",
          "Major_Genre": "Comedy",
          "Profit": 62325829,
          "Title": "Old School",
          "Year": 2003
         },
         {
          "Count": 5,
          "Director": "Todd Phillips",
          "IMDB_Rating": 6.4,
          "MPAA_Rating": "R",
          "Major_Genre": "Comedy",
          "Profit": 103739110,
          "Title": "Road Trip",
          "Year": 2000
         },
         {
          "Count": 5,
          "Director": "Todd Phillips",
          "IMDB_Rating": 6,
          "MPAA_Rating": "PG-13",
          "Major_Genre": "Comedy",
          "Profit": -2192431,
          "Title": "School for Scoundrels",
          "Year": 2006
         },
         {
          "Count": 4,
          "Director": "Keenen Ivory Wayans",
          "IMDB_Rating": 5.7,
          "MPAA_Rating": "PG-13",
          "Major_Genre": "Comedy",
          "Profit": 37636047,
          "Title": "Little Man",
          "Year": 2006
         },
         {
          "Count": 4,
          "Director": "Keenen Ivory Wayans",
          "IMDB_Rating": 4.7,
          "MPAA_Rating": "R",
          "Major_Genre": "Comedy",
          "Profit": 96189101,
          "Title": "Scary Movie 2",
          "Year": 2001
         },
         {
          "Count": 4,
          "Director": "Keenen Ivory Wayans",
          "IMDB_Rating": 6,
          "MPAA_Rating": "R",
          "Major_Genre": "Comedy",
          "Profit": 258200000,
          "Title": "Scary Movie",
          "Year": 2000
         },
         {
          "Count": 4,
          "Director": "Keenen Ivory Wayans",
          "IMDB_Rating": 5,
          "MPAA_Rating": "PG-13",
          "Major_Genre": "Comedy",
          "Profit": 91448997,
          "Title": "White Chicks",
          "Year": 2004
         },
         {
          "Count": 3,
          "Director": "Malcolm D. Lee",
          "IMDB_Rating": 5,
          "MPAA_Rating": "PG-13",
          "Major_Genre": "Comedy",
          "Profit": 7500866,
          "Title": "Roll Bounce",
          "Year": 2005
         },
         {
          "Count": 3,
          "Director": "Malcolm D. Lee",
          "IMDB_Rating": 5.7,
          "MPAA_Rating": "PG-13",
          "Major_Genre": "Comedy",
          "Profit": 13230435,
          "Title": "Undercover Brother",
          "Year": 2002
         },
         {
          "Count": 3,
          "Director": "Malcolm D. Lee",
          "IMDB_Rating": 4.5,
          "MPAA_Rating": "PG-13",
          "Major_Genre": "Comedy",
          "Profit": 16107627,
          "Title": "Welcome Home Roscoe Jenkins",
          "Year": 2008
         }
        ],
        "data-ac757487762b5f28f49e244ee39ae42f": [
         {
          "Count": 7,
          "Director": "Kevin Smith"
         },
         {
          "Count": 6,
          "Director": "Jay Roach"
         },
         {
          "Count": 6,
          "Director": "Tom Shadyac"
         },
         {
          "Count": 6,
          "Director": "Harold Ramis"
         },
         {
          "Count": 5,
          "Director": "Steve Carr"
         },
         {
          "Count": 5,
          "Director": "Dennis Dugan"
         },
         {
          "Count": 5,
          "Director": "Peter Segal"
         },
         {
          "Count": 5,
          "Director": "Todd Phillips"
         },
         {
          "Count": 5,
          "Director": "Shawn Levy"
         },
         {
          "Count": 5,
          "Director": "Bobby Farrelly"
         },
         {
          "Count": 4,
          "Director": "Donald Petrie"
         },
         {
          "Count": 4,
          "Director": "Frank Oz"
         },
         {
          "Count": 4,
          "Director": "Raja Gosnell"
         },
         {
          "Count": 4,
          "Director": "Christopher Guest"
         },
         {
          "Count": 4,
          "Director": "Keenen Ivory Wayans"
         },
         {
          "Count": 4,
          "Director": "Chris Columbus"
         },
         {
          "Count": 4,
          "Director": "Brian Levant"
         },
         {
          "Count": 4,
          "Director": "Woody Allen"
         },
         {
          "Count": 4,
          "Director": "Jason Friedberg"
         },
         {
          "Count": 4,
          "Director": "Ivan Reitman"
         },
         {
          "Count": 4,
          "Director": "Joel Coen"
         },
         {
          "Count": 3,
          "Director": "Howard Deutch"
         },
         {
          "Count": 3,
          "Director": "Stephen Herek"
         },
         {
          "Count": 3,
          "Director": "Nora Ephron"
         },
         {
          "Count": 3,
          "Director": "David Zucker"
         },
         {
          "Count": 3,
          "Director": "Paul Weitz"
         },
         {
          "Count": 3,
          "Director": "Tyler Perry"
         },
         {
          "Count": 3,
          "Director": "Malcolm D. Lee"
         },
         {
          "Count": 3,
          "Director": "Les Mayfield"
         },
         {
          "Count": 3,
          "Director": "Tim Hill"
         }
        ]
       },
       "hconcat": [
        {
         "data": {
          "name": "data-ac757487762b5f28f49e244ee39ae42f"
         },
         "encoding": {
          "opacity": {
           "condition": {
            "selection": "selector051",
            "value": 0.75
           },
           "value": 0.05
          },
          "x": {
           "field": "Count",
           "title": "Number of movies",
           "type": "quantitative"
          },
          "y": {
           "field": "Director",
           "sort": {
            "field": "Count:Q",
            "order": "ascending"
           },
           "title": "Director",
           "type": "nominal"
          }
         },
         "height": 750,
         "mark": "bar",
         "selection": {
          "selector051": {
           "encodings": [
            "y"
           ],
           "type": "multi"
          }
         },
         "title": "Top 30 productive directors in Comedy",
         "width": 300
        },
        {
         "data": {
          "name": "data-90e56c51c5004c311c907a353644c1c8"
         },
         "vconcat": [
          {
           "vconcat": [
            {
             "encoding": {
              "color": {
               "field": "Director",
               "type": "nominal"
              },
              "opacity": {
               "condition": {
                "selection": "selector051",
                "value": 0.75
               },
               "value": 0.05
              },
              "tooltip": [
               {
                "field": "Title",
                "type": "nominal"
               },
               {
                "field": "Major_Genre",
                "type": "nominal"
               },
               {
                "field": "Director",
                "type": "nominal"
               },
               {
                "field": "IMDB_Rating",
                "type": "quantitative"
               }
              ],
              "x": {
               "field": "Year",
               "type": "ordinal"
              },
              "y": {
               "axis": {
                "title": "IMDB Rating 1-10"
               },
               "field": "IMDB_Rating",
               "scale": {
                "zero": false
               },
               "type": "quantitative"
              }
             },
             "height": 250,
             "mark": "circle",
             "selection": {
              "selector053": {
               "bind": "scales",
               "encodings": [
                "x",
                "y"
               ],
               "type": "interval"
              }
             },
             "title": "IMDB Rating",
             "width": 500
            },
            {
             "encoding": {
              "color": {
               "field": "Director",
               "type": "nominal"
              },
              "opacity": {
               "condition": {
                "selection": "selector051",
                "value": 0.75
               },
               "value": 0.05
              },
              "tooltip": [
               {
                "field": "Title",
                "type": "nominal"
               },
               {
                "field": "Major_Genre",
                "type": "nominal"
               },
               {
                "field": "Director",
                "type": "nominal"
               },
               {
                "field": "IMDB_Rating",
                "type": "quantitative"
               }
              ],
              "x": {
               "field": "Year",
               "type": "ordinal"
              },
              "y": {
               "axis": {
                "title": "Profit (USD)"
               },
               "field": "Profit",
               "scale": {
                "zero": false
               },
               "type": "quantitative"
              }
             },
             "height": 250,
             "mark": "circle",
             "selection": {
              "selector054": {
               "bind": "scales",
               "encodings": [
                "x",
                "y"
               ],
               "type": "interval"
              }
             },
             "title": "Worldwide Profit",
             "width": 500
            }
           ]
          }
         ]
        }
       ]
      },
      "image/png": "[encoded data removed]",
      "text/plain": [
       "<VegaLite 3 object>\n",
       "\n",
       "If you see this message, it means the renderer has not been properly enabled\n",
       "for the frontend that you are using. For more information, see\n",
       "https://altair-viz.github.io/user_guide/troubleshooting.html\n"
      ]
     },
     "execution_count": 51,
     "metadata": {},
     "output_type": "execute_result"
    }
   ],
   "source": [
    "make_text_plot2(genre = 'Comedy', year = (1933, 2010)) "
   ]
  },
  {
   "cell_type": "code",
   "execution_count": 191,
   "metadata": {},
   "outputs": [
    {
     "data": {
      "application/vnd.vegalite.v3+json": {
       "$schema": "https://vega.github.io/schema/vega-lite/v3.4.0.json",
       "config": {
        "axisX": {
         "domain": true,
         "domainWidth": 1,
         "grid": false,
         "gridColor": "#DEDDDD",
         "labelAngle": 0,
         "labelFont": "Arial",
         "labelFontSize": 12,
         "tickColor": "#000000",
         "tickSize": 5,
         "title": "X Axis Title (units)",
         "titleFont": "Arial",
         "titleFontSize": 16,
         "titlePadding": 10
        },
        "axisY": {
         "domain": false,
         "grid": true,
         "gridColor": "#DEDDDD",
         "gridWidth": 1,
         "labelAngle": 0,
         "labelFont": "Arial",
         "labelFontSize": 14,
         "title": "Y Axis Title (units)",
         "titleFont": "Arial",
         "titleFontSize": 16,
         "titlePadding": 10
        },
        "title": {
         "anchor": "start",
         "font": "Arial",
         "fontColor": "#000000",
         "fontSize": 24
        },
        "view": {
         "height": 300,
         "width": 400
        }
       },
       "data": {
        "name": "data-8e71a975d0f12b4cca8b7a7e16b9298a"
       },
       "datasets": {
        "data-8e71a975d0f12b4cca8b7a7e16b9298a": [
         {
          "Count": 7,
          "Director": "Michael Bay"
         },
         {
          "Count": 6,
          "Director": "Brett Ratner"
         },
         {
          "Count": 5,
          "Director": "Tony Scott"
         },
         {
          "Count": 4,
          "Director": "Renny Harlin"
         },
         {
          "Count": 4,
          "Director": "Andy Wachowski"
         },
         {
          "Count": 4,
          "Director": "Steven Spielberg"
         },
         {
          "Count": 4,
          "Director": "Richard Donner"
         },
         {
          "Count": 4,
          "Director": "Rob Cohen"
         },
         {
          "Count": 4,
          "Director": "John Woo"
         },
         {
          "Count": 3,
          "Director": "Jonathan Mostow"
         },
         {
          "Count": 3,
          "Director": "Stephen Sommers"
         },
         {
          "Count": 3,
          "Director": "Quentin Tarantino"
         },
         {
          "Count": 3,
          "Director": "Jan De Bont"
         },
         {
          "Count": 3,
          "Director": "Robert Rodriguez"
         },
         {
          "Count": 3,
          "Director": "Joel Schumacher"
         },
         {
          "Count": 3,
          "Director": "Guillermo Del Toro"
         },
         {
          "Count": 3,
          "Director": "James Cameron"
         },
         {
          "Count": 3,
          "Director": "John McTiernan"
         },
         {
          "Count": 3,
          "Director": "Roland Emmerich"
         },
         {
          "Count": 3,
          "Director": "Peter Berg"
         },
         {
          "Count": 3,
          "Director": "Martin Campbell"
         },
         {
          "Count": 3,
          "Director": "Len Wiseman"
         },
         {
          "Count": 3,
          "Director": "Peter Hyams"
         },
         {
          "Count": 3,
          "Director": "Antoine Fuqua"
         },
         {
          "Count": 2,
          "Director": "Phillip Noyce"
         },
         {
          "Count": 2,
          "Director": "John Frankenheimer"
         },
         {
          "Count": 2,
          "Director": "Paul Anderson"
         },
         {
          "Count": 2,
          "Director": "Roger Spottiswoode"
         },
         {
          "Count": 2,
          "Director": "Mark Steven Johnson"
         },
         {
          "Count": 2,
          "Director": "Louis Leterrier"
         }
        ]
       },
       "encoding": {
        "x": {
         "field": "Count",
         "title": "Number of movies",
         "type": "quantitative"
        },
        "y": {
         "field": "Director",
         "title": "Director",
         "type": "nominal"
        }
       },
       "height": 350,
       "mark": "bar",
       "selection": {
        "selector083": {
         "encodings": [
          "y"
         ],
         "type": "interval"
        }
       },
       "title": "Top 30 productive directors in Action",
       "width": 300
      },
      "image/png": "[encoded data removed]",
      "text/plain": [
       "<VegaLite 3 object>\n",
       "\n",
       "If you see this message, it means the renderer has not been properly enabled\n",
       "for the frontend that you are using. For more information, see\n",
       "https://altair-viz.github.io/user_guide/troubleshooting.html\n"
      ]
     },
     "execution_count": 191,
     "metadata": {},
     "output_type": "execute_result"
    }
   ],
   "source": [
    "make_bar_plot(genre = 'Action', year = (1990, 2010))"
   ]
  },
  {
   "cell_type": "code",
   "execution_count": null,
   "metadata": {},
   "outputs": [],
   "source": [
    "def make_plot_1(genre=\"Action\", director=\"James Cameron\"):"
   ]
  },
  {
   "cell_type": "code",
   "execution_count": 19,
   "metadata": {},
   "outputs": [],
   "source": [
    "def make_text_plot2(genre = 'Action', year = (1933, 2010), number_of_directors = 30):\n",
    "    # Don't forget to include imports\n",
    "    \n",
    "    # register the custom theme under a chosen name\n",
    "    alt.themes.register('mds_special', mds_special)\n",
    "    brush_1 = alt.selection(type='interval', encodings=['y'])\n",
    "\n",
    "    # enable the newly registered theme\n",
    "    alt.themes.enable('mds_special')\n",
    "    #alt.themes.enable('none') # to return to default\n",
    "    \n",
    "    # get the clean movies data\n",
    "    movies_df = pd.read_csv('../data/clean/movies_clean_df.csv', index_col = 0)\n",
    "    # get information from the 30 most productive directors in the selected genre\n",
    "    selected_df = movies_df[(movies_df['Year'] > year[0]) & (movies_df['Year'] < year[1])]\n",
    "    top_df = get_top_df(selected_df, number_of_directors, genre)\n",
    "    top_director = get_top_director(selected_df, 30, genre)\n",
    "    \n",
    "    chart_1 = alt.Chart(top_director).mark_bar().encode(\n",
    "                alt.Y('Director:N', title = 'Director', sort=alt.EncodingSortField(\n",
    "            field=\"Worldwide_Gross\",  \n",
    "            order=\"ascending\")),\n",
    "                alt.X('Count:Q', title = 'Number of movies')\n",
    "            ).properties(\n",
    "                title = 'Top 30 productive directors in ' + genre,\n",
    "                width = 300, \n",
    "                height = 750).add_selection(brush_1)\n",
    "    \n",
    "    brush_2 = alt.selection(type='single', resolve='global')\n",
    "\n",
    "    base = alt.Chart(top_df).mark_circle(size=80).add_selection(brush_2\n",
    "    ).encode(\n",
    "                alt.X(\"Year:O\"),\n",
    "                color=alt.condition(brush_2, \"Director:N\", alt.value('grey')),\n",
    "                opacity=alt.condition(brush_2, alt.value(0.8), alt.value(0.1))\n",
    "            ).properties(width=400, height=250).interactive()\n",
    "    \n",
    "    chart_2 = base.encode(alt.Y(\"IMDB_Rating:Q\", \n",
    "                                axis=alt.Axis(title=\"Mark\"), \n",
    "                                scale=alt.Scale(zero=False)),\n",
    "                          opacity=alt.condition(brush_1, alt.value(0.75), alt.value(0.05)),\n",
    "                          tooltip = ['Title', 'Major_Genre', 'Director', 'IMDB_Rating']).properties(title='Rating',)\n",
    "    \n",
    "    chart_3 = base.encode(alt.Y(\"profit:Q\", axis=alt.Axis(title=\"Profit (M USD)\"), scale=alt.Scale(zero=False)),\n",
    "                       opacity=alt.condition(brush_1, alt.value(0.75), alt.value(0.05)),\n",
    "                       tooltip = ['Title', 'Major_Genre', 'Director', 'profit']).properties(title='Profit',)\n",
    "\n",
    "    return chart_1 | alt.vconcat(chart_2 & chart_3)"
   ]
  },
  {
   "cell_type": "code",
   "execution_count": 20,
   "metadata": {},
   "outputs": [
    {
     "ename": "ValueError",
     "evalue": "profit encoding field is specified without a type; the type cannot be inferred because it does not match any column in the data.",
     "output_type": "error",
     "traceback": [
      "\u001b[1;31m---------------------------------------------------------------------------\u001b[0m",
      "\u001b[1;31mValueError\u001b[0m                                Traceback (most recent call last)",
      "\u001b[1;32m~\\Anaconda3\\lib\\site-packages\\altair\\vegalite\\v3\\api.py\u001b[0m in \u001b[0;36mto_dict\u001b[1;34m(self, *args, **kwargs)\u001b[0m\n\u001b[0;32m    373\u001b[0m \u001b[1;33m\u001b[0m\u001b[0m\n\u001b[0;32m    374\u001b[0m         \u001b[1;32mtry\u001b[0m\u001b[1;33m:\u001b[0m\u001b[1;33m\u001b[0m\u001b[1;33m\u001b[0m\u001b[0m\n\u001b[1;32m--> 375\u001b[1;33m             \u001b[0mdct\u001b[0m \u001b[1;33m=\u001b[0m \u001b[0msuper\u001b[0m\u001b[1;33m(\u001b[0m\u001b[0mTopLevelMixin\u001b[0m\u001b[1;33m,\u001b[0m \u001b[0mcopy\u001b[0m\u001b[1;33m)\u001b[0m\u001b[1;33m.\u001b[0m\u001b[0mto_dict\u001b[0m\u001b[1;33m(\u001b[0m\u001b[1;33m*\u001b[0m\u001b[0margs\u001b[0m\u001b[1;33m,\u001b[0m \u001b[1;33m**\u001b[0m\u001b[0mkwargs\u001b[0m\u001b[1;33m)\u001b[0m\u001b[1;33m\u001b[0m\u001b[1;33m\u001b[0m\u001b[0m\n\u001b[0m\u001b[0;32m    376\u001b[0m         \u001b[1;32mexcept\u001b[0m \u001b[0mjsonschema\u001b[0m\u001b[1;33m.\u001b[0m\u001b[0mValidationError\u001b[0m\u001b[1;33m:\u001b[0m\u001b[1;33m\u001b[0m\u001b[1;33m\u001b[0m\u001b[0m\n\u001b[0;32m    377\u001b[0m             \u001b[0mdct\u001b[0m \u001b[1;33m=\u001b[0m \u001b[1;32mNone\u001b[0m\u001b[1;33m\u001b[0m\u001b[1;33m\u001b[0m\u001b[0m\n",
      "\u001b[1;32m~\\Anaconda3\\lib\\site-packages\\altair\\utils\\schemapi.py\u001b[0m in \u001b[0;36mto_dict\u001b[1;34m(self, validate, ignore, context)\u001b[0m\n\u001b[0;32m    292\u001b[0m             result = _todict({k: v for k, v in self._kwds.items()\n\u001b[0;32m    293\u001b[0m                               if k not in ignore},\n\u001b[1;32m--> 294\u001b[1;33m                               validate=sub_validate, context=context)\n\u001b[0m\u001b[0;32m    295\u001b[0m         \u001b[1;32melse\u001b[0m\u001b[1;33m:\u001b[0m\u001b[1;33m\u001b[0m\u001b[1;33m\u001b[0m\u001b[0m\n\u001b[0;32m    296\u001b[0m             raise ValueError(\"{} instance has both a value and properties : \"\n",
      "\u001b[1;32m~\\Anaconda3\\lib\\site-packages\\altair\\utils\\schemapi.py\u001b[0m in \u001b[0;36m_todict\u001b[1;34m(obj, validate, context)\u001b[0m\n\u001b[0;32m     48\u001b[0m         \u001b[1;32mreturn\u001b[0m \u001b[1;33m[\u001b[0m\u001b[0m_todict\u001b[0m\u001b[1;33m(\u001b[0m\u001b[0mv\u001b[0m\u001b[1;33m,\u001b[0m \u001b[0mvalidate\u001b[0m\u001b[1;33m,\u001b[0m \u001b[0mcontext\u001b[0m\u001b[1;33m)\u001b[0m \u001b[1;32mfor\u001b[0m \u001b[0mv\u001b[0m \u001b[1;32min\u001b[0m \u001b[0mobj\u001b[0m\u001b[1;33m]\u001b[0m\u001b[1;33m\u001b[0m\u001b[1;33m\u001b[0m\u001b[0m\n\u001b[0;32m     49\u001b[0m     \u001b[1;32melif\u001b[0m \u001b[0misinstance\u001b[0m\u001b[1;33m(\u001b[0m\u001b[0mobj\u001b[0m\u001b[1;33m,\u001b[0m \u001b[0mdict\u001b[0m\u001b[1;33m)\u001b[0m\u001b[1;33m:\u001b[0m\u001b[1;33m\u001b[0m\u001b[1;33m\u001b[0m\u001b[0m\n\u001b[1;32m---> 50\u001b[1;33m         return {k: _todict(v, validate, context) for k, v in obj.items()\n\u001b[0m\u001b[0;32m     51\u001b[0m                 if v is not Undefined}\n\u001b[0;32m     52\u001b[0m     \u001b[1;32melif\u001b[0m \u001b[0mhasattr\u001b[0m\u001b[1;33m(\u001b[0m\u001b[0mobj\u001b[0m\u001b[1;33m,\u001b[0m \u001b[1;34m'to_dict'\u001b[0m\u001b[1;33m)\u001b[0m\u001b[1;33m:\u001b[0m\u001b[1;33m\u001b[0m\u001b[1;33m\u001b[0m\u001b[0m\n",
      "\u001b[1;32m~\\Anaconda3\\lib\\site-packages\\altair\\utils\\schemapi.py\u001b[0m in \u001b[0;36m<dictcomp>\u001b[1;34m(.0)\u001b[0m\n\u001b[0;32m     49\u001b[0m     \u001b[1;32melif\u001b[0m \u001b[0misinstance\u001b[0m\u001b[1;33m(\u001b[0m\u001b[0mobj\u001b[0m\u001b[1;33m,\u001b[0m \u001b[0mdict\u001b[0m\u001b[1;33m)\u001b[0m\u001b[1;33m:\u001b[0m\u001b[1;33m\u001b[0m\u001b[1;33m\u001b[0m\u001b[0m\n\u001b[0;32m     50\u001b[0m         return {k: _todict(v, validate, context) for k, v in obj.items()\n\u001b[1;32m---> 51\u001b[1;33m                 if v is not Undefined}\n\u001b[0m\u001b[0;32m     52\u001b[0m     \u001b[1;32melif\u001b[0m \u001b[0mhasattr\u001b[0m\u001b[1;33m(\u001b[0m\u001b[0mobj\u001b[0m\u001b[1;33m,\u001b[0m \u001b[1;34m'to_dict'\u001b[0m\u001b[1;33m)\u001b[0m\u001b[1;33m:\u001b[0m\u001b[1;33m\u001b[0m\u001b[1;33m\u001b[0m\u001b[0m\n\u001b[0;32m     53\u001b[0m         \u001b[1;32mreturn\u001b[0m \u001b[0mobj\u001b[0m\u001b[1;33m.\u001b[0m\u001b[0mto_dict\u001b[0m\u001b[1;33m(\u001b[0m\u001b[1;33m)\u001b[0m\u001b[1;33m\u001b[0m\u001b[1;33m\u001b[0m\u001b[0m\n",
      "\u001b[1;32m~\\Anaconda3\\lib\\site-packages\\altair\\utils\\schemapi.py\u001b[0m in \u001b[0;36m_todict\u001b[1;34m(obj, validate, context)\u001b[0m\n\u001b[0;32m     46\u001b[0m         \u001b[1;32mreturn\u001b[0m \u001b[0mobj\u001b[0m\u001b[1;33m.\u001b[0m\u001b[0mto_dict\u001b[0m\u001b[1;33m(\u001b[0m\u001b[0mvalidate\u001b[0m\u001b[1;33m=\u001b[0m\u001b[0mvalidate\u001b[0m\u001b[1;33m,\u001b[0m \u001b[0mcontext\u001b[0m\u001b[1;33m=\u001b[0m\u001b[0mcontext\u001b[0m\u001b[1;33m)\u001b[0m\u001b[1;33m\u001b[0m\u001b[1;33m\u001b[0m\u001b[0m\n\u001b[0;32m     47\u001b[0m     \u001b[1;32melif\u001b[0m \u001b[0misinstance\u001b[0m\u001b[1;33m(\u001b[0m\u001b[0mobj\u001b[0m\u001b[1;33m,\u001b[0m \u001b[1;33m(\u001b[0m\u001b[0mlist\u001b[0m\u001b[1;33m,\u001b[0m \u001b[0mtuple\u001b[0m\u001b[1;33m)\u001b[0m\u001b[1;33m)\u001b[0m\u001b[1;33m:\u001b[0m\u001b[1;33m\u001b[0m\u001b[1;33m\u001b[0m\u001b[0m\n\u001b[1;32m---> 48\u001b[1;33m         \u001b[1;32mreturn\u001b[0m \u001b[1;33m[\u001b[0m\u001b[0m_todict\u001b[0m\u001b[1;33m(\u001b[0m\u001b[0mv\u001b[0m\u001b[1;33m,\u001b[0m \u001b[0mvalidate\u001b[0m\u001b[1;33m,\u001b[0m \u001b[0mcontext\u001b[0m\u001b[1;33m)\u001b[0m \u001b[1;32mfor\u001b[0m \u001b[0mv\u001b[0m \u001b[1;32min\u001b[0m \u001b[0mobj\u001b[0m\u001b[1;33m]\u001b[0m\u001b[1;33m\u001b[0m\u001b[1;33m\u001b[0m\u001b[0m\n\u001b[0m\u001b[0;32m     49\u001b[0m     \u001b[1;32melif\u001b[0m \u001b[0misinstance\u001b[0m\u001b[1;33m(\u001b[0m\u001b[0mobj\u001b[0m\u001b[1;33m,\u001b[0m \u001b[0mdict\u001b[0m\u001b[1;33m)\u001b[0m\u001b[1;33m:\u001b[0m\u001b[1;33m\u001b[0m\u001b[1;33m\u001b[0m\u001b[0m\n\u001b[0;32m     50\u001b[0m         return {k: _todict(v, validate, context) for k, v in obj.items()\n",
      "\u001b[1;32m~\\Anaconda3\\lib\\site-packages\\altair\\utils\\schemapi.py\u001b[0m in \u001b[0;36m<listcomp>\u001b[1;34m(.0)\u001b[0m\n\u001b[0;32m     46\u001b[0m         \u001b[1;32mreturn\u001b[0m \u001b[0mobj\u001b[0m\u001b[1;33m.\u001b[0m\u001b[0mto_dict\u001b[0m\u001b[1;33m(\u001b[0m\u001b[0mvalidate\u001b[0m\u001b[1;33m=\u001b[0m\u001b[0mvalidate\u001b[0m\u001b[1;33m,\u001b[0m \u001b[0mcontext\u001b[0m\u001b[1;33m=\u001b[0m\u001b[0mcontext\u001b[0m\u001b[1;33m)\u001b[0m\u001b[1;33m\u001b[0m\u001b[1;33m\u001b[0m\u001b[0m\n\u001b[0;32m     47\u001b[0m     \u001b[1;32melif\u001b[0m \u001b[0misinstance\u001b[0m\u001b[1;33m(\u001b[0m\u001b[0mobj\u001b[0m\u001b[1;33m,\u001b[0m \u001b[1;33m(\u001b[0m\u001b[0mlist\u001b[0m\u001b[1;33m,\u001b[0m \u001b[0mtuple\u001b[0m\u001b[1;33m)\u001b[0m\u001b[1;33m)\u001b[0m\u001b[1;33m:\u001b[0m\u001b[1;33m\u001b[0m\u001b[1;33m\u001b[0m\u001b[0m\n\u001b[1;32m---> 48\u001b[1;33m         \u001b[1;32mreturn\u001b[0m \u001b[1;33m[\u001b[0m\u001b[0m_todict\u001b[0m\u001b[1;33m(\u001b[0m\u001b[0mv\u001b[0m\u001b[1;33m,\u001b[0m \u001b[0mvalidate\u001b[0m\u001b[1;33m,\u001b[0m \u001b[0mcontext\u001b[0m\u001b[1;33m)\u001b[0m \u001b[1;32mfor\u001b[0m \u001b[0mv\u001b[0m \u001b[1;32min\u001b[0m \u001b[0mobj\u001b[0m\u001b[1;33m]\u001b[0m\u001b[1;33m\u001b[0m\u001b[1;33m\u001b[0m\u001b[0m\n\u001b[0m\u001b[0;32m     49\u001b[0m     \u001b[1;32melif\u001b[0m \u001b[0misinstance\u001b[0m\u001b[1;33m(\u001b[0m\u001b[0mobj\u001b[0m\u001b[1;33m,\u001b[0m \u001b[0mdict\u001b[0m\u001b[1;33m)\u001b[0m\u001b[1;33m:\u001b[0m\u001b[1;33m\u001b[0m\u001b[1;33m\u001b[0m\u001b[0m\n\u001b[0;32m     50\u001b[0m         return {k: _todict(v, validate, context) for k, v in obj.items()\n",
      "\u001b[1;32m~\\Anaconda3\\lib\\site-packages\\altair\\utils\\schemapi.py\u001b[0m in \u001b[0;36m_todict\u001b[1;34m(obj, validate, context)\u001b[0m\n\u001b[0;32m     44\u001b[0m     \u001b[1;34m\"\"\"Convert an object to a dict representation.\"\"\"\u001b[0m\u001b[1;33m\u001b[0m\u001b[1;33m\u001b[0m\u001b[0m\n\u001b[0;32m     45\u001b[0m     \u001b[1;32mif\u001b[0m \u001b[0misinstance\u001b[0m\u001b[1;33m(\u001b[0m\u001b[0mobj\u001b[0m\u001b[1;33m,\u001b[0m \u001b[0mSchemaBase\u001b[0m\u001b[1;33m)\u001b[0m\u001b[1;33m:\u001b[0m\u001b[1;33m\u001b[0m\u001b[1;33m\u001b[0m\u001b[0m\n\u001b[1;32m---> 46\u001b[1;33m         \u001b[1;32mreturn\u001b[0m \u001b[0mobj\u001b[0m\u001b[1;33m.\u001b[0m\u001b[0mto_dict\u001b[0m\u001b[1;33m(\u001b[0m\u001b[0mvalidate\u001b[0m\u001b[1;33m=\u001b[0m\u001b[0mvalidate\u001b[0m\u001b[1;33m,\u001b[0m \u001b[0mcontext\u001b[0m\u001b[1;33m=\u001b[0m\u001b[0mcontext\u001b[0m\u001b[1;33m)\u001b[0m\u001b[1;33m\u001b[0m\u001b[1;33m\u001b[0m\u001b[0m\n\u001b[0m\u001b[0;32m     47\u001b[0m     \u001b[1;32melif\u001b[0m \u001b[0misinstance\u001b[0m\u001b[1;33m(\u001b[0m\u001b[0mobj\u001b[0m\u001b[1;33m,\u001b[0m \u001b[1;33m(\u001b[0m\u001b[0mlist\u001b[0m\u001b[1;33m,\u001b[0m \u001b[0mtuple\u001b[0m\u001b[1;33m)\u001b[0m\u001b[1;33m)\u001b[0m\u001b[1;33m:\u001b[0m\u001b[1;33m\u001b[0m\u001b[1;33m\u001b[0m\u001b[0m\n\u001b[0;32m     48\u001b[0m         \u001b[1;32mreturn\u001b[0m \u001b[1;33m[\u001b[0m\u001b[0m_todict\u001b[0m\u001b[1;33m(\u001b[0m\u001b[0mv\u001b[0m\u001b[1;33m,\u001b[0m \u001b[0mvalidate\u001b[0m\u001b[1;33m,\u001b[0m \u001b[0mcontext\u001b[0m\u001b[1;33m)\u001b[0m \u001b[1;32mfor\u001b[0m \u001b[0mv\u001b[0m \u001b[1;32min\u001b[0m \u001b[0mobj\u001b[0m\u001b[1;33m]\u001b[0m\u001b[1;33m\u001b[0m\u001b[1;33m\u001b[0m\u001b[0m\n",
      "\u001b[1;32m~\\Anaconda3\\lib\\site-packages\\altair\\vegalite\\v3\\api.py\u001b[0m in \u001b[0;36mto_dict\u001b[1;34m(self, *args, **kwargs)\u001b[0m\n\u001b[0;32m    373\u001b[0m \u001b[1;33m\u001b[0m\u001b[0m\n\u001b[0;32m    374\u001b[0m         \u001b[1;32mtry\u001b[0m\u001b[1;33m:\u001b[0m\u001b[1;33m\u001b[0m\u001b[1;33m\u001b[0m\u001b[0m\n\u001b[1;32m--> 375\u001b[1;33m             \u001b[0mdct\u001b[0m \u001b[1;33m=\u001b[0m \u001b[0msuper\u001b[0m\u001b[1;33m(\u001b[0m\u001b[0mTopLevelMixin\u001b[0m\u001b[1;33m,\u001b[0m \u001b[0mcopy\u001b[0m\u001b[1;33m)\u001b[0m\u001b[1;33m.\u001b[0m\u001b[0mto_dict\u001b[0m\u001b[1;33m(\u001b[0m\u001b[1;33m*\u001b[0m\u001b[0margs\u001b[0m\u001b[1;33m,\u001b[0m \u001b[1;33m**\u001b[0m\u001b[0mkwargs\u001b[0m\u001b[1;33m)\u001b[0m\u001b[1;33m\u001b[0m\u001b[1;33m\u001b[0m\u001b[0m\n\u001b[0m\u001b[0;32m    376\u001b[0m         \u001b[1;32mexcept\u001b[0m \u001b[0mjsonschema\u001b[0m\u001b[1;33m.\u001b[0m\u001b[0mValidationError\u001b[0m\u001b[1;33m:\u001b[0m\u001b[1;33m\u001b[0m\u001b[1;33m\u001b[0m\u001b[0m\n\u001b[0;32m    377\u001b[0m             \u001b[0mdct\u001b[0m \u001b[1;33m=\u001b[0m \u001b[1;32mNone\u001b[0m\u001b[1;33m\u001b[0m\u001b[1;33m\u001b[0m\u001b[0m\n",
      "\u001b[1;32m~\\Anaconda3\\lib\\site-packages\\altair\\utils\\schemapi.py\u001b[0m in \u001b[0;36mto_dict\u001b[1;34m(self, validate, ignore, context)\u001b[0m\n\u001b[0;32m    292\u001b[0m             result = _todict({k: v for k, v in self._kwds.items()\n\u001b[0;32m    293\u001b[0m                               if k not in ignore},\n\u001b[1;32m--> 294\u001b[1;33m                               validate=sub_validate, context=context)\n\u001b[0m\u001b[0;32m    295\u001b[0m         \u001b[1;32melse\u001b[0m\u001b[1;33m:\u001b[0m\u001b[1;33m\u001b[0m\u001b[1;33m\u001b[0m\u001b[0m\n\u001b[0;32m    296\u001b[0m             raise ValueError(\"{} instance has both a value and properties : \"\n",
      "\u001b[1;32m~\\Anaconda3\\lib\\site-packages\\altair\\utils\\schemapi.py\u001b[0m in \u001b[0;36m_todict\u001b[1;34m(obj, validate, context)\u001b[0m\n\u001b[0;32m     48\u001b[0m         \u001b[1;32mreturn\u001b[0m \u001b[1;33m[\u001b[0m\u001b[0m_todict\u001b[0m\u001b[1;33m(\u001b[0m\u001b[0mv\u001b[0m\u001b[1;33m,\u001b[0m \u001b[0mvalidate\u001b[0m\u001b[1;33m,\u001b[0m \u001b[0mcontext\u001b[0m\u001b[1;33m)\u001b[0m \u001b[1;32mfor\u001b[0m \u001b[0mv\u001b[0m \u001b[1;32min\u001b[0m \u001b[0mobj\u001b[0m\u001b[1;33m]\u001b[0m\u001b[1;33m\u001b[0m\u001b[1;33m\u001b[0m\u001b[0m\n\u001b[0;32m     49\u001b[0m     \u001b[1;32melif\u001b[0m \u001b[0misinstance\u001b[0m\u001b[1;33m(\u001b[0m\u001b[0mobj\u001b[0m\u001b[1;33m,\u001b[0m \u001b[0mdict\u001b[0m\u001b[1;33m)\u001b[0m\u001b[1;33m:\u001b[0m\u001b[1;33m\u001b[0m\u001b[1;33m\u001b[0m\u001b[0m\n\u001b[1;32m---> 50\u001b[1;33m         return {k: _todict(v, validate, context) for k, v in obj.items()\n\u001b[0m\u001b[0;32m     51\u001b[0m                 if v is not Undefined}\n\u001b[0;32m     52\u001b[0m     \u001b[1;32melif\u001b[0m \u001b[0mhasattr\u001b[0m\u001b[1;33m(\u001b[0m\u001b[0mobj\u001b[0m\u001b[1;33m,\u001b[0m \u001b[1;34m'to_dict'\u001b[0m\u001b[1;33m)\u001b[0m\u001b[1;33m:\u001b[0m\u001b[1;33m\u001b[0m\u001b[1;33m\u001b[0m\u001b[0m\n",
      "\u001b[1;32m~\\Anaconda3\\lib\\site-packages\\altair\\utils\\schemapi.py\u001b[0m in \u001b[0;36m<dictcomp>\u001b[1;34m(.0)\u001b[0m\n\u001b[0;32m     49\u001b[0m     \u001b[1;32melif\u001b[0m \u001b[0misinstance\u001b[0m\u001b[1;33m(\u001b[0m\u001b[0mobj\u001b[0m\u001b[1;33m,\u001b[0m \u001b[0mdict\u001b[0m\u001b[1;33m)\u001b[0m\u001b[1;33m:\u001b[0m\u001b[1;33m\u001b[0m\u001b[1;33m\u001b[0m\u001b[0m\n\u001b[0;32m     50\u001b[0m         return {k: _todict(v, validate, context) for k, v in obj.items()\n\u001b[1;32m---> 51\u001b[1;33m                 if v is not Undefined}\n\u001b[0m\u001b[0;32m     52\u001b[0m     \u001b[1;32melif\u001b[0m \u001b[0mhasattr\u001b[0m\u001b[1;33m(\u001b[0m\u001b[0mobj\u001b[0m\u001b[1;33m,\u001b[0m \u001b[1;34m'to_dict'\u001b[0m\u001b[1;33m)\u001b[0m\u001b[1;33m:\u001b[0m\u001b[1;33m\u001b[0m\u001b[1;33m\u001b[0m\u001b[0m\n\u001b[0;32m     53\u001b[0m         \u001b[1;32mreturn\u001b[0m \u001b[0mobj\u001b[0m\u001b[1;33m.\u001b[0m\u001b[0mto_dict\u001b[0m\u001b[1;33m(\u001b[0m\u001b[1;33m)\u001b[0m\u001b[1;33m\u001b[0m\u001b[1;33m\u001b[0m\u001b[0m\n",
      "\u001b[1;32m~\\Anaconda3\\lib\\site-packages\\altair\\utils\\schemapi.py\u001b[0m in \u001b[0;36m_todict\u001b[1;34m(obj, validate, context)\u001b[0m\n\u001b[0;32m     46\u001b[0m         \u001b[1;32mreturn\u001b[0m \u001b[0mobj\u001b[0m\u001b[1;33m.\u001b[0m\u001b[0mto_dict\u001b[0m\u001b[1;33m(\u001b[0m\u001b[0mvalidate\u001b[0m\u001b[1;33m=\u001b[0m\u001b[0mvalidate\u001b[0m\u001b[1;33m,\u001b[0m \u001b[0mcontext\u001b[0m\u001b[1;33m=\u001b[0m\u001b[0mcontext\u001b[0m\u001b[1;33m)\u001b[0m\u001b[1;33m\u001b[0m\u001b[1;33m\u001b[0m\u001b[0m\n\u001b[0;32m     47\u001b[0m     \u001b[1;32melif\u001b[0m \u001b[0misinstance\u001b[0m\u001b[1;33m(\u001b[0m\u001b[0mobj\u001b[0m\u001b[1;33m,\u001b[0m \u001b[1;33m(\u001b[0m\u001b[0mlist\u001b[0m\u001b[1;33m,\u001b[0m \u001b[0mtuple\u001b[0m\u001b[1;33m)\u001b[0m\u001b[1;33m)\u001b[0m\u001b[1;33m:\u001b[0m\u001b[1;33m\u001b[0m\u001b[1;33m\u001b[0m\u001b[0m\n\u001b[1;32m---> 48\u001b[1;33m         \u001b[1;32mreturn\u001b[0m \u001b[1;33m[\u001b[0m\u001b[0m_todict\u001b[0m\u001b[1;33m(\u001b[0m\u001b[0mv\u001b[0m\u001b[1;33m,\u001b[0m \u001b[0mvalidate\u001b[0m\u001b[1;33m,\u001b[0m \u001b[0mcontext\u001b[0m\u001b[1;33m)\u001b[0m \u001b[1;32mfor\u001b[0m \u001b[0mv\u001b[0m \u001b[1;32min\u001b[0m \u001b[0mobj\u001b[0m\u001b[1;33m]\u001b[0m\u001b[1;33m\u001b[0m\u001b[1;33m\u001b[0m\u001b[0m\n\u001b[0m\u001b[0;32m     49\u001b[0m     \u001b[1;32melif\u001b[0m \u001b[0misinstance\u001b[0m\u001b[1;33m(\u001b[0m\u001b[0mobj\u001b[0m\u001b[1;33m,\u001b[0m \u001b[0mdict\u001b[0m\u001b[1;33m)\u001b[0m\u001b[1;33m:\u001b[0m\u001b[1;33m\u001b[0m\u001b[1;33m\u001b[0m\u001b[0m\n\u001b[0;32m     50\u001b[0m         return {k: _todict(v, validate, context) for k, v in obj.items()\n",
      "\u001b[1;32m~\\Anaconda3\\lib\\site-packages\\altair\\utils\\schemapi.py\u001b[0m in \u001b[0;36m<listcomp>\u001b[1;34m(.0)\u001b[0m\n\u001b[0;32m     46\u001b[0m         \u001b[1;32mreturn\u001b[0m \u001b[0mobj\u001b[0m\u001b[1;33m.\u001b[0m\u001b[0mto_dict\u001b[0m\u001b[1;33m(\u001b[0m\u001b[0mvalidate\u001b[0m\u001b[1;33m=\u001b[0m\u001b[0mvalidate\u001b[0m\u001b[1;33m,\u001b[0m \u001b[0mcontext\u001b[0m\u001b[1;33m=\u001b[0m\u001b[0mcontext\u001b[0m\u001b[1;33m)\u001b[0m\u001b[1;33m\u001b[0m\u001b[1;33m\u001b[0m\u001b[0m\n\u001b[0;32m     47\u001b[0m     \u001b[1;32melif\u001b[0m \u001b[0misinstance\u001b[0m\u001b[1;33m(\u001b[0m\u001b[0mobj\u001b[0m\u001b[1;33m,\u001b[0m \u001b[1;33m(\u001b[0m\u001b[0mlist\u001b[0m\u001b[1;33m,\u001b[0m \u001b[0mtuple\u001b[0m\u001b[1;33m)\u001b[0m\u001b[1;33m)\u001b[0m\u001b[1;33m:\u001b[0m\u001b[1;33m\u001b[0m\u001b[1;33m\u001b[0m\u001b[0m\n\u001b[1;32m---> 48\u001b[1;33m         \u001b[1;32mreturn\u001b[0m \u001b[1;33m[\u001b[0m\u001b[0m_todict\u001b[0m\u001b[1;33m(\u001b[0m\u001b[0mv\u001b[0m\u001b[1;33m,\u001b[0m \u001b[0mvalidate\u001b[0m\u001b[1;33m,\u001b[0m \u001b[0mcontext\u001b[0m\u001b[1;33m)\u001b[0m \u001b[1;32mfor\u001b[0m \u001b[0mv\u001b[0m \u001b[1;32min\u001b[0m \u001b[0mobj\u001b[0m\u001b[1;33m]\u001b[0m\u001b[1;33m\u001b[0m\u001b[1;33m\u001b[0m\u001b[0m\n\u001b[0m\u001b[0;32m     49\u001b[0m     \u001b[1;32melif\u001b[0m \u001b[0misinstance\u001b[0m\u001b[1;33m(\u001b[0m\u001b[0mobj\u001b[0m\u001b[1;33m,\u001b[0m \u001b[0mdict\u001b[0m\u001b[1;33m)\u001b[0m\u001b[1;33m:\u001b[0m\u001b[1;33m\u001b[0m\u001b[1;33m\u001b[0m\u001b[0m\n\u001b[0;32m     50\u001b[0m         return {k: _todict(v, validate, context) for k, v in obj.items()\n",
      "\u001b[1;32m~\\Anaconda3\\lib\\site-packages\\altair\\utils\\schemapi.py\u001b[0m in \u001b[0;36m_todict\u001b[1;34m(obj, validate, context)\u001b[0m\n\u001b[0;32m     44\u001b[0m     \u001b[1;34m\"\"\"Convert an object to a dict representation.\"\"\"\u001b[0m\u001b[1;33m\u001b[0m\u001b[1;33m\u001b[0m\u001b[0m\n\u001b[0;32m     45\u001b[0m     \u001b[1;32mif\u001b[0m \u001b[0misinstance\u001b[0m\u001b[1;33m(\u001b[0m\u001b[0mobj\u001b[0m\u001b[1;33m,\u001b[0m \u001b[0mSchemaBase\u001b[0m\u001b[1;33m)\u001b[0m\u001b[1;33m:\u001b[0m\u001b[1;33m\u001b[0m\u001b[1;33m\u001b[0m\u001b[0m\n\u001b[1;32m---> 46\u001b[1;33m         \u001b[1;32mreturn\u001b[0m \u001b[0mobj\u001b[0m\u001b[1;33m.\u001b[0m\u001b[0mto_dict\u001b[0m\u001b[1;33m(\u001b[0m\u001b[0mvalidate\u001b[0m\u001b[1;33m=\u001b[0m\u001b[0mvalidate\u001b[0m\u001b[1;33m,\u001b[0m \u001b[0mcontext\u001b[0m\u001b[1;33m=\u001b[0m\u001b[0mcontext\u001b[0m\u001b[1;33m)\u001b[0m\u001b[1;33m\u001b[0m\u001b[1;33m\u001b[0m\u001b[0m\n\u001b[0m\u001b[0;32m     47\u001b[0m     \u001b[1;32melif\u001b[0m \u001b[0misinstance\u001b[0m\u001b[1;33m(\u001b[0m\u001b[0mobj\u001b[0m\u001b[1;33m,\u001b[0m \u001b[1;33m(\u001b[0m\u001b[0mlist\u001b[0m\u001b[1;33m,\u001b[0m \u001b[0mtuple\u001b[0m\u001b[1;33m)\u001b[0m\u001b[1;33m)\u001b[0m\u001b[1;33m:\u001b[0m\u001b[1;33m\u001b[0m\u001b[1;33m\u001b[0m\u001b[0m\n\u001b[0;32m     48\u001b[0m         \u001b[1;32mreturn\u001b[0m \u001b[1;33m[\u001b[0m\u001b[0m_todict\u001b[0m\u001b[1;33m(\u001b[0m\u001b[0mv\u001b[0m\u001b[1;33m,\u001b[0m \u001b[0mvalidate\u001b[0m\u001b[1;33m,\u001b[0m \u001b[0mcontext\u001b[0m\u001b[1;33m)\u001b[0m \u001b[1;32mfor\u001b[0m \u001b[0mv\u001b[0m \u001b[1;32min\u001b[0m \u001b[0mobj\u001b[0m\u001b[1;33m]\u001b[0m\u001b[1;33m\u001b[0m\u001b[1;33m\u001b[0m\u001b[0m\n",
      "\u001b[1;32m~\\Anaconda3\\lib\\site-packages\\altair\\vegalite\\v3\\api.py\u001b[0m in \u001b[0;36mto_dict\u001b[1;34m(self, *args, **kwargs)\u001b[0m\n\u001b[0;32m    373\u001b[0m \u001b[1;33m\u001b[0m\u001b[0m\n\u001b[0;32m    374\u001b[0m         \u001b[1;32mtry\u001b[0m\u001b[1;33m:\u001b[0m\u001b[1;33m\u001b[0m\u001b[1;33m\u001b[0m\u001b[0m\n\u001b[1;32m--> 375\u001b[1;33m             \u001b[0mdct\u001b[0m \u001b[1;33m=\u001b[0m \u001b[0msuper\u001b[0m\u001b[1;33m(\u001b[0m\u001b[0mTopLevelMixin\u001b[0m\u001b[1;33m,\u001b[0m \u001b[0mcopy\u001b[0m\u001b[1;33m)\u001b[0m\u001b[1;33m.\u001b[0m\u001b[0mto_dict\u001b[0m\u001b[1;33m(\u001b[0m\u001b[1;33m*\u001b[0m\u001b[0margs\u001b[0m\u001b[1;33m,\u001b[0m \u001b[1;33m**\u001b[0m\u001b[0mkwargs\u001b[0m\u001b[1;33m)\u001b[0m\u001b[1;33m\u001b[0m\u001b[1;33m\u001b[0m\u001b[0m\n\u001b[0m\u001b[0;32m    376\u001b[0m         \u001b[1;32mexcept\u001b[0m \u001b[0mjsonschema\u001b[0m\u001b[1;33m.\u001b[0m\u001b[0mValidationError\u001b[0m\u001b[1;33m:\u001b[0m\u001b[1;33m\u001b[0m\u001b[1;33m\u001b[0m\u001b[0m\n\u001b[0;32m    377\u001b[0m             \u001b[0mdct\u001b[0m \u001b[1;33m=\u001b[0m \u001b[1;32mNone\u001b[0m\u001b[1;33m\u001b[0m\u001b[1;33m\u001b[0m\u001b[0m\n",
      "\u001b[1;32m~\\Anaconda3\\lib\\site-packages\\altair\\utils\\schemapi.py\u001b[0m in \u001b[0;36mto_dict\u001b[1;34m(self, validate, ignore, context)\u001b[0m\n\u001b[0;32m    292\u001b[0m             result = _todict({k: v for k, v in self._kwds.items()\n\u001b[0;32m    293\u001b[0m                               if k not in ignore},\n\u001b[1;32m--> 294\u001b[1;33m                               validate=sub_validate, context=context)\n\u001b[0m\u001b[0;32m    295\u001b[0m         \u001b[1;32melse\u001b[0m\u001b[1;33m:\u001b[0m\u001b[1;33m\u001b[0m\u001b[1;33m\u001b[0m\u001b[0m\n\u001b[0;32m    296\u001b[0m             raise ValueError(\"{} instance has both a value and properties : \"\n",
      "\u001b[1;32m~\\Anaconda3\\lib\\site-packages\\altair\\utils\\schemapi.py\u001b[0m in \u001b[0;36m_todict\u001b[1;34m(obj, validate, context)\u001b[0m\n\u001b[0;32m     48\u001b[0m         \u001b[1;32mreturn\u001b[0m \u001b[1;33m[\u001b[0m\u001b[0m_todict\u001b[0m\u001b[1;33m(\u001b[0m\u001b[0mv\u001b[0m\u001b[1;33m,\u001b[0m \u001b[0mvalidate\u001b[0m\u001b[1;33m,\u001b[0m \u001b[0mcontext\u001b[0m\u001b[1;33m)\u001b[0m \u001b[1;32mfor\u001b[0m \u001b[0mv\u001b[0m \u001b[1;32min\u001b[0m \u001b[0mobj\u001b[0m\u001b[1;33m]\u001b[0m\u001b[1;33m\u001b[0m\u001b[1;33m\u001b[0m\u001b[0m\n\u001b[0;32m     49\u001b[0m     \u001b[1;32melif\u001b[0m \u001b[0misinstance\u001b[0m\u001b[1;33m(\u001b[0m\u001b[0mobj\u001b[0m\u001b[1;33m,\u001b[0m \u001b[0mdict\u001b[0m\u001b[1;33m)\u001b[0m\u001b[1;33m:\u001b[0m\u001b[1;33m\u001b[0m\u001b[1;33m\u001b[0m\u001b[0m\n\u001b[1;32m---> 50\u001b[1;33m         return {k: _todict(v, validate, context) for k, v in obj.items()\n\u001b[0m\u001b[0;32m     51\u001b[0m                 if v is not Undefined}\n\u001b[0;32m     52\u001b[0m     \u001b[1;32melif\u001b[0m \u001b[0mhasattr\u001b[0m\u001b[1;33m(\u001b[0m\u001b[0mobj\u001b[0m\u001b[1;33m,\u001b[0m \u001b[1;34m'to_dict'\u001b[0m\u001b[1;33m)\u001b[0m\u001b[1;33m:\u001b[0m\u001b[1;33m\u001b[0m\u001b[1;33m\u001b[0m\u001b[0m\n",
      "\u001b[1;32m~\\Anaconda3\\lib\\site-packages\\altair\\utils\\schemapi.py\u001b[0m in \u001b[0;36m<dictcomp>\u001b[1;34m(.0)\u001b[0m\n\u001b[0;32m     49\u001b[0m     \u001b[1;32melif\u001b[0m \u001b[0misinstance\u001b[0m\u001b[1;33m(\u001b[0m\u001b[0mobj\u001b[0m\u001b[1;33m,\u001b[0m \u001b[0mdict\u001b[0m\u001b[1;33m)\u001b[0m\u001b[1;33m:\u001b[0m\u001b[1;33m\u001b[0m\u001b[1;33m\u001b[0m\u001b[0m\n\u001b[0;32m     50\u001b[0m         return {k: _todict(v, validate, context) for k, v in obj.items()\n\u001b[1;32m---> 51\u001b[1;33m                 if v is not Undefined}\n\u001b[0m\u001b[0;32m     52\u001b[0m     \u001b[1;32melif\u001b[0m \u001b[0mhasattr\u001b[0m\u001b[1;33m(\u001b[0m\u001b[0mobj\u001b[0m\u001b[1;33m,\u001b[0m \u001b[1;34m'to_dict'\u001b[0m\u001b[1;33m)\u001b[0m\u001b[1;33m:\u001b[0m\u001b[1;33m\u001b[0m\u001b[1;33m\u001b[0m\u001b[0m\n\u001b[0;32m     53\u001b[0m         \u001b[1;32mreturn\u001b[0m \u001b[0mobj\u001b[0m\u001b[1;33m.\u001b[0m\u001b[0mto_dict\u001b[0m\u001b[1;33m(\u001b[0m\u001b[1;33m)\u001b[0m\u001b[1;33m\u001b[0m\u001b[1;33m\u001b[0m\u001b[0m\n",
      "\u001b[1;32m~\\Anaconda3\\lib\\site-packages\\altair\\utils\\schemapi.py\u001b[0m in \u001b[0;36m_todict\u001b[1;34m(obj, validate, context)\u001b[0m\n\u001b[0;32m     46\u001b[0m         \u001b[1;32mreturn\u001b[0m \u001b[0mobj\u001b[0m\u001b[1;33m.\u001b[0m\u001b[0mto_dict\u001b[0m\u001b[1;33m(\u001b[0m\u001b[0mvalidate\u001b[0m\u001b[1;33m=\u001b[0m\u001b[0mvalidate\u001b[0m\u001b[1;33m,\u001b[0m \u001b[0mcontext\u001b[0m\u001b[1;33m=\u001b[0m\u001b[0mcontext\u001b[0m\u001b[1;33m)\u001b[0m\u001b[1;33m\u001b[0m\u001b[1;33m\u001b[0m\u001b[0m\n\u001b[0;32m     47\u001b[0m     \u001b[1;32melif\u001b[0m \u001b[0misinstance\u001b[0m\u001b[1;33m(\u001b[0m\u001b[0mobj\u001b[0m\u001b[1;33m,\u001b[0m \u001b[1;33m(\u001b[0m\u001b[0mlist\u001b[0m\u001b[1;33m,\u001b[0m \u001b[0mtuple\u001b[0m\u001b[1;33m)\u001b[0m\u001b[1;33m)\u001b[0m\u001b[1;33m:\u001b[0m\u001b[1;33m\u001b[0m\u001b[1;33m\u001b[0m\u001b[0m\n\u001b[1;32m---> 48\u001b[1;33m         \u001b[1;32mreturn\u001b[0m \u001b[1;33m[\u001b[0m\u001b[0m_todict\u001b[0m\u001b[1;33m(\u001b[0m\u001b[0mv\u001b[0m\u001b[1;33m,\u001b[0m \u001b[0mvalidate\u001b[0m\u001b[1;33m,\u001b[0m \u001b[0mcontext\u001b[0m\u001b[1;33m)\u001b[0m \u001b[1;32mfor\u001b[0m \u001b[0mv\u001b[0m \u001b[1;32min\u001b[0m \u001b[0mobj\u001b[0m\u001b[1;33m]\u001b[0m\u001b[1;33m\u001b[0m\u001b[1;33m\u001b[0m\u001b[0m\n\u001b[0m\u001b[0;32m     49\u001b[0m     \u001b[1;32melif\u001b[0m \u001b[0misinstance\u001b[0m\u001b[1;33m(\u001b[0m\u001b[0mobj\u001b[0m\u001b[1;33m,\u001b[0m \u001b[0mdict\u001b[0m\u001b[1;33m)\u001b[0m\u001b[1;33m:\u001b[0m\u001b[1;33m\u001b[0m\u001b[1;33m\u001b[0m\u001b[0m\n\u001b[0;32m     50\u001b[0m         return {k: _todict(v, validate, context) for k, v in obj.items()\n",
      "\u001b[1;32m~\\Anaconda3\\lib\\site-packages\\altair\\utils\\schemapi.py\u001b[0m in \u001b[0;36m<listcomp>\u001b[1;34m(.0)\u001b[0m\n\u001b[0;32m     46\u001b[0m         \u001b[1;32mreturn\u001b[0m \u001b[0mobj\u001b[0m\u001b[1;33m.\u001b[0m\u001b[0mto_dict\u001b[0m\u001b[1;33m(\u001b[0m\u001b[0mvalidate\u001b[0m\u001b[1;33m=\u001b[0m\u001b[0mvalidate\u001b[0m\u001b[1;33m,\u001b[0m \u001b[0mcontext\u001b[0m\u001b[1;33m=\u001b[0m\u001b[0mcontext\u001b[0m\u001b[1;33m)\u001b[0m\u001b[1;33m\u001b[0m\u001b[1;33m\u001b[0m\u001b[0m\n\u001b[0;32m     47\u001b[0m     \u001b[1;32melif\u001b[0m \u001b[0misinstance\u001b[0m\u001b[1;33m(\u001b[0m\u001b[0mobj\u001b[0m\u001b[1;33m,\u001b[0m \u001b[1;33m(\u001b[0m\u001b[0mlist\u001b[0m\u001b[1;33m,\u001b[0m \u001b[0mtuple\u001b[0m\u001b[1;33m)\u001b[0m\u001b[1;33m)\u001b[0m\u001b[1;33m:\u001b[0m\u001b[1;33m\u001b[0m\u001b[1;33m\u001b[0m\u001b[0m\n\u001b[1;32m---> 48\u001b[1;33m         \u001b[1;32mreturn\u001b[0m \u001b[1;33m[\u001b[0m\u001b[0m_todict\u001b[0m\u001b[1;33m(\u001b[0m\u001b[0mv\u001b[0m\u001b[1;33m,\u001b[0m \u001b[0mvalidate\u001b[0m\u001b[1;33m,\u001b[0m \u001b[0mcontext\u001b[0m\u001b[1;33m)\u001b[0m \u001b[1;32mfor\u001b[0m \u001b[0mv\u001b[0m \u001b[1;32min\u001b[0m \u001b[0mobj\u001b[0m\u001b[1;33m]\u001b[0m\u001b[1;33m\u001b[0m\u001b[1;33m\u001b[0m\u001b[0m\n\u001b[0m\u001b[0;32m     49\u001b[0m     \u001b[1;32melif\u001b[0m \u001b[0misinstance\u001b[0m\u001b[1;33m(\u001b[0m\u001b[0mobj\u001b[0m\u001b[1;33m,\u001b[0m \u001b[0mdict\u001b[0m\u001b[1;33m)\u001b[0m\u001b[1;33m:\u001b[0m\u001b[1;33m\u001b[0m\u001b[1;33m\u001b[0m\u001b[0m\n\u001b[0;32m     50\u001b[0m         return {k: _todict(v, validate, context) for k, v in obj.items()\n",
      "\u001b[1;32m~\\Anaconda3\\lib\\site-packages\\altair\\utils\\schemapi.py\u001b[0m in \u001b[0;36m_todict\u001b[1;34m(obj, validate, context)\u001b[0m\n\u001b[0;32m     44\u001b[0m     \u001b[1;34m\"\"\"Convert an object to a dict representation.\"\"\"\u001b[0m\u001b[1;33m\u001b[0m\u001b[1;33m\u001b[0m\u001b[0m\n\u001b[0;32m     45\u001b[0m     \u001b[1;32mif\u001b[0m \u001b[0misinstance\u001b[0m\u001b[1;33m(\u001b[0m\u001b[0mobj\u001b[0m\u001b[1;33m,\u001b[0m \u001b[0mSchemaBase\u001b[0m\u001b[1;33m)\u001b[0m\u001b[1;33m:\u001b[0m\u001b[1;33m\u001b[0m\u001b[1;33m\u001b[0m\u001b[0m\n\u001b[1;32m---> 46\u001b[1;33m         \u001b[1;32mreturn\u001b[0m \u001b[0mobj\u001b[0m\u001b[1;33m.\u001b[0m\u001b[0mto_dict\u001b[0m\u001b[1;33m(\u001b[0m\u001b[0mvalidate\u001b[0m\u001b[1;33m=\u001b[0m\u001b[0mvalidate\u001b[0m\u001b[1;33m,\u001b[0m \u001b[0mcontext\u001b[0m\u001b[1;33m=\u001b[0m\u001b[0mcontext\u001b[0m\u001b[1;33m)\u001b[0m\u001b[1;33m\u001b[0m\u001b[1;33m\u001b[0m\u001b[0m\n\u001b[0m\u001b[0;32m     47\u001b[0m     \u001b[1;32melif\u001b[0m \u001b[0misinstance\u001b[0m\u001b[1;33m(\u001b[0m\u001b[0mobj\u001b[0m\u001b[1;33m,\u001b[0m \u001b[1;33m(\u001b[0m\u001b[0mlist\u001b[0m\u001b[1;33m,\u001b[0m \u001b[0mtuple\u001b[0m\u001b[1;33m)\u001b[0m\u001b[1;33m)\u001b[0m\u001b[1;33m:\u001b[0m\u001b[1;33m\u001b[0m\u001b[1;33m\u001b[0m\u001b[0m\n\u001b[0;32m     48\u001b[0m         \u001b[1;32mreturn\u001b[0m \u001b[1;33m[\u001b[0m\u001b[0m_todict\u001b[0m\u001b[1;33m(\u001b[0m\u001b[0mv\u001b[0m\u001b[1;33m,\u001b[0m \u001b[0mvalidate\u001b[0m\u001b[1;33m,\u001b[0m \u001b[0mcontext\u001b[0m\u001b[1;33m)\u001b[0m \u001b[1;32mfor\u001b[0m \u001b[0mv\u001b[0m \u001b[1;32min\u001b[0m \u001b[0mobj\u001b[0m\u001b[1;33m]\u001b[0m\u001b[1;33m\u001b[0m\u001b[1;33m\u001b[0m\u001b[0m\n",
      "\u001b[1;32m~\\Anaconda3\\lib\\site-packages\\altair\\vegalite\\v3\\api.py\u001b[0m in \u001b[0;36mto_dict\u001b[1;34m(self, *args, **kwargs)\u001b[0m\n\u001b[0;32m    373\u001b[0m \u001b[1;33m\u001b[0m\u001b[0m\n\u001b[0;32m    374\u001b[0m         \u001b[1;32mtry\u001b[0m\u001b[1;33m:\u001b[0m\u001b[1;33m\u001b[0m\u001b[1;33m\u001b[0m\u001b[0m\n\u001b[1;32m--> 375\u001b[1;33m             \u001b[0mdct\u001b[0m \u001b[1;33m=\u001b[0m \u001b[0msuper\u001b[0m\u001b[1;33m(\u001b[0m\u001b[0mTopLevelMixin\u001b[0m\u001b[1;33m,\u001b[0m \u001b[0mcopy\u001b[0m\u001b[1;33m)\u001b[0m\u001b[1;33m.\u001b[0m\u001b[0mto_dict\u001b[0m\u001b[1;33m(\u001b[0m\u001b[1;33m*\u001b[0m\u001b[0margs\u001b[0m\u001b[1;33m,\u001b[0m \u001b[1;33m**\u001b[0m\u001b[0mkwargs\u001b[0m\u001b[1;33m)\u001b[0m\u001b[1;33m\u001b[0m\u001b[1;33m\u001b[0m\u001b[0m\n\u001b[0m\u001b[0;32m    376\u001b[0m         \u001b[1;32mexcept\u001b[0m \u001b[0mjsonschema\u001b[0m\u001b[1;33m.\u001b[0m\u001b[0mValidationError\u001b[0m\u001b[1;33m:\u001b[0m\u001b[1;33m\u001b[0m\u001b[1;33m\u001b[0m\u001b[0m\n\u001b[0;32m    377\u001b[0m             \u001b[0mdct\u001b[0m \u001b[1;33m=\u001b[0m \u001b[1;32mNone\u001b[0m\u001b[1;33m\u001b[0m\u001b[1;33m\u001b[0m\u001b[0m\n",
      "\u001b[1;32m~\\Anaconda3\\lib\\site-packages\\altair\\utils\\schemapi.py\u001b[0m in \u001b[0;36mto_dict\u001b[1;34m(self, validate, ignore, context)\u001b[0m\n\u001b[0;32m    292\u001b[0m             result = _todict({k: v for k, v in self._kwds.items()\n\u001b[0;32m    293\u001b[0m                               if k not in ignore},\n\u001b[1;32m--> 294\u001b[1;33m                               validate=sub_validate, context=context)\n\u001b[0m\u001b[0;32m    295\u001b[0m         \u001b[1;32melse\u001b[0m\u001b[1;33m:\u001b[0m\u001b[1;33m\u001b[0m\u001b[1;33m\u001b[0m\u001b[0m\n\u001b[0;32m    296\u001b[0m             raise ValueError(\"{} instance has both a value and properties : \"\n",
      "\u001b[1;32m~\\Anaconda3\\lib\\site-packages\\altair\\utils\\schemapi.py\u001b[0m in \u001b[0;36m_todict\u001b[1;34m(obj, validate, context)\u001b[0m\n\u001b[0;32m     48\u001b[0m         \u001b[1;32mreturn\u001b[0m \u001b[1;33m[\u001b[0m\u001b[0m_todict\u001b[0m\u001b[1;33m(\u001b[0m\u001b[0mv\u001b[0m\u001b[1;33m,\u001b[0m \u001b[0mvalidate\u001b[0m\u001b[1;33m,\u001b[0m \u001b[0mcontext\u001b[0m\u001b[1;33m)\u001b[0m \u001b[1;32mfor\u001b[0m \u001b[0mv\u001b[0m \u001b[1;32min\u001b[0m \u001b[0mobj\u001b[0m\u001b[1;33m]\u001b[0m\u001b[1;33m\u001b[0m\u001b[1;33m\u001b[0m\u001b[0m\n\u001b[0;32m     49\u001b[0m     \u001b[1;32melif\u001b[0m \u001b[0misinstance\u001b[0m\u001b[1;33m(\u001b[0m\u001b[0mobj\u001b[0m\u001b[1;33m,\u001b[0m \u001b[0mdict\u001b[0m\u001b[1;33m)\u001b[0m\u001b[1;33m:\u001b[0m\u001b[1;33m\u001b[0m\u001b[1;33m\u001b[0m\u001b[0m\n\u001b[1;32m---> 50\u001b[1;33m         return {k: _todict(v, validate, context) for k, v in obj.items()\n\u001b[0m\u001b[0;32m     51\u001b[0m                 if v is not Undefined}\n\u001b[0;32m     52\u001b[0m     \u001b[1;32melif\u001b[0m \u001b[0mhasattr\u001b[0m\u001b[1;33m(\u001b[0m\u001b[0mobj\u001b[0m\u001b[1;33m,\u001b[0m \u001b[1;34m'to_dict'\u001b[0m\u001b[1;33m)\u001b[0m\u001b[1;33m:\u001b[0m\u001b[1;33m\u001b[0m\u001b[1;33m\u001b[0m\u001b[0m\n",
      "\u001b[1;32m~\\Anaconda3\\lib\\site-packages\\altair\\utils\\schemapi.py\u001b[0m in \u001b[0;36m<dictcomp>\u001b[1;34m(.0)\u001b[0m\n\u001b[0;32m     49\u001b[0m     \u001b[1;32melif\u001b[0m \u001b[0misinstance\u001b[0m\u001b[1;33m(\u001b[0m\u001b[0mobj\u001b[0m\u001b[1;33m,\u001b[0m \u001b[0mdict\u001b[0m\u001b[1;33m)\u001b[0m\u001b[1;33m:\u001b[0m\u001b[1;33m\u001b[0m\u001b[1;33m\u001b[0m\u001b[0m\n\u001b[0;32m     50\u001b[0m         return {k: _todict(v, validate, context) for k, v in obj.items()\n\u001b[1;32m---> 51\u001b[1;33m                 if v is not Undefined}\n\u001b[0m\u001b[0;32m     52\u001b[0m     \u001b[1;32melif\u001b[0m \u001b[0mhasattr\u001b[0m\u001b[1;33m(\u001b[0m\u001b[0mobj\u001b[0m\u001b[1;33m,\u001b[0m \u001b[1;34m'to_dict'\u001b[0m\u001b[1;33m)\u001b[0m\u001b[1;33m:\u001b[0m\u001b[1;33m\u001b[0m\u001b[1;33m\u001b[0m\u001b[0m\n\u001b[0;32m     53\u001b[0m         \u001b[1;32mreturn\u001b[0m \u001b[0mobj\u001b[0m\u001b[1;33m.\u001b[0m\u001b[0mto_dict\u001b[0m\u001b[1;33m(\u001b[0m\u001b[1;33m)\u001b[0m\u001b[1;33m\u001b[0m\u001b[1;33m\u001b[0m\u001b[0m\n",
      "\u001b[1;32m~\\Anaconda3\\lib\\site-packages\\altair\\utils\\schemapi.py\u001b[0m in \u001b[0;36m_todict\u001b[1;34m(obj, validate, context)\u001b[0m\n\u001b[0;32m     44\u001b[0m     \u001b[1;34m\"\"\"Convert an object to a dict representation.\"\"\"\u001b[0m\u001b[1;33m\u001b[0m\u001b[1;33m\u001b[0m\u001b[0m\n\u001b[0;32m     45\u001b[0m     \u001b[1;32mif\u001b[0m \u001b[0misinstance\u001b[0m\u001b[1;33m(\u001b[0m\u001b[0mobj\u001b[0m\u001b[1;33m,\u001b[0m \u001b[0mSchemaBase\u001b[0m\u001b[1;33m)\u001b[0m\u001b[1;33m:\u001b[0m\u001b[1;33m\u001b[0m\u001b[1;33m\u001b[0m\u001b[0m\n\u001b[1;32m---> 46\u001b[1;33m         \u001b[1;32mreturn\u001b[0m \u001b[0mobj\u001b[0m\u001b[1;33m.\u001b[0m\u001b[0mto_dict\u001b[0m\u001b[1;33m(\u001b[0m\u001b[0mvalidate\u001b[0m\u001b[1;33m=\u001b[0m\u001b[0mvalidate\u001b[0m\u001b[1;33m,\u001b[0m \u001b[0mcontext\u001b[0m\u001b[1;33m=\u001b[0m\u001b[0mcontext\u001b[0m\u001b[1;33m)\u001b[0m\u001b[1;33m\u001b[0m\u001b[1;33m\u001b[0m\u001b[0m\n\u001b[0m\u001b[0;32m     47\u001b[0m     \u001b[1;32melif\u001b[0m \u001b[0misinstance\u001b[0m\u001b[1;33m(\u001b[0m\u001b[0mobj\u001b[0m\u001b[1;33m,\u001b[0m \u001b[1;33m(\u001b[0m\u001b[0mlist\u001b[0m\u001b[1;33m,\u001b[0m \u001b[0mtuple\u001b[0m\u001b[1;33m)\u001b[0m\u001b[1;33m)\u001b[0m\u001b[1;33m:\u001b[0m\u001b[1;33m\u001b[0m\u001b[1;33m\u001b[0m\u001b[0m\n\u001b[0;32m     48\u001b[0m         \u001b[1;32mreturn\u001b[0m \u001b[1;33m[\u001b[0m\u001b[0m_todict\u001b[0m\u001b[1;33m(\u001b[0m\u001b[0mv\u001b[0m\u001b[1;33m,\u001b[0m \u001b[0mvalidate\u001b[0m\u001b[1;33m,\u001b[0m \u001b[0mcontext\u001b[0m\u001b[1;33m)\u001b[0m \u001b[1;32mfor\u001b[0m \u001b[0mv\u001b[0m \u001b[1;32min\u001b[0m \u001b[0mobj\u001b[0m\u001b[1;33m]\u001b[0m\u001b[1;33m\u001b[0m\u001b[1;33m\u001b[0m\u001b[0m\n",
      "\u001b[1;32m~\\Anaconda3\\lib\\site-packages\\altair\\utils\\schemapi.py\u001b[0m in \u001b[0;36mto_dict\u001b[1;34m(self, validate, ignore, context)\u001b[0m\n\u001b[0;32m    292\u001b[0m             result = _todict({k: v for k, v in self._kwds.items()\n\u001b[0;32m    293\u001b[0m                               if k not in ignore},\n\u001b[1;32m--> 294\u001b[1;33m                               validate=sub_validate, context=context)\n\u001b[0m\u001b[0;32m    295\u001b[0m         \u001b[1;32melse\u001b[0m\u001b[1;33m:\u001b[0m\u001b[1;33m\u001b[0m\u001b[1;33m\u001b[0m\u001b[0m\n\u001b[0;32m    296\u001b[0m             raise ValueError(\"{} instance has both a value and properties : \"\n",
      "\u001b[1;32m~\\Anaconda3\\lib\\site-packages\\altair\\utils\\schemapi.py\u001b[0m in \u001b[0;36m_todict\u001b[1;34m(obj, validate, context)\u001b[0m\n\u001b[0;32m     48\u001b[0m         \u001b[1;32mreturn\u001b[0m \u001b[1;33m[\u001b[0m\u001b[0m_todict\u001b[0m\u001b[1;33m(\u001b[0m\u001b[0mv\u001b[0m\u001b[1;33m,\u001b[0m \u001b[0mvalidate\u001b[0m\u001b[1;33m,\u001b[0m \u001b[0mcontext\u001b[0m\u001b[1;33m)\u001b[0m \u001b[1;32mfor\u001b[0m \u001b[0mv\u001b[0m \u001b[1;32min\u001b[0m \u001b[0mobj\u001b[0m\u001b[1;33m]\u001b[0m\u001b[1;33m\u001b[0m\u001b[1;33m\u001b[0m\u001b[0m\n\u001b[0;32m     49\u001b[0m     \u001b[1;32melif\u001b[0m \u001b[0misinstance\u001b[0m\u001b[1;33m(\u001b[0m\u001b[0mobj\u001b[0m\u001b[1;33m,\u001b[0m \u001b[0mdict\u001b[0m\u001b[1;33m)\u001b[0m\u001b[1;33m:\u001b[0m\u001b[1;33m\u001b[0m\u001b[1;33m\u001b[0m\u001b[0m\n\u001b[1;32m---> 50\u001b[1;33m         return {k: _todict(v, validate, context) for k, v in obj.items()\n\u001b[0m\u001b[0;32m     51\u001b[0m                 if v is not Undefined}\n\u001b[0;32m     52\u001b[0m     \u001b[1;32melif\u001b[0m \u001b[0mhasattr\u001b[0m\u001b[1;33m(\u001b[0m\u001b[0mobj\u001b[0m\u001b[1;33m,\u001b[0m \u001b[1;34m'to_dict'\u001b[0m\u001b[1;33m)\u001b[0m\u001b[1;33m:\u001b[0m\u001b[1;33m\u001b[0m\u001b[1;33m\u001b[0m\u001b[0m\n",
      "\u001b[1;32m~\\Anaconda3\\lib\\site-packages\\altair\\utils\\schemapi.py\u001b[0m in \u001b[0;36m<dictcomp>\u001b[1;34m(.0)\u001b[0m\n\u001b[0;32m     49\u001b[0m     \u001b[1;32melif\u001b[0m \u001b[0misinstance\u001b[0m\u001b[1;33m(\u001b[0m\u001b[0mobj\u001b[0m\u001b[1;33m,\u001b[0m \u001b[0mdict\u001b[0m\u001b[1;33m)\u001b[0m\u001b[1;33m:\u001b[0m\u001b[1;33m\u001b[0m\u001b[1;33m\u001b[0m\u001b[0m\n\u001b[0;32m     50\u001b[0m         return {k: _todict(v, validate, context) for k, v in obj.items()\n\u001b[1;32m---> 51\u001b[1;33m                 if v is not Undefined}\n\u001b[0m\u001b[0;32m     52\u001b[0m     \u001b[1;32melif\u001b[0m \u001b[0mhasattr\u001b[0m\u001b[1;33m(\u001b[0m\u001b[0mobj\u001b[0m\u001b[1;33m,\u001b[0m \u001b[1;34m'to_dict'\u001b[0m\u001b[1;33m)\u001b[0m\u001b[1;33m:\u001b[0m\u001b[1;33m\u001b[0m\u001b[1;33m\u001b[0m\u001b[0m\n\u001b[0;32m     53\u001b[0m         \u001b[1;32mreturn\u001b[0m \u001b[0mobj\u001b[0m\u001b[1;33m.\u001b[0m\u001b[0mto_dict\u001b[0m\u001b[1;33m(\u001b[0m\u001b[1;33m)\u001b[0m\u001b[1;33m\u001b[0m\u001b[1;33m\u001b[0m\u001b[0m\n",
      "\u001b[1;32m~\\Anaconda3\\lib\\site-packages\\altair\\utils\\schemapi.py\u001b[0m in \u001b[0;36m_todict\u001b[1;34m(obj, validate, context)\u001b[0m\n\u001b[0;32m     46\u001b[0m         \u001b[1;32mreturn\u001b[0m \u001b[0mobj\u001b[0m\u001b[1;33m.\u001b[0m\u001b[0mto_dict\u001b[0m\u001b[1;33m(\u001b[0m\u001b[0mvalidate\u001b[0m\u001b[1;33m=\u001b[0m\u001b[0mvalidate\u001b[0m\u001b[1;33m,\u001b[0m \u001b[0mcontext\u001b[0m\u001b[1;33m=\u001b[0m\u001b[0mcontext\u001b[0m\u001b[1;33m)\u001b[0m\u001b[1;33m\u001b[0m\u001b[1;33m\u001b[0m\u001b[0m\n\u001b[0;32m     47\u001b[0m     \u001b[1;32melif\u001b[0m \u001b[0misinstance\u001b[0m\u001b[1;33m(\u001b[0m\u001b[0mobj\u001b[0m\u001b[1;33m,\u001b[0m \u001b[1;33m(\u001b[0m\u001b[0mlist\u001b[0m\u001b[1;33m,\u001b[0m \u001b[0mtuple\u001b[0m\u001b[1;33m)\u001b[0m\u001b[1;33m)\u001b[0m\u001b[1;33m:\u001b[0m\u001b[1;33m\u001b[0m\u001b[1;33m\u001b[0m\u001b[0m\n\u001b[1;32m---> 48\u001b[1;33m         \u001b[1;32mreturn\u001b[0m \u001b[1;33m[\u001b[0m\u001b[0m_todict\u001b[0m\u001b[1;33m(\u001b[0m\u001b[0mv\u001b[0m\u001b[1;33m,\u001b[0m \u001b[0mvalidate\u001b[0m\u001b[1;33m,\u001b[0m \u001b[0mcontext\u001b[0m\u001b[1;33m)\u001b[0m \u001b[1;32mfor\u001b[0m \u001b[0mv\u001b[0m \u001b[1;32min\u001b[0m \u001b[0mobj\u001b[0m\u001b[1;33m]\u001b[0m\u001b[1;33m\u001b[0m\u001b[1;33m\u001b[0m\u001b[0m\n\u001b[0m\u001b[0;32m     49\u001b[0m     \u001b[1;32melif\u001b[0m \u001b[0misinstance\u001b[0m\u001b[1;33m(\u001b[0m\u001b[0mobj\u001b[0m\u001b[1;33m,\u001b[0m \u001b[0mdict\u001b[0m\u001b[1;33m)\u001b[0m\u001b[1;33m:\u001b[0m\u001b[1;33m\u001b[0m\u001b[1;33m\u001b[0m\u001b[0m\n\u001b[0;32m     50\u001b[0m         return {k: _todict(v, validate, context) for k, v in obj.items()\n",
      "\u001b[1;32m~\\Anaconda3\\lib\\site-packages\\altair\\utils\\schemapi.py\u001b[0m in \u001b[0;36m<listcomp>\u001b[1;34m(.0)\u001b[0m\n\u001b[0;32m     46\u001b[0m         \u001b[1;32mreturn\u001b[0m \u001b[0mobj\u001b[0m\u001b[1;33m.\u001b[0m\u001b[0mto_dict\u001b[0m\u001b[1;33m(\u001b[0m\u001b[0mvalidate\u001b[0m\u001b[1;33m=\u001b[0m\u001b[0mvalidate\u001b[0m\u001b[1;33m,\u001b[0m \u001b[0mcontext\u001b[0m\u001b[1;33m=\u001b[0m\u001b[0mcontext\u001b[0m\u001b[1;33m)\u001b[0m\u001b[1;33m\u001b[0m\u001b[1;33m\u001b[0m\u001b[0m\n\u001b[0;32m     47\u001b[0m     \u001b[1;32melif\u001b[0m \u001b[0misinstance\u001b[0m\u001b[1;33m(\u001b[0m\u001b[0mobj\u001b[0m\u001b[1;33m,\u001b[0m \u001b[1;33m(\u001b[0m\u001b[0mlist\u001b[0m\u001b[1;33m,\u001b[0m \u001b[0mtuple\u001b[0m\u001b[1;33m)\u001b[0m\u001b[1;33m)\u001b[0m\u001b[1;33m:\u001b[0m\u001b[1;33m\u001b[0m\u001b[1;33m\u001b[0m\u001b[0m\n\u001b[1;32m---> 48\u001b[1;33m         \u001b[1;32mreturn\u001b[0m \u001b[1;33m[\u001b[0m\u001b[0m_todict\u001b[0m\u001b[1;33m(\u001b[0m\u001b[0mv\u001b[0m\u001b[1;33m,\u001b[0m \u001b[0mvalidate\u001b[0m\u001b[1;33m,\u001b[0m \u001b[0mcontext\u001b[0m\u001b[1;33m)\u001b[0m \u001b[1;32mfor\u001b[0m \u001b[0mv\u001b[0m \u001b[1;32min\u001b[0m \u001b[0mobj\u001b[0m\u001b[1;33m]\u001b[0m\u001b[1;33m\u001b[0m\u001b[1;33m\u001b[0m\u001b[0m\n\u001b[0m\u001b[0;32m     49\u001b[0m     \u001b[1;32melif\u001b[0m \u001b[0misinstance\u001b[0m\u001b[1;33m(\u001b[0m\u001b[0mobj\u001b[0m\u001b[1;33m,\u001b[0m \u001b[0mdict\u001b[0m\u001b[1;33m)\u001b[0m\u001b[1;33m:\u001b[0m\u001b[1;33m\u001b[0m\u001b[1;33m\u001b[0m\u001b[0m\n\u001b[0;32m     50\u001b[0m         return {k: _todict(v, validate, context) for k, v in obj.items()\n",
      "\u001b[1;32m~\\Anaconda3\\lib\\site-packages\\altair\\utils\\schemapi.py\u001b[0m in \u001b[0;36m_todict\u001b[1;34m(obj, validate, context)\u001b[0m\n\u001b[0;32m     44\u001b[0m     \u001b[1;34m\"\"\"Convert an object to a dict representation.\"\"\"\u001b[0m\u001b[1;33m\u001b[0m\u001b[1;33m\u001b[0m\u001b[0m\n\u001b[0;32m     45\u001b[0m     \u001b[1;32mif\u001b[0m \u001b[0misinstance\u001b[0m\u001b[1;33m(\u001b[0m\u001b[0mobj\u001b[0m\u001b[1;33m,\u001b[0m \u001b[0mSchemaBase\u001b[0m\u001b[1;33m)\u001b[0m\u001b[1;33m:\u001b[0m\u001b[1;33m\u001b[0m\u001b[1;33m\u001b[0m\u001b[0m\n\u001b[1;32m---> 46\u001b[1;33m         \u001b[1;32mreturn\u001b[0m \u001b[0mobj\u001b[0m\u001b[1;33m.\u001b[0m\u001b[0mto_dict\u001b[0m\u001b[1;33m(\u001b[0m\u001b[0mvalidate\u001b[0m\u001b[1;33m=\u001b[0m\u001b[0mvalidate\u001b[0m\u001b[1;33m,\u001b[0m \u001b[0mcontext\u001b[0m\u001b[1;33m=\u001b[0m\u001b[0mcontext\u001b[0m\u001b[1;33m)\u001b[0m\u001b[1;33m\u001b[0m\u001b[1;33m\u001b[0m\u001b[0m\n\u001b[0m\u001b[0;32m     47\u001b[0m     \u001b[1;32melif\u001b[0m \u001b[0misinstance\u001b[0m\u001b[1;33m(\u001b[0m\u001b[0mobj\u001b[0m\u001b[1;33m,\u001b[0m \u001b[1;33m(\u001b[0m\u001b[0mlist\u001b[0m\u001b[1;33m,\u001b[0m \u001b[0mtuple\u001b[0m\u001b[1;33m)\u001b[0m\u001b[1;33m)\u001b[0m\u001b[1;33m:\u001b[0m\u001b[1;33m\u001b[0m\u001b[1;33m\u001b[0m\u001b[0m\n\u001b[0;32m     48\u001b[0m         \u001b[1;32mreturn\u001b[0m \u001b[1;33m[\u001b[0m\u001b[0m_todict\u001b[0m\u001b[1;33m(\u001b[0m\u001b[0mv\u001b[0m\u001b[1;33m,\u001b[0m \u001b[0mvalidate\u001b[0m\u001b[1;33m,\u001b[0m \u001b[0mcontext\u001b[0m\u001b[1;33m)\u001b[0m \u001b[1;32mfor\u001b[0m \u001b[0mv\u001b[0m \u001b[1;32min\u001b[0m \u001b[0mobj\u001b[0m\u001b[1;33m]\u001b[0m\u001b[1;33m\u001b[0m\u001b[1;33m\u001b[0m\u001b[0m\n",
      "\u001b[1;32m~\\Anaconda3\\lib\\site-packages\\altair\\vegalite\\v3\\schema\\channels.py\u001b[0m in \u001b[0;36mto_dict\u001b[1;34m(self, validate, ignore, context)\u001b[0m\n\u001b[0;32m     43\u001b[0m                     raise ValueError(\"{} encoding field is specified without a type; \"\n\u001b[0;32m     44\u001b[0m                                      \u001b[1;34m\"the type cannot be inferred because it does not \"\u001b[0m\u001b[1;33m\u001b[0m\u001b[1;33m\u001b[0m\u001b[0m\n\u001b[1;32m---> 45\u001b[1;33m                                      \"match any column in the data.\".format(shorthand))\n\u001b[0m\u001b[0;32m     46\u001b[0m                 \u001b[1;32melse\u001b[0m\u001b[1;33m:\u001b[0m\u001b[1;33m\u001b[0m\u001b[1;33m\u001b[0m\u001b[0m\n\u001b[0;32m     47\u001b[0m                     raise ValueError(\"{} encoding field is specified without a type; \"\n",
      "\u001b[1;31mValueError\u001b[0m: profit encoding field is specified without a type; the type cannot be inferred because it does not match any column in the data."
     ]
    },
    {
     "data": {
      "text/plain": [
       "alt.HConcatChart(...)"
      ]
     },
     "execution_count": 20,
     "metadata": {},
     "output_type": "execute_result"
    }
   ],
   "source": [
    "make_text_plot2(genre = 'Comedy', year = (1933, 2010)) "
   ]
  },
  {
   "cell_type": "code",
   "execution_count": null,
   "metadata": {},
   "outputs": [],
   "source": []
  }
 ],
 "metadata": {
  "kernelspec": {
   "display_name": "Python 3",
   "language": "python",
   "name": "python3"
  },
  "language_info": {
   "codemirror_mode": {
    "name": "ipython",
    "version": 3
   },
   "file_extension": ".py",
   "mimetype": "text/x-python",
   "name": "python",
   "nbconvert_exporter": "python",
   "pygments_lexer": "ipython3",
   "version": "3.7.4"
  }
 },
 "nbformat": 4,
 "nbformat_minor": 4
}
