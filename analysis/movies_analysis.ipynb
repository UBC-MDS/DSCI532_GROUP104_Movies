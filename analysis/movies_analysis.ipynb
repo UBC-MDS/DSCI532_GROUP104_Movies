{
 "cells": [
  {
   "cell_type": "code",
   "execution_count": 1,
   "metadata": {},
   "outputs": [
    {
     "data": {
      "text/plain": [
       "DataTransformerRegistry.enable('json')"
      ]
     },
     "execution_count": 1,
     "metadata": {},
     "output_type": "execute_result"
    }
   ],
   "source": [
    "import pandas as pd\n",
    "import altair as alt\n",
    "\n",
    "# Need to enable this to allow work with larger datasets (https://altair-viz.github.io/user_guide/faq.html)\n",
    "alt.data_transformers.enable('json')"
   ]
  },
  {
   "cell_type": "code",
   "execution_count": 2,
   "metadata": {},
   "outputs": [],
   "source": [
    "movies_df = pd.read_json('https://raw.githubusercontent.com/vega/vega-datasets/master/data/movies.json')\n",
    "\n",
    "# Add a column of the release year\n",
    "movies_df['Year'] = pd.to_datetime(movies_df['Release_Date']).dt.year\n",
    "# A list columns that will appear in the final data frame\n",
    "column_list = ['Title', 'Major_Genre', 'Director', 'Year', 'Worldwide_Gross', 'Production_Budget', 'IMDB_Rating']\n",
    "\n",
    "# Filter out lines with errors or NaNs in 'Director', 'Year', 'Major_Genre' columns\n",
    "movies_df = (movies_df.query('Year < 2019')\n",
    "                     .dropna(subset = column_list)\n",
    "                     .loc[:, column_list]\n",
    "                     .reset_index()\n",
    "                     .drop(columns = ['index']))"
   ]
  },
  {
   "cell_type": "code",
   "execution_count": 3,
   "metadata": {},
   "outputs": [
    {
     "data": {
      "text/plain": [
       "(1671, 7)"
      ]
     },
     "execution_count": 3,
     "metadata": {},
     "output_type": "execute_result"
    }
   ],
   "source": [
    "movies_df.shape"
   ]
  },
  {
   "cell_type": "code",
   "execution_count": 4,
   "metadata": {},
   "outputs": [
    {
     "data": {
      "text/html": [
       "<div>\n",
       "<style scoped>\n",
       "    .dataframe tbody tr th:only-of-type {\n",
       "        vertical-align: middle;\n",
       "    }\n",
       "\n",
       "    .dataframe tbody tr th {\n",
       "        vertical-align: top;\n",
       "    }\n",
       "\n",
       "    .dataframe thead th {\n",
       "        text-align: right;\n",
       "    }\n",
       "</style>\n",
       "<table border=\"1\" class=\"dataframe\">\n",
       "  <thead>\n",
       "    <tr style=\"text-align: right;\">\n",
       "      <th></th>\n",
       "      <th>Year</th>\n",
       "      <th>Worldwide_Gross</th>\n",
       "      <th>Production_Budget</th>\n",
       "      <th>IMDB_Rating</th>\n",
       "    </tr>\n",
       "  </thead>\n",
       "  <tbody>\n",
       "    <tr>\n",
       "      <th>count</th>\n",
       "      <td>1671.000000</td>\n",
       "      <td>1.671000e+03</td>\n",
       "      <td>1.671000e+03</td>\n",
       "      <td>1671.000000</td>\n",
       "    </tr>\n",
       "    <tr>\n",
       "      <th>mean</th>\n",
       "      <td>1998.716338</td>\n",
       "      <td>1.254867e+08</td>\n",
       "      <td>4.254949e+07</td>\n",
       "      <td>6.494794</td>\n",
       "    </tr>\n",
       "    <tr>\n",
       "      <th>std</th>\n",
       "      <td>9.317537</td>\n",
       "      <td>1.802704e+08</td>\n",
       "      <td>3.968120e+07</td>\n",
       "      <td>1.161293</td>\n",
       "    </tr>\n",
       "    <tr>\n",
       "      <th>min</th>\n",
       "      <td>1933.000000</td>\n",
       "      <td>0.000000e+00</td>\n",
       "      <td>7.000000e+03</td>\n",
       "      <td>1.700000</td>\n",
       "    </tr>\n",
       "    <tr>\n",
       "      <th>25%</th>\n",
       "      <td>1996.000000</td>\n",
       "      <td>2.067742e+07</td>\n",
       "      <td>1.500000e+07</td>\n",
       "      <td>5.800000</td>\n",
       "    </tr>\n",
       "    <tr>\n",
       "      <th>50%</th>\n",
       "      <td>2001.000000</td>\n",
       "      <td>6.125970e+07</td>\n",
       "      <td>3.000000e+07</td>\n",
       "      <td>6.600000</td>\n",
       "    </tr>\n",
       "    <tr>\n",
       "      <th>75%</th>\n",
       "      <td>2005.000000</td>\n",
       "      <td>1.633916e+08</td>\n",
       "      <td>6.000000e+07</td>\n",
       "      <td>7.300000</td>\n",
       "    </tr>\n",
       "    <tr>\n",
       "      <th>max</th>\n",
       "      <td>2010.000000</td>\n",
       "      <td>2.767891e+09</td>\n",
       "      <td>3.000000e+08</td>\n",
       "      <td>9.200000</td>\n",
       "    </tr>\n",
       "  </tbody>\n",
       "</table>\n",
       "</div>"
      ],
      "text/plain": [
       "              Year  Worldwide_Gross  Production_Budget  IMDB_Rating\n",
       "count  1671.000000     1.671000e+03       1.671000e+03  1671.000000\n",
       "mean   1998.716338     1.254867e+08       4.254949e+07     6.494794\n",
       "std       9.317537     1.802704e+08       3.968120e+07     1.161293\n",
       "min    1933.000000     0.000000e+00       7.000000e+03     1.700000\n",
       "25%    1996.000000     2.067742e+07       1.500000e+07     5.800000\n",
       "50%    2001.000000     6.125970e+07       3.000000e+07     6.600000\n",
       "75%    2005.000000     1.633916e+08       6.000000e+07     7.300000\n",
       "max    2010.000000     2.767891e+09       3.000000e+08     9.200000"
      ]
     },
     "execution_count": 4,
     "metadata": {},
     "output_type": "execute_result"
    }
   ],
   "source": [
    "movies_df.describe()"
   ]
  },
  {
   "cell_type": "code",
   "execution_count": 5,
   "metadata": {},
   "outputs": [],
   "source": [
    "movies_df.to_csv('../data/clean/movies_clean_df.csv')"
   ]
  },
  {
   "cell_type": "code",
   "execution_count": 6,
   "metadata": {},
   "outputs": [],
   "source": [
    "def mds_special():\n",
    "    font = \"Arial\"\n",
    "    axisColor = \"#000000\"\n",
    "    gridColor = \"#DEDDDD\"\n",
    "    return {\n",
    "        \"config\": {\n",
    "            \"title\": {\n",
    "                \"fontSize\": 24,\n",
    "                \"font\": font,\n",
    "                \"anchor\": \"start\", # equivalent of left-aligned.\n",
    "                \"fontColor\": \"#000000\"\n",
    "            },\n",
    "            'view': {\n",
    "                \"height\": 300, \n",
    "                \"width\": 400\n",
    "            },\n",
    "            \"axisX\": {\n",
    "                \"domain\": True,\n",
    "                #\"domainColor\": axisColor,\n",
    "                \"gridColor\": gridColor,\n",
    "                \"domainWidth\": 1,\n",
    "                \"grid\": False,\n",
    "                \"labelFont\": font,\n",
    "                \"labelFontSize\": 12,\n",
    "                \"labelAngle\": 0, \n",
    "                \"tickColor\": axisColor,\n",
    "                \"tickSize\": 5, # default, including it just to show you can change it\n",
    "                \"titleFont\": font,\n",
    "                \"titleFontSize\": 16,\n",
    "                \"titlePadding\": 10, # guessing, not specified in styleguide\n",
    "                \"title\": \"X Axis Title (units)\", \n",
    "            },\n",
    "            \"axisY\": {\n",
    "                \"domain\": False,\n",
    "                \"grid\": True,\n",
    "                \"gridColor\": gridColor,\n",
    "                \"gridWidth\": 1,\n",
    "                \"labelFont\": font,\n",
    "                \"labelFontSize\": 14,\n",
    "                \"labelAngle\": 0, \n",
    "                #\"ticks\": False, # even if you don't have a \"domain\" you need to turn these off.\n",
    "                \"titleFont\": font,\n",
    "                \"titleFontSize\": 16,\n",
    "                \"titlePadding\": 10, # guessing, not specified in styleguide\n",
    "                \"title\": \"Y Axis Title (units)\", \n",
    "                # titles are by default vertical left of axis so we need to hack this \n",
    "                #\"titleAngle\": 0, # horizontal\n",
    "                #\"titleY\": -10, # move it up\n",
    "                #\"titleX\": 18, # move it to the right so it aligns with the labels \n",
    "            },\n",
    "        }\n",
    "    }"
   ]
  },
  {
   "cell_type": "code",
   "execution_count": 7,
   "metadata": {},
   "outputs": [],
   "source": [
    "def get_top_director(selected_df, num, genre):\n",
    "    \"\"\"\n",
    "    Finds the number of movies of the most productive directors in the selected genre\n",
    "\n",
    "    Parameters\n",
    "    ----------\n",
    "    movies_df: pandas.DataFrame\n",
    "        The data frame to work on\n",
    "    num: int\n",
    "        The number of directors to keep in each genre\n",
    "    genre: string\n",
    "        The selected genre\n",
    "\n",
    "    Returns\n",
    "    -------\n",
    "    pandas.DataFrame\n",
    "        The data frame contains the number of movies of the most productive directors in the selected genre\n",
    "    \"\"\"\n",
    "\n",
    "    mdfg = selected_df.groupby('Major_Genre')\n",
    "    return (mdfg.get_group(genre)\n",
    "                .groupby('Director')\n",
    "                .count()\n",
    "                .sort_values(by = 'Title', ascending = False)\n",
    "                .head(num)\n",
    "                .reset_index()\n",
    "                .iloc[:, :2]\n",
    "                .rename(columns = {'Title': 'Count'}))"
   ]
  },
  {
   "cell_type": "code",
   "execution_count": 8,
   "metadata": {},
   "outputs": [],
   "source": [
    "def get_top_df(selected_df, num, genre):\n",
    "    \"\"\"\n",
    "    Finds movie information from the most productive directors in the selected genre\n",
    "\n",
    "    Parameters\n",
    "    ----------\n",
    "    movies_df: pandas.DataFrame\n",
    "        The data frame to work on\n",
    "    num: int\n",
    "        The number of directors to keep in each genre\n",
    "    genre: string\n",
    "        The selected genre\n",
    "\n",
    "    Returns\n",
    "    -------\n",
    "    pandas.DataFrame\n",
    "        The data frame only contains movie information from the most productive directors in the selected genre\n",
    "    \"\"\"\n",
    "\n",
    "    \n",
    "    top_director = get_top_director(selected_df, num, genre)\n",
    "    top_director['Major_Genre'] = genre\n",
    "    return pd.merge(selected_df, \n",
    "                    top_director, \n",
    "                    how = \"inner\", \n",
    "                    on = ['Major_Genre', 'Director'])"
   ]
  },
  {
   "cell_type": "code",
   "execution_count": 9,
   "metadata": {},
   "outputs": [
    {
     "data": {
      "text/html": [
       "<div>\n",
       "<style scoped>\n",
       "    .dataframe tbody tr th:only-of-type {\n",
       "        vertical-align: middle;\n",
       "    }\n",
       "\n",
       "    .dataframe tbody tr th {\n",
       "        vertical-align: top;\n",
       "    }\n",
       "\n",
       "    .dataframe thead th {\n",
       "        text-align: right;\n",
       "    }\n",
       "</style>\n",
       "<table border=\"1\" class=\"dataframe\">\n",
       "  <thead>\n",
       "    <tr style=\"text-align: right;\">\n",
       "      <th></th>\n",
       "      <th>Title</th>\n",
       "      <th>Major_Genre</th>\n",
       "      <th>Director</th>\n",
       "      <th>Year</th>\n",
       "      <th>Worldwide_Gross</th>\n",
       "      <th>Production_Budget</th>\n",
       "      <th>IMDB_Rating</th>\n",
       "      <th>Count</th>\n",
       "    </tr>\n",
       "  </thead>\n",
       "  <tbody>\n",
       "    <tr>\n",
       "      <th>0</th>\n",
       "      <td>The Abyss</td>\n",
       "      <td>Action</td>\n",
       "      <td>James Cameron</td>\n",
       "      <td>1989</td>\n",
       "      <td>54243125.0</td>\n",
       "      <td>70000000.0</td>\n",
       "      <td>7.6</td>\n",
       "      <td>6</td>\n",
       "    </tr>\n",
       "    <tr>\n",
       "      <th>1</th>\n",
       "      <td>Aliens</td>\n",
       "      <td>Action</td>\n",
       "      <td>James Cameron</td>\n",
       "      <td>1986</td>\n",
       "      <td>183316455.0</td>\n",
       "      <td>17000000.0</td>\n",
       "      <td>7.5</td>\n",
       "      <td>6</td>\n",
       "    </tr>\n",
       "    <tr>\n",
       "      <th>2</th>\n",
       "      <td>True Lies</td>\n",
       "      <td>Action</td>\n",
       "      <td>James Cameron</td>\n",
       "      <td>1994</td>\n",
       "      <td>365300000.0</td>\n",
       "      <td>100000000.0</td>\n",
       "      <td>7.2</td>\n",
       "      <td>6</td>\n",
       "    </tr>\n",
       "    <tr>\n",
       "      <th>3</th>\n",
       "      <td>Terminator 2: Judgment Day</td>\n",
       "      <td>Action</td>\n",
       "      <td>James Cameron</td>\n",
       "      <td>1991</td>\n",
       "      <td>516816151.0</td>\n",
       "      <td>100000000.0</td>\n",
       "      <td>8.5</td>\n",
       "      <td>6</td>\n",
       "    </tr>\n",
       "    <tr>\n",
       "      <th>4</th>\n",
       "      <td>The Terminator</td>\n",
       "      <td>Action</td>\n",
       "      <td>James Cameron</td>\n",
       "      <td>1984</td>\n",
       "      <td>78019031.0</td>\n",
       "      <td>6400000.0</td>\n",
       "      <td>8.1</td>\n",
       "      <td>6</td>\n",
       "    </tr>\n",
       "    <tr>\n",
       "      <th>...</th>\n",
       "      <td>...</td>\n",
       "      <td>...</td>\n",
       "      <td>...</td>\n",
       "      <td>...</td>\n",
       "      <td>...</td>\n",
       "      <td>...</td>\n",
       "      <td>...</td>\n",
       "      <td>...</td>\n",
       "    </tr>\n",
       "    <tr>\n",
       "      <th>118</th>\n",
       "      <td>The Matrix Revolutions</td>\n",
       "      <td>Action</td>\n",
       "      <td>Andy Wachowski</td>\n",
       "      <td>2003</td>\n",
       "      <td>424259759.0</td>\n",
       "      <td>110000000.0</td>\n",
       "      <td>6.5</td>\n",
       "      <td>4</td>\n",
       "    </tr>\n",
       "    <tr>\n",
       "      <th>119</th>\n",
       "      <td>Speed Racer</td>\n",
       "      <td>Action</td>\n",
       "      <td>Andy Wachowski</td>\n",
       "      <td>2008</td>\n",
       "      <td>93394462.0</td>\n",
       "      <td>120000000.0</td>\n",
       "      <td>6.3</td>\n",
       "      <td>4</td>\n",
       "    </tr>\n",
       "    <tr>\n",
       "      <th>120</th>\n",
       "      <td>Surrogates</td>\n",
       "      <td>Action</td>\n",
       "      <td>Jonathan Mostow</td>\n",
       "      <td>2009</td>\n",
       "      <td>119668350.0</td>\n",
       "      <td>80000000.0</td>\n",
       "      <td>6.3</td>\n",
       "      <td>3</td>\n",
       "    </tr>\n",
       "    <tr>\n",
       "      <th>121</th>\n",
       "      <td>Terminator 3: Rise of the Machines</td>\n",
       "      <td>Action</td>\n",
       "      <td>Jonathan Mostow</td>\n",
       "      <td>2003</td>\n",
       "      <td>433058296.0</td>\n",
       "      <td>170000000.0</td>\n",
       "      <td>6.6</td>\n",
       "      <td>3</td>\n",
       "    </tr>\n",
       "    <tr>\n",
       "      <th>122</th>\n",
       "      <td>U-571</td>\n",
       "      <td>Action</td>\n",
       "      <td>Jonathan Mostow</td>\n",
       "      <td>2000</td>\n",
       "      <td>127630030.0</td>\n",
       "      <td>62000000.0</td>\n",
       "      <td>6.4</td>\n",
       "      <td>3</td>\n",
       "    </tr>\n",
       "  </tbody>\n",
       "</table>\n",
       "<p>123 rows × 8 columns</p>\n",
       "</div>"
      ],
      "text/plain": [
       "                                  Title Major_Genre         Director  Year  \\\n",
       "0                             The Abyss      Action    James Cameron  1989   \n",
       "1                                Aliens      Action    James Cameron  1986   \n",
       "2                             True Lies      Action    James Cameron  1994   \n",
       "3            Terminator 2: Judgment Day      Action    James Cameron  1991   \n",
       "4                        The Terminator      Action    James Cameron  1984   \n",
       "..                                  ...         ...              ...   ...   \n",
       "118              The Matrix Revolutions      Action   Andy Wachowski  2003   \n",
       "119                         Speed Racer      Action   Andy Wachowski  2008   \n",
       "120                          Surrogates      Action  Jonathan Mostow  2009   \n",
       "121  Terminator 3: Rise of the Machines      Action  Jonathan Mostow  2003   \n",
       "122                               U-571      Action  Jonathan Mostow  2000   \n",
       "\n",
       "     Worldwide_Gross  Production_Budget  IMDB_Rating  Count  \n",
       "0         54243125.0         70000000.0          7.6      6  \n",
       "1        183316455.0         17000000.0          7.5      6  \n",
       "2        365300000.0        100000000.0          7.2      6  \n",
       "3        516816151.0        100000000.0          8.5      6  \n",
       "4         78019031.0          6400000.0          8.1      6  \n",
       "..               ...                ...          ...    ...  \n",
       "118      424259759.0        110000000.0          6.5      4  \n",
       "119       93394462.0        120000000.0          6.3      4  \n",
       "120      119668350.0         80000000.0          6.3      3  \n",
       "121      433058296.0        170000000.0          6.6      3  \n",
       "122      127630030.0         62000000.0          6.4      3  \n",
       "\n",
       "[123 rows x 8 columns]"
      ]
     },
     "execution_count": 9,
     "metadata": {},
     "output_type": "execute_result"
    }
   ],
   "source": [
    "get_top_df(movies_df, 30, 'Action')"
   ]
  },
  {
   "cell_type": "code",
   "execution_count": 10,
   "metadata": {},
   "outputs": [],
   "source": [
    "def make_bar_plot(genre = 'Action', year = (1933, 2010)):\n",
    "    # Don't forget to include imports\n",
    "    \n",
    "    # register the custom theme under a chosen name\n",
    "    alt.themes.register('mds_special', mds_special)\n",
    "\n",
    "    # enable the newly registered theme\n",
    "    alt.themes.enable('mds_special')\n",
    "    #alt.themes.enable('none') # to return to default\n",
    "    \n",
    "    # get the clean movies data\n",
    "    movies_df = pd.read_csv('../data/clean/movies_clean_df.csv', index_col = 0)\n",
    "    # get information from the 30 most productive directors in the selected genre\n",
    "    selected_df = movies_df[(movies_df['Year'] > year[0]) & (movies_df['Year'] < year[1])]\n",
    "    top_director = get_top_director(selected_df, 30, genre)\n",
    "    \n",
    "    # Create a bar graph of the 30 most productive directors in the selected genre\n",
    "    return alt.Chart(top_director).encode(\n",
    "                alt.Y('Director:N', title = 'Director'),\n",
    "                alt.X('Count:Q', title = 'Number of movies')\n",
    "            ).mark_bar().properties(\n",
    "                title = 'Top 30 productive directors in ' + genre,\n",
    "                width = 300, \n",
    "                height = 350).interactive()"
   ]
  },
  {
   "cell_type": "code",
   "execution_count": 11,
   "metadata": {},
   "outputs": [],
   "source": [
    "def make_scatter_plot(genre = 'Action', year = (1933, 2010)):\n",
    "    # Don't forget to include imports\n",
    "    \n",
    "    # register the custom theme under a chosen name\n",
    "    alt.themes.register('mds_special', mds_special)\n",
    "\n",
    "    # enable the newly registered theme\n",
    "    alt.themes.enable('mds_special')\n",
    "    #alt.themes.enable('none') # to return to default\n",
    "    \n",
    "    # get the clean movies data\n",
    "    movies_df = pd.read_csv('../data/clean/movies_clean_df.csv', index_col = 0)\n",
    "    # get information from the 30 most productive directors in the selected genre\n",
    "    selected_df = movies_df[(movies_df['Year'] > year[0]) & (movies_df['Year'] < year[1])]\n",
    "    top_df = get_top_df(selected_df, 30, genre)\n",
    "    \n",
    "    # Create scatter plots of rating and profits\n",
    "\n",
    "\n",
    "    return chart"
   ]
  },
  {
   "cell_type": "code",
   "execution_count": 12,
   "metadata": {},
   "outputs": [
    {
     "data": {
      "application/vnd.vegalite.v3+json": {
       "$schema": "https://vega.github.io/schema/vega-lite/v3.4.0.json",
       "config": {
        "axisX": {
         "domain": true,
         "domainWidth": 1,
         "grid": false,
         "gridColor": "#DEDDDD",
         "labelAngle": 0,
         "labelFont": "Arial",
         "labelFontSize": 12,
         "tickColor": "#000000",
         "tickSize": 5,
         "title": "X Axis Title (units)",
         "titleFont": "Arial",
         "titleFontSize": 16,
         "titlePadding": 10
        },
        "axisY": {
         "domain": false,
         "grid": true,
         "gridColor": "#DEDDDD",
         "gridWidth": 1,
         "labelAngle": 0,
         "labelFont": "Arial",
         "labelFontSize": 14,
         "title": "Y Axis Title (units)",
         "titleFont": "Arial",
         "titleFontSize": 16,
         "titlePadding": 10
        },
        "title": {
         "anchor": "start",
         "font": "Arial",
         "fontColor": "#000000",
         "fontSize": 24
        },
        "view": {
         "height": 300,
         "width": 400
        }
       },
       "data": {
        "format": {
         "type": "json"
        },
        "url": "altair-data-f87bc2e6fcb755d548ee6e555b185e6a.json"
       },
       "encoding": {
        "x": {
         "field": "Count",
         "title": "Number of movies",
         "type": "quantitative"
        },
        "y": {
         "field": "Director",
         "title": "Director",
         "type": "nominal"
        }
       },
       "height": 350,
       "mark": "bar",
       "selection": {
        "selector001": {
         "bind": "scales",
         "encodings": [
          "x",
          "y"
         ],
         "type": "interval"
        }
       },
       "title": "Top 30 productive directors in Action",
       "width": 300
      },
      "image/png": "[encoded data removed]",
      "text/plain": [
       "<VegaLite 3 object>\n",
       "\n",
       "If you see this message, it means the renderer has not been properly enabled\n",
       "for the frontend that you are using. For more information, see\n",
       "https://altair-viz.github.io/user_guide/troubleshooting.html\n"
      ]
     },
     "execution_count": 12,
     "metadata": {},
     "output_type": "execute_result"
    }
   ],
   "source": [
    "make_bar_plot(genre = 'Action', year = (1990, 2010))"
   ]
  },
  {
   "cell_type": "code",
   "execution_count": 13,
   "metadata": {},
   "outputs": [
    {
     "data": {
      "application/vnd.vegalite.v3+json": {
       "$schema": "https://vega.github.io/schema/vega-lite/v3.4.0.json",
       "config": {
        "axisX": {
         "domain": true,
         "domainWidth": 1,
         "grid": false,
         "gridColor": "#DEDDDD",
         "labelAngle": 0,
         "labelFont": "Arial",
         "labelFontSize": 12,
         "tickColor": "#000000",
         "tickSize": 5,
         "title": "X Axis Title (units)",
         "titleFont": "Arial",
         "titleFontSize": 16,
         "titlePadding": 10
        },
        "axisY": {
         "domain": false,
         "grid": true,
         "gridColor": "#DEDDDD",
         "gridWidth": 1,
         "labelAngle": 0,
         "labelFont": "Arial",
         "labelFontSize": 14,
         "title": "Y Axis Title (units)",
         "titleFont": "Arial",
         "titleFontSize": 16,
         "titlePadding": 10
        },
        "title": {
         "anchor": "start",
         "font": "Arial",
         "fontColor": "#000000",
         "fontSize": 24
        },
        "view": {
         "height": 300,
         "width": 400
        }
       },
       "data": {
        "format": {
         "type": "json"
        },
        "url": "altair-data-aaea9e9a5c213b979b7e70991d0c90d0.json"
       },
       "encoding": {
        "x": {
         "field": "Count",
         "title": "Number of movies",
         "type": "quantitative"
        },
        "y": {
         "field": "Director",
         "title": "Director",
         "type": "nominal"
        }
       },
       "height": 350,
       "mark": "bar",
       "selection": {
        "selector002": {
         "bind": "scales",
         "encodings": [
          "x",
          "y"
         ],
         "type": "interval"
        }
       },
       "title": "Top 30 productive directors in Action",
       "width": 300
      },
      "image/png": "[encoded data removed]",
      "text/plain": [
       "<VegaLite 3 object>\n",
       "\n",
       "If you see this message, it means the renderer has not been properly enabled\n",
       "for the frontend that you are using. For more information, see\n",
       "https://altair-viz.github.io/user_guide/troubleshooting.html\n"
      ]
     },
     "execution_count": 13,
     "metadata": {},
     "output_type": "execute_result"
    }
   ],
   "source": [
    "make_bar_plot()"
   ]
  },
  {
   "cell_type": "code",
   "execution_count": null,
   "metadata": {},
   "outputs": [],
   "source": []
  }
 ],
 "metadata": {
  "kernelspec": {
   "display_name": "Python 3",
   "language": "python",
   "name": "python3"
  },
  "language_info": {
   "codemirror_mode": {
    "name": "ipython",
    "version": 3
   },
   "file_extension": ".py",
   "mimetype": "text/x-python",
   "name": "python",
   "nbconvert_exporter": "python",
   "pygments_lexer": "ipython3",
   "version": "3.7.4"
  }
 },
 "nbformat": 4,
 "nbformat_minor": 4
}
