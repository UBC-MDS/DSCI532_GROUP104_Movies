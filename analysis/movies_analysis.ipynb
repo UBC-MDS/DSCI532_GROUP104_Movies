{
 "cells": [
  {
   "cell_type": "code",
   "execution_count": 1,
   "metadata": {},
   "outputs": [],
   "source": [
    "import pandas as pd\n",
    "import altair as alt\n",
    "\n",
    "# Need to enable this to allow work with larger datasets (https://altair-viz.github.io/user_guide/faq.html)\n",
    "#alt.data_transformers.enable('json')"
   ]
  },
  {
   "cell_type": "code",
   "execution_count": 122,
   "metadata": {},
   "outputs": [],
   "source": [
    "movies_df = pd.read_json('https://raw.githubusercontent.com/vega/vega-datasets/master/data/movies.json')\n",
    "\n",
    "# Add a column of the release year\n",
    "movies_df['Year'] = pd.to_datetime(movies_df['Release_Date']).dt.year\n",
    "# A list columns that will appear in the final data frame\n",
    "column_list = ['Title', 'Major_Genre', 'Director', 'Year', 'Worldwide_Gross', 'Production_Budget', 'IMDB_Rating', 'MPAA_Rating']\n",
    "\n",
    "# Filter out lines with errors or NaNs in 'Director', 'Year', 'Major_Genre' columns\n",
    "movies_df = (movies_df.query('Year < 2019')\n",
    "                     .dropna(subset = column_list)\n",
    "                     .loc[:, column_list]\n",
    "                     .reset_index()\n",
    "                     .drop(columns = ['index']))"
   ]
  },
  {
   "cell_type": "code",
   "execution_count": 123,
   "metadata": {},
   "outputs": [
    {
     "data": {
      "text/plain": [
       "(1414, 8)"
      ]
     },
     "execution_count": 123,
     "metadata": {},
     "output_type": "execute_result"
    }
   ],
   "source": [
    "movies_df.shape"
   ]
  },
  {
   "cell_type": "code",
   "execution_count": 124,
   "metadata": {},
   "outputs": [
    {
     "data": {
      "text/html": [
       "<div>\n",
       "<style scoped>\n",
       "    .dataframe tbody tr th:only-of-type {\n",
       "        vertical-align: middle;\n",
       "    }\n",
       "\n",
       "    .dataframe tbody tr th {\n",
       "        vertical-align: top;\n",
       "    }\n",
       "\n",
       "    .dataframe thead th {\n",
       "        text-align: right;\n",
       "    }\n",
       "</style>\n",
       "<table border=\"1\" class=\"dataframe\">\n",
       "  <thead>\n",
       "    <tr style=\"text-align: right;\">\n",
       "      <th></th>\n",
       "      <th>Year</th>\n",
       "      <th>Worldwide_Gross</th>\n",
       "      <th>Production_Budget</th>\n",
       "      <th>IMDB_Rating</th>\n",
       "    </tr>\n",
       "  </thead>\n",
       "  <tbody>\n",
       "    <tr>\n",
       "      <th>count</th>\n",
       "      <td>1414.000000</td>\n",
       "      <td>1.414000e+03</td>\n",
       "      <td>1.414000e+03</td>\n",
       "      <td>1414.000000</td>\n",
       "    </tr>\n",
       "    <tr>\n",
       "      <th>mean</th>\n",
       "      <td>2001.524045</td>\n",
       "      <td>1.341416e+08</td>\n",
       "      <td>4.699735e+07</td>\n",
       "      <td>6.443069</td>\n",
       "    </tr>\n",
       "    <tr>\n",
       "      <th>std</th>\n",
       "      <td>5.699895</td>\n",
       "      <td>1.901870e+08</td>\n",
       "      <td>4.090067e+07</td>\n",
       "      <td>1.160132</td>\n",
       "    </tr>\n",
       "    <tr>\n",
       "      <th>min</th>\n",
       "      <td>1960.000000</td>\n",
       "      <td>0.000000e+00</td>\n",
       "      <td>1.500000e+04</td>\n",
       "      <td>1.700000</td>\n",
       "    </tr>\n",
       "    <tr>\n",
       "      <th>25%</th>\n",
       "      <td>1998.000000</td>\n",
       "      <td>2.252175e+07</td>\n",
       "      <td>1.800000e+07</td>\n",
       "      <td>5.700000</td>\n",
       "    </tr>\n",
       "    <tr>\n",
       "      <th>50%</th>\n",
       "      <td>2002.000000</td>\n",
       "      <td>6.715760e+07</td>\n",
       "      <td>3.500000e+07</td>\n",
       "      <td>6.500000</td>\n",
       "    </tr>\n",
       "    <tr>\n",
       "      <th>75%</th>\n",
       "      <td>2006.000000</td>\n",
       "      <td>1.727553e+08</td>\n",
       "      <td>6.500000e+07</td>\n",
       "      <td>7.300000</td>\n",
       "    </tr>\n",
       "    <tr>\n",
       "      <th>max</th>\n",
       "      <td>2010.000000</td>\n",
       "      <td>2.767891e+09</td>\n",
       "      <td>3.000000e+08</td>\n",
       "      <td>9.200000</td>\n",
       "    </tr>\n",
       "  </tbody>\n",
       "</table>\n",
       "</div>"
      ],
      "text/plain": [
       "              Year  Worldwide_Gross  Production_Budget  IMDB_Rating\n",
       "count  1414.000000     1.414000e+03       1.414000e+03  1414.000000\n",
       "mean   2001.524045     1.341416e+08       4.699735e+07     6.443069\n",
       "std       5.699895     1.901870e+08       4.090067e+07     1.160132\n",
       "min    1960.000000     0.000000e+00       1.500000e+04     1.700000\n",
       "25%    1998.000000     2.252175e+07       1.800000e+07     5.700000\n",
       "50%    2002.000000     6.715760e+07       3.500000e+07     6.500000\n",
       "75%    2006.000000     1.727553e+08       6.500000e+07     7.300000\n",
       "max    2010.000000     2.767891e+09       3.000000e+08     9.200000"
      ]
     },
     "execution_count": 124,
     "metadata": {},
     "output_type": "execute_result"
    }
   ],
   "source": [
    "movies_df.describe()"
   ]
  },
  {
   "cell_type": "code",
   "execution_count": 125,
   "metadata": {},
   "outputs": [],
   "source": [
    "movies_df.to_csv('../data/clean/movies_clean_df.csv')"
   ]
  },
  {
   "cell_type": "code",
   "execution_count": 126,
   "metadata": {},
   "outputs": [],
   "source": [
    "def mds_special():\n",
    "    font = \"Arial\"\n",
    "    axisColor = \"#000000\"\n",
    "    gridColor = \"#DEDDDD\"\n",
    "    return {\n",
    "        \"config\": {\n",
    "            \"title\": {\n",
    "                \"fontSize\": 24,\n",
    "                \"font\": font,\n",
    "                \"anchor\": \"start\", # equivalent of left-aligned.\n",
    "                \"fontColor\": \"#000000\"\n",
    "            },\n",
    "            'view': {\n",
    "                \"height\": 300, \n",
    "                \"width\": 400\n",
    "            },\n",
    "            \"axisX\": {\n",
    "                \"domain\": True,\n",
    "                #\"domainColor\": axisColor,\n",
    "                \"gridColor\": gridColor,\n",
    "                \"domainWidth\": 1,\n",
    "                \"grid\": False,\n",
    "                \"labelFont\": font,\n",
    "                \"labelFontSize\": 12,\n",
    "                \"labelAngle\": 0, \n",
    "                \"tickColor\": axisColor,\n",
    "                \"tickSize\": 5, # default, including it just to show you can change it\n",
    "                \"titleFont\": font,\n",
    "                \"titleFontSize\": 16,\n",
    "                \"titlePadding\": 10, # guessing, not specified in styleguide\n",
    "                \"title\": \"X Axis Title (units)\", \n",
    "            },\n",
    "            \"axisY\": {\n",
    "                \"domain\": False,\n",
    "                \"grid\": True,\n",
    "                \"gridColor\": gridColor,\n",
    "                \"gridWidth\": 1,\n",
    "                \"labelFont\": font,\n",
    "                \"labelFontSize\": 14,\n",
    "                \"labelAngle\": 0, \n",
    "                #\"ticks\": False, # even if you don't have a \"domain\" you need to turn these off.\n",
    "                \"titleFont\": font,\n",
    "                \"titleFontSize\": 16,\n",
    "                \"titlePadding\": 10, # guessing, not specified in styleguide\n",
    "                \"title\": \"Y Axis Title (units)\", \n",
    "                # titles are by default vertical left of axis so we need to hack this \n",
    "                #\"titleAngle\": 0, # horizontal\n",
    "                #\"titleY\": -10, # move it up\n",
    "                #\"titleX\": 18, # move it to the right so it aligns with the labels \n",
    "            },\n",
    "        }\n",
    "    }"
   ]
  },
  {
   "cell_type": "code",
   "execution_count": 127,
   "metadata": {},
   "outputs": [],
   "source": [
    "def get_top_director(selected_df, num, genre):\n",
    "    \"\"\"\n",
    "    Finds the number of movies of the most productive directors in the selected genre\n",
    "\n",
    "    Parameters\n",
    "    ----------\n",
    "    movies_df: pandas.DataFrame\n",
    "        The data frame to work on\n",
    "    num: int\n",
    "        The number of directors to keep in each genre\n",
    "    genre: string\n",
    "        The selected genre\n",
    "\n",
    "    Returns\n",
    "    -------\n",
    "    pandas.DataFrame\n",
    "        The data frame contains the number of movies of the most productive directors in the selected genre\n",
    "    \"\"\"\n",
    "\n",
    "    mdfg = selected_df.groupby('Major_Genre')\n",
    "    return (mdfg.get_group(genre)\n",
    "                .groupby('Director')\n",
    "                .count()\n",
    "                .sort_values(by = 'Title', ascending = False)\n",
    "                .head(num)\n",
    "                .reset_index()\n",
    "                .iloc[:, :2]\n",
    "                .rename(columns = {'Title': 'Count'}))"
   ]
  },
  {
   "cell_type": "code",
   "execution_count": 128,
   "metadata": {},
   "outputs": [],
   "source": [
    "def get_top_df(selected_df, num, genre):\n",
    "    \"\"\"\n",
    "    Finds movie information from the most productive directors in the selected genre\n",
    "\n",
    "    Parameters\n",
    "    ----------\n",
    "    movies_df: pandas.DataFrame\n",
    "        The data frame to work on\n",
    "    num: int\n",
    "        The number of directors to keep in each genre\n",
    "    genre: string\n",
    "        The selected genre\n",
    "\n",
    "    Returns\n",
    "    -------\n",
    "    pandas.DataFrame\n",
    "        The data frame only contains movie information from the most productive directors in the selected genre\n",
    "    \"\"\"\n",
    "\n",
    "    \n",
    "    top_director = get_top_director(selected_df, num, genre)\n",
    "    top_director['Major_Genre'] = genre\n",
    "    return pd.merge(selected_df, \n",
    "                    top_director, \n",
    "                    how = \"inner\", \n",
    "                    on = ['Major_Genre', 'Director'])"
   ]
  },
  {
   "cell_type": "code",
   "execution_count": 129,
   "metadata": {},
   "outputs": [
    {
     "data": {
      "text/html": [
       "<div>\n",
       "<style scoped>\n",
       "    .dataframe tbody tr th:only-of-type {\n",
       "        vertical-align: middle;\n",
       "    }\n",
       "\n",
       "    .dataframe tbody tr th {\n",
       "        vertical-align: top;\n",
       "    }\n",
       "\n",
       "    .dataframe thead th {\n",
       "        text-align: right;\n",
       "    }\n",
       "</style>\n",
       "<table border=\"1\" class=\"dataframe\">\n",
       "  <thead>\n",
       "    <tr style=\"text-align: right;\">\n",
       "      <th></th>\n",
       "      <th>Title</th>\n",
       "      <th>Major_Genre</th>\n",
       "      <th>Director</th>\n",
       "      <th>Year</th>\n",
       "      <th>Worldwide_Gross</th>\n",
       "      <th>Production_Budget</th>\n",
       "      <th>IMDB_Rating</th>\n",
       "      <th>MPAA_Rating</th>\n",
       "      <th>Count</th>\n",
       "    </tr>\n",
       "  </thead>\n",
       "  <tbody>\n",
       "    <tr>\n",
       "      <th>0</th>\n",
       "      <td>Bad Boys</td>\n",
       "      <td>Action</td>\n",
       "      <td>Michael Bay</td>\n",
       "      <td>1995</td>\n",
       "      <td>141247413.0</td>\n",
       "      <td>23000000.0</td>\n",
       "      <td>6.6</td>\n",
       "      <td>R</td>\n",
       "      <td>7</td>\n",
       "    </tr>\n",
       "    <tr>\n",
       "      <th>1</th>\n",
       "      <td>The Rock</td>\n",
       "      <td>Action</td>\n",
       "      <td>Michael Bay</td>\n",
       "      <td>1996</td>\n",
       "      <td>336069511.0</td>\n",
       "      <td>75000000.0</td>\n",
       "      <td>7.2</td>\n",
       "      <td>R</td>\n",
       "      <td>7</td>\n",
       "    </tr>\n",
       "    <tr>\n",
       "      <th>2</th>\n",
       "      <td>Bad Boys II</td>\n",
       "      <td>Action</td>\n",
       "      <td>Michael Bay</td>\n",
       "      <td>2003</td>\n",
       "      <td>272940870.0</td>\n",
       "      <td>130000000.0</td>\n",
       "      <td>6.2</td>\n",
       "      <td>R</td>\n",
       "      <td>7</td>\n",
       "    </tr>\n",
       "    <tr>\n",
       "      <th>3</th>\n",
       "      <td>The Island</td>\n",
       "      <td>Action</td>\n",
       "      <td>Michael Bay</td>\n",
       "      <td>2005</td>\n",
       "      <td>163018913.0</td>\n",
       "      <td>120000000.0</td>\n",
       "      <td>6.9</td>\n",
       "      <td>PG-13</td>\n",
       "      <td>7</td>\n",
       "    </tr>\n",
       "    <tr>\n",
       "      <th>4</th>\n",
       "      <td>Pearl Harbor</td>\n",
       "      <td>Action</td>\n",
       "      <td>Michael Bay</td>\n",
       "      <td>2001</td>\n",
       "      <td>449239855.0</td>\n",
       "      <td>151500000.0</td>\n",
       "      <td>5.4</td>\n",
       "      <td>PG-13</td>\n",
       "      <td>7</td>\n",
       "    </tr>\n",
       "    <tr>\n",
       "      <th>5</th>\n",
       "      <td>Transformers</td>\n",
       "      <td>Action</td>\n",
       "      <td>Michael Bay</td>\n",
       "      <td>2007</td>\n",
       "      <td>708272592.0</td>\n",
       "      <td>151000000.0</td>\n",
       "      <td>7.3</td>\n",
       "      <td>PG-13</td>\n",
       "      <td>7</td>\n",
       "    </tr>\n",
       "    <tr>\n",
       "      <th>6</th>\n",
       "      <td>Transformers: Revenge of the Fallen</td>\n",
       "      <td>Action</td>\n",
       "      <td>Michael Bay</td>\n",
       "      <td>2009</td>\n",
       "      <td>836303693.0</td>\n",
       "      <td>210000000.0</td>\n",
       "      <td>6.0</td>\n",
       "      <td>PG-13</td>\n",
       "      <td>7</td>\n",
       "    </tr>\n",
       "  </tbody>\n",
       "</table>\n",
       "</div>"
      ],
      "text/plain": [
       "                                 Title Major_Genre     Director  Year  \\\n",
       "0                             Bad Boys      Action  Michael Bay  1995   \n",
       "1                             The Rock      Action  Michael Bay  1996   \n",
       "2                          Bad Boys II      Action  Michael Bay  2003   \n",
       "3                           The Island      Action  Michael Bay  2005   \n",
       "4                         Pearl Harbor      Action  Michael Bay  2001   \n",
       "5                         Transformers      Action  Michael Bay  2007   \n",
       "6  Transformers: Revenge of the Fallen      Action  Michael Bay  2009   \n",
       "\n",
       "   Worldwide_Gross  Production_Budget  IMDB_Rating MPAA_Rating  Count  \n",
       "0      141247413.0         23000000.0          6.6           R      7  \n",
       "1      336069511.0         75000000.0          7.2           R      7  \n",
       "2      272940870.0        130000000.0          6.2           R      7  \n",
       "3      163018913.0        120000000.0          6.9       PG-13      7  \n",
       "4      449239855.0        151500000.0          5.4       PG-13      7  \n",
       "5      708272592.0        151000000.0          7.3       PG-13      7  \n",
       "6      836303693.0        210000000.0          6.0       PG-13      7  "
      ]
     },
     "execution_count": 129,
     "metadata": {},
     "output_type": "execute_result"
    }
   ],
   "source": [
    "get_top_df(movies_df, 1, 'Action')"
   ]
  },
  {
   "cell_type": "code",
   "execution_count": 205,
   "metadata": {},
   "outputs": [],
   "source": [
    "def make_bar_plot(genre = 'Action', year = (1933, 2010)):\n",
    "    # Don't forget to include imports\n",
    "    \n",
    "    # register the custom theme under a chosen name\n",
    "    alt.themes.register('mds_special', mds_special)\n",
    "\n",
    "    # enable the newly registered theme\n",
    "    alt.themes.enable('mds_special')\n",
    "    #alt.themes.enable('none') # to return to default\n",
    "    \n",
    "    # get the clean movies data\n",
    "    movies_df = pd.read_csv('../data/clean/movies_clean_df.csv', index_col = 0)\n",
    "    # get information from the 30 most productive directors in the selected genre\n",
    "    selected_df = movies_df[(movies_df['Year'] > year[0]) & (movies_df['Year'] < year[1])]\n",
    "    top_director = get_top_director(selected_df, 30, genre)\n",
    "    \n",
    "    # Create a bar graph of the 30 most productive directors in the selected genre\n",
    "    return alt.Chart(top_director).encode(\n",
    "                alt.Y('Director:N', title = 'Director'),\n",
    "                alt.X('Count:Q', title = 'Number of movies')\n",
    "            ).mark_bar().properties(\n",
    "                title = 'Top 30 productive directors in ' + genre,\n",
    "                width = 300, \n",
    "                height = 350).interactive()"
   ]
  },
  {
   "cell_type": "code",
   "execution_count": 206,
   "metadata": {},
   "outputs": [],
   "source": [
    "def make_scatter_plot(genre = 'Action', year = (1933, 2010)):\n",
    "    # Don't forget to include imports\n",
    "    \n",
    "    # register the custom theme under a chosen name\n",
    "    alt.themes.register('mds_special', mds_special)\n",
    "\n",
    "    # enable the newly registered theme\n",
    "    alt.themes.enable('mds_special')\n",
    "    #alt.themes.enable('none') # to return to default\n",
    "    \n",
    "    # get the clean movies data\n",
    "    movies_df = pd.read_csv('../data/clean/movies_clean_df.csv', index_col = 0)\n",
    "    # get information from the 30 most productive directors in the selected genre\n",
    "    selected_df = movies_df[(movies_df['Year'] > year[0]) & (movies_df['Year'] < year[1])]\n",
    "    top_df = get_top_df(selected_df, 30, genre)\n",
    "    \n",
    "    # Create scatter plots of rating and profits\n",
    "\n",
    "\n",
    "    return chart"
   ]
  },
  {
   "cell_type": "code",
   "execution_count": 207,
   "metadata": {},
   "outputs": [
    {
     "data": {
      "application/vnd.vegalite.v3+json": {
       "$schema": "https://vega.github.io/schema/vega-lite/v3.4.0.json",
       "config": {
        "axisX": {
         "domain": true,
         "domainWidth": 1,
         "grid": false,
         "gridColor": "#DEDDDD",
         "labelAngle": 0,
         "labelFont": "Arial",
         "labelFontSize": 12,
         "tickColor": "#000000",
         "tickSize": 5,
         "title": "X Axis Title (units)",
         "titleFont": "Arial",
         "titleFontSize": 16,
         "titlePadding": 10
        },
        "axisY": {
         "domain": false,
         "grid": true,
         "gridColor": "#DEDDDD",
         "gridWidth": 1,
         "labelAngle": 0,
         "labelFont": "Arial",
         "labelFontSize": 14,
         "title": "Y Axis Title (units)",
         "titleFont": "Arial",
         "titleFontSize": 16,
         "titlePadding": 10
        },
        "title": {
         "anchor": "start",
         "font": "Arial",
         "fontColor": "#000000",
         "fontSize": 24
        },
        "view": {
         "height": 300,
         "width": 400
        }
       },
       "data": {
        "name": "data-8e71a975d0f12b4cca8b7a7e16b9298a"
       },
       "datasets": {
        "data-8e71a975d0f12b4cca8b7a7e16b9298a": [
         {
          "Count": 7,
          "Director": "Michael Bay"
         },
         {
          "Count": 6,
          "Director": "Brett Ratner"
         },
         {
          "Count": 5,
          "Director": "Tony Scott"
         },
         {
          "Count": 4,
          "Director": "Renny Harlin"
         },
         {
          "Count": 4,
          "Director": "Andy Wachowski"
         },
         {
          "Count": 4,
          "Director": "Steven Spielberg"
         },
         {
          "Count": 4,
          "Director": "Richard Donner"
         },
         {
          "Count": 4,
          "Director": "Rob Cohen"
         },
         {
          "Count": 4,
          "Director": "John Woo"
         },
         {
          "Count": 3,
          "Director": "Jonathan Mostow"
         },
         {
          "Count": 3,
          "Director": "Stephen Sommers"
         },
         {
          "Count": 3,
          "Director": "Quentin Tarantino"
         },
         {
          "Count": 3,
          "Director": "Jan De Bont"
         },
         {
          "Count": 3,
          "Director": "Robert Rodriguez"
         },
         {
          "Count": 3,
          "Director": "Joel Schumacher"
         },
         {
          "Count": 3,
          "Director": "Guillermo Del Toro"
         },
         {
          "Count": 3,
          "Director": "James Cameron"
         },
         {
          "Count": 3,
          "Director": "John McTiernan"
         },
         {
          "Count": 3,
          "Director": "Roland Emmerich"
         },
         {
          "Count": 3,
          "Director": "Peter Berg"
         },
         {
          "Count": 3,
          "Director": "Martin Campbell"
         },
         {
          "Count": 3,
          "Director": "Len Wiseman"
         },
         {
          "Count": 3,
          "Director": "Peter Hyams"
         },
         {
          "Count": 3,
          "Director": "Antoine Fuqua"
         },
         {
          "Count": 2,
          "Director": "Phillip Noyce"
         },
         {
          "Count": 2,
          "Director": "John Frankenheimer"
         },
         {
          "Count": 2,
          "Director": "Paul Anderson"
         },
         {
          "Count": 2,
          "Director": "Roger Spottiswoode"
         },
         {
          "Count": 2,
          "Director": "Mark Steven Johnson"
         },
         {
          "Count": 2,
          "Director": "Louis Leterrier"
         }
        ]
       },
       "encoding": {
        "x": {
         "field": "Count",
         "title": "Number of movies",
         "type": "quantitative"
        },
        "y": {
         "field": "Director",
         "title": "Director",
         "type": "nominal"
        }
       },
       "height": 350,
       "mark": "bar",
       "selection": {
        "selector063": {
         "bind": "scales",
         "encodings": [
          "x",
          "y"
         ],
         "type": "interval"
        }
       },
       "title": "Top 30 productive directors in Action",
       "width": 300
      },
      "image/png": "[encoded data removed]",
      "text/plain": [
       "<VegaLite 3 object>\n",
       "\n",
       "If you see this message, it means the renderer has not been properly enabled\n",
       "for the frontend that you are using. For more information, see\n",
       "https://altair-viz.github.io/user_guide/troubleshooting.html\n"
      ]
     },
     "execution_count": 207,
     "metadata": {},
     "output_type": "execute_result"
    }
   ],
   "source": [
    "make_bar_plot(genre = 'Action', year = (1990, 2010))"
   ]
  },
  {
   "cell_type": "code",
   "execution_count": 208,
   "metadata": {},
   "outputs": [
    {
     "data": {
      "application/vnd.vegalite.v3+json": {
       "$schema": "https://vega.github.io/schema/vega-lite/v3.4.0.json",
       "config": {
        "axisX": {
         "domain": true,
         "domainWidth": 1,
         "grid": false,
         "gridColor": "#DEDDDD",
         "labelAngle": 0,
         "labelFont": "Arial",
         "labelFontSize": 12,
         "tickColor": "#000000",
         "tickSize": 5,
         "title": "X Axis Title (units)",
         "titleFont": "Arial",
         "titleFontSize": 16,
         "titlePadding": 10
        },
        "axisY": {
         "domain": false,
         "grid": true,
         "gridColor": "#DEDDDD",
         "gridWidth": 1,
         "labelAngle": 0,
         "labelFont": "Arial",
         "labelFontSize": 14,
         "title": "Y Axis Title (units)",
         "titleFont": "Arial",
         "titleFontSize": 16,
         "titlePadding": 10
        },
        "title": {
         "anchor": "start",
         "font": "Arial",
         "fontColor": "#000000",
         "fontSize": 24
        },
        "view": {
         "height": 300,
         "width": 400
        }
       },
       "data": {
        "name": "data-f35880722857f77d18af4c3805556e08"
       },
       "datasets": {
        "data-f35880722857f77d18af4c3805556e08": [
         {
          "Count": 7,
          "Director": "Michael Bay"
         },
         {
          "Count": 6,
          "Director": "Brett Ratner"
         },
         {
          "Count": 6,
          "Director": "Tony Scott"
         },
         {
          "Count": 5,
          "Director": "James Cameron"
         },
         {
          "Count": 4,
          "Director": "Richard Donner"
         },
         {
          "Count": 4,
          "Director": "John Woo"
         },
         {
          "Count": 4,
          "Director": "Andy Wachowski"
         },
         {
          "Count": 4,
          "Director": "Steven Spielberg"
         },
         {
          "Count": 4,
          "Director": "Rob Cohen"
         },
         {
          "Count": 4,
          "Director": "Renny Harlin"
         },
         {
          "Count": 3,
          "Director": "Jonathan Mostow"
         },
         {
          "Count": 3,
          "Director": "Stephen Sommers"
         },
         {
          "Count": 3,
          "Director": "Quentin Tarantino"
         },
         {
          "Count": 3,
          "Director": "Robert Rodriguez"
         },
         {
          "Count": 3,
          "Director": "Joel Schumacher"
         },
         {
          "Count": 3,
          "Director": "Guillermo Del Toro"
         },
         {
          "Count": 3,
          "Director": "Roland Emmerich"
         },
         {
          "Count": 3,
          "Director": "John McTiernan"
         },
         {
          "Count": 3,
          "Director": "Russell Mulcahy"
         },
         {
          "Count": 3,
          "Director": "Jan De Bont"
         },
         {
          "Count": 3,
          "Director": "Peter Hyams"
         },
         {
          "Count": 3,
          "Director": "Martin Campbell"
         },
         {
          "Count": 3,
          "Director": "Peter Berg"
         },
         {
          "Count": 3,
          "Director": "Len Wiseman"
         },
         {
          "Count": 3,
          "Director": "Antoine Fuqua"
         },
         {
          "Count": 2,
          "Director": "Paul Greengrass"
         },
         {
          "Count": 2,
          "Director": "Paul Anderson"
         },
         {
          "Count": 2,
          "Director": "Mark Steven Johnson"
         },
         {
          "Count": 2,
          "Director": "Roger Spottiswoode"
         },
         {
          "Count": 2,
          "Director": "Louis Leterrier"
         }
        ]
       },
       "encoding": {
        "x": {
         "field": "Count",
         "title": "Number of movies",
         "type": "quantitative"
        },
        "y": {
         "field": "Director",
         "title": "Director",
         "type": "nominal"
        }
       },
       "height": 350,
       "mark": "bar",
       "selection": {
        "selector064": {
         "bind": "scales",
         "encodings": [
          "x",
          "y"
         ],
         "type": "interval"
        }
       },
       "title": "Top 30 productive directors in Action",
       "width": 300
      },
      "image/png": "[encoded data removed]",
      "text/plain": [
       "<VegaLite 3 object>\n",
       "\n",
       "If you see this message, it means the renderer has not been properly enabled\n",
       "for the frontend that you are using. For more information, see\n",
       "https://altair-viz.github.io/user_guide/troubleshooting.html\n"
      ]
     },
     "execution_count": 208,
     "metadata": {},
     "output_type": "execute_result"
    }
   ],
   "source": [
    "make_bar_plot()"
   ]
  },
  {
   "cell_type": "code",
   "execution_count": 209,
   "metadata": {},
   "outputs": [],
   "source": [
    "def make_text_plot(genre = 'Action', year = (1933, 2010), number_of_directors=30):\n",
    "    # Don't forget to include imports\n",
    "    \n",
    "    # register the custom theme under a chosen name\n",
    "    alt.themes.register('mds_special', mds_special)\n",
    "\n",
    "    # enable the newly registered theme\n",
    "    alt.themes.enable('mds_special')\n",
    "    #alt.themes.enable('none') # to return to default\n",
    "    \n",
    "    # get the clean movies data\n",
    "    movies_df = pd.read_csv('../data/clean/movies_clean_df.csv', index_col = 0)\n",
    "    # get information from the 30 most productive directors in the selected genre\n",
    "    selected_df = movies_df[(movies_df['Year'] > year[0]) & (movies_df['Year'] < year[1])]\n",
    "    top_df = get_top_df(selected_df, number_of_directors, genre)\n",
    "\n",
    "    return alt.Chart(top_df).encode(\n",
    "                alt.X('Director:N', title = 'Director'),\n",
    "                alt.Y('Year:O', title = 'Year')\n",
    "            ).mark_text(\n",
    "            align='left',\n",
    "            baseline='middle',  # Nudges text to right so it doesn't appear on top of the bar\n",
    "            ).encode(\n",
    "            text='Title:N'\n",
    "            ).properties(\n",
    "                title = 'Movie titles for director',\n",
    "                width = 600, \n",
    "                height = 650).interactive()"
   ]
  },
  {
   "cell_type": "code",
   "execution_count": 210,
   "metadata": {},
   "outputs": [
    {
     "data": {
      "application/vnd.vegalite.v3+json": {
       "$schema": "https://vega.github.io/schema/vega-lite/v3.4.0.json",
       "config": {
        "axisX": {
         "domain": true,
         "domainWidth": 1,
         "grid": false,
         "gridColor": "#DEDDDD",
         "labelAngle": 0,
         "labelFont": "Arial",
         "labelFontSize": 12,
         "tickColor": "#000000",
         "tickSize": 5,
         "title": "X Axis Title (units)",
         "titleFont": "Arial",
         "titleFontSize": 16,
         "titlePadding": 10
        },
        "axisY": {
         "domain": false,
         "grid": true,
         "gridColor": "#DEDDDD",
         "gridWidth": 1,
         "labelAngle": 0,
         "labelFont": "Arial",
         "labelFontSize": 14,
         "title": "Y Axis Title (units)",
         "titleFont": "Arial",
         "titleFontSize": 16,
         "titlePadding": 10
        },
        "title": {
         "anchor": "start",
         "font": "Arial",
         "fontColor": "#000000",
         "fontSize": 24
        },
        "view": {
         "height": 300,
         "width": 400
        }
       },
       "data": {
        "name": "data-8e28e0fe280dacd46dc3e966c5c9c690"
       },
       "datasets": {
        "data-8e28e0fe280dacd46dc3e966c5c9c690": [
         {
          "Count": 5,
          "Director": "James Cameron",
          "IMDB_Rating": 7.6,
          "MPAA_Rating": "PG-13",
          "Major_Genre": "Action",
          "Production_Budget": 70000000,
          "Title": "The Abyss",
          "Worldwide_Gross": 54243125,
          "Year": 1989
         },
         {
          "Count": 5,
          "Director": "James Cameron",
          "IMDB_Rating": 7.5,
          "MPAA_Rating": "R",
          "Major_Genre": "Action",
          "Production_Budget": 17000000,
          "Title": "Aliens",
          "Worldwide_Gross": 183316455,
          "Year": 1986
         },
         {
          "Count": 5,
          "Director": "James Cameron",
          "IMDB_Rating": 7.2,
          "MPAA_Rating": "R",
          "Major_Genre": "Action",
          "Production_Budget": 100000000,
          "Title": "True Lies",
          "Worldwide_Gross": 365300000,
          "Year": 1994
         },
         {
          "Count": 5,
          "Director": "James Cameron",
          "IMDB_Rating": 8.5,
          "MPAA_Rating": "R",
          "Major_Genre": "Action",
          "Production_Budget": 100000000,
          "Title": "Terminator 2: Judgment Day",
          "Worldwide_Gross": 516816151,
          "Year": 1991
         },
         {
          "Count": 5,
          "Director": "James Cameron",
          "IMDB_Rating": 8.3,
          "MPAA_Rating": "PG-13",
          "Major_Genre": "Action",
          "Production_Budget": 237000000,
          "Title": "Avatar",
          "Worldwide_Gross": 2767891499,
          "Year": 2009
         },
         {
          "Count": 7,
          "Director": "Michael Bay",
          "IMDB_Rating": 6.6,
          "MPAA_Rating": "R",
          "Major_Genre": "Action",
          "Production_Budget": 23000000,
          "Title": "Bad Boys",
          "Worldwide_Gross": 141247413,
          "Year": 1995
         },
         {
          "Count": 7,
          "Director": "Michael Bay",
          "IMDB_Rating": 7.2,
          "MPAA_Rating": "R",
          "Major_Genre": "Action",
          "Production_Budget": 75000000,
          "Title": "The Rock",
          "Worldwide_Gross": 336069511,
          "Year": 1996
         },
         {
          "Count": 7,
          "Director": "Michael Bay",
          "IMDB_Rating": 6.2,
          "MPAA_Rating": "R",
          "Major_Genre": "Action",
          "Production_Budget": 130000000,
          "Title": "Bad Boys II",
          "Worldwide_Gross": 272940870,
          "Year": 2003
         },
         {
          "Count": 7,
          "Director": "Michael Bay",
          "IMDB_Rating": 6.9,
          "MPAA_Rating": "PG-13",
          "Major_Genre": "Action",
          "Production_Budget": 120000000,
          "Title": "The Island",
          "Worldwide_Gross": 163018913,
          "Year": 2005
         },
         {
          "Count": 7,
          "Director": "Michael Bay",
          "IMDB_Rating": 5.4,
          "MPAA_Rating": "PG-13",
          "Major_Genre": "Action",
          "Production_Budget": 151500000,
          "Title": "Pearl Harbor",
          "Worldwide_Gross": 449239855,
          "Year": 2001
         },
         {
          "Count": 7,
          "Director": "Michael Bay",
          "IMDB_Rating": 7.3,
          "MPAA_Rating": "PG-13",
          "Major_Genre": "Action",
          "Production_Budget": 151000000,
          "Title": "Transformers",
          "Worldwide_Gross": 708272592,
          "Year": 2007
         },
         {
          "Count": 7,
          "Director": "Michael Bay",
          "IMDB_Rating": 6,
          "MPAA_Rating": "PG-13",
          "Major_Genre": "Action",
          "Production_Budget": 210000000,
          "Title": "Transformers: Revenge of the Fallen",
          "Worldwide_Gross": 836303693,
          "Year": 2009
         },
         {
          "Count": 6,
          "Director": "Tony Scott",
          "IMDB_Rating": 6.1,
          "MPAA_Rating": "R",
          "Major_Genre": "Action",
          "Production_Budget": 20000000,
          "Title": "Beverly Hills Cop II",
          "Worldwide_Gross": 276665036,
          "Year": 1987
         },
         {
          "Count": 6,
          "Director": "Tony Scott",
          "IMDB_Rating": 7.2,
          "MPAA_Rating": "R",
          "Major_Genre": "Action",
          "Production_Budget": 55000000,
          "Title": "Crimson Tide",
          "Worldwide_Gross": 159387195,
          "Year": 1995
         },
         {
          "Count": 6,
          "Director": "Tony Scott",
          "IMDB_Rating": 5.9,
          "MPAA_Rating": "R",
          "Major_Genre": "Action",
          "Production_Budget": 50000000,
          "Title": "Domino",
          "Worldwide_Gross": 17759202,
          "Year": 2005
         },
         {
          "Count": 6,
          "Director": "Tony Scott",
          "IMDB_Rating": 7.2,
          "MPAA_Rating": "R",
          "Major_Genre": "Action",
          "Production_Budget": 85000000,
          "Title": "Enemy of the State",
          "Worldwide_Gross": 250649836,
          "Year": 1998
         },
         {
          "Count": 6,
          "Director": "Tony Scott",
          "IMDB_Rating": 6.9,
          "MPAA_Rating": "R",
          "Major_Genre": "Action",
          "Production_Budget": 90000000,
          "Title": "Spy Game",
          "Worldwide_Gross": 143049560,
          "Year": 2001
         },
         {
          "Count": 6,
          "Director": "Tony Scott",
          "IMDB_Rating": 6.5,
          "MPAA_Rating": "R",
          "Major_Genre": "Action",
          "Production_Budget": 110000000,
          "Title": "The Taking of Pelham 123",
          "Worldwide_Gross": 148989667,
          "Year": 2009
         },
         {
          "Count": 4,
          "Director": "Richard Donner",
          "IMDB_Rating": 6.5,
          "MPAA_Rating": "R",
          "Major_Genre": "Action",
          "Production_Budget": 35000000,
          "Title": "Lethal Weapon 3",
          "Worldwide_Gross": 319700000,
          "Year": 1992
         },
         {
          "Count": 4,
          "Director": "Richard Donner",
          "IMDB_Rating": 5.9,
          "MPAA_Rating": "R",
          "Major_Genre": "Action",
          "Production_Budget": 50000000,
          "Title": "Assassins",
          "Worldwide_Gross": 83306268,
          "Year": 1995
         },
         {
          "Count": 4,
          "Director": "Richard Donner",
          "IMDB_Rating": 6.7,
          "MPAA_Rating": "PG-13",
          "Major_Genre": "Action",
          "Production_Budget": 45000000,
          "Title": "16 Blocks",
          "Worldwide_Gross": 65595141,
          "Year": 2006
         },
         {
          "Count": 4,
          "Director": "Richard Donner",
          "IMDB_Rating": 6.4,
          "MPAA_Rating": "R",
          "Major_Genre": "Action",
          "Production_Budget": 140000000,
          "Title": "Lethal Weapon 4",
          "Worldwide_Gross": 285400000,
          "Year": 1998
         },
         {
          "Count": 6,
          "Director": "Brett Ratner",
          "IMDB_Rating": 6.2,
          "MPAA_Rating": "PG-13",
          "Major_Genre": "Action",
          "Production_Budget": 57000000,
          "Title": "After the Sunset",
          "Worldwide_Gross": 38329114,
          "Year": 2004
         },
         {
          "Count": 6,
          "Director": "Brett Ratner",
          "IMDB_Rating": 5.7,
          "MPAA_Rating": "R",
          "Major_Genre": "Action",
          "Production_Budget": 25000000,
          "Title": "Money Talks",
          "Worldwide_Gross": 41076865,
          "Year": 1997
         },
         {
          "Count": 6,
          "Director": "Brett Ratner",
          "IMDB_Rating": 6.4,
          "MPAA_Rating": "PG-13",
          "Major_Genre": "Action",
          "Production_Budget": 90000000,
          "Title": "Rush Hour 2",
          "Worldwide_Gross": 347425832,
          "Year": 2001
         },
         {
          "Count": 6,
          "Director": "Brett Ratner",
          "IMDB_Rating": 6,
          "MPAA_Rating": "PG-13",
          "Major_Genre": "Action",
          "Production_Budget": 180000000,
          "Title": "Rush Hour 3",
          "Worldwide_Gross": 253025968,
          "Year": 2007
         },
         {
          "Count": 6,
          "Director": "Brett Ratner",
          "IMDB_Rating": 6.8,
          "MPAA_Rating": "PG-13",
          "Major_Genre": "Action",
          "Production_Budget": 35000000,
          "Title": "Rush Hour",
          "Worldwide_Gross": 245300000,
          "Year": 1998
         },
         {
          "Count": 6,
          "Director": "Brett Ratner",
          "IMDB_Rating": 6.9,
          "MPAA_Rating": "PG-13",
          "Major_Genre": "Action",
          "Production_Budget": 150000000,
          "Title": "X-Men: The Last Stand",
          "Worldwide_Gross": 459359555,
          "Year": 2006
         }
        ]
       },
       "encoding": {
        "text": {
         "field": "Title",
         "type": "nominal"
        },
        "x": {
         "field": "Director",
         "title": "Director",
         "type": "nominal"
        },
        "y": {
         "field": "Year",
         "title": "Year",
         "type": "ordinal"
        }
       },
       "height": 650,
       "mark": {
        "align": "left",
        "baseline": "middle",
        "type": "text"
       },
       "selection": {
        "selector065": {
         "bind": "scales",
         "encodings": [
          "x",
          "y"
         ],
         "type": "interval"
        }
       },
       "title": "Movie titles for director",
       "width": 600
      },
      "image/png": "[encoded data removed]",
      "text/plain": [
       "<VegaLite 3 object>\n",
       "\n",
       "If you see this message, it means the renderer has not been properly enabled\n",
       "for the frontend that you are using. For more information, see\n",
       "https://altair-viz.github.io/user_guide/troubleshooting.html\n"
      ]
     },
     "execution_count": 210,
     "metadata": {},
     "output_type": "execute_result"
    }
   ],
   "source": [
    "make_text_plot(genre = 'Action', year = (1933, 2010), number_of_directors = 5)"
   ]
  },
  {
   "cell_type": "code",
   "execution_count": 215,
   "metadata": {},
   "outputs": [],
   "source": [
    "def make_text_plot2(genre = 'Action', year = (1933, 2010), number_of_directors = 30):\n",
    "    # Don't forget to include imports\n",
    "    \n",
    "    # register the custom theme under a chosen name\n",
    "    alt.themes.register('mds_special', mds_special)\n",
    "\n",
    "    # enable the newly registered theme\n",
    "    alt.themes.enable('mds_special')\n",
    "    #alt.themes.enable('none') # to return to default\n",
    "    \n",
    "    # get the clean movies data\n",
    "    movies_df = pd.read_csv('../data/clean/movies_clean_df.csv', index_col = 0)\n",
    "    # get information from the 30 most productive directors in the selected genre\n",
    "    selected_df = movies_df[(movies_df['Year'] > year[0]) & (movies_df['Year'] < year[1])]\n",
    "    top_df = get_top_df(selected_df, number_of_directors, genre)\n",
    "\n",
    "    return alt.Chart(top_df).encode(\n",
    "                alt.Y('Director:N', title = 'Director'),\n",
    "                alt.X('Count:Q', title = 'Proportion of MPAA Rating', stack=\"normalize\"),\n",
    "                alt.Color('MPAA_Rating:N'),\n",
    "                tooltip=['Title'],\n",
    "            ).mark_bar().encode(\n",
    "            text='Title:N'\n",
    "            ).properties(\n",
    "                title = 'Proportions of MPAA Ratings by director',\n",
    "                width = 600, \n",
    "                height = 650).interactive()"
   ]
  },
  {
   "cell_type": "code",
   "execution_count": 216,
   "metadata": {},
   "outputs": [
    {
     "data": {
      "application/vnd.vegalite.v3+json": {
       "$schema": "https://vega.github.io/schema/vega-lite/v3.4.0.json",
       "config": {
        "axisX": {
         "domain": true,
         "domainWidth": 1,
         "grid": false,
         "gridColor": "#DEDDDD",
         "labelAngle": 0,
         "labelFont": "Arial",
         "labelFontSize": 12,
         "tickColor": "#000000",
         "tickSize": 5,
         "title": "X Axis Title (units)",
         "titleFont": "Arial",
         "titleFontSize": 16,
         "titlePadding": 10
        },
        "axisY": {
         "domain": false,
         "grid": true,
         "gridColor": "#DEDDDD",
         "gridWidth": 1,
         "labelAngle": 0,
         "labelFont": "Arial",
         "labelFontSize": 14,
         "title": "Y Axis Title (units)",
         "titleFont": "Arial",
         "titleFontSize": 16,
         "titlePadding": 10
        },
        "title": {
         "anchor": "start",
         "font": "Arial",
         "fontColor": "#000000",
         "fontSize": 24
        },
        "view": {
         "height": 300,
         "width": 400
        }
       },
       "data": {
        "name": "data-abbb5a781cd75b358ff50d62af5a721b"
       },
       "datasets": {
        "data-abbb5a781cd75b358ff50d62af5a721b": [
         {
          "Count": 5,
          "Director": "James Cameron",
          "IMDB_Rating": 7.6,
          "MPAA_Rating": "PG-13",
          "Major_Genre": "Action",
          "Production_Budget": 70000000,
          "Title": "The Abyss",
          "Worldwide_Gross": 54243125,
          "Year": 1989
         },
         {
          "Count": 5,
          "Director": "James Cameron",
          "IMDB_Rating": 7.5,
          "MPAA_Rating": "R",
          "Major_Genre": "Action",
          "Production_Budget": 17000000,
          "Title": "Aliens",
          "Worldwide_Gross": 183316455,
          "Year": 1986
         },
         {
          "Count": 5,
          "Director": "James Cameron",
          "IMDB_Rating": 7.2,
          "MPAA_Rating": "R",
          "Major_Genre": "Action",
          "Production_Budget": 100000000,
          "Title": "True Lies",
          "Worldwide_Gross": 365300000,
          "Year": 1994
         },
         {
          "Count": 5,
          "Director": "James Cameron",
          "IMDB_Rating": 8.5,
          "MPAA_Rating": "R",
          "Major_Genre": "Action",
          "Production_Budget": 100000000,
          "Title": "Terminator 2: Judgment Day",
          "Worldwide_Gross": 516816151,
          "Year": 1991
         },
         {
          "Count": 5,
          "Director": "James Cameron",
          "IMDB_Rating": 8.3,
          "MPAA_Rating": "PG-13",
          "Major_Genre": "Action",
          "Production_Budget": 237000000,
          "Title": "Avatar",
          "Worldwide_Gross": 2767891499,
          "Year": 2009
         },
         {
          "Count": 7,
          "Director": "Michael Bay",
          "IMDB_Rating": 6.6,
          "MPAA_Rating": "R",
          "Major_Genre": "Action",
          "Production_Budget": 23000000,
          "Title": "Bad Boys",
          "Worldwide_Gross": 141247413,
          "Year": 1995
         },
         {
          "Count": 7,
          "Director": "Michael Bay",
          "IMDB_Rating": 7.2,
          "MPAA_Rating": "R",
          "Major_Genre": "Action",
          "Production_Budget": 75000000,
          "Title": "The Rock",
          "Worldwide_Gross": 336069511,
          "Year": 1996
         },
         {
          "Count": 7,
          "Director": "Michael Bay",
          "IMDB_Rating": 6.2,
          "MPAA_Rating": "R",
          "Major_Genre": "Action",
          "Production_Budget": 130000000,
          "Title": "Bad Boys II",
          "Worldwide_Gross": 272940870,
          "Year": 2003
         },
         {
          "Count": 7,
          "Director": "Michael Bay",
          "IMDB_Rating": 6.9,
          "MPAA_Rating": "PG-13",
          "Major_Genre": "Action",
          "Production_Budget": 120000000,
          "Title": "The Island",
          "Worldwide_Gross": 163018913,
          "Year": 2005
         },
         {
          "Count": 7,
          "Director": "Michael Bay",
          "IMDB_Rating": 5.4,
          "MPAA_Rating": "PG-13",
          "Major_Genre": "Action",
          "Production_Budget": 151500000,
          "Title": "Pearl Harbor",
          "Worldwide_Gross": 449239855,
          "Year": 2001
         },
         {
          "Count": 7,
          "Director": "Michael Bay",
          "IMDB_Rating": 7.3,
          "MPAA_Rating": "PG-13",
          "Major_Genre": "Action",
          "Production_Budget": 151000000,
          "Title": "Transformers",
          "Worldwide_Gross": 708272592,
          "Year": 2007
         },
         {
          "Count": 7,
          "Director": "Michael Bay",
          "IMDB_Rating": 6,
          "MPAA_Rating": "PG-13",
          "Major_Genre": "Action",
          "Production_Budget": 210000000,
          "Title": "Transformers: Revenge of the Fallen",
          "Worldwide_Gross": 836303693,
          "Year": 2009
         },
         {
          "Count": 6,
          "Director": "Tony Scott",
          "IMDB_Rating": 6.1,
          "MPAA_Rating": "R",
          "Major_Genre": "Action",
          "Production_Budget": 20000000,
          "Title": "Beverly Hills Cop II",
          "Worldwide_Gross": 276665036,
          "Year": 1987
         },
         {
          "Count": 6,
          "Director": "Tony Scott",
          "IMDB_Rating": 7.2,
          "MPAA_Rating": "R",
          "Major_Genre": "Action",
          "Production_Budget": 55000000,
          "Title": "Crimson Tide",
          "Worldwide_Gross": 159387195,
          "Year": 1995
         },
         {
          "Count": 6,
          "Director": "Tony Scott",
          "IMDB_Rating": 5.9,
          "MPAA_Rating": "R",
          "Major_Genre": "Action",
          "Production_Budget": 50000000,
          "Title": "Domino",
          "Worldwide_Gross": 17759202,
          "Year": 2005
         },
         {
          "Count": 6,
          "Director": "Tony Scott",
          "IMDB_Rating": 7.2,
          "MPAA_Rating": "R",
          "Major_Genre": "Action",
          "Production_Budget": 85000000,
          "Title": "Enemy of the State",
          "Worldwide_Gross": 250649836,
          "Year": 1998
         },
         {
          "Count": 6,
          "Director": "Tony Scott",
          "IMDB_Rating": 6.9,
          "MPAA_Rating": "R",
          "Major_Genre": "Action",
          "Production_Budget": 90000000,
          "Title": "Spy Game",
          "Worldwide_Gross": 143049560,
          "Year": 2001
         },
         {
          "Count": 6,
          "Director": "Tony Scott",
          "IMDB_Rating": 6.5,
          "MPAA_Rating": "R",
          "Major_Genre": "Action",
          "Production_Budget": 110000000,
          "Title": "The Taking of Pelham 123",
          "Worldwide_Gross": 148989667,
          "Year": 2009
         },
         {
          "Count": 4,
          "Director": "John Woo",
          "IMDB_Rating": 5.8,
          "MPAA_Rating": "R",
          "Major_Genre": "Action",
          "Production_Budget": 65000000,
          "Title": "Broken Arrow",
          "Worldwide_Gross": 148345997,
          "Year": 1996
         },
         {
          "Count": 4,
          "Director": "John Woo",
          "IMDB_Rating": 7.3,
          "MPAA_Rating": "R",
          "Major_Genre": "Action",
          "Production_Budget": 80000000,
          "Title": "Face/Off",
          "Worldwide_Gross": 241200000,
          "Year": 1997
         },
         {
          "Count": 4,
          "Director": "John Woo",
          "IMDB_Rating": 6.9,
          "MPAA_Rating": "PG-13",
          "Major_Genre": "Action",
          "Production_Budget": 120000000,
          "Title": "Mission: Impossible 2",
          "Worldwide_Gross": 546209889,
          "Year": 2000
         },
         {
          "Count": 4,
          "Director": "John Woo",
          "IMDB_Rating": 5.8,
          "MPAA_Rating": "R",
          "Major_Genre": "Action",
          "Production_Budget": 115000000,
          "Title": "Windtalkers",
          "Worldwide_Gross": 77628265,
          "Year": 2002
         },
         {
          "Count": 3,
          "Director": "Joel Schumacher",
          "IMDB_Rating": 5.4,
          "MPAA_Rating": "PG-13",
          "Major_Genre": "Action",
          "Production_Budget": 100000000,
          "Title": "Batman Forever",
          "Worldwide_Gross": 336529144,
          "Year": 1995
         },
         {
          "Count": 3,
          "Director": "Joel Schumacher",
          "IMDB_Rating": 5.3,
          "MPAA_Rating": "PG-13",
          "Major_Genre": "Action",
          "Production_Budget": 70000000,
          "Title": "Bad Company",
          "Worldwide_Gross": 69157016,
          "Year": 2002
         },
         {
          "Count": 3,
          "Director": "Joel Schumacher",
          "IMDB_Rating": 3.5,
          "MPAA_Rating": "PG-13",
          "Major_Genre": "Action",
          "Production_Budget": 125000000,
          "Title": "Batman & Robin",
          "Worldwide_Gross": 238317814,
          "Year": 1997
         },
         {
          "Count": 3,
          "Director": "Robert Rodriguez",
          "IMDB_Rating": 7,
          "MPAA_Rating": "R",
          "Major_Genre": "Action",
          "Production_Budget": 7000000,
          "Title": "Desperado",
          "Worldwide_Gross": 25532388,
          "Year": 1995
         },
         {
          "Count": 3,
          "Director": "Robert Rodriguez",
          "IMDB_Rating": 6.2,
          "MPAA_Rating": "R",
          "Major_Genre": "Action",
          "Production_Budget": 29000000,
          "Title": "Once Upon a Time in Mexico",
          "Worldwide_Gross": 98156459,
          "Year": 2003
         },
         {
          "Count": 3,
          "Director": "Robert Rodriguez",
          "IMDB_Rating": 8.3,
          "MPAA_Rating": "R",
          "Major_Genre": "Action",
          "Production_Budget": 40000000,
          "Title": "Sin City",
          "Worldwide_Gross": 158753820,
          "Year": 2005
         },
         {
          "Count": 4,
          "Director": "Rob Cohen",
          "IMDB_Rating": 5.4,
          "MPAA_Rating": "PG-13",
          "Major_Genre": "Action",
          "Production_Budget": 80000000,
          "Title": "Daylight",
          "Worldwide_Gross": 158908290,
          "Year": 1996
         },
         {
          "Count": 4,
          "Director": "Rob Cohen",
          "IMDB_Rating": 6,
          "MPAA_Rating": "PG-13",
          "Major_Genre": "Action",
          "Production_Budget": 38000000,
          "Title": "The Fast and the Furious",
          "Worldwide_Gross": 206512310,
          "Year": 2001
         },
         {
          "Count": 4,
          "Director": "Rob Cohen",
          "IMDB_Rating": 4.8,
          "MPAA_Rating": "PG-13",
          "Major_Genre": "Action",
          "Production_Budget": 138000000,
          "Title": "Stealth",
          "Worldwide_Gross": 76416746,
          "Year": 2005
         },
         {
          "Count": 4,
          "Director": "Rob Cohen",
          "IMDB_Rating": 5.5,
          "MPAA_Rating": "PG-13",
          "Major_Genre": "Action",
          "Production_Budget": 70000000,
          "Title": "xXx",
          "Worldwide_Gross": 267200000,
          "Year": 2002
         },
         {
          "Count": 3,
          "Director": "John McTiernan",
          "IMDB_Rating": 7.4,
          "MPAA_Rating": "R",
          "Major_Genre": "Action",
          "Production_Budget": 90000000,
          "Title": "Die Hard: With a Vengeance",
          "Worldwide_Gross": 364480746,
          "Year": 1995
         },
         {
          "Count": 3,
          "Director": "John McTiernan",
          "IMDB_Rating": 2.8,
          "MPAA_Rating": "PG-13",
          "Major_Genre": "Action",
          "Production_Budget": 70000000,
          "Title": "Rollerball",
          "Worldwide_Gross": 25852508,
          "Year": 2002
         },
         {
          "Count": 3,
          "Director": "John McTiernan",
          "IMDB_Rating": 6.3,
          "MPAA_Rating": "R",
          "Major_Genre": "Action",
          "Production_Budget": 125000000,
          "Title": "The 13th Warrior",
          "Worldwide_Gross": 61698899,
          "Year": 1999
         },
         {
          "Count": 3,
          "Director": "Martin Campbell",
          "IMDB_Rating": 7.2,
          "MPAA_Rating": "PG-13",
          "Major_Genre": "Action",
          "Production_Budget": 60000000,
          "Title": "Goldeneye",
          "Worldwide_Gross": 356429941,
          "Year": 1995
         },
         {
          "Count": 3,
          "Director": "Martin Campbell",
          "IMDB_Rating": 8,
          "MPAA_Rating": "PG-13",
          "Major_Genre": "Action",
          "Production_Budget": 102000000,
          "Title": "Casino Royale",
          "Worldwide_Gross": 596365000,
          "Year": 2006
         },
         {
          "Count": 3,
          "Director": "Martin Campbell",
          "IMDB_Rating": 5.6,
          "MPAA_Rating": "PG-13",
          "Major_Genre": "Action",
          "Production_Budget": 75000000,
          "Title": "Vertical Limit",
          "Worldwide_Gross": 213500000,
          "Year": 2000
         },
         {
          "Count": 3,
          "Director": "Russell Mulcahy",
          "IMDB_Rating": 7.2,
          "MPAA_Rating": "R",
          "Major_Genre": "Action",
          "Production_Budget": 16000000,
          "Title": "Highlander",
          "Worldwide_Gross": 12900000,
          "Year": 1986
         },
         {
          "Count": 3,
          "Director": "Russell Mulcahy",
          "IMDB_Rating": 5.6,
          "MPAA_Rating": "PG-13",
          "Major_Genre": "Action",
          "Production_Budget": 40000000,
          "Title": "The Shadow",
          "Worldwide_Gross": 31835600,
          "Year": 1994
         },
         {
          "Count": 3,
          "Director": "Russell Mulcahy",
          "IMDB_Rating": 6.2,
          "MPAA_Rating": "R",
          "Major_Genre": "Action",
          "Production_Budget": 45000000,
          "Title": "Resident Evil: Extinction",
          "Worldwide_Gross": 146162920,
          "Year": 2007
         },
         {
          "Count": 4,
          "Director": "Steven Spielberg",
          "IMDB_Rating": 7.9,
          "MPAA_Rating": "PG-13",
          "Major_Genre": "Action",
          "Production_Budget": 63000000,
          "Title": "Jurassic Park",
          "Worldwide_Gross": 923067947,
          "Year": 1993
         },
         {
          "Count": 4,
          "Director": "Steven Spielberg",
          "IMDB_Rating": 6,
          "MPAA_Rating": "PG-13",
          "Major_Genre": "Action",
          "Production_Budget": 75000000,
          "Title": "The Lost World: Jurassic Park",
          "Worldwide_Gross": 786686679,
          "Year": 1997
         },
         {
          "Count": 4,
          "Director": "Steven Spielberg",
          "IMDB_Rating": 7.7,
          "MPAA_Rating": "PG-13",
          "Major_Genre": "Action",
          "Production_Budget": 102000000,
          "Title": "Minority Report",
          "Worldwide_Gross": 358824714,
          "Year": 2002
         },
         {
          "Count": 4,
          "Director": "Steven Spielberg",
          "IMDB_Rating": 7.2,
          "MPAA_Rating": "PG-13",
          "Major_Genre": "Action",
          "Production_Budget": 132000000,
          "Title": "The War of the Worlds",
          "Worldwide_Gross": 591745532,
          "Year": 2005
         },
         {
          "Count": 4,
          "Director": "Renny Harlin",
          "IMDB_Rating": 6.6,
          "MPAA_Rating": "R",
          "Major_Genre": "Action",
          "Production_Budget": 65000000,
          "Title": "The Long Kiss Goodnight",
          "Worldwide_Gross": 33447612,
          "Year": 1996
         },
         {
          "Count": 4,
          "Director": "Renny Harlin",
          "IMDB_Rating": 5.4,
          "MPAA_Rating": "PG-13",
          "Major_Genre": "Action",
          "Production_Budget": 20000000,
          "Title": "12 Rounds",
          "Worldwide_Gross": 18184083,
          "Year": 2009
         },
         {
          "Count": 4,
          "Director": "Renny Harlin",
          "IMDB_Rating": 5.6,
          "MPAA_Rating": "R",
          "Major_Genre": "Action",
          "Production_Budget": 60000000,
          "Title": "Deep Blue Sea",
          "Worldwide_Gross": 165048228,
          "Year": 1999
         },
         {
          "Count": 4,
          "Director": "Renny Harlin",
          "IMDB_Rating": 4.2,
          "MPAA_Rating": "PG-13",
          "Major_Genre": "Action",
          "Production_Budget": 72000000,
          "Title": "Driven",
          "Worldwide_Gross": 54616869,
          "Year": 2001
         },
         {
          "Count": 4,
          "Director": "Richard Donner",
          "IMDB_Rating": 6.5,
          "MPAA_Rating": "R",
          "Major_Genre": "Action",
          "Production_Budget": 35000000,
          "Title": "Lethal Weapon 3",
          "Worldwide_Gross": 319700000,
          "Year": 1992
         },
         {
          "Count": 4,
          "Director": "Richard Donner",
          "IMDB_Rating": 5.9,
          "MPAA_Rating": "R",
          "Major_Genre": "Action",
          "Production_Budget": 50000000,
          "Title": "Assassins",
          "Worldwide_Gross": 83306268,
          "Year": 1995
         },
         {
          "Count": 4,
          "Director": "Richard Donner",
          "IMDB_Rating": 6.7,
          "MPAA_Rating": "PG-13",
          "Major_Genre": "Action",
          "Production_Budget": 45000000,
          "Title": "16 Blocks",
          "Worldwide_Gross": 65595141,
          "Year": 2006
         },
         {
          "Count": 4,
          "Director": "Richard Donner",
          "IMDB_Rating": 6.4,
          "MPAA_Rating": "R",
          "Major_Genre": "Action",
          "Production_Budget": 140000000,
          "Title": "Lethal Weapon 4",
          "Worldwide_Gross": 285400000,
          "Year": 1998
         },
         {
          "Count": 2,
          "Director": "Paul Anderson",
          "IMDB_Rating": 5.4,
          "MPAA_Rating": "PG-13",
          "Major_Genre": "Action",
          "Production_Budget": 20000000,
          "Title": "Mortal Kombat",
          "Worldwide_Gross": 122133227,
          "Year": 1995
         },
         {
          "Count": 2,
          "Director": "Paul Anderson",
          "IMDB_Rating": 6.6,
          "MPAA_Rating": "R",
          "Major_Genre": "Action",
          "Production_Budget": 65000000,
          "Title": "Death Race",
          "Worldwide_Gross": 72516819,
          "Year": 2008
         },
         {
          "Count": 3,
          "Director": "Roland Emmerich",
          "IMDB_Rating": 6.7,
          "MPAA_Rating": "PG-13",
          "Major_Genre": "Action",
          "Production_Budget": 55000000,
          "Title": "Stargate",
          "Worldwide_Gross": 196565669,
          "Year": 1994
         },
         {
          "Count": 3,
          "Director": "Roland Emmerich",
          "IMDB_Rating": 6.2,
          "MPAA_Rating": "PG-13",
          "Major_Genre": "Action",
          "Production_Budget": 200000000,
          "Title": "2012",
          "Worldwide_Gross": 766812167,
          "Year": 2009
         },
         {
          "Count": 3,
          "Director": "Roland Emmerich",
          "IMDB_Rating": 4.8,
          "MPAA_Rating": "PG-13",
          "Major_Genre": "Action",
          "Production_Budget": 125000000,
          "Title": "Godzilla",
          "Worldwide_Gross": 376000000,
          "Year": 1998
         },
         {
          "Count": 3,
          "Director": "Jan De Bont",
          "IMDB_Rating": 2.6,
          "MPAA_Rating": "R",
          "Major_Genre": "Action",
          "Production_Budget": 30000000,
          "Title": "Speed",
          "Worldwide_Gross": 283200000,
          "Year": 1994
         },
         {
          "Count": 3,
          "Director": "Jan De Bont",
          "IMDB_Rating": 6,
          "MPAA_Rating": "PG-13",
          "Major_Genre": "Action",
          "Production_Budget": 88000000,
          "Title": "Twister",
          "Worldwide_Gross": 495900000,
          "Year": 1996
         },
         {
          "Count": 3,
          "Director": "Jan De Bont",
          "IMDB_Rating": 3.4,
          "MPAA_Rating": "PG-13",
          "Major_Genre": "Action",
          "Production_Budget": 110000000,
          "Title": "Speed II: Cruise Control",
          "Worldwide_Gross": 150468000,
          "Year": 1997
         },
         {
          "Count": 3,
          "Director": "Peter Hyams",
          "IMDB_Rating": 5.5,
          "MPAA_Rating": "R",
          "Major_Genre": "Action",
          "Production_Budget": 28000000,
          "Title": "Timecop",
          "Worldwide_Gross": 102053581,
          "Year": 1994
         },
         {
          "Count": 3,
          "Director": "Peter Hyams",
          "IMDB_Rating": 5.4,
          "MPAA_Rating": "R",
          "Major_Genre": "Action",
          "Production_Budget": 100000000,
          "Title": "End of Days",
          "Worldwide_Gross": 212026975,
          "Year": 1999
         },
         {
          "Count": 3,
          "Director": "Peter Hyams",
          "IMDB_Rating": 4.1,
          "MPAA_Rating": "PG-13",
          "Major_Genre": "Action",
          "Production_Budget": 80000000,
          "Title": "A Sound of Thunder",
          "Worldwide_Gross": 6300451,
          "Year": 2005
         },
         {
          "Count": 2,
          "Director": "Roger Spottiswoode",
          "IMDB_Rating": 5.8,
          "MPAA_Rating": "PG-13",
          "Major_Genre": "Action",
          "Production_Budget": 82000000,
          "Title": "The 6th Day",
          "Worldwide_Gross": 96024898,
          "Year": 2000
         },
         {
          "Count": 2,
          "Director": "Roger Spottiswoode",
          "IMDB_Rating": 6.4,
          "MPAA_Rating": "PG-13",
          "Major_Genre": "Action",
          "Production_Budget": 110000000,
          "Title": "Tomorrow Never Dies",
          "Worldwide_Gross": 339504276,
          "Year": 1997
         },
         {
          "Count": 6,
          "Director": "Brett Ratner",
          "IMDB_Rating": 6.2,
          "MPAA_Rating": "PG-13",
          "Major_Genre": "Action",
          "Production_Budget": 57000000,
          "Title": "After the Sunset",
          "Worldwide_Gross": 38329114,
          "Year": 2004
         },
         {
          "Count": 6,
          "Director": "Brett Ratner",
          "IMDB_Rating": 5.7,
          "MPAA_Rating": "R",
          "Major_Genre": "Action",
          "Production_Budget": 25000000,
          "Title": "Money Talks",
          "Worldwide_Gross": 41076865,
          "Year": 1997
         },
         {
          "Count": 6,
          "Director": "Brett Ratner",
          "IMDB_Rating": 6.4,
          "MPAA_Rating": "PG-13",
          "Major_Genre": "Action",
          "Production_Budget": 90000000,
          "Title": "Rush Hour 2",
          "Worldwide_Gross": 347425832,
          "Year": 2001
         },
         {
          "Count": 6,
          "Director": "Brett Ratner",
          "IMDB_Rating": 6,
          "MPAA_Rating": "PG-13",
          "Major_Genre": "Action",
          "Production_Budget": 180000000,
          "Title": "Rush Hour 3",
          "Worldwide_Gross": 253025968,
          "Year": 2007
         },
         {
          "Count": 6,
          "Director": "Brett Ratner",
          "IMDB_Rating": 6.8,
          "MPAA_Rating": "PG-13",
          "Major_Genre": "Action",
          "Production_Budget": 35000000,
          "Title": "Rush Hour",
          "Worldwide_Gross": 245300000,
          "Year": 1998
         },
         {
          "Count": 6,
          "Director": "Brett Ratner",
          "IMDB_Rating": 6.9,
          "MPAA_Rating": "PG-13",
          "Major_Genre": "Action",
          "Production_Budget": 150000000,
          "Title": "X-Men: The Last Stand",
          "Worldwide_Gross": 459359555,
          "Year": 2006
         },
         {
          "Count": 3,
          "Director": "Antoine Fuqua",
          "IMDB_Rating": 5.6,
          "MPAA_Rating": "R",
          "Major_Genre": "Action",
          "Production_Budget": 35000000,
          "Title": "Bait",
          "Worldwide_Gross": 15471969,
          "Year": 2000
         },
         {
          "Count": 3,
          "Director": "Antoine Fuqua",
          "IMDB_Rating": 5.9,
          "MPAA_Rating": "R",
          "Major_Genre": "Action",
          "Production_Budget": 30000000,
          "Title": "The Replacement Killers",
          "Worldwide_Gross": 19035741,
          "Year": 1998
         },
         {
          "Count": 3,
          "Director": "Antoine Fuqua",
          "IMDB_Rating": 6.4,
          "MPAA_Rating": "R",
          "Major_Genre": "Action",
          "Production_Budget": 75000000,
          "Title": "Tears of the Sun",
          "Worldwide_Gross": 85632458,
          "Year": 2003
         },
         {
          "Count": 3,
          "Director": "Guillermo Del Toro",
          "IMDB_Rating": 5.5,
          "MPAA_Rating": "R",
          "Major_Genre": "Action",
          "Production_Budget": 54000000,
          "Title": "Blade 2",
          "Worldwide_Gross": 154338601,
          "Year": 2002
         },
         {
          "Count": 3,
          "Director": "Guillermo Del Toro",
          "IMDB_Rating": 7.3,
          "MPAA_Rating": "PG-13",
          "Major_Genre": "Action",
          "Production_Budget": 82500000,
          "Title": "Hellboy 2: The Golden Army",
          "Worldwide_Gross": 160388063,
          "Year": 2008
         },
         {
          "Count": 3,
          "Director": "Guillermo Del Toro",
          "IMDB_Rating": 6.8,
          "MPAA_Rating": "PG-13",
          "Major_Genre": "Action",
          "Production_Budget": 60000000,
          "Title": "Hellboy",
          "Worldwide_Gross": 99823958,
          "Year": 2004
         },
         {
          "Count": 2,
          "Director": "Paul Greengrass",
          "IMDB_Rating": 7.6,
          "MPAA_Rating": "PG-13",
          "Major_Genre": "Action",
          "Production_Budget": 85000000,
          "Title": "The Bourne Supremacy",
          "Worldwide_Gross": 288587450,
          "Year": 2004
         },
         {
          "Count": 2,
          "Director": "Paul Greengrass",
          "IMDB_Rating": 8.2,
          "MPAA_Rating": "PG-13",
          "Major_Genre": "Action",
          "Production_Budget": 130000000,
          "Title": "The Bourne Ultimatum",
          "Worldwide_Gross": 442161562,
          "Year": 2007
         },
         {
          "Count": 3,
          "Director": "Quentin Tarantino",
          "IMDB_Rating": 8.4,
          "MPAA_Rating": "R",
          "Major_Genre": "Action",
          "Production_Budget": 70000000,
          "Title": "Inglourious Basterds",
          "Worldwide_Gross": 320389438,
          "Year": 2009
         },
         {
          "Count": 3,
          "Director": "Quentin Tarantino",
          "IMDB_Rating": 8,
          "MPAA_Rating": "R",
          "Major_Genre": "Action",
          "Production_Budget": 55000000,
          "Title": "Kill Bill: Volume 2",
          "Worldwide_Gross": 150907920,
          "Year": 2004
         },
         {
          "Count": 3,
          "Director": "Quentin Tarantino",
          "IMDB_Rating": 8.2,
          "MPAA_Rating": "R",
          "Major_Genre": "Action",
          "Production_Budget": 55000000,
          "Title": "Kill Bill: Volume 1",
          "Worldwide_Gross": 180098138,
          "Year": 2003
         },
         {
          "Count": 2,
          "Director": "Mark Steven Johnson",
          "IMDB_Rating": 5.5,
          "MPAA_Rating": "PG-13",
          "Major_Genre": "Action",
          "Production_Budget": 80000000,
          "Title": "Daredevil",
          "Worldwide_Gross": 179179718,
          "Year": 2003
         },
         {
          "Count": 2,
          "Director": "Mark Steven Johnson",
          "IMDB_Rating": 5.2,
          "MPAA_Rating": "PG-13",
          "Major_Genre": "Action",
          "Production_Budget": 120000000,
          "Title": "Ghost Rider",
          "Worldwide_Gross": 237702596,
          "Year": 2007
         },
         {
          "Count": 3,
          "Director": "Stephen Sommers",
          "IMDB_Rating": 5.7,
          "MPAA_Rating": "R",
          "Major_Genre": "Action",
          "Production_Budget": 45000000,
          "Title": "Deep Rising",
          "Worldwide_Gross": 11203026,
          "Year": 1998
         },
         {
          "Count": 3,
          "Director": "Stephen Sommers",
          "IMDB_Rating": 5.8,
          "MPAA_Rating": "PG-13",
          "Major_Genre": "Action",
          "Production_Budget": 175000000,
          "Title": "G.I. Joe: The Rise of Cobra",
          "Worldwide_Gross": 302469019,
          "Year": 2009
         },
         {
          "Count": 3,
          "Director": "Stephen Sommers",
          "IMDB_Rating": 5.5,
          "MPAA_Rating": "PG-13",
          "Major_Genre": "Action",
          "Production_Budget": 170000000,
          "Title": "Van Helsing",
          "Worldwide_Gross": 300150546,
          "Year": 2004
         },
         {
          "Count": 3,
          "Director": "Len Wiseman",
          "IMDB_Rating": 7.5,
          "MPAA_Rating": "PG-13",
          "Major_Genre": "Action",
          "Production_Budget": 110000000,
          "Title": "Live Free or Die Hard",
          "Worldwide_Gross": 383531464,
          "Year": 2007
         },
         {
          "Count": 3,
          "Director": "Len Wiseman",
          "IMDB_Rating": 6.7,
          "MPAA_Rating": "R",
          "Major_Genre": "Action",
          "Production_Budget": 22000000,
          "Title": "Underworld",
          "Worldwide_Gross": 95708457,
          "Year": 2003
         },
         {
          "Count": 3,
          "Director": "Len Wiseman",
          "IMDB_Rating": 6.6,
          "MPAA_Rating": "R",
          "Major_Genre": "Action",
          "Production_Budget": 45000000,
          "Title": "Underworld: Evolution",
          "Worldwide_Gross": 111318875,
          "Year": 2006
         },
         {
          "Count": 3,
          "Director": "Peter Berg",
          "IMDB_Rating": 6.5,
          "MPAA_Rating": "PG-13",
          "Major_Genre": "Action",
          "Production_Budget": 150000000,
          "Title": "Hancock",
          "Worldwide_Gross": 624346274,
          "Year": 2008
         },
         {
          "Count": 3,
          "Director": "Peter Berg",
          "IMDB_Rating": 7.1,
          "MPAA_Rating": "R",
          "Major_Genre": "Action",
          "Production_Budget": 72500000,
          "Title": "The Kingdom",
          "Worldwide_Gross": 86509602,
          "Year": 2007
         },
         {
          "Count": 3,
          "Director": "Peter Berg",
          "IMDB_Rating": 6.6,
          "MPAA_Rating": "PG-13",
          "Major_Genre": "Action",
          "Production_Budget": 85000000,
          "Title": "The Rundown",
          "Worldwide_Gross": 80831893,
          "Year": 2003
         },
         {
          "Count": 4,
          "Director": "Andy Wachowski",
          "IMDB_Rating": 8.7,
          "MPAA_Rating": "R",
          "Major_Genre": "Action",
          "Production_Budget": 65000000,
          "Title": "The Matrix",
          "Worldwide_Gross": 460279930,
          "Year": 1999
         },
         {
          "Count": 4,
          "Director": "Andy Wachowski",
          "IMDB_Rating": 7.1,
          "MPAA_Rating": "R",
          "Major_Genre": "Action",
          "Production_Budget": 127000000,
          "Title": "The Matrix Reloaded",
          "Worldwide_Gross": 738576929,
          "Year": 2003
         },
         {
          "Count": 4,
          "Director": "Andy Wachowski",
          "IMDB_Rating": 6.5,
          "MPAA_Rating": "R",
          "Major_Genre": "Action",
          "Production_Budget": 110000000,
          "Title": "The Matrix Revolutions",
          "Worldwide_Gross": 424259759,
          "Year": 2003
         },
         {
          "Count": 4,
          "Director": "Andy Wachowski",
          "IMDB_Rating": 6.3,
          "MPAA_Rating": "PG",
          "Major_Genre": "Action",
          "Production_Budget": 120000000,
          "Title": "Speed Racer",
          "Worldwide_Gross": 93394462,
          "Year": 2008
         },
         {
          "Count": 3,
          "Director": "Jonathan Mostow",
          "IMDB_Rating": 6.3,
          "MPAA_Rating": "PG-13",
          "Major_Genre": "Action",
          "Production_Budget": 80000000,
          "Title": "Surrogates",
          "Worldwide_Gross": 119668350,
          "Year": 2009
         },
         {
          "Count": 3,
          "Director": "Jonathan Mostow",
          "IMDB_Rating": 6.6,
          "MPAA_Rating": "R",
          "Major_Genre": "Action",
          "Production_Budget": 170000000,
          "Title": "Terminator 3: Rise of the Machines",
          "Worldwide_Gross": 433058296,
          "Year": 2003
         },
         {
          "Count": 3,
          "Director": "Jonathan Mostow",
          "IMDB_Rating": 6.4,
          "MPAA_Rating": "PG-13",
          "Major_Genre": "Action",
          "Production_Budget": 62000000,
          "Title": "U-571",
          "Worldwide_Gross": 127630030,
          "Year": 2000
         },
         {
          "Count": 2,
          "Director": "Louis Leterrier",
          "IMDB_Rating": 6.6,
          "MPAA_Rating": "PG-13",
          "Major_Genre": "Action",
          "Production_Budget": 32000000,
          "Title": "The Transporter 2",
          "Worldwide_Gross": 85095856,
          "Year": 2005
         },
         {
          "Count": 2,
          "Director": "Louis Leterrier",
          "IMDB_Rating": 7.1,
          "MPAA_Rating": "R",
          "Major_Genre": "Action",
          "Production_Budget": 43000000,
          "Title": "Danny the Dog",
          "Worldwide_Gross": 49037621,
          "Year": 2005
         }
        ]
       },
       "encoding": {
        "color": {
         "field": "MPAA_Rating",
         "type": "nominal"
        },
        "text": {
         "field": "Title",
         "type": "nominal"
        },
        "tooltip": [
         {
          "field": "Title",
          "type": "nominal"
         }
        ],
        "x": {
         "field": "Count",
         "stack": "normalize",
         "title": "Proportion of MPAA Rating",
         "type": "quantitative"
        },
        "y": {
         "field": "Director",
         "title": "Director",
         "type": "nominal"
        }
       },
       "height": 650,
       "mark": "bar",
       "selection": {
        "selector068": {
         "bind": "scales",
         "encodings": [
          "x",
          "y"
         ],
         "type": "interval"
        }
       },
       "title": "Proportions of MPAA Ratings by director",
       "width": 600
      },
      "image/png": "[encoded data removed]",
      "text/plain": [
       "<VegaLite 3 object>\n",
       "\n",
       "If you see this message, it means the renderer has not been properly enabled\n",
       "for the frontend that you are using. For more information, see\n",
       "https://altair-viz.github.io/user_guide/troubleshooting.html\n"
      ]
     },
     "execution_count": 216,
     "metadata": {},
     "output_type": "execute_result"
    }
   ],
   "source": [
    "make_text_plot2(genre = 'Action', year = (1933, 2010), number_of_directors = 30)"
   ]
  },
  {
   "cell_type": "code",
   "execution_count": null,
   "metadata": {},
   "outputs": [],
   "source": []
  }
 ],
 "metadata": {
  "kernelspec": {
   "display_name": "Python 3",
   "language": "python",
   "name": "python3"
  },
  "language_info": {
   "codemirror_mode": {
    "name": "ipython",
    "version": 3
   },
   "file_extension": ".py",
   "mimetype": "text/x-python",
   "name": "python",
   "nbconvert_exporter": "python",
   "pygments_lexer": "ipython3",
   "version": "3.7.3"
  }
 },
 "nbformat": 4,
 "nbformat_minor": 4
}
